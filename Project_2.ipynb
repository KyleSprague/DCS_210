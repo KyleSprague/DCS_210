{
  "nbformat": 4,
  "nbformat_minor": 0,
  "metadata": {
    "colab": {
      "provenance": [],
      "collapsed_sections": [],
      "authorship_tag": "ABX9TyMBcTtyVQPYhZEu15cL2V9X",
      "include_colab_link": true
    },
    "kernelspec": {
      "name": "ir",
      "display_name": "R"
    },
    "language_info": {
      "name": "R"
    }
  },
  "cells": [
    {
      "cell_type": "markdown",
      "metadata": {
        "id": "view-in-github",
        "colab_type": "text"
      },
      "source": [
        "<a href=\"https://colab.research.google.com/github/KyleSprague/DCS_210/blob/main/Project_2.ipynb\" target=\"_parent\"><img src=\"https://colab.research.google.com/assets/colab-badge.svg\" alt=\"Open In Colab\"/></a>"
      ]
    },
    {
      "cell_type": "code",
      "execution_count": 1,
      "metadata": {
        "id": "QO2WfsztuErh"
      },
      "outputs": [],
      "source": [
        "hotels <- read.csv(\"hotels.csv\")"
      ]
    },
    {
      "cell_type": "code",
      "source": [
        "install.packages(\"ggplot2\") \n",
        "install.packages(\"tidyverse\") \n",
        "install.packages(\"skimr\")"
      ],
      "metadata": {
        "colab": {
          "base_uri": "https://localhost:8080/"
        },
        "id": "6Usokd1pvOW5",
        "outputId": "879d5be1-293b-49b9-d19d-30b2b2bbff6d"
      },
      "execution_count": 2,
      "outputs": [
        {
          "output_type": "stream",
          "name": "stderr",
          "text": [
            "Installing package into ‘/usr/local/lib/R/site-library’\n",
            "(as ‘lib’ is unspecified)\n",
            "\n",
            "Installing package into ‘/usr/local/lib/R/site-library’\n",
            "(as ‘lib’ is unspecified)\n",
            "\n",
            "Installing package into ‘/usr/local/lib/R/site-library’\n",
            "(as ‘lib’ is unspecified)\n",
            "\n"
          ]
        }
      ]
    },
    {
      "cell_type": "code",
      "source": [
        "library(\"tidyverse\")\n",
        "library(\"skimr\") \n",
        "library(\"ggplot2\")"
      ],
      "metadata": {
        "id": "trMWAijPxepX",
        "colab": {
          "base_uri": "https://localhost:8080/"
        },
        "outputId": "8a971174-5cb0-4b0c-e4cc-3f6ea16effeb"
      },
      "execution_count": 3,
      "outputs": [
        {
          "output_type": "stream",
          "name": "stderr",
          "text": [
            "Warning message in system(\"timedatectl\", intern = TRUE):\n",
            "“running command 'timedatectl' had status 1”\n",
            "── \u001b[1mAttaching packages\u001b[22m ─────────────────────────────────────── tidyverse 1.3.2 ──\n",
            "\u001b[32m✔\u001b[39m \u001b[34mggplot2\u001b[39m 3.3.6      \u001b[32m✔\u001b[39m \u001b[34mpurrr  \u001b[39m 0.3.4 \n",
            "\u001b[32m✔\u001b[39m \u001b[34mtibble \u001b[39m 3.1.7      \u001b[32m✔\u001b[39m \u001b[34mdplyr  \u001b[39m 1.0.10\n",
            "\u001b[32m✔\u001b[39m \u001b[34mtidyr  \u001b[39m 1.2.1      \u001b[32m✔\u001b[39m \u001b[34mstringr\u001b[39m 1.4.1 \n",
            "\u001b[32m✔\u001b[39m \u001b[34mreadr  \u001b[39m 2.1.2      \u001b[32m✔\u001b[39m \u001b[34mforcats\u001b[39m 0.5.2 \n",
            "── \u001b[1mConflicts\u001b[22m ────────────────────────────────────────── tidyverse_conflicts() ──\n",
            "\u001b[31m✖\u001b[39m \u001b[34mdplyr\u001b[39m::\u001b[32mfilter()\u001b[39m masks \u001b[34mstats\u001b[39m::filter()\n",
            "\u001b[31m✖\u001b[39m \u001b[34mdplyr\u001b[39m::\u001b[32mlag()\u001b[39m    masks \u001b[34mstats\u001b[39m::lag()\n"
          ]
        }
      ]
    },
    {
      "cell_type": "code",
      "source": [
        "skim(hotels)"
      ],
      "metadata": {
        "colab": {
          "base_uri": "https://localhost:8080/"
        },
        "id": "xhZak5mYximD",
        "outputId": "c37ef0e5-60b5-4c77-8676-05564b7354dd"
      },
      "execution_count": 4,
      "outputs": [
        {
          "output_type": "stream",
          "name": "stdout",
          "text": [
            "── Data Summary ────────────────────────\n",
            "                           Values\n",
            "Name                       hotels\n",
            "Number of rows             119390\n",
            "Number of columns          32    \n",
            "_______________________          \n",
            "Column type frequency:           \n",
            "  character                14    \n",
            "  numeric                  18    \n",
            "________________________         \n",
            "Group variables            None  \n",
            "\n",
            "── Variable type: character ────────────────────────────────────────────────────\n",
            "   skim_variable           n_missing complete_rate min max empty n_unique\n",
            "\u001b[90m 1\u001b[39m hotel                           0             1  10  12     0        2\n",
            "\u001b[90m 2\u001b[39m arrival_date_month              0             1   3   9     0       12\n",
            "\u001b[90m 3\u001b[39m meal                            0             1   2   9     0        5\n",
            "\u001b[90m 4\u001b[39m country                         0             1   2   4     0      178\n",
            "\u001b[90m 5\u001b[39m market_segment                  0             1   6  13     0        8\n",
            "\u001b[90m 6\u001b[39m distribution_channel            0             1   3   9     0        5\n",
            "\u001b[90m 7\u001b[39m reserved_room_type              0             1   1   1     0       10\n",
            "\u001b[90m 8\u001b[39m assigned_room_type              0             1   1   1     0       12\n",
            "\u001b[90m 9\u001b[39m deposit_type                    0             1  10  10     0        3\n",
            "\u001b[90m10\u001b[39m agent                           0             1   1   4     0      334\n",
            "\u001b[90m11\u001b[39m company                         0             1   1   4     0      353\n",
            "\u001b[90m12\u001b[39m customer_type                   0             1   5  15     0        4\n",
            "\u001b[90m13\u001b[39m reservation_status              0             1   7   9     0        3\n",
            "\u001b[90m14\u001b[39m reservation_status_date         0             1  10  10     0      926\n",
            "   whitespace\n",
            "\u001b[90m 1\u001b[39m          0\n",
            "\u001b[90m 2\u001b[39m          0\n",
            "\u001b[90m 3\u001b[39m          0\n",
            "\u001b[90m 4\u001b[39m          0\n",
            "\u001b[90m 5\u001b[39m          0\n",
            "\u001b[90m 6\u001b[39m          0\n",
            "\u001b[90m 7\u001b[39m          0\n",
            "\u001b[90m 8\u001b[39m          0\n",
            "\u001b[90m 9\u001b[39m          0\n",
            "\u001b[90m10\u001b[39m          0\n",
            "\u001b[90m11\u001b[39m          0\n",
            "\u001b[90m12\u001b[39m          0\n",
            "\u001b[90m13\u001b[39m          0\n",
            "\u001b[90m14\u001b[39m          0\n",
            "\n",
            "── Variable type: numeric ──────────────────────────────────────────────────────\n",
            "   skim_variable                  n_missing complete_rate       mean       sd\n",
            "\u001b[90m 1\u001b[39m is_canceled                            0          1       0.370     0.483 \n",
            "\u001b[90m 2\u001b[39m lead_time                              0          1     104.      107.    \n",
            "\u001b[90m 3\u001b[39m arrival_date_year                      0          1    \u001b[4m2\u001b[24m016.        0.707 \n",
            "\u001b[90m 4\u001b[39m arrival_date_week_number               0          1      27.2      13.6   \n",
            "\u001b[90m 5\u001b[39m arrival_date_day_of_month              0          1      15.8       8.78  \n",
            "\u001b[90m 6\u001b[39m stays_in_weekend_nights                0          1       0.928     0.999 \n",
            "\u001b[90m 7\u001b[39m stays_in_week_nights                   0          1       2.50      1.91  \n",
            "\u001b[90m 8\u001b[39m adults                                 0          1       1.86      0.579 \n",
            "\u001b[90m 9\u001b[39m children                               4          1.00    0.104     0.399 \n",
            "\u001b[90m10\u001b[39m babies                                 0          1       0.007\u001b[4m9\u001b[24m\u001b[4m5\u001b[24m   0.097\u001b[4m4\u001b[24m\n",
            "\u001b[90m11\u001b[39m is_repeated_guest                      0          1       0.031\u001b[4m9\u001b[24m    0.176 \n",
            "\u001b[90m12\u001b[39m previous_cancellations                 0          1       0.087\u001b[4m1\u001b[24m    0.844 \n",
            "\u001b[90m13\u001b[39m previous_bookings_not_canceled         0          1       0.137     1.50  \n",
            "\u001b[90m14\u001b[39m booking_changes                        0          1       0.221     0.652 \n",
            "\u001b[90m15\u001b[39m days_in_waiting_list                   0          1       2.32     17.6   \n",
            "\u001b[90m16\u001b[39m adr                                    0          1     102.       50.5   \n",
            "\u001b[90m17\u001b[39m required_car_parking_spaces            0          1       0.062\u001b[4m5\u001b[24m    0.245 \n",
            "\u001b[90m18\u001b[39m total_of_special_requests              0          1       0.571     0.793 \n",
            "        p0    p25    p50  p75 p100 hist \n",
            "\u001b[90m 1\u001b[39m    0       0      0      1    1 ▇▁▁▁▅\n",
            "\u001b[90m 2\u001b[39m    0      18     69    160  737 ▇▂▁▁▁\n",
            "\u001b[90m 3\u001b[39m \u001b[4m2\u001b[24m015    \u001b[4m2\u001b[24m016   \u001b[4m2\u001b[24m016   \u001b[4m2\u001b[24m017 \u001b[4m2\u001b[24m017 ▃▁▇▁▆\n",
            "\u001b[90m 4\u001b[39m    1      16     28     38   53 ▅▇▇▇▅\n",
            "\u001b[90m 5\u001b[39m    1       8     16     23   31 ▇▇▇▇▆\n",
            "\u001b[90m 6\u001b[39m    0       0      1      2   19 ▇▁▁▁▁\n",
            "\u001b[90m 7\u001b[39m    0       1      2      3   50 ▇▁▁▁▁\n",
            "\u001b[90m 8\u001b[39m    0       2      2      2   55 ▇▁▁▁▁\n",
            "\u001b[90m 9\u001b[39m    0       0      0      0   10 ▇▁▁▁▁\n",
            "\u001b[90m10\u001b[39m    0       0      0      0   10 ▇▁▁▁▁\n",
            "\u001b[90m11\u001b[39m    0       0      0      0    1 ▇▁▁▁▁\n",
            "\u001b[90m12\u001b[39m    0       0      0      0   26 ▇▁▁▁▁\n",
            "\u001b[90m13\u001b[39m    0       0      0      0   72 ▇▁▁▁▁\n",
            "\u001b[90m14\u001b[39m    0       0      0      0   21 ▇▁▁▁▁\n",
            "\u001b[90m15\u001b[39m    0       0      0      0  391 ▇▁▁▁▁\n",
            "\u001b[90m16\u001b[39m   -\u001b[31m6\u001b[39m\u001b[31m.\u001b[39m\u001b[31m38\u001b[39m   69.3   94.6  126 \u001b[4m5\u001b[24m400 ▇▁▁▁▁\n",
            "\u001b[90m17\u001b[39m    0       0      0      0    8 ▇▁▁▁▁\n",
            "\u001b[90m18\u001b[39m    0       0      0      1    5 ▇▁▁▁▁\n"
          ]
        },
        {
          "output_type": "stream",
          "name": "stderr",
          "text": [
            "Warning message in is.null(text_repr) || nchar(text_repr) == 0L:\n",
            "“'length(x) = 2 > 1' in coercion to 'logical(1)'”\n"
          ]
        }
      ]
    },
    {
      "cell_type": "markdown",
      "source": [
        "##ANSWER TO QUESTION 1 \n",
        "\n",
        "The skimr function prints the number of rows in the data set and the number of columns. The row number can be used to get the total number of bookings for all hotels and the column information tells us the number of variables and also the variable names, which will be useful when we need to select specific columns. We are further given a variable breakdown with the names of the variables and the data type they are associated with (whether character or numeric). This information is useful for manipulating the data if we want to use specific functions that require a particular type of data. In the case of the numeric breakdown, we are also given numeric information such as standard deviation and mean, along with the number of missing data and the completion rate for cells."
      ],
      "metadata": {
        "id": "zxztnnIqypWa"
      }
    },
    {
      "cell_type": "code",
      "source": [
        "##Question 2 code \n",
        "\n",
        "hotels %>%\n",
        "  select(country, lead_time) %>% \n",
        "  filter(country != \"USA\" & lead_time < 1)\n"
      ],
      "metadata": {
        "colab": {
          "base_uri": "https://localhost:8080/",
          "height": 1000
        },
        "id": "7P7lyECkysxz",
        "outputId": "b0359c82-9c14-4c85-df53-264e5d6719cf"
      },
      "execution_count": 5,
      "outputs": [
        {
          "output_type": "display_data",
          "data": {
            "text/html": [
              "<table class=\"dataframe\">\n",
              "<caption>A data.frame: 6174 × 2</caption>\n",
              "<thead>\n",
              "\t<tr><th scope=col>country</th><th scope=col>lead_time</th></tr>\n",
              "\t<tr><th scope=col>&lt;chr&gt;</th><th scope=col>&lt;int&gt;</th></tr>\n",
              "</thead>\n",
              "<tbody>\n",
              "\t<tr><td>PRT</td><td>0</td></tr>\n",
              "\t<tr><td>FRA</td><td>0</td></tr>\n",
              "\t<tr><td>PRT</td><td>0</td></tr>\n",
              "\t<tr><td>PRT</td><td>0</td></tr>\n",
              "\t<tr><td>PRT</td><td>0</td></tr>\n",
              "\t<tr><td>ESP</td><td>0</td></tr>\n",
              "\t<tr><td>PRT</td><td>0</td></tr>\n",
              "\t<tr><td>GBR</td><td>0</td></tr>\n",
              "\t<tr><td>PRT</td><td>0</td></tr>\n",
              "\t<tr><td>GBR</td><td>0</td></tr>\n",
              "\t<tr><td>NLD</td><td>0</td></tr>\n",
              "\t<tr><td>PRT</td><td>0</td></tr>\n",
              "\t<tr><td>GBR</td><td>0</td></tr>\n",
              "\t<tr><td>DEU</td><td>0</td></tr>\n",
              "\t<tr><td>ESP</td><td>0</td></tr>\n",
              "\t<tr><td>ESP</td><td>0</td></tr>\n",
              "\t<tr><td>AUS</td><td>0</td></tr>\n",
              "\t<tr><td>PRT</td><td>0</td></tr>\n",
              "\t<tr><td>PRT</td><td>0</td></tr>\n",
              "\t<tr><td>ESP</td><td>0</td></tr>\n",
              "\t<tr><td>PRT</td><td>0</td></tr>\n",
              "\t<tr><td>PRT</td><td>0</td></tr>\n",
              "\t<tr><td>PRT</td><td>0</td></tr>\n",
              "\t<tr><td>PRT</td><td>0</td></tr>\n",
              "\t<tr><td>PRT</td><td>0</td></tr>\n",
              "\t<tr><td>PRT</td><td>0</td></tr>\n",
              "\t<tr><td>PRT</td><td>0</td></tr>\n",
              "\t<tr><td>PRT</td><td>0</td></tr>\n",
              "\t<tr><td>PRT</td><td>0</td></tr>\n",
              "\t<tr><td>PRT</td><td>0</td></tr>\n",
              "\t<tr><td>⋮</td><td>⋮</td></tr>\n",
              "\t<tr><td>PRT</td><td>0</td></tr>\n",
              "\t<tr><td>PRT</td><td>0</td></tr>\n",
              "\t<tr><td>ITA</td><td>0</td></tr>\n",
              "\t<tr><td>FRA</td><td>0</td></tr>\n",
              "\t<tr><td>PRT</td><td>0</td></tr>\n",
              "\t<tr><td>PRT</td><td>0</td></tr>\n",
              "\t<tr><td>DEU</td><td>0</td></tr>\n",
              "\t<tr><td>AUS</td><td>0</td></tr>\n",
              "\t<tr><td>PRT</td><td>0</td></tr>\n",
              "\t<tr><td>DEU</td><td>0</td></tr>\n",
              "\t<tr><td>PRT</td><td>0</td></tr>\n",
              "\t<tr><td>FRA</td><td>0</td></tr>\n",
              "\t<tr><td>DEU</td><td>0</td></tr>\n",
              "\t<tr><td>PRT</td><td>0</td></tr>\n",
              "\t<tr><td>PRT</td><td>0</td></tr>\n",
              "\t<tr><td>PRT</td><td>0</td></tr>\n",
              "\t<tr><td>PRT</td><td>0</td></tr>\n",
              "\t<tr><td>BRA</td><td>0</td></tr>\n",
              "\t<tr><td>DEU</td><td>0</td></tr>\n",
              "\t<tr><td>CHN</td><td>0</td></tr>\n",
              "\t<tr><td>PRT</td><td>0</td></tr>\n",
              "\t<tr><td>GBR</td><td>0</td></tr>\n",
              "\t<tr><td>FRA</td><td>0</td></tr>\n",
              "\t<tr><td>PRT</td><td>0</td></tr>\n",
              "\t<tr><td>PRT</td><td>0</td></tr>\n",
              "\t<tr><td>PRT</td><td>0</td></tr>\n",
              "\t<tr><td>BEL</td><td>0</td></tr>\n",
              "\t<tr><td>NLD</td><td>0</td></tr>\n",
              "\t<tr><td>BRA</td><td>0</td></tr>\n",
              "\t<tr><td>ROU</td><td>0</td></tr>\n",
              "</tbody>\n",
              "</table>\n"
            ],
            "text/markdown": "\nA data.frame: 6174 × 2\n\n| country &lt;chr&gt; | lead_time &lt;int&gt; |\n|---|---|\n| PRT | 0 |\n| FRA | 0 |\n| PRT | 0 |\n| PRT | 0 |\n| PRT | 0 |\n| ESP | 0 |\n| PRT | 0 |\n| GBR | 0 |\n| PRT | 0 |\n| GBR | 0 |\n| NLD | 0 |\n| PRT | 0 |\n| GBR | 0 |\n| DEU | 0 |\n| ESP | 0 |\n| ESP | 0 |\n| AUS | 0 |\n| PRT | 0 |\n| PRT | 0 |\n| ESP | 0 |\n| PRT | 0 |\n| PRT | 0 |\n| PRT | 0 |\n| PRT | 0 |\n| PRT | 0 |\n| PRT | 0 |\n| PRT | 0 |\n| PRT | 0 |\n| PRT | 0 |\n| PRT | 0 |\n| ⋮ | ⋮ |\n| PRT | 0 |\n| PRT | 0 |\n| ITA | 0 |\n| FRA | 0 |\n| PRT | 0 |\n| PRT | 0 |\n| DEU | 0 |\n| AUS | 0 |\n| PRT | 0 |\n| DEU | 0 |\n| PRT | 0 |\n| FRA | 0 |\n| DEU | 0 |\n| PRT | 0 |\n| PRT | 0 |\n| PRT | 0 |\n| PRT | 0 |\n| BRA | 0 |\n| DEU | 0 |\n| CHN | 0 |\n| PRT | 0 |\n| GBR | 0 |\n| FRA | 0 |\n| PRT | 0 |\n| PRT | 0 |\n| PRT | 0 |\n| BEL | 0 |\n| NLD | 0 |\n| BRA | 0 |\n| ROU | 0 |\n\n",
            "text/latex": "A data.frame: 6174 × 2\n\\begin{tabular}{ll}\n country & lead\\_time\\\\\n <chr> & <int>\\\\\n\\hline\n\t PRT & 0\\\\\n\t FRA & 0\\\\\n\t PRT & 0\\\\\n\t PRT & 0\\\\\n\t PRT & 0\\\\\n\t ESP & 0\\\\\n\t PRT & 0\\\\\n\t GBR & 0\\\\\n\t PRT & 0\\\\\n\t GBR & 0\\\\\n\t NLD & 0\\\\\n\t PRT & 0\\\\\n\t GBR & 0\\\\\n\t DEU & 0\\\\\n\t ESP & 0\\\\\n\t ESP & 0\\\\\n\t AUS & 0\\\\\n\t PRT & 0\\\\\n\t PRT & 0\\\\\n\t ESP & 0\\\\\n\t PRT & 0\\\\\n\t PRT & 0\\\\\n\t PRT & 0\\\\\n\t PRT & 0\\\\\n\t PRT & 0\\\\\n\t PRT & 0\\\\\n\t PRT & 0\\\\\n\t PRT & 0\\\\\n\t PRT & 0\\\\\n\t PRT & 0\\\\\n\t ⋮ & ⋮\\\\\n\t PRT & 0\\\\\n\t PRT & 0\\\\\n\t ITA & 0\\\\\n\t FRA & 0\\\\\n\t PRT & 0\\\\\n\t PRT & 0\\\\\n\t DEU & 0\\\\\n\t AUS & 0\\\\\n\t PRT & 0\\\\\n\t DEU & 0\\\\\n\t PRT & 0\\\\\n\t FRA & 0\\\\\n\t DEU & 0\\\\\n\t PRT & 0\\\\\n\t PRT & 0\\\\\n\t PRT & 0\\\\\n\t PRT & 0\\\\\n\t BRA & 0\\\\\n\t DEU & 0\\\\\n\t CHN & 0\\\\\n\t PRT & 0\\\\\n\t GBR & 0\\\\\n\t FRA & 0\\\\\n\t PRT & 0\\\\\n\t PRT & 0\\\\\n\t PRT & 0\\\\\n\t BEL & 0\\\\\n\t NLD & 0\\\\\n\t BRA & 0\\\\\n\t ROU & 0\\\\\n\\end{tabular}\n",
            "text/plain": [
              "     country lead_time\n",
              "1    PRT     0        \n",
              "2    FRA     0        \n",
              "3    PRT     0        \n",
              "4    PRT     0        \n",
              "5    PRT     0        \n",
              "6    ESP     0        \n",
              "7    PRT     0        \n",
              "8    GBR     0        \n",
              "9    PRT     0        \n",
              "10   GBR     0        \n",
              "11   NLD     0        \n",
              "12   PRT     0        \n",
              "13   GBR     0        \n",
              "14   DEU     0        \n",
              "15   ESP     0        \n",
              "16   ESP     0        \n",
              "17   AUS     0        \n",
              "18   PRT     0        \n",
              "19   PRT     0        \n",
              "20   ESP     0        \n",
              "21   PRT     0        \n",
              "22   PRT     0        \n",
              "23   PRT     0        \n",
              "24   PRT     0        \n",
              "25   PRT     0        \n",
              "26   PRT     0        \n",
              "27   PRT     0        \n",
              "28   PRT     0        \n",
              "29   PRT     0        \n",
              "30   PRT     0        \n",
              "⋮    ⋮       ⋮        \n",
              "6145 PRT     0        \n",
              "6146 PRT     0        \n",
              "6147 ITA     0        \n",
              "6148 FRA     0        \n",
              "6149 PRT     0        \n",
              "6150 PRT     0        \n",
              "6151 DEU     0        \n",
              "6152 AUS     0        \n",
              "6153 PRT     0        \n",
              "6154 DEU     0        \n",
              "6155 PRT     0        \n",
              "6156 FRA     0        \n",
              "6157 DEU     0        \n",
              "6158 PRT     0        \n",
              "6159 PRT     0        \n",
              "6160 PRT     0        \n",
              "6161 PRT     0        \n",
              "6162 BRA     0        \n",
              "6163 DEU     0        \n",
              "6164 CHN     0        \n",
              "6165 PRT     0        \n",
              "6166 GBR     0        \n",
              "6167 FRA     0        \n",
              "6168 PRT     0        \n",
              "6169 PRT     0        \n",
              "6170 PRT     0        \n",
              "6171 BEL     0        \n",
              "6172 NLD     0        \n",
              "6173 BRA     0        \n",
              "6174 ROU     0        "
            ]
          },
          "metadata": {}
        }
      ]
    },
    {
      "cell_type": "markdown",
      "source": [
        "##ANSWER TO QUESTION 2 \n",
        "\n",
        "We can use the select function, then the filter function to get data on non-American stays with a lead_time of less than 1 day. \n",
        "We see that there are 6174 hotel bookings made on the same day as the hotel stay outside of the US. \n",
        "\n",
        "Command:\n",
        "\n",
        "hotels %>%\n",
        "  select(country, lead_time) %>% \n",
        "  filter(country != \"USA\" & lead_time < 1)\n",
        "\n"
      ],
      "metadata": {
        "id": "455uDqYf4dM_"
      }
    },
    {
      "cell_type": "code",
      "source": [
        "hotels %>% \n",
        "  filter(children >= 1 | babies >= 1)"
      ],
      "metadata": {
        "colab": {
          "base_uri": "https://localhost:8080/",
          "height": 1000
        },
        "id": "YbUbG4Z743J7",
        "outputId": "ea7b4548-782e-45ec-8c4c-190c78c014d7"
      },
      "execution_count": 6,
      "outputs": [
        {
          "output_type": "display_data",
          "data": {
            "text/html": [
              "<table class=\"dataframe\">\n",
              "<caption>A data.frame: 9332 × 32</caption>\n",
              "<thead>\n",
              "\t<tr><th scope=col>hotel</th><th scope=col>is_canceled</th><th scope=col>lead_time</th><th scope=col>arrival_date_year</th><th scope=col>arrival_date_month</th><th scope=col>arrival_date_week_number</th><th scope=col>arrival_date_day_of_month</th><th scope=col>stays_in_weekend_nights</th><th scope=col>stays_in_week_nights</th><th scope=col>adults</th><th scope=col>⋯</th><th scope=col>deposit_type</th><th scope=col>agent</th><th scope=col>company</th><th scope=col>days_in_waiting_list</th><th scope=col>customer_type</th><th scope=col>adr</th><th scope=col>required_car_parking_spaces</th><th scope=col>total_of_special_requests</th><th scope=col>reservation_status</th><th scope=col>reservation_status_date</th></tr>\n",
              "\t<tr><th scope=col>&lt;chr&gt;</th><th scope=col>&lt;int&gt;</th><th scope=col>&lt;int&gt;</th><th scope=col>&lt;int&gt;</th><th scope=col>&lt;chr&gt;</th><th scope=col>&lt;int&gt;</th><th scope=col>&lt;int&gt;</th><th scope=col>&lt;int&gt;</th><th scope=col>&lt;int&gt;</th><th scope=col>&lt;int&gt;</th><th scope=col>⋯</th><th scope=col>&lt;chr&gt;</th><th scope=col>&lt;chr&gt;</th><th scope=col>&lt;chr&gt;</th><th scope=col>&lt;int&gt;</th><th scope=col>&lt;chr&gt;</th><th scope=col>&lt;dbl&gt;</th><th scope=col>&lt;int&gt;</th><th scope=col>&lt;int&gt;</th><th scope=col>&lt;chr&gt;</th><th scope=col>&lt;chr&gt;</th></tr>\n",
              "</thead>\n",
              "<tbody>\n",
              "\t<tr><td>Resort Hotel</td><td>0</td><td> 18</td><td>2015</td><td>July</td><td>27</td><td> 1</td><td>0</td><td> 4</td><td>2</td><td>⋯</td><td>No Deposit</td><td>241 </td><td>NULL</td><td>0</td><td>Transient</td><td>154.77</td><td>0</td><td>1</td><td>Check-Out</td><td>2015-07-05</td></tr>\n",
              "\t<tr><td>Resort Hotel</td><td>1</td><td> 47</td><td>2015</td><td>July</td><td>27</td><td> 2</td><td>2</td><td> 5</td><td>2</td><td>⋯</td><td>No Deposit</td><td>240 </td><td>NULL</td><td>0</td><td>Transient</td><td>153.00</td><td>0</td><td>0</td><td>Canceled </td><td>2015-06-02</td></tr>\n",
              "\t<tr><td>Resort Hotel</td><td>0</td><td>  1</td><td>2015</td><td>July</td><td>27</td><td> 2</td><td>0</td><td> 1</td><td>2</td><td>⋯</td><td>No Deposit</td><td>NULL</td><td>NULL</td><td>0</td><td>Transient</td><td>107.00</td><td>1</td><td>2</td><td>Check-Out</td><td>2015-07-03</td></tr>\n",
              "\t<tr><td>Resort Hotel</td><td>0</td><td> 10</td><td>2015</td><td>July</td><td>27</td><td> 3</td><td>0</td><td> 2</td><td>2</td><td>⋯</td><td>No Deposit</td><td>240 </td><td>NULL</td><td>0</td><td>Transient</td><td>153.00</td><td>1</td><td>0</td><td>Check-Out</td><td>2015-07-05</td></tr>\n",
              "\t<tr><td>Resort Hotel</td><td>1</td><td> 79</td><td>2015</td><td>July</td><td>27</td><td> 3</td><td>6</td><td>15</td><td>2</td><td>⋯</td><td>No Deposit</td><td>242 </td><td>NULL</td><td>0</td><td>Transient</td><td>108.73</td><td>0</td><td>2</td><td>Canceled </td><td>2015-04-15</td></tr>\n",
              "\t<tr><td>Resort Hotel</td><td>0</td><td>101</td><td>2015</td><td>July</td><td>27</td><td> 3</td><td>2</td><td> 5</td><td>2</td><td>⋯</td><td>No Deposit</td><td>240 </td><td>NULL</td><td>0</td><td>Transient</td><td> 99.30</td><td>1</td><td>2</td><td>Check-Out</td><td>2015-07-10</td></tr>\n",
              "\t<tr><td>Resort Hotel</td><td>0</td><td> 92</td><td>2015</td><td>July</td><td>27</td><td> 4</td><td>2</td><td> 4</td><td>1</td><td>⋯</td><td>No Deposit</td><td>241 </td><td>NULL</td><td>0</td><td>Transient</td><td> 96.49</td><td>0</td><td>2</td><td>Check-Out</td><td>2015-07-10</td></tr>\n",
              "\t<tr><td>Resort Hotel</td><td>1</td><td> 26</td><td>2015</td><td>July</td><td>27</td><td> 4</td><td>2</td><td> 5</td><td>2</td><td>⋯</td><td>No Deposit</td><td>240 </td><td>NULL</td><td>0</td><td>Transient</td><td>163.00</td><td>0</td><td>0</td><td>Canceled </td><td>2015-06-09</td></tr>\n",
              "\t<tr><td>Resort Hotel</td><td>0</td><td>102</td><td>2015</td><td>July</td><td>27</td><td> 4</td><td>2</td><td> 5</td><td>2</td><td>⋯</td><td>No Deposit</td><td>240 </td><td>NULL</td><td>0</td><td>Transient</td><td> 73.80</td><td>0</td><td>2</td><td>Check-Out</td><td>2015-07-11</td></tr>\n",
              "\t<tr><td>Resort Hotel</td><td>0</td><td> 78</td><td>2015</td><td>July</td><td>27</td><td> 4</td><td>2</td><td> 5</td><td>2</td><td>⋯</td><td>No Deposit</td><td>240 </td><td>NULL</td><td>0</td><td>Transient</td><td>139.00</td><td>0</td><td>2</td><td>Check-Out</td><td>2015-07-11</td></tr>\n",
              "\t<tr><td>Resort Hotel</td><td>0</td><td> 79</td><td>2015</td><td>July</td><td>27</td><td> 4</td><td>4</td><td> 6</td><td>2</td><td>⋯</td><td>No Deposit</td><td>250 </td><td>NULL</td><td>0</td><td>Transient</td><td>149.00</td><td>0</td><td>1</td><td>Check-Out</td><td>2015-07-14</td></tr>\n",
              "\t<tr><td>Resort Hotel</td><td>0</td><td>  2</td><td>2015</td><td>July</td><td>27</td><td> 4</td><td>0</td><td> 1</td><td>2</td><td>⋯</td><td>No Deposit</td><td>240 </td><td>NULL</td><td>0</td><td>Transient</td><td>163.00</td><td>1</td><td>0</td><td>Check-Out</td><td>2015-07-05</td></tr>\n",
              "\t<tr><td>Resort Hotel</td><td>0</td><td>109</td><td>2015</td><td>July</td><td>28</td><td> 5</td><td>2</td><td> 3</td><td>2</td><td>⋯</td><td>No Deposit</td><td>241 </td><td>NULL</td><td>0</td><td>Transient</td><td> 85.59</td><td>1</td><td>2</td><td>Check-Out</td><td>2015-07-10</td></tr>\n",
              "\t<tr><td>Resort Hotel</td><td>1</td><td> 34</td><td>2015</td><td>July</td><td>28</td><td> 5</td><td>2</td><td> 4</td><td>2</td><td>⋯</td><td>No Deposit</td><td>240 </td><td>NULL</td><td>0</td><td>Transient</td><td>163.00</td><td>0</td><td>0</td><td>Canceled </td><td>2015-06-17</td></tr>\n",
              "\t<tr><td>Resort Hotel</td><td>0</td><td> 97</td><td>2015</td><td>July</td><td>28</td><td> 5</td><td>2</td><td> 5</td><td>2</td><td>⋯</td><td>No Deposit</td><td>250 </td><td>NULL</td><td>0</td><td>Transient</td><td>164.20</td><td>1</td><td>1</td><td>Check-Out</td><td>2015-07-12</td></tr>\n",
              "\t<tr><td>Resort Hotel</td><td>0</td><td>  8</td><td>2015</td><td>July</td><td>28</td><td> 5</td><td>4</td><td> 5</td><td>2</td><td>⋯</td><td>No Deposit</td><td>240 </td><td>NULL</td><td>0</td><td>Transient</td><td>175.00</td><td>1</td><td>1</td><td>Check-Out</td><td>2015-07-14</td></tr>\n",
              "\t<tr><td>Resort Hotel</td><td>0</td><td>115</td><td>2015</td><td>July</td><td>28</td><td> 6</td><td>1</td><td> 4</td><td>2</td><td>⋯</td><td>No Deposit</td><td>240 </td><td>NULL</td><td>0</td><td>Transient</td><td>167.00</td><td>0</td><td>0</td><td>Check-Out</td><td>2015-07-11</td></tr>\n",
              "\t<tr><td>Resort Hotel</td><td>0</td><td> 81</td><td>2015</td><td>July</td><td>28</td><td> 6</td><td>1</td><td> 3</td><td>2</td><td>⋯</td><td>No Deposit</td><td>250 </td><td>NULL</td><td>0</td><td>Transient</td><td>210.00</td><td>1</td><td>0</td><td>Check-Out</td><td>2015-07-10</td></tr>\n",
              "\t<tr><td>Resort Hotel</td><td>0</td><td> 84</td><td>2015</td><td>July</td><td>28</td><td> 6</td><td>1</td><td> 3</td><td>2</td><td>⋯</td><td>No Deposit</td><td>240 </td><td>NULL</td><td>0</td><td>Transient</td><td> 97.00</td><td>0</td><td>2</td><td>Check-Out</td><td>2015-07-10</td></tr>\n",
              "\t<tr><td>Resort Hotel</td><td>0</td><td>  2</td><td>2015</td><td>July</td><td>28</td><td> 6</td><td>1</td><td> 0</td><td>2</td><td>⋯</td><td>No Deposit</td><td>NULL</td><td>NULL</td><td>0</td><td>Transient</td><td>131.00</td><td>0</td><td>0</td><td>Check-Out</td><td>2015-07-07</td></tr>\n",
              "\t<tr><td>Resort Hotel</td><td>0</td><td> 68</td><td>2015</td><td>July</td><td>28</td><td> 6</td><td>2</td><td> 5</td><td>2</td><td>⋯</td><td>No Deposit</td><td>240 </td><td>NULL</td><td>0</td><td>Transient</td><td>185.00</td><td>0</td><td>0</td><td>Check-Out</td><td>2015-07-13</td></tr>\n",
              "\t<tr><td>Resort Hotel</td><td>0</td><td> 21</td><td>2015</td><td>July</td><td>28</td><td> 7</td><td>0</td><td> 3</td><td>2</td><td>⋯</td><td>No Deposit</td><td>250 </td><td>NULL</td><td>0</td><td>Transient</td><td>185.50</td><td>0</td><td>1</td><td>Check-Out</td><td>2015-07-10</td></tr>\n",
              "\t<tr><td>Resort Hotel</td><td>0</td><td>  8</td><td>2015</td><td>July</td><td>28</td><td> 7</td><td>0</td><td> 4</td><td>3</td><td>⋯</td><td>No Deposit</td><td>240 </td><td>NULL</td><td>0</td><td>Transient</td><td>193.00</td><td>0</td><td>1</td><td>Check-Out</td><td>2015-07-11</td></tr>\n",
              "\t<tr><td>Resort Hotel</td><td>1</td><td>280</td><td>2015</td><td>July</td><td>28</td><td> 8</td><td>2</td><td> 5</td><td>2</td><td>⋯</td><td>No Deposit</td><td>40  </td><td>NULL</td><td>0</td><td>Contract </td><td>112.00</td><td>0</td><td>1</td><td>Canceled </td><td>2015-04-15</td></tr>\n",
              "\t<tr><td>Resort Hotel</td><td>0</td><td> 17</td><td>2015</td><td>July</td><td>28</td><td> 9</td><td>0</td><td> 1</td><td>2</td><td>⋯</td><td>No Deposit</td><td>242 </td><td>NULL</td><td>0</td><td>Transient</td><td>123.00</td><td>0</td><td>3</td><td>Check-Out</td><td>2015-07-10</td></tr>\n",
              "\t<tr><td>Resort Hotel</td><td>0</td><td> 12</td><td>2015</td><td>July</td><td>28</td><td> 9</td><td>0</td><td> 2</td><td>2</td><td>⋯</td><td>No Deposit</td><td>NULL</td><td>NULL</td><td>0</td><td>Transient</td><td>146.00</td><td>1</td><td>0</td><td>Check-Out</td><td>2015-07-11</td></tr>\n",
              "\t<tr><td>Resort Hotel</td><td>1</td><td> 24</td><td>2015</td><td>July</td><td>28</td><td> 9</td><td>0</td><td> 3</td><td>2</td><td>⋯</td><td>No Deposit</td><td>242 </td><td>NULL</td><td>0</td><td>Transient</td><td>123.00</td><td>0</td><td>1</td><td>Canceled </td><td>2015-06-16</td></tr>\n",
              "\t<tr><td>Resort Hotel</td><td>1</td><td> 44</td><td>2015</td><td>July</td><td>28</td><td> 9</td><td>0</td><td> 3</td><td>2</td><td>⋯</td><td>No Deposit</td><td>240 </td><td>NULL</td><td>0</td><td>Transient</td><td>153.00</td><td>0</td><td>0</td><td>Canceled </td><td>2015-06-16</td></tr>\n",
              "\t<tr><td>Resort Hotel</td><td>0</td><td> 78</td><td>2015</td><td>July</td><td>28</td><td> 9</td><td>0</td><td> 3</td><td>2</td><td>⋯</td><td>No Deposit</td><td>240 </td><td>NULL</td><td>0</td><td>Transient</td><td> 82.00</td><td>0</td><td>2</td><td>Check-Out</td><td>2015-07-12</td></tr>\n",
              "\t<tr><td>Resort Hotel</td><td>0</td><td> 13</td><td>2015</td><td>July</td><td>28</td><td>10</td><td>0</td><td> 2</td><td>2</td><td>⋯</td><td>No Deposit</td><td>240 </td><td>NULL</td><td>0</td><td>Transient</td><td>185.00</td><td>1</td><td>1</td><td>Check-Out</td><td>2015-07-12</td></tr>\n",
              "\t<tr><td>⋮</td><td>⋮</td><td>⋮</td><td>⋮</td><td>⋮</td><td>⋮</td><td>⋮</td><td>⋮</td><td>⋮</td><td>⋮</td><td>⋱</td><td>⋮</td><td>⋮</td><td>⋮</td><td>⋮</td><td>⋮</td><td>⋮</td><td>⋮</td><td>⋮</td><td>⋮</td><td>⋮</td></tr>\n",
              "\t<tr><td>City Hotel</td><td>0</td><td> 61</td><td>2017</td><td>August</td><td>35</td><td>27</td><td>1</td><td>0</td><td>2</td><td>⋯</td><td>No Deposit</td><td>85  </td><td>NULL</td><td>0</td><td>Transient</td><td> 90.60</td><td>0</td><td>1</td><td>Check-Out</td><td>2017-08-28</td></tr>\n",
              "\t<tr><td>City Hotel</td><td>0</td><td> 35</td><td>2017</td><td>August</td><td>34</td><td>26</td><td>2</td><td>1</td><td>2</td><td>⋯</td><td>No Deposit</td><td>14  </td><td>NULL</td><td>0</td><td>Transient</td><td>176.64</td><td>0</td><td>1</td><td>Check-Out</td><td>2017-08-29</td></tr>\n",
              "\t<tr><td>City Hotel</td><td>0</td><td>  8</td><td>2017</td><td>August</td><td>34</td><td>26</td><td>2</td><td>1</td><td>2</td><td>⋯</td><td>No Deposit</td><td>7   </td><td>NULL</td><td>0</td><td>Transient</td><td>253.51</td><td>0</td><td>2</td><td>Check-Out</td><td>2017-08-29</td></tr>\n",
              "\t<tr><td>City Hotel</td><td>0</td><td>301</td><td>2017</td><td>August</td><td>35</td><td>27</td><td>2</td><td>0</td><td>2</td><td>⋯</td><td>No Deposit</td><td>9   </td><td>NULL</td><td>0</td><td>Transient</td><td>179.10</td><td>0</td><td>0</td><td>Check-Out</td><td>2017-08-29</td></tr>\n",
              "\t<tr><td>City Hotel</td><td>0</td><td>  0</td><td>2017</td><td>August</td><td>35</td><td>29</td><td>0</td><td>1</td><td>2</td><td>⋯</td><td>No Deposit</td><td>229 </td><td>NULL</td><td>0</td><td>Group    </td><td>270.00</td><td>0</td><td>1</td><td>Check-Out</td><td>2017-08-30</td></tr>\n",
              "\t<tr><td>City Hotel</td><td>0</td><td>221</td><td>2017</td><td>August</td><td>34</td><td>26</td><td>2</td><td>1</td><td>2</td><td>⋯</td><td>No Deposit</td><td>9   </td><td>NULL</td><td>0</td><td>Transient</td><td>198.00</td><td>0</td><td>1</td><td>Check-Out</td><td>2017-08-29</td></tr>\n",
              "\t<tr><td>City Hotel</td><td>0</td><td> 14</td><td>2017</td><td>August</td><td>34</td><td>24</td><td>2</td><td>3</td><td>2</td><td>⋯</td><td>No Deposit</td><td>9   </td><td>NULL</td><td>0</td><td>Transient</td><td>165.60</td><td>0</td><td>2</td><td>Check-Out</td><td>2017-08-29</td></tr>\n",
              "\t<tr><td>City Hotel</td><td>0</td><td> 16</td><td>2017</td><td>August</td><td>34</td><td>26</td><td>2</td><td>1</td><td>2</td><td>⋯</td><td>No Deposit</td><td>9   </td><td>NULL</td><td>0</td><td>Transient</td><td>126.00</td><td>0</td><td>2</td><td>Check-Out</td><td>2017-08-29</td></tr>\n",
              "\t<tr><td>City Hotel</td><td>0</td><td>  0</td><td>2017</td><td>August</td><td>35</td><td>28</td><td>1</td><td>0</td><td>2</td><td>⋯</td><td>No Deposit</td><td>14  </td><td>NULL</td><td>0</td><td>Transient</td><td>150.00</td><td>0</td><td>0</td><td>Check-Out</td><td>2017-08-29</td></tr>\n",
              "\t<tr><td>City Hotel</td><td>0</td><td>202</td><td>2017</td><td>August</td><td>34</td><td>26</td><td>2</td><td>2</td><td>1</td><td>⋯</td><td>No Deposit</td><td>9   </td><td>NULL</td><td>0</td><td>Transient</td><td>117.00</td><td>0</td><td>0</td><td>Check-Out</td><td>2017-08-30</td></tr>\n",
              "\t<tr><td>City Hotel</td><td>0</td><td>240</td><td>2017</td><td>August</td><td>35</td><td>28</td><td>1</td><td>1</td><td>2</td><td>⋯</td><td>No Deposit</td><td>9   </td><td>NULL</td><td>0</td><td>Transient</td><td>135.00</td><td>0</td><td>3</td><td>Check-Out</td><td>2017-08-30</td></tr>\n",
              "\t<tr><td>City Hotel</td><td>0</td><td>130</td><td>2017</td><td>August</td><td>34</td><td>23</td><td>2</td><td>5</td><td>2</td><td>⋯</td><td>No Deposit</td><td>14  </td><td>NULL</td><td>0</td><td>Transient</td><td>300.00</td><td>0</td><td>1</td><td>Check-Out</td><td>2017-08-30</td></tr>\n",
              "\t<tr><td>City Hotel</td><td>0</td><td>216</td><td>2017</td><td>August</td><td>34</td><td>26</td><td>2</td><td>2</td><td>2</td><td>⋯</td><td>No Deposit</td><td>11  </td><td>NULL</td><td>0</td><td>Transient</td><td> 93.60</td><td>0</td><td>0</td><td>Check-Out</td><td>2017-08-30</td></tr>\n",
              "\t<tr><td>City Hotel</td><td>0</td><td>323</td><td>2017</td><td>August</td><td>35</td><td>29</td><td>0</td><td>1</td><td>2</td><td>⋯</td><td>No Deposit</td><td>9   </td><td>NULL</td><td>0</td><td>Transient</td><td>125.10</td><td>0</td><td>2</td><td>Check-Out</td><td>2017-08-30</td></tr>\n",
              "\t<tr><td>City Hotel</td><td>0</td><td>  5</td><td>2017</td><td>August</td><td>35</td><td>29</td><td>0</td><td>1</td><td>2</td><td>⋯</td><td>No Deposit</td><td>9   </td><td>NULL</td><td>0</td><td>Transient</td><td>259.00</td><td>0</td><td>0</td><td>Check-Out</td><td>2017-08-30</td></tr>\n",
              "\t<tr><td>City Hotel</td><td>0</td><td>  0</td><td>2017</td><td>August</td><td>35</td><td>29</td><td>0</td><td>1</td><td>2</td><td>⋯</td><td>No Deposit</td><td>NULL</td><td>NULL</td><td>0</td><td>Transient</td><td>270.00</td><td>0</td><td>0</td><td>Check-Out</td><td>2017-08-30</td></tr>\n",
              "\t<tr><td>City Hotel</td><td>0</td><td> 29</td><td>2017</td><td>August</td><td>35</td><td>27</td><td>2</td><td>1</td><td>2</td><td>⋯</td><td>No Deposit</td><td>9   </td><td>NULL</td><td>0</td><td>Transient</td><td>233.00</td><td>0</td><td>0</td><td>Check-Out</td><td>2017-08-30</td></tr>\n",
              "\t<tr><td>City Hotel</td><td>0</td><td> 22</td><td>2017</td><td>August</td><td>35</td><td>30</td><td>0</td><td>3</td><td>2</td><td>⋯</td><td>No Deposit</td><td>9   </td><td>NULL</td><td>0</td><td>Transient</td><td> 61.80</td><td>0</td><td>0</td><td>Check-Out</td><td>2017-09-02</td></tr>\n",
              "\t<tr><td>City Hotel</td><td>0</td><td>171</td><td>2017</td><td>August</td><td>34</td><td>22</td><td>2</td><td>7</td><td>2</td><td>⋯</td><td>No Deposit</td><td>14  </td><td>NULL</td><td>0</td><td>Transient</td><td>180.00</td><td>0</td><td>1</td><td>Check-Out</td><td>2017-08-31</td></tr>\n",
              "\t<tr><td>City Hotel</td><td>0</td><td>175</td><td>2017</td><td>August</td><td>35</td><td>27</td><td>2</td><td>2</td><td>1</td><td>⋯</td><td>No Deposit</td><td>9   </td><td>NULL</td><td>0</td><td>Transient</td><td>175.50</td><td>0</td><td>1</td><td>Check-Out</td><td>2017-08-31</td></tr>\n",
              "\t<tr><td>City Hotel</td><td>0</td><td>  6</td><td>2017</td><td>August</td><td>35</td><td>28</td><td>1</td><td>3</td><td>2</td><td>⋯</td><td>No Deposit</td><td>7   </td><td>NULL</td><td>0</td><td>Transient</td><td>190.00</td><td>0</td><td>1</td><td>Check-Out</td><td>2017-09-01</td></tr>\n",
              "\t<tr><td>City Hotel</td><td>0</td><td>341</td><td>2017</td><td>August</td><td>35</td><td>27</td><td>2</td><td>3</td><td>2</td><td>⋯</td><td>No Deposit</td><td>22  </td><td>NULL</td><td>0</td><td>Transient</td><td> 96.91</td><td>0</td><td>1</td><td>Check-Out</td><td>2017-09-01</td></tr>\n",
              "\t<tr><td>City Hotel</td><td>0</td><td>140</td><td>2017</td><td>August</td><td>35</td><td>27</td><td>2</td><td>3</td><td>2</td><td>⋯</td><td>No Deposit</td><td>9   </td><td>NULL</td><td>0</td><td>Transient</td><td>235.00</td><td>0</td><td>0</td><td>Check-Out</td><td>2017-09-01</td></tr>\n",
              "\t<tr><td>City Hotel</td><td>0</td><td>140</td><td>2017</td><td>August</td><td>35</td><td>27</td><td>2</td><td>3</td><td>2</td><td>⋯</td><td>No Deposit</td><td>9   </td><td>NULL</td><td>0</td><td>Transient</td><td>235.00</td><td>0</td><td>0</td><td>Check-Out</td><td>2017-09-01</td></tr>\n",
              "\t<tr><td>City Hotel</td><td>0</td><td>  9</td><td>2017</td><td>August</td><td>35</td><td>28</td><td>1</td><td>3</td><td>2</td><td>⋯</td><td>No Deposit</td><td>14  </td><td>NULL</td><td>0</td><td>Transient</td><td>210.00</td><td>0</td><td>0</td><td>Check-Out</td><td>2017-09-01</td></tr>\n",
              "\t<tr><td>City Hotel</td><td>0</td><td>  0</td><td>2017</td><td>August</td><td>35</td><td>29</td><td>0</td><td>3</td><td>2</td><td>⋯</td><td>No Deposit</td><td>9   </td><td>NULL</td><td>0</td><td>Transient</td><td>135.00</td><td>0</td><td>2</td><td>Check-Out</td><td>2017-09-01</td></tr>\n",
              "\t<tr><td>City Hotel</td><td>0</td><td>167</td><td>2017</td><td>August</td><td>35</td><td>27</td><td>2</td><td>4</td><td>2</td><td>⋯</td><td>No Deposit</td><td>9   </td><td>NULL</td><td>0</td><td>Transient</td><td>177.75</td><td>0</td><td>0</td><td>Check-Out</td><td>2017-09-02</td></tr>\n",
              "\t<tr><td>City Hotel</td><td>0</td><td>243</td><td>2017</td><td>August</td><td>35</td><td>30</td><td>0</td><td>3</td><td>2</td><td>⋯</td><td>No Deposit</td><td>9   </td><td>NULL</td><td>0</td><td>Transient</td><td>189.00</td><td>0</td><td>3</td><td>Check-Out</td><td>2017-09-02</td></tr>\n",
              "\t<tr><td>City Hotel</td><td>0</td><td>160</td><td>2017</td><td>August</td><td>35</td><td>29</td><td>0</td><td>5</td><td>2</td><td>⋯</td><td>No Deposit</td><td>9   </td><td>NULL</td><td>0</td><td>Transient</td><td>153.90</td><td>0</td><td>0</td><td>Check-Out</td><td>2017-09-03</td></tr>\n",
              "\t<tr><td>City Hotel</td><td>0</td><td> 45</td><td>2017</td><td>August</td><td>35</td><td>28</td><td>1</td><td>5</td><td>2</td><td>⋯</td><td>No Deposit</td><td>7   </td><td>NULL</td><td>0</td><td>Transient</td><td>194.13</td><td>0</td><td>1</td><td>Check-Out</td><td>2017-09-03</td></tr>\n",
              "</tbody>\n",
              "</table>\n"
            ],
            "text/markdown": "\nA data.frame: 9332 × 32\n\n| hotel &lt;chr&gt; | is_canceled &lt;int&gt; | lead_time &lt;int&gt; | arrival_date_year &lt;int&gt; | arrival_date_month &lt;chr&gt; | arrival_date_week_number &lt;int&gt; | arrival_date_day_of_month &lt;int&gt; | stays_in_weekend_nights &lt;int&gt; | stays_in_week_nights &lt;int&gt; | adults &lt;int&gt; | ⋯ ⋯ | deposit_type &lt;chr&gt; | agent &lt;chr&gt; | company &lt;chr&gt; | days_in_waiting_list &lt;int&gt; | customer_type &lt;chr&gt; | adr &lt;dbl&gt; | required_car_parking_spaces &lt;int&gt; | total_of_special_requests &lt;int&gt; | reservation_status &lt;chr&gt; | reservation_status_date &lt;chr&gt; |\n|---|---|---|---|---|---|---|---|---|---|---|---|---|---|---|---|---|---|---|---|---|\n| Resort Hotel | 0 |  18 | 2015 | July | 27 |  1 | 0 |  4 | 2 | ⋯ | No Deposit | 241  | NULL | 0 | Transient | 154.77 | 0 | 1 | Check-Out | 2015-07-05 |\n| Resort Hotel | 1 |  47 | 2015 | July | 27 |  2 | 2 |  5 | 2 | ⋯ | No Deposit | 240  | NULL | 0 | Transient | 153.00 | 0 | 0 | Canceled  | 2015-06-02 |\n| Resort Hotel | 0 |   1 | 2015 | July | 27 |  2 | 0 |  1 | 2 | ⋯ | No Deposit | NULL | NULL | 0 | Transient | 107.00 | 1 | 2 | Check-Out | 2015-07-03 |\n| Resort Hotel | 0 |  10 | 2015 | July | 27 |  3 | 0 |  2 | 2 | ⋯ | No Deposit | 240  | NULL | 0 | Transient | 153.00 | 1 | 0 | Check-Out | 2015-07-05 |\n| Resort Hotel | 1 |  79 | 2015 | July | 27 |  3 | 6 | 15 | 2 | ⋯ | No Deposit | 242  | NULL | 0 | Transient | 108.73 | 0 | 2 | Canceled  | 2015-04-15 |\n| Resort Hotel | 0 | 101 | 2015 | July | 27 |  3 | 2 |  5 | 2 | ⋯ | No Deposit | 240  | NULL | 0 | Transient |  99.30 | 1 | 2 | Check-Out | 2015-07-10 |\n| Resort Hotel | 0 |  92 | 2015 | July | 27 |  4 | 2 |  4 | 1 | ⋯ | No Deposit | 241  | NULL | 0 | Transient |  96.49 | 0 | 2 | Check-Out | 2015-07-10 |\n| Resort Hotel | 1 |  26 | 2015 | July | 27 |  4 | 2 |  5 | 2 | ⋯ | No Deposit | 240  | NULL | 0 | Transient | 163.00 | 0 | 0 | Canceled  | 2015-06-09 |\n| Resort Hotel | 0 | 102 | 2015 | July | 27 |  4 | 2 |  5 | 2 | ⋯ | No Deposit | 240  | NULL | 0 | Transient |  73.80 | 0 | 2 | Check-Out | 2015-07-11 |\n| Resort Hotel | 0 |  78 | 2015 | July | 27 |  4 | 2 |  5 | 2 | ⋯ | No Deposit | 240  | NULL | 0 | Transient | 139.00 | 0 | 2 | Check-Out | 2015-07-11 |\n| Resort Hotel | 0 |  79 | 2015 | July | 27 |  4 | 4 |  6 | 2 | ⋯ | No Deposit | 250  | NULL | 0 | Transient | 149.00 | 0 | 1 | Check-Out | 2015-07-14 |\n| Resort Hotel | 0 |   2 | 2015 | July | 27 |  4 | 0 |  1 | 2 | ⋯ | No Deposit | 240  | NULL | 0 | Transient | 163.00 | 1 | 0 | Check-Out | 2015-07-05 |\n| Resort Hotel | 0 | 109 | 2015 | July | 28 |  5 | 2 |  3 | 2 | ⋯ | No Deposit | 241  | NULL | 0 | Transient |  85.59 | 1 | 2 | Check-Out | 2015-07-10 |\n| Resort Hotel | 1 |  34 | 2015 | July | 28 |  5 | 2 |  4 | 2 | ⋯ | No Deposit | 240  | NULL | 0 | Transient | 163.00 | 0 | 0 | Canceled  | 2015-06-17 |\n| Resort Hotel | 0 |  97 | 2015 | July | 28 |  5 | 2 |  5 | 2 | ⋯ | No Deposit | 250  | NULL | 0 | Transient | 164.20 | 1 | 1 | Check-Out | 2015-07-12 |\n| Resort Hotel | 0 |   8 | 2015 | July | 28 |  5 | 4 |  5 | 2 | ⋯ | No Deposit | 240  | NULL | 0 | Transient | 175.00 | 1 | 1 | Check-Out | 2015-07-14 |\n| Resort Hotel | 0 | 115 | 2015 | July | 28 |  6 | 1 |  4 | 2 | ⋯ | No Deposit | 240  | NULL | 0 | Transient | 167.00 | 0 | 0 | Check-Out | 2015-07-11 |\n| Resort Hotel | 0 |  81 | 2015 | July | 28 |  6 | 1 |  3 | 2 | ⋯ | No Deposit | 250  | NULL | 0 | Transient | 210.00 | 1 | 0 | Check-Out | 2015-07-10 |\n| Resort Hotel | 0 |  84 | 2015 | July | 28 |  6 | 1 |  3 | 2 | ⋯ | No Deposit | 240  | NULL | 0 | Transient |  97.00 | 0 | 2 | Check-Out | 2015-07-10 |\n| Resort Hotel | 0 |   2 | 2015 | July | 28 |  6 | 1 |  0 | 2 | ⋯ | No Deposit | NULL | NULL | 0 | Transient | 131.00 | 0 | 0 | Check-Out | 2015-07-07 |\n| Resort Hotel | 0 |  68 | 2015 | July | 28 |  6 | 2 |  5 | 2 | ⋯ | No Deposit | 240  | NULL | 0 | Transient | 185.00 | 0 | 0 | Check-Out | 2015-07-13 |\n| Resort Hotel | 0 |  21 | 2015 | July | 28 |  7 | 0 |  3 | 2 | ⋯ | No Deposit | 250  | NULL | 0 | Transient | 185.50 | 0 | 1 | Check-Out | 2015-07-10 |\n| Resort Hotel | 0 |   8 | 2015 | July | 28 |  7 | 0 |  4 | 3 | ⋯ | No Deposit | 240  | NULL | 0 | Transient | 193.00 | 0 | 1 | Check-Out | 2015-07-11 |\n| Resort Hotel | 1 | 280 | 2015 | July | 28 |  8 | 2 |  5 | 2 | ⋯ | No Deposit | 40   | NULL | 0 | Contract  | 112.00 | 0 | 1 | Canceled  | 2015-04-15 |\n| Resort Hotel | 0 |  17 | 2015 | July | 28 |  9 | 0 |  1 | 2 | ⋯ | No Deposit | 242  | NULL | 0 | Transient | 123.00 | 0 | 3 | Check-Out | 2015-07-10 |\n| Resort Hotel | 0 |  12 | 2015 | July | 28 |  9 | 0 |  2 | 2 | ⋯ | No Deposit | NULL | NULL | 0 | Transient | 146.00 | 1 | 0 | Check-Out | 2015-07-11 |\n| Resort Hotel | 1 |  24 | 2015 | July | 28 |  9 | 0 |  3 | 2 | ⋯ | No Deposit | 242  | NULL | 0 | Transient | 123.00 | 0 | 1 | Canceled  | 2015-06-16 |\n| Resort Hotel | 1 |  44 | 2015 | July | 28 |  9 | 0 |  3 | 2 | ⋯ | No Deposit | 240  | NULL | 0 | Transient | 153.00 | 0 | 0 | Canceled  | 2015-06-16 |\n| Resort Hotel | 0 |  78 | 2015 | July | 28 |  9 | 0 |  3 | 2 | ⋯ | No Deposit | 240  | NULL | 0 | Transient |  82.00 | 0 | 2 | Check-Out | 2015-07-12 |\n| Resort Hotel | 0 |  13 | 2015 | July | 28 | 10 | 0 |  2 | 2 | ⋯ | No Deposit | 240  | NULL | 0 | Transient | 185.00 | 1 | 1 | Check-Out | 2015-07-12 |\n| ⋮ | ⋮ | ⋮ | ⋮ | ⋮ | ⋮ | ⋮ | ⋮ | ⋮ | ⋮ | ⋱ | ⋮ | ⋮ | ⋮ | ⋮ | ⋮ | ⋮ | ⋮ | ⋮ | ⋮ | ⋮ |\n| City Hotel | 0 |  61 | 2017 | August | 35 | 27 | 1 | 0 | 2 | ⋯ | No Deposit | 85   | NULL | 0 | Transient |  90.60 | 0 | 1 | Check-Out | 2017-08-28 |\n| City Hotel | 0 |  35 | 2017 | August | 34 | 26 | 2 | 1 | 2 | ⋯ | No Deposit | 14   | NULL | 0 | Transient | 176.64 | 0 | 1 | Check-Out | 2017-08-29 |\n| City Hotel | 0 |   8 | 2017 | August | 34 | 26 | 2 | 1 | 2 | ⋯ | No Deposit | 7    | NULL | 0 | Transient | 253.51 | 0 | 2 | Check-Out | 2017-08-29 |\n| City Hotel | 0 | 301 | 2017 | August | 35 | 27 | 2 | 0 | 2 | ⋯ | No Deposit | 9    | NULL | 0 | Transient | 179.10 | 0 | 0 | Check-Out | 2017-08-29 |\n| City Hotel | 0 |   0 | 2017 | August | 35 | 29 | 0 | 1 | 2 | ⋯ | No Deposit | 229  | NULL | 0 | Group     | 270.00 | 0 | 1 | Check-Out | 2017-08-30 |\n| City Hotel | 0 | 221 | 2017 | August | 34 | 26 | 2 | 1 | 2 | ⋯ | No Deposit | 9    | NULL | 0 | Transient | 198.00 | 0 | 1 | Check-Out | 2017-08-29 |\n| City Hotel | 0 |  14 | 2017 | August | 34 | 24 | 2 | 3 | 2 | ⋯ | No Deposit | 9    | NULL | 0 | Transient | 165.60 | 0 | 2 | Check-Out | 2017-08-29 |\n| City Hotel | 0 |  16 | 2017 | August | 34 | 26 | 2 | 1 | 2 | ⋯ | No Deposit | 9    | NULL | 0 | Transient | 126.00 | 0 | 2 | Check-Out | 2017-08-29 |\n| City Hotel | 0 |   0 | 2017 | August | 35 | 28 | 1 | 0 | 2 | ⋯ | No Deposit | 14   | NULL | 0 | Transient | 150.00 | 0 | 0 | Check-Out | 2017-08-29 |\n| City Hotel | 0 | 202 | 2017 | August | 34 | 26 | 2 | 2 | 1 | ⋯ | No Deposit | 9    | NULL | 0 | Transient | 117.00 | 0 | 0 | Check-Out | 2017-08-30 |\n| City Hotel | 0 | 240 | 2017 | August | 35 | 28 | 1 | 1 | 2 | ⋯ | No Deposit | 9    | NULL | 0 | Transient | 135.00 | 0 | 3 | Check-Out | 2017-08-30 |\n| City Hotel | 0 | 130 | 2017 | August | 34 | 23 | 2 | 5 | 2 | ⋯ | No Deposit | 14   | NULL | 0 | Transient | 300.00 | 0 | 1 | Check-Out | 2017-08-30 |\n| City Hotel | 0 | 216 | 2017 | August | 34 | 26 | 2 | 2 | 2 | ⋯ | No Deposit | 11   | NULL | 0 | Transient |  93.60 | 0 | 0 | Check-Out | 2017-08-30 |\n| City Hotel | 0 | 323 | 2017 | August | 35 | 29 | 0 | 1 | 2 | ⋯ | No Deposit | 9    | NULL | 0 | Transient | 125.10 | 0 | 2 | Check-Out | 2017-08-30 |\n| City Hotel | 0 |   5 | 2017 | August | 35 | 29 | 0 | 1 | 2 | ⋯ | No Deposit | 9    | NULL | 0 | Transient | 259.00 | 0 | 0 | Check-Out | 2017-08-30 |\n| City Hotel | 0 |   0 | 2017 | August | 35 | 29 | 0 | 1 | 2 | ⋯ | No Deposit | NULL | NULL | 0 | Transient | 270.00 | 0 | 0 | Check-Out | 2017-08-30 |\n| City Hotel | 0 |  29 | 2017 | August | 35 | 27 | 2 | 1 | 2 | ⋯ | No Deposit | 9    | NULL | 0 | Transient | 233.00 | 0 | 0 | Check-Out | 2017-08-30 |\n| City Hotel | 0 |  22 | 2017 | August | 35 | 30 | 0 | 3 | 2 | ⋯ | No Deposit | 9    | NULL | 0 | Transient |  61.80 | 0 | 0 | Check-Out | 2017-09-02 |\n| City Hotel | 0 | 171 | 2017 | August | 34 | 22 | 2 | 7 | 2 | ⋯ | No Deposit | 14   | NULL | 0 | Transient | 180.00 | 0 | 1 | Check-Out | 2017-08-31 |\n| City Hotel | 0 | 175 | 2017 | August | 35 | 27 | 2 | 2 | 1 | ⋯ | No Deposit | 9    | NULL | 0 | Transient | 175.50 | 0 | 1 | Check-Out | 2017-08-31 |\n| City Hotel | 0 |   6 | 2017 | August | 35 | 28 | 1 | 3 | 2 | ⋯ | No Deposit | 7    | NULL | 0 | Transient | 190.00 | 0 | 1 | Check-Out | 2017-09-01 |\n| City Hotel | 0 | 341 | 2017 | August | 35 | 27 | 2 | 3 | 2 | ⋯ | No Deposit | 22   | NULL | 0 | Transient |  96.91 | 0 | 1 | Check-Out | 2017-09-01 |\n| City Hotel | 0 | 140 | 2017 | August | 35 | 27 | 2 | 3 | 2 | ⋯ | No Deposit | 9    | NULL | 0 | Transient | 235.00 | 0 | 0 | Check-Out | 2017-09-01 |\n| City Hotel | 0 | 140 | 2017 | August | 35 | 27 | 2 | 3 | 2 | ⋯ | No Deposit | 9    | NULL | 0 | Transient | 235.00 | 0 | 0 | Check-Out | 2017-09-01 |\n| City Hotel | 0 |   9 | 2017 | August | 35 | 28 | 1 | 3 | 2 | ⋯ | No Deposit | 14   | NULL | 0 | Transient | 210.00 | 0 | 0 | Check-Out | 2017-09-01 |\n| City Hotel | 0 |   0 | 2017 | August | 35 | 29 | 0 | 3 | 2 | ⋯ | No Deposit | 9    | NULL | 0 | Transient | 135.00 | 0 | 2 | Check-Out | 2017-09-01 |\n| City Hotel | 0 | 167 | 2017 | August | 35 | 27 | 2 | 4 | 2 | ⋯ | No Deposit | 9    | NULL | 0 | Transient | 177.75 | 0 | 0 | Check-Out | 2017-09-02 |\n| City Hotel | 0 | 243 | 2017 | August | 35 | 30 | 0 | 3 | 2 | ⋯ | No Deposit | 9    | NULL | 0 | Transient | 189.00 | 0 | 3 | Check-Out | 2017-09-02 |\n| City Hotel | 0 | 160 | 2017 | August | 35 | 29 | 0 | 5 | 2 | ⋯ | No Deposit | 9    | NULL | 0 | Transient | 153.90 | 0 | 0 | Check-Out | 2017-09-03 |\n| City Hotel | 0 |  45 | 2017 | August | 35 | 28 | 1 | 5 | 2 | ⋯ | No Deposit | 7    | NULL | 0 | Transient | 194.13 | 0 | 1 | Check-Out | 2017-09-03 |\n\n",
            "text/latex": "A data.frame: 9332 × 32\n\\begin{tabular}{lllllllllllllllllllll}\n hotel & is\\_canceled & lead\\_time & arrival\\_date\\_year & arrival\\_date\\_month & arrival\\_date\\_week\\_number & arrival\\_date\\_day\\_of\\_month & stays\\_in\\_weekend\\_nights & stays\\_in\\_week\\_nights & adults & ⋯ & deposit\\_type & agent & company & days\\_in\\_waiting\\_list & customer\\_type & adr & required\\_car\\_parking\\_spaces & total\\_of\\_special\\_requests & reservation\\_status & reservation\\_status\\_date\\\\\n <chr> & <int> & <int> & <int> & <chr> & <int> & <int> & <int> & <int> & <int> & ⋯ & <chr> & <chr> & <chr> & <int> & <chr> & <dbl> & <int> & <int> & <chr> & <chr>\\\\\n\\hline\n\t Resort Hotel & 0 &  18 & 2015 & July & 27 &  1 & 0 &  4 & 2 & ⋯ & No Deposit & 241  & NULL & 0 & Transient & 154.77 & 0 & 1 & Check-Out & 2015-07-05\\\\\n\t Resort Hotel & 1 &  47 & 2015 & July & 27 &  2 & 2 &  5 & 2 & ⋯ & No Deposit & 240  & NULL & 0 & Transient & 153.00 & 0 & 0 & Canceled  & 2015-06-02\\\\\n\t Resort Hotel & 0 &   1 & 2015 & July & 27 &  2 & 0 &  1 & 2 & ⋯ & No Deposit & NULL & NULL & 0 & Transient & 107.00 & 1 & 2 & Check-Out & 2015-07-03\\\\\n\t Resort Hotel & 0 &  10 & 2015 & July & 27 &  3 & 0 &  2 & 2 & ⋯ & No Deposit & 240  & NULL & 0 & Transient & 153.00 & 1 & 0 & Check-Out & 2015-07-05\\\\\n\t Resort Hotel & 1 &  79 & 2015 & July & 27 &  3 & 6 & 15 & 2 & ⋯ & No Deposit & 242  & NULL & 0 & Transient & 108.73 & 0 & 2 & Canceled  & 2015-04-15\\\\\n\t Resort Hotel & 0 & 101 & 2015 & July & 27 &  3 & 2 &  5 & 2 & ⋯ & No Deposit & 240  & NULL & 0 & Transient &  99.30 & 1 & 2 & Check-Out & 2015-07-10\\\\\n\t Resort Hotel & 0 &  92 & 2015 & July & 27 &  4 & 2 &  4 & 1 & ⋯ & No Deposit & 241  & NULL & 0 & Transient &  96.49 & 0 & 2 & Check-Out & 2015-07-10\\\\\n\t Resort Hotel & 1 &  26 & 2015 & July & 27 &  4 & 2 &  5 & 2 & ⋯ & No Deposit & 240  & NULL & 0 & Transient & 163.00 & 0 & 0 & Canceled  & 2015-06-09\\\\\n\t Resort Hotel & 0 & 102 & 2015 & July & 27 &  4 & 2 &  5 & 2 & ⋯ & No Deposit & 240  & NULL & 0 & Transient &  73.80 & 0 & 2 & Check-Out & 2015-07-11\\\\\n\t Resort Hotel & 0 &  78 & 2015 & July & 27 &  4 & 2 &  5 & 2 & ⋯ & No Deposit & 240  & NULL & 0 & Transient & 139.00 & 0 & 2 & Check-Out & 2015-07-11\\\\\n\t Resort Hotel & 0 &  79 & 2015 & July & 27 &  4 & 4 &  6 & 2 & ⋯ & No Deposit & 250  & NULL & 0 & Transient & 149.00 & 0 & 1 & Check-Out & 2015-07-14\\\\\n\t Resort Hotel & 0 &   2 & 2015 & July & 27 &  4 & 0 &  1 & 2 & ⋯ & No Deposit & 240  & NULL & 0 & Transient & 163.00 & 1 & 0 & Check-Out & 2015-07-05\\\\\n\t Resort Hotel & 0 & 109 & 2015 & July & 28 &  5 & 2 &  3 & 2 & ⋯ & No Deposit & 241  & NULL & 0 & Transient &  85.59 & 1 & 2 & Check-Out & 2015-07-10\\\\\n\t Resort Hotel & 1 &  34 & 2015 & July & 28 &  5 & 2 &  4 & 2 & ⋯ & No Deposit & 240  & NULL & 0 & Transient & 163.00 & 0 & 0 & Canceled  & 2015-06-17\\\\\n\t Resort Hotel & 0 &  97 & 2015 & July & 28 &  5 & 2 &  5 & 2 & ⋯ & No Deposit & 250  & NULL & 0 & Transient & 164.20 & 1 & 1 & Check-Out & 2015-07-12\\\\\n\t Resort Hotel & 0 &   8 & 2015 & July & 28 &  5 & 4 &  5 & 2 & ⋯ & No Deposit & 240  & NULL & 0 & Transient & 175.00 & 1 & 1 & Check-Out & 2015-07-14\\\\\n\t Resort Hotel & 0 & 115 & 2015 & July & 28 &  6 & 1 &  4 & 2 & ⋯ & No Deposit & 240  & NULL & 0 & Transient & 167.00 & 0 & 0 & Check-Out & 2015-07-11\\\\\n\t Resort Hotel & 0 &  81 & 2015 & July & 28 &  6 & 1 &  3 & 2 & ⋯ & No Deposit & 250  & NULL & 0 & Transient & 210.00 & 1 & 0 & Check-Out & 2015-07-10\\\\\n\t Resort Hotel & 0 &  84 & 2015 & July & 28 &  6 & 1 &  3 & 2 & ⋯ & No Deposit & 240  & NULL & 0 & Transient &  97.00 & 0 & 2 & Check-Out & 2015-07-10\\\\\n\t Resort Hotel & 0 &   2 & 2015 & July & 28 &  6 & 1 &  0 & 2 & ⋯ & No Deposit & NULL & NULL & 0 & Transient & 131.00 & 0 & 0 & Check-Out & 2015-07-07\\\\\n\t Resort Hotel & 0 &  68 & 2015 & July & 28 &  6 & 2 &  5 & 2 & ⋯ & No Deposit & 240  & NULL & 0 & Transient & 185.00 & 0 & 0 & Check-Out & 2015-07-13\\\\\n\t Resort Hotel & 0 &  21 & 2015 & July & 28 &  7 & 0 &  3 & 2 & ⋯ & No Deposit & 250  & NULL & 0 & Transient & 185.50 & 0 & 1 & Check-Out & 2015-07-10\\\\\n\t Resort Hotel & 0 &   8 & 2015 & July & 28 &  7 & 0 &  4 & 3 & ⋯ & No Deposit & 240  & NULL & 0 & Transient & 193.00 & 0 & 1 & Check-Out & 2015-07-11\\\\\n\t Resort Hotel & 1 & 280 & 2015 & July & 28 &  8 & 2 &  5 & 2 & ⋯ & No Deposit & 40   & NULL & 0 & Contract  & 112.00 & 0 & 1 & Canceled  & 2015-04-15\\\\\n\t Resort Hotel & 0 &  17 & 2015 & July & 28 &  9 & 0 &  1 & 2 & ⋯ & No Deposit & 242  & NULL & 0 & Transient & 123.00 & 0 & 3 & Check-Out & 2015-07-10\\\\\n\t Resort Hotel & 0 &  12 & 2015 & July & 28 &  9 & 0 &  2 & 2 & ⋯ & No Deposit & NULL & NULL & 0 & Transient & 146.00 & 1 & 0 & Check-Out & 2015-07-11\\\\\n\t Resort Hotel & 1 &  24 & 2015 & July & 28 &  9 & 0 &  3 & 2 & ⋯ & No Deposit & 242  & NULL & 0 & Transient & 123.00 & 0 & 1 & Canceled  & 2015-06-16\\\\\n\t Resort Hotel & 1 &  44 & 2015 & July & 28 &  9 & 0 &  3 & 2 & ⋯ & No Deposit & 240  & NULL & 0 & Transient & 153.00 & 0 & 0 & Canceled  & 2015-06-16\\\\\n\t Resort Hotel & 0 &  78 & 2015 & July & 28 &  9 & 0 &  3 & 2 & ⋯ & No Deposit & 240  & NULL & 0 & Transient &  82.00 & 0 & 2 & Check-Out & 2015-07-12\\\\\n\t Resort Hotel & 0 &  13 & 2015 & July & 28 & 10 & 0 &  2 & 2 & ⋯ & No Deposit & 240  & NULL & 0 & Transient & 185.00 & 1 & 1 & Check-Out & 2015-07-12\\\\\n\t ⋮ & ⋮ & ⋮ & ⋮ & ⋮ & ⋮ & ⋮ & ⋮ & ⋮ & ⋮ & ⋱ & ⋮ & ⋮ & ⋮ & ⋮ & ⋮ & ⋮ & ⋮ & ⋮ & ⋮ & ⋮\\\\\n\t City Hotel & 0 &  61 & 2017 & August & 35 & 27 & 1 & 0 & 2 & ⋯ & No Deposit & 85   & NULL & 0 & Transient &  90.60 & 0 & 1 & Check-Out & 2017-08-28\\\\\n\t City Hotel & 0 &  35 & 2017 & August & 34 & 26 & 2 & 1 & 2 & ⋯ & No Deposit & 14   & NULL & 0 & Transient & 176.64 & 0 & 1 & Check-Out & 2017-08-29\\\\\n\t City Hotel & 0 &   8 & 2017 & August & 34 & 26 & 2 & 1 & 2 & ⋯ & No Deposit & 7    & NULL & 0 & Transient & 253.51 & 0 & 2 & Check-Out & 2017-08-29\\\\\n\t City Hotel & 0 & 301 & 2017 & August & 35 & 27 & 2 & 0 & 2 & ⋯ & No Deposit & 9    & NULL & 0 & Transient & 179.10 & 0 & 0 & Check-Out & 2017-08-29\\\\\n\t City Hotel & 0 &   0 & 2017 & August & 35 & 29 & 0 & 1 & 2 & ⋯ & No Deposit & 229  & NULL & 0 & Group     & 270.00 & 0 & 1 & Check-Out & 2017-08-30\\\\\n\t City Hotel & 0 & 221 & 2017 & August & 34 & 26 & 2 & 1 & 2 & ⋯ & No Deposit & 9    & NULL & 0 & Transient & 198.00 & 0 & 1 & Check-Out & 2017-08-29\\\\\n\t City Hotel & 0 &  14 & 2017 & August & 34 & 24 & 2 & 3 & 2 & ⋯ & No Deposit & 9    & NULL & 0 & Transient & 165.60 & 0 & 2 & Check-Out & 2017-08-29\\\\\n\t City Hotel & 0 &  16 & 2017 & August & 34 & 26 & 2 & 1 & 2 & ⋯ & No Deposit & 9    & NULL & 0 & Transient & 126.00 & 0 & 2 & Check-Out & 2017-08-29\\\\\n\t City Hotel & 0 &   0 & 2017 & August & 35 & 28 & 1 & 0 & 2 & ⋯ & No Deposit & 14   & NULL & 0 & Transient & 150.00 & 0 & 0 & Check-Out & 2017-08-29\\\\\n\t City Hotel & 0 & 202 & 2017 & August & 34 & 26 & 2 & 2 & 1 & ⋯ & No Deposit & 9    & NULL & 0 & Transient & 117.00 & 0 & 0 & Check-Out & 2017-08-30\\\\\n\t City Hotel & 0 & 240 & 2017 & August & 35 & 28 & 1 & 1 & 2 & ⋯ & No Deposit & 9    & NULL & 0 & Transient & 135.00 & 0 & 3 & Check-Out & 2017-08-30\\\\\n\t City Hotel & 0 & 130 & 2017 & August & 34 & 23 & 2 & 5 & 2 & ⋯ & No Deposit & 14   & NULL & 0 & Transient & 300.00 & 0 & 1 & Check-Out & 2017-08-30\\\\\n\t City Hotel & 0 & 216 & 2017 & August & 34 & 26 & 2 & 2 & 2 & ⋯ & No Deposit & 11   & NULL & 0 & Transient &  93.60 & 0 & 0 & Check-Out & 2017-08-30\\\\\n\t City Hotel & 0 & 323 & 2017 & August & 35 & 29 & 0 & 1 & 2 & ⋯ & No Deposit & 9    & NULL & 0 & Transient & 125.10 & 0 & 2 & Check-Out & 2017-08-30\\\\\n\t City Hotel & 0 &   5 & 2017 & August & 35 & 29 & 0 & 1 & 2 & ⋯ & No Deposit & 9    & NULL & 0 & Transient & 259.00 & 0 & 0 & Check-Out & 2017-08-30\\\\\n\t City Hotel & 0 &   0 & 2017 & August & 35 & 29 & 0 & 1 & 2 & ⋯ & No Deposit & NULL & NULL & 0 & Transient & 270.00 & 0 & 0 & Check-Out & 2017-08-30\\\\\n\t City Hotel & 0 &  29 & 2017 & August & 35 & 27 & 2 & 1 & 2 & ⋯ & No Deposit & 9    & NULL & 0 & Transient & 233.00 & 0 & 0 & Check-Out & 2017-08-30\\\\\n\t City Hotel & 0 &  22 & 2017 & August & 35 & 30 & 0 & 3 & 2 & ⋯ & No Deposit & 9    & NULL & 0 & Transient &  61.80 & 0 & 0 & Check-Out & 2017-09-02\\\\\n\t City Hotel & 0 & 171 & 2017 & August & 34 & 22 & 2 & 7 & 2 & ⋯ & No Deposit & 14   & NULL & 0 & Transient & 180.00 & 0 & 1 & Check-Out & 2017-08-31\\\\\n\t City Hotel & 0 & 175 & 2017 & August & 35 & 27 & 2 & 2 & 1 & ⋯ & No Deposit & 9    & NULL & 0 & Transient & 175.50 & 0 & 1 & Check-Out & 2017-08-31\\\\\n\t City Hotel & 0 &   6 & 2017 & August & 35 & 28 & 1 & 3 & 2 & ⋯ & No Deposit & 7    & NULL & 0 & Transient & 190.00 & 0 & 1 & Check-Out & 2017-09-01\\\\\n\t City Hotel & 0 & 341 & 2017 & August & 35 & 27 & 2 & 3 & 2 & ⋯ & No Deposit & 22   & NULL & 0 & Transient &  96.91 & 0 & 1 & Check-Out & 2017-09-01\\\\\n\t City Hotel & 0 & 140 & 2017 & August & 35 & 27 & 2 & 3 & 2 & ⋯ & No Deposit & 9    & NULL & 0 & Transient & 235.00 & 0 & 0 & Check-Out & 2017-09-01\\\\\n\t City Hotel & 0 & 140 & 2017 & August & 35 & 27 & 2 & 3 & 2 & ⋯ & No Deposit & 9    & NULL & 0 & Transient & 235.00 & 0 & 0 & Check-Out & 2017-09-01\\\\\n\t City Hotel & 0 &   9 & 2017 & August & 35 & 28 & 1 & 3 & 2 & ⋯ & No Deposit & 14   & NULL & 0 & Transient & 210.00 & 0 & 0 & Check-Out & 2017-09-01\\\\\n\t City Hotel & 0 &   0 & 2017 & August & 35 & 29 & 0 & 3 & 2 & ⋯ & No Deposit & 9    & NULL & 0 & Transient & 135.00 & 0 & 2 & Check-Out & 2017-09-01\\\\\n\t City Hotel & 0 & 167 & 2017 & August & 35 & 27 & 2 & 4 & 2 & ⋯ & No Deposit & 9    & NULL & 0 & Transient & 177.75 & 0 & 0 & Check-Out & 2017-09-02\\\\\n\t City Hotel & 0 & 243 & 2017 & August & 35 & 30 & 0 & 3 & 2 & ⋯ & No Deposit & 9    & NULL & 0 & Transient & 189.00 & 0 & 3 & Check-Out & 2017-09-02\\\\\n\t City Hotel & 0 & 160 & 2017 & August & 35 & 29 & 0 & 5 & 2 & ⋯ & No Deposit & 9    & NULL & 0 & Transient & 153.90 & 0 & 0 & Check-Out & 2017-09-03\\\\\n\t City Hotel & 0 &  45 & 2017 & August & 35 & 28 & 1 & 5 & 2 & ⋯ & No Deposit & 7    & NULL & 0 & Transient & 194.13 & 0 & 1 & Check-Out & 2017-09-03\\\\\n\\end{tabular}\n",
            "text/plain": [
              "     hotel        is_canceled lead_time arrival_date_year arrival_date_month\n",
              "1    Resort Hotel 0            18       2015              July              \n",
              "2    Resort Hotel 1            47       2015              July              \n",
              "3    Resort Hotel 0             1       2015              July              \n",
              "4    Resort Hotel 0            10       2015              July              \n",
              "5    Resort Hotel 1            79       2015              July              \n",
              "6    Resort Hotel 0           101       2015              July              \n",
              "7    Resort Hotel 0            92       2015              July              \n",
              "8    Resort Hotel 1            26       2015              July              \n",
              "9    Resort Hotel 0           102       2015              July              \n",
              "10   Resort Hotel 0            78       2015              July              \n",
              "11   Resort Hotel 0            79       2015              July              \n",
              "12   Resort Hotel 0             2       2015              July              \n",
              "13   Resort Hotel 0           109       2015              July              \n",
              "14   Resort Hotel 1            34       2015              July              \n",
              "15   Resort Hotel 0            97       2015              July              \n",
              "16   Resort Hotel 0             8       2015              July              \n",
              "17   Resort Hotel 0           115       2015              July              \n",
              "18   Resort Hotel 0            81       2015              July              \n",
              "19   Resort Hotel 0            84       2015              July              \n",
              "20   Resort Hotel 0             2       2015              July              \n",
              "21   Resort Hotel 0            68       2015              July              \n",
              "22   Resort Hotel 0            21       2015              July              \n",
              "23   Resort Hotel 0             8       2015              July              \n",
              "24   Resort Hotel 1           280       2015              July              \n",
              "25   Resort Hotel 0            17       2015              July              \n",
              "26   Resort Hotel 0            12       2015              July              \n",
              "27   Resort Hotel 1            24       2015              July              \n",
              "28   Resort Hotel 1            44       2015              July              \n",
              "29   Resort Hotel 0            78       2015              July              \n",
              "30   Resort Hotel 0            13       2015              July              \n",
              "⋮    ⋮            ⋮           ⋮         ⋮                 ⋮                 \n",
              "9303 City Hotel   0            61       2017              August            \n",
              "9304 City Hotel   0            35       2017              August            \n",
              "9305 City Hotel   0             8       2017              August            \n",
              "9306 City Hotel   0           301       2017              August            \n",
              "9307 City Hotel   0             0       2017              August            \n",
              "9308 City Hotel   0           221       2017              August            \n",
              "9309 City Hotel   0            14       2017              August            \n",
              "9310 City Hotel   0            16       2017              August            \n",
              "9311 City Hotel   0             0       2017              August            \n",
              "9312 City Hotel   0           202       2017              August            \n",
              "9313 City Hotel   0           240       2017              August            \n",
              "9314 City Hotel   0           130       2017              August            \n",
              "9315 City Hotel   0           216       2017              August            \n",
              "9316 City Hotel   0           323       2017              August            \n",
              "9317 City Hotel   0             5       2017              August            \n",
              "9318 City Hotel   0             0       2017              August            \n",
              "9319 City Hotel   0            29       2017              August            \n",
              "9320 City Hotel   0            22       2017              August            \n",
              "9321 City Hotel   0           171       2017              August            \n",
              "9322 City Hotel   0           175       2017              August            \n",
              "9323 City Hotel   0             6       2017              August            \n",
              "9324 City Hotel   0           341       2017              August            \n",
              "9325 City Hotel   0           140       2017              August            \n",
              "9326 City Hotel   0           140       2017              August            \n",
              "9327 City Hotel   0             9       2017              August            \n",
              "9328 City Hotel   0             0       2017              August            \n",
              "9329 City Hotel   0           167       2017              August            \n",
              "9330 City Hotel   0           243       2017              August            \n",
              "9331 City Hotel   0           160       2017              August            \n",
              "9332 City Hotel   0            45       2017              August            \n",
              "     arrival_date_week_number arrival_date_day_of_month stays_in_weekend_nights\n",
              "1    27                        1                        0                      \n",
              "2    27                        2                        2                      \n",
              "3    27                        2                        0                      \n",
              "4    27                        3                        0                      \n",
              "5    27                        3                        6                      \n",
              "6    27                        3                        2                      \n",
              "7    27                        4                        2                      \n",
              "8    27                        4                        2                      \n",
              "9    27                        4                        2                      \n",
              "10   27                        4                        2                      \n",
              "11   27                        4                        4                      \n",
              "12   27                        4                        0                      \n",
              "13   28                        5                        2                      \n",
              "14   28                        5                        2                      \n",
              "15   28                        5                        2                      \n",
              "16   28                        5                        4                      \n",
              "17   28                        6                        1                      \n",
              "18   28                        6                        1                      \n",
              "19   28                        6                        1                      \n",
              "20   28                        6                        1                      \n",
              "21   28                        6                        2                      \n",
              "22   28                        7                        0                      \n",
              "23   28                        7                        0                      \n",
              "24   28                        8                        2                      \n",
              "25   28                        9                        0                      \n",
              "26   28                        9                        0                      \n",
              "27   28                        9                        0                      \n",
              "28   28                        9                        0                      \n",
              "29   28                        9                        0                      \n",
              "30   28                       10                        0                      \n",
              "⋮    ⋮                        ⋮                         ⋮                      \n",
              "9303 35                       27                        1                      \n",
              "9304 34                       26                        2                      \n",
              "9305 34                       26                        2                      \n",
              "9306 35                       27                        2                      \n",
              "9307 35                       29                        0                      \n",
              "9308 34                       26                        2                      \n",
              "9309 34                       24                        2                      \n",
              "9310 34                       26                        2                      \n",
              "9311 35                       28                        1                      \n",
              "9312 34                       26                        2                      \n",
              "9313 35                       28                        1                      \n",
              "9314 34                       23                        2                      \n",
              "9315 34                       26                        2                      \n",
              "9316 35                       29                        0                      \n",
              "9317 35                       29                        0                      \n",
              "9318 35                       29                        0                      \n",
              "9319 35                       27                        2                      \n",
              "9320 35                       30                        0                      \n",
              "9321 34                       22                        2                      \n",
              "9322 35                       27                        2                      \n",
              "9323 35                       28                        1                      \n",
              "9324 35                       27                        2                      \n",
              "9325 35                       27                        2                      \n",
              "9326 35                       27                        2                      \n",
              "9327 35                       28                        1                      \n",
              "9328 35                       29                        0                      \n",
              "9329 35                       27                        2                      \n",
              "9330 35                       30                        0                      \n",
              "9331 35                       29                        0                      \n",
              "9332 35                       28                        1                      \n",
              "     stays_in_week_nights adults ⋯ deposit_type agent company\n",
              "1     4                   2      ⋯ No Deposit   241   NULL   \n",
              "2     5                   2      ⋯ No Deposit   240   NULL   \n",
              "3     1                   2      ⋯ No Deposit   NULL  NULL   \n",
              "4     2                   2      ⋯ No Deposit   240   NULL   \n",
              "5    15                   2      ⋯ No Deposit   242   NULL   \n",
              "6     5                   2      ⋯ No Deposit   240   NULL   \n",
              "7     4                   1      ⋯ No Deposit   241   NULL   \n",
              "8     5                   2      ⋯ No Deposit   240   NULL   \n",
              "9     5                   2      ⋯ No Deposit   240   NULL   \n",
              "10    5                   2      ⋯ No Deposit   240   NULL   \n",
              "11    6                   2      ⋯ No Deposit   250   NULL   \n",
              "12    1                   2      ⋯ No Deposit   240   NULL   \n",
              "13    3                   2      ⋯ No Deposit   241   NULL   \n",
              "14    4                   2      ⋯ No Deposit   240   NULL   \n",
              "15    5                   2      ⋯ No Deposit   250   NULL   \n",
              "16    5                   2      ⋯ No Deposit   240   NULL   \n",
              "17    4                   2      ⋯ No Deposit   240   NULL   \n",
              "18    3                   2      ⋯ No Deposit   250   NULL   \n",
              "19    3                   2      ⋯ No Deposit   240   NULL   \n",
              "20    0                   2      ⋯ No Deposit   NULL  NULL   \n",
              "21    5                   2      ⋯ No Deposit   240   NULL   \n",
              "22    3                   2      ⋯ No Deposit   250   NULL   \n",
              "23    4                   3      ⋯ No Deposit   240   NULL   \n",
              "24    5                   2      ⋯ No Deposit   40    NULL   \n",
              "25    1                   2      ⋯ No Deposit   242   NULL   \n",
              "26    2                   2      ⋯ No Deposit   NULL  NULL   \n",
              "27    3                   2      ⋯ No Deposit   242   NULL   \n",
              "28    3                   2      ⋯ No Deposit   240   NULL   \n",
              "29    3                   2      ⋯ No Deposit   240   NULL   \n",
              "30    2                   2      ⋯ No Deposit   240   NULL   \n",
              "⋮    ⋮                    ⋮      ⋱ ⋮            ⋮     ⋮      \n",
              "9303 0                    2      ⋯ No Deposit   85    NULL   \n",
              "9304 1                    2      ⋯ No Deposit   14    NULL   \n",
              "9305 1                    2      ⋯ No Deposit   7     NULL   \n",
              "9306 0                    2      ⋯ No Deposit   9     NULL   \n",
              "9307 1                    2      ⋯ No Deposit   229   NULL   \n",
              "9308 1                    2      ⋯ No Deposit   9     NULL   \n",
              "9309 3                    2      ⋯ No Deposit   9     NULL   \n",
              "9310 1                    2      ⋯ No Deposit   9     NULL   \n",
              "9311 0                    2      ⋯ No Deposit   14    NULL   \n",
              "9312 2                    1      ⋯ No Deposit   9     NULL   \n",
              "9313 1                    2      ⋯ No Deposit   9     NULL   \n",
              "9314 5                    2      ⋯ No Deposit   14    NULL   \n",
              "9315 2                    2      ⋯ No Deposit   11    NULL   \n",
              "9316 1                    2      ⋯ No Deposit   9     NULL   \n",
              "9317 1                    2      ⋯ No Deposit   9     NULL   \n",
              "9318 1                    2      ⋯ No Deposit   NULL  NULL   \n",
              "9319 1                    2      ⋯ No Deposit   9     NULL   \n",
              "9320 3                    2      ⋯ No Deposit   9     NULL   \n",
              "9321 7                    2      ⋯ No Deposit   14    NULL   \n",
              "9322 2                    1      ⋯ No Deposit   9     NULL   \n",
              "9323 3                    2      ⋯ No Deposit   7     NULL   \n",
              "9324 3                    2      ⋯ No Deposit   22    NULL   \n",
              "9325 3                    2      ⋯ No Deposit   9     NULL   \n",
              "9326 3                    2      ⋯ No Deposit   9     NULL   \n",
              "9327 3                    2      ⋯ No Deposit   14    NULL   \n",
              "9328 3                    2      ⋯ No Deposit   9     NULL   \n",
              "9329 4                    2      ⋯ No Deposit   9     NULL   \n",
              "9330 3                    2      ⋯ No Deposit   9     NULL   \n",
              "9331 5                    2      ⋯ No Deposit   9     NULL   \n",
              "9332 5                    2      ⋯ No Deposit   7     NULL   \n",
              "     days_in_waiting_list customer_type adr    required_car_parking_spaces\n",
              "1    0                    Transient     154.77 0                          \n",
              "2    0                    Transient     153.00 0                          \n",
              "3    0                    Transient     107.00 1                          \n",
              "4    0                    Transient     153.00 1                          \n",
              "5    0                    Transient     108.73 0                          \n",
              "6    0                    Transient      99.30 1                          \n",
              "7    0                    Transient      96.49 0                          \n",
              "8    0                    Transient     163.00 0                          \n",
              "9    0                    Transient      73.80 0                          \n",
              "10   0                    Transient     139.00 0                          \n",
              "11   0                    Transient     149.00 0                          \n",
              "12   0                    Transient     163.00 1                          \n",
              "13   0                    Transient      85.59 1                          \n",
              "14   0                    Transient     163.00 0                          \n",
              "15   0                    Transient     164.20 1                          \n",
              "16   0                    Transient     175.00 1                          \n",
              "17   0                    Transient     167.00 0                          \n",
              "18   0                    Transient     210.00 1                          \n",
              "19   0                    Transient      97.00 0                          \n",
              "20   0                    Transient     131.00 0                          \n",
              "21   0                    Transient     185.00 0                          \n",
              "22   0                    Transient     185.50 0                          \n",
              "23   0                    Transient     193.00 0                          \n",
              "24   0                    Contract      112.00 0                          \n",
              "25   0                    Transient     123.00 0                          \n",
              "26   0                    Transient     146.00 1                          \n",
              "27   0                    Transient     123.00 0                          \n",
              "28   0                    Transient     153.00 0                          \n",
              "29   0                    Transient      82.00 0                          \n",
              "30   0                    Transient     185.00 1                          \n",
              "⋮    ⋮                    ⋮             ⋮      ⋮                          \n",
              "9303 0                    Transient      90.60 0                          \n",
              "9304 0                    Transient     176.64 0                          \n",
              "9305 0                    Transient     253.51 0                          \n",
              "9306 0                    Transient     179.10 0                          \n",
              "9307 0                    Group         270.00 0                          \n",
              "9308 0                    Transient     198.00 0                          \n",
              "9309 0                    Transient     165.60 0                          \n",
              "9310 0                    Transient     126.00 0                          \n",
              "9311 0                    Transient     150.00 0                          \n",
              "9312 0                    Transient     117.00 0                          \n",
              "9313 0                    Transient     135.00 0                          \n",
              "9314 0                    Transient     300.00 0                          \n",
              "9315 0                    Transient      93.60 0                          \n",
              "9316 0                    Transient     125.10 0                          \n",
              "9317 0                    Transient     259.00 0                          \n",
              "9318 0                    Transient     270.00 0                          \n",
              "9319 0                    Transient     233.00 0                          \n",
              "9320 0                    Transient      61.80 0                          \n",
              "9321 0                    Transient     180.00 0                          \n",
              "9322 0                    Transient     175.50 0                          \n",
              "9323 0                    Transient     190.00 0                          \n",
              "9324 0                    Transient      96.91 0                          \n",
              "9325 0                    Transient     235.00 0                          \n",
              "9326 0                    Transient     235.00 0                          \n",
              "9327 0                    Transient     210.00 0                          \n",
              "9328 0                    Transient     135.00 0                          \n",
              "9329 0                    Transient     177.75 0                          \n",
              "9330 0                    Transient     189.00 0                          \n",
              "9331 0                    Transient     153.90 0                          \n",
              "9332 0                    Transient     194.13 0                          \n",
              "     total_of_special_requests reservation_status reservation_status_date\n",
              "1    1                         Check-Out          2015-07-05             \n",
              "2    0                         Canceled           2015-06-02             \n",
              "3    2                         Check-Out          2015-07-03             \n",
              "4    0                         Check-Out          2015-07-05             \n",
              "5    2                         Canceled           2015-04-15             \n",
              "6    2                         Check-Out          2015-07-10             \n",
              "7    2                         Check-Out          2015-07-10             \n",
              "8    0                         Canceled           2015-06-09             \n",
              "9    2                         Check-Out          2015-07-11             \n",
              "10   2                         Check-Out          2015-07-11             \n",
              "11   1                         Check-Out          2015-07-14             \n",
              "12   0                         Check-Out          2015-07-05             \n",
              "13   2                         Check-Out          2015-07-10             \n",
              "14   0                         Canceled           2015-06-17             \n",
              "15   1                         Check-Out          2015-07-12             \n",
              "16   1                         Check-Out          2015-07-14             \n",
              "17   0                         Check-Out          2015-07-11             \n",
              "18   0                         Check-Out          2015-07-10             \n",
              "19   2                         Check-Out          2015-07-10             \n",
              "20   0                         Check-Out          2015-07-07             \n",
              "21   0                         Check-Out          2015-07-13             \n",
              "22   1                         Check-Out          2015-07-10             \n",
              "23   1                         Check-Out          2015-07-11             \n",
              "24   1                         Canceled           2015-04-15             \n",
              "25   3                         Check-Out          2015-07-10             \n",
              "26   0                         Check-Out          2015-07-11             \n",
              "27   1                         Canceled           2015-06-16             \n",
              "28   0                         Canceled           2015-06-16             \n",
              "29   2                         Check-Out          2015-07-12             \n",
              "30   1                         Check-Out          2015-07-12             \n",
              "⋮    ⋮                         ⋮                  ⋮                      \n",
              "9303 1                         Check-Out          2017-08-28             \n",
              "9304 1                         Check-Out          2017-08-29             \n",
              "9305 2                         Check-Out          2017-08-29             \n",
              "9306 0                         Check-Out          2017-08-29             \n",
              "9307 1                         Check-Out          2017-08-30             \n",
              "9308 1                         Check-Out          2017-08-29             \n",
              "9309 2                         Check-Out          2017-08-29             \n",
              "9310 2                         Check-Out          2017-08-29             \n",
              "9311 0                         Check-Out          2017-08-29             \n",
              "9312 0                         Check-Out          2017-08-30             \n",
              "9313 3                         Check-Out          2017-08-30             \n",
              "9314 1                         Check-Out          2017-08-30             \n",
              "9315 0                         Check-Out          2017-08-30             \n",
              "9316 2                         Check-Out          2017-08-30             \n",
              "9317 0                         Check-Out          2017-08-30             \n",
              "9318 0                         Check-Out          2017-08-30             \n",
              "9319 0                         Check-Out          2017-08-30             \n",
              "9320 0                         Check-Out          2017-09-02             \n",
              "9321 1                         Check-Out          2017-08-31             \n",
              "9322 1                         Check-Out          2017-08-31             \n",
              "9323 1                         Check-Out          2017-09-01             \n",
              "9324 1                         Check-Out          2017-09-01             \n",
              "9325 0                         Check-Out          2017-09-01             \n",
              "9326 0                         Check-Out          2017-09-01             \n",
              "9327 0                         Check-Out          2017-09-01             \n",
              "9328 2                         Check-Out          2017-09-01             \n",
              "9329 0                         Check-Out          2017-09-02             \n",
              "9330 3                         Check-Out          2017-09-02             \n",
              "9331 0                         Check-Out          2017-09-03             \n",
              "9332 1                         Check-Out          2017-09-03             "
            ]
          },
          "metadata": {}
        }
      ]
    },
    {
      "cell_type": "markdown",
      "source": [
        "##QUESTION 3 \n",
        "\n",
        "We can use the filter function. Specifically, \n",
        "\n",
        "hotels %>% \n",
        "  filter(children >= 1 | babies >= 1)"
      ],
      "metadata": {
        "id": "uFC188oe7sWE"
      }
    },
    {
      "cell_type": "code",
      "source": [
        "##Code for question 4 \n",
        "hotels %>% \n",
        "  filter(children >= 1 | babies >= 1) %>%\n",
        "  count(hotel) \n"
      ],
      "metadata": {
        "colab": {
          "base_uri": "https://localhost:8080/",
          "height": 161
        },
        "id": "6SokfgCs8NK8",
        "outputId": "ef5334ef-ba5a-4d57-9542-78a67ccb0790"
      },
      "execution_count": 7,
      "outputs": [
        {
          "output_type": "display_data",
          "data": {
            "text/html": [
              "<table class=\"dataframe\">\n",
              "<caption>A data.frame: 2 × 2</caption>\n",
              "<thead>\n",
              "\t<tr><th scope=col>hotel</th><th scope=col>n</th></tr>\n",
              "\t<tr><th scope=col>&lt;chr&gt;</th><th scope=col>&lt;int&gt;</th></tr>\n",
              "</thead>\n",
              "<tbody>\n",
              "\t<tr><td>City Hotel  </td><td>5403</td></tr>\n",
              "\t<tr><td>Resort Hotel</td><td>3929</td></tr>\n",
              "</tbody>\n",
              "</table>\n"
            ],
            "text/markdown": "\nA data.frame: 2 × 2\n\n| hotel &lt;chr&gt; | n &lt;int&gt; |\n|---|---|\n| City Hotel   | 5403 |\n| Resort Hotel | 3929 |\n\n",
            "text/latex": "A data.frame: 2 × 2\n\\begin{tabular}{ll}\n hotel & n\\\\\n <chr> & <int>\\\\\n\\hline\n\t City Hotel   & 5403\\\\\n\t Resort Hotel & 3929\\\\\n\\end{tabular}\n",
            "text/plain": [
              "  hotel        n   \n",
              "1 City Hotel   5403\n",
              "2 Resort Hotel 3929"
            ]
          },
          "metadata": {}
        }
      ]
    },
    {
      "cell_type": "markdown",
      "source": [
        "## ANSWER TO QUESTION 4 \n",
        "\n",
        "It is more likely that you will find bookings with children or babies in city hotels than in resort hotels. The number for city hotels with at least one child or one baby is 5403 and the number for resort hotels is 3929 bookings"
      ],
      "metadata": {
        "id": "v_YRXN60_AK-"
      }
    },
    {
      "cell_type": "code",
      "source": [
        "#code for question 5\n",
        "hotels %>%  \n",
        "  filter(children > 1 | babies == 1) %>% \n",
        "  nrow() "
      ],
      "metadata": {
        "colab": {
          "base_uri": "https://localhost:8080/",
          "height": 34
        },
        "id": "BANvGL3UA8Z1",
        "outputId": "35aee09e-fd4c-43f5-8f45-605f93075ff1"
      },
      "execution_count": 8,
      "outputs": [
        {
          "output_type": "display_data",
          "data": {
            "text/html": [
              "4597"
            ],
            "text/markdown": "4597",
            "text/latex": "4597",
            "text/plain": [
              "[1] 4597"
            ]
          },
          "metadata": {}
        }
      ]
    },
    {
      "cell_type": "code",
      "source": [
        "#code for question 6 \n",
        "\n",
        "hotels %>% \n",
        "  filter(children > 1 | babies == 1) %>% \n",
        "  count(hotel)"
      ],
      "metadata": {
        "colab": {
          "base_uri": "https://localhost:8080/",
          "height": 161
        },
        "id": "QUMJ4gJ4Ni6W",
        "outputId": "30f79248-e677-4994-a7f3-a62497cefe61"
      },
      "execution_count": 9,
      "outputs": [
        {
          "output_type": "display_data",
          "data": {
            "text/html": [
              "<table class=\"dataframe\">\n",
              "<caption>A data.frame: 2 × 2</caption>\n",
              "<thead>\n",
              "\t<tr><th scope=col>hotel</th><th scope=col>n</th></tr>\n",
              "\t<tr><th scope=col>&lt;chr&gt;</th><th scope=col>&lt;int&gt;</th></tr>\n",
              "</thead>\n",
              "<tbody>\n",
              "\t<tr><td>City Hotel  </td><td>2424</td></tr>\n",
              "\t<tr><td>Resort Hotel</td><td>2173</td></tr>\n",
              "</tbody>\n",
              "</table>\n"
            ],
            "text/markdown": "\nA data.frame: 2 × 2\n\n| hotel &lt;chr&gt; | n &lt;int&gt; |\n|---|---|\n| City Hotel   | 2424 |\n| Resort Hotel | 2173 |\n\n",
            "text/latex": "A data.frame: 2 × 2\n\\begin{tabular}{ll}\n hotel & n\\\\\n <chr> & <int>\\\\\n\\hline\n\t City Hotel   & 2424\\\\\n\t Resort Hotel & 2173\\\\\n\\end{tabular}\n",
            "text/plain": [
              "  hotel        n   \n",
              "1 City Hotel   2424\n",
              "2 Resort Hotel 2173"
            ]
          },
          "metadata": {}
        }
      ]
    },
    {
      "cell_type": "markdown",
      "source": [
        "##ANSWERS TO QUESTION 5 and 6\n",
        "\n",
        "The command I used to find that there are 4597 bookings with more than one child or one baby is: <brk>\n",
        "\n",
        "hotels %>% \n",
        "  filter(children > 1 | babies == 1) %>%\n",
        "  nrow() <brk>\n",
        "\n",
        "To get the number of bookings for resort hotels and city hotels, we can use the same command for each. That is, we can use <brk>\n",
        "\n",
        "hotels %>% \n",
        "  filter(children > 1 | babies == 1) %>%\n",
        "  count(hotel) <brk>\n",
        "\n",
        "which tells us the number of bookings with more than one child or one baby is 2424 in city hotels and 2173 in resort hotels. "
      ],
      "metadata": {
        "id": "xX9ixKJPB1ss"
      }
    },
    {
      "cell_type": "code",
      "source": [
        "##CODE FOR QUESTION 7 \n",
        "\n",
        "##SEE ABOVE \n",
        "\n",
        "'''\n",
        "\n",
        "df <- hotels %>%\n",
        "  mutate(little_ones = children + babies)    \n",
        "  arrange(desc(country))\n",
        "\n",
        "\n",
        "ggplot(df, \n",
        "  aes(x = little_ones > 1)) +\n",
        "  geom_histogram() + \n",
        "  facet_wrap(~ hotel)\n",
        "\n",
        "\n",
        "'''\n",
        "\n"
      ],
      "metadata": {
        "colab": {
          "base_uri": "https://localhost:8080/",
          "height": 148
        },
        "id": "LsOb1MG4B_UM",
        "outputId": "8896fd16-cdd7-445f-ab77-aee829102a00"
      },
      "execution_count": 10,
      "outputs": [
        {
          "output_type": "error",
          "ename": "ERROR",
          "evalue": "ignored",
          "traceback": [
            "Error in parse(text = x, srcfile = src): <text>:5:3: unexpected string constant\n17: \n18: '\n      ^\nTraceback:\n"
          ]
        }
      ]
    },
    {
      "cell_type": "markdown",
      "source": [
        "##ANSWER TO QUESTION 7 \n",
        "\n",
        "The countries with the highest number of children or babies staying in hotel rooms are in Europe; there are more likely to be children or babies staying at city hotels than at resort hotels as we saw from previous work. "
      ],
      "metadata": {
        "id": "4Iq3JbPLG8Kd"
      }
    },
    {
      "cell_type": "code",
      "source": [
        "##CODE FOR QUESTION 8  \n",
        "\n",
        "hotels %>%   \n",
        "  count(adults) %>%\n",
        "  arrange(desc(n)) \n"
      ],
      "metadata": {
        "id": "hLZGxaxHFpiK",
        "colab": {
          "base_uri": "https://localhost:8080/",
          "height": 554
        },
        "outputId": "63c4f34e-b352-4eb1-ddc7-ac0cc24abcea"
      },
      "execution_count": 12,
      "outputs": [
        {
          "output_type": "display_data",
          "data": {
            "text/html": [
              "<table class=\"dataframe\">\n",
              "<caption>A data.frame: 14 × 2</caption>\n",
              "<thead>\n",
              "\t<tr><th scope=col>adults</th><th scope=col>n</th></tr>\n",
              "\t<tr><th scope=col>&lt;int&gt;</th><th scope=col>&lt;int&gt;</th></tr>\n",
              "</thead>\n",
              "<tbody>\n",
              "\t<tr><td> 2</td><td>89680</td></tr>\n",
              "\t<tr><td> 1</td><td>23027</td></tr>\n",
              "\t<tr><td> 3</td><td> 6202</td></tr>\n",
              "\t<tr><td> 0</td><td>  403</td></tr>\n",
              "\t<tr><td> 4</td><td>   62</td></tr>\n",
              "\t<tr><td>26</td><td>    5</td></tr>\n",
              "\t<tr><td> 5</td><td>    2</td></tr>\n",
              "\t<tr><td>20</td><td>    2</td></tr>\n",
              "\t<tr><td>27</td><td>    2</td></tr>\n",
              "\t<tr><td> 6</td><td>    1</td></tr>\n",
              "\t<tr><td>10</td><td>    1</td></tr>\n",
              "\t<tr><td>40</td><td>    1</td></tr>\n",
              "\t<tr><td>50</td><td>    1</td></tr>\n",
              "\t<tr><td>55</td><td>    1</td></tr>\n",
              "</tbody>\n",
              "</table>\n"
            ],
            "text/markdown": "\nA data.frame: 14 × 2\n\n| adults &lt;int&gt; | n &lt;int&gt; |\n|---|---|\n|  2 | 89680 |\n|  1 | 23027 |\n|  3 |  6202 |\n|  0 |   403 |\n|  4 |    62 |\n| 26 |     5 |\n|  5 |     2 |\n| 20 |     2 |\n| 27 |     2 |\n|  6 |     1 |\n| 10 |     1 |\n| 40 |     1 |\n| 50 |     1 |\n| 55 |     1 |\n\n",
            "text/latex": "A data.frame: 14 × 2\n\\begin{tabular}{ll}\n adults & n\\\\\n <int> & <int>\\\\\n\\hline\n\t  2 & 89680\\\\\n\t  1 & 23027\\\\\n\t  3 &  6202\\\\\n\t  0 &   403\\\\\n\t  4 &    62\\\\\n\t 26 &     5\\\\\n\t  5 &     2\\\\\n\t 20 &     2\\\\\n\t 27 &     2\\\\\n\t  6 &     1\\\\\n\t 10 &     1\\\\\n\t 40 &     1\\\\\n\t 50 &     1\\\\\n\t 55 &     1\\\\\n\\end{tabular}\n",
            "text/plain": [
              "   adults n    \n",
              "1   2     89680\n",
              "2   1     23027\n",
              "3   3      6202\n",
              "4   0       403\n",
              "5   4        62\n",
              "6  26         5\n",
              "7   5         2\n",
              "8  20         2\n",
              "9  27         2\n",
              "10  6         1\n",
              "11 10         1\n",
              "12 40         1\n",
              "13 50         1\n",
              "14 55         1"
            ]
          },
          "metadata": {}
        }
      ]
    },
    {
      "cell_type": "markdown",
      "source": [
        "##ANSWER TO QUESTION 8 \n",
        "\n",
        "The most common number of adults in a booking is two at 89680 bookings. The most surprising result is that there were bookings with over twenty people, which will skew the mean"
      ],
      "metadata": {
        "id": "60njsTRNOKhF"
      }
    },
    {
      "cell_type": "code",
      "source": [
        "#code for question 9 part 1 \n",
        "\n",
        "hotels %>%   \n",
        "  group_by(adults, reservation_status) %>%\n",
        "  filter(is_canceled == 1) %>%\n",
        "  count(adults) %>%\n",
        "  arrange(desc(n)) %>% \n",
        "  arrange(desc(adults))\n",
        "\n"
      ],
      "metadata": {
        "colab": {
          "base_uri": "https://localhost:8080/",
          "height": 663
        },
        "id": "_sghAx4jHobm",
        "outputId": "67e88325-a4a8-40c6-cccb-b336d6d1454d"
      },
      "execution_count": 13,
      "outputs": [
        {
          "output_type": "display_data",
          "data": {
            "text/html": [
              "<table class=\"dataframe\">\n",
              "<caption>A grouped_df: 18 × 3</caption>\n",
              "<thead>\n",
              "\t<tr><th scope=col>adults</th><th scope=col>reservation_status</th><th scope=col>n</th></tr>\n",
              "\t<tr><th scope=col>&lt;int&gt;</th><th scope=col>&lt;chr&gt;</th><th scope=col>&lt;int&gt;</th></tr>\n",
              "</thead>\n",
              "<tbody>\n",
              "\t<tr><td>55</td><td>Canceled</td><td>    1</td></tr>\n",
              "\t<tr><td>50</td><td>Canceled</td><td>    1</td></tr>\n",
              "\t<tr><td>40</td><td>Canceled</td><td>    1</td></tr>\n",
              "\t<tr><td>27</td><td>Canceled</td><td>    2</td></tr>\n",
              "\t<tr><td>26</td><td>Canceled</td><td>    5</td></tr>\n",
              "\t<tr><td>20</td><td>Canceled</td><td>    2</td></tr>\n",
              "\t<tr><td>10</td><td>Canceled</td><td>    1</td></tr>\n",
              "\t<tr><td> 6</td><td>Canceled</td><td>    1</td></tr>\n",
              "\t<tr><td> 5</td><td>Canceled</td><td>    2</td></tr>\n",
              "\t<tr><td> 4</td><td>Canceled</td><td>   16</td></tr>\n",
              "\t<tr><td> 3</td><td>Canceled</td><td> 2104</td></tr>\n",
              "\t<tr><td> 3</td><td>No-Show </td><td>   47</td></tr>\n",
              "\t<tr><td> 2</td><td>Canceled</td><td>34548</td></tr>\n",
              "\t<tr><td> 2</td><td>No-Show </td><td>  710</td></tr>\n",
              "\t<tr><td> 1</td><td>Canceled</td><td> 6228</td></tr>\n",
              "\t<tr><td> 1</td><td>No-Show </td><td>  446</td></tr>\n",
              "\t<tr><td> 0</td><td>Canceled</td><td>  105</td></tr>\n",
              "\t<tr><td> 0</td><td>No-Show </td><td>    4</td></tr>\n",
              "</tbody>\n",
              "</table>\n"
            ],
            "text/markdown": "\nA grouped_df: 18 × 3\n\n| adults &lt;int&gt; | reservation_status &lt;chr&gt; | n &lt;int&gt; |\n|---|---|---|\n| 55 | Canceled |     1 |\n| 50 | Canceled |     1 |\n| 40 | Canceled |     1 |\n| 27 | Canceled |     2 |\n| 26 | Canceled |     5 |\n| 20 | Canceled |     2 |\n| 10 | Canceled |     1 |\n|  6 | Canceled |     1 |\n|  5 | Canceled |     2 |\n|  4 | Canceled |    16 |\n|  3 | Canceled |  2104 |\n|  3 | No-Show  |    47 |\n|  2 | Canceled | 34548 |\n|  2 | No-Show  |   710 |\n|  1 | Canceled |  6228 |\n|  1 | No-Show  |   446 |\n|  0 | Canceled |   105 |\n|  0 | No-Show  |     4 |\n\n",
            "text/latex": "A grouped\\_df: 18 × 3\n\\begin{tabular}{lll}\n adults & reservation\\_status & n\\\\\n <int> & <chr> & <int>\\\\\n\\hline\n\t 55 & Canceled &     1\\\\\n\t 50 & Canceled &     1\\\\\n\t 40 & Canceled &     1\\\\\n\t 27 & Canceled &     2\\\\\n\t 26 & Canceled &     5\\\\\n\t 20 & Canceled &     2\\\\\n\t 10 & Canceled &     1\\\\\n\t  6 & Canceled &     1\\\\\n\t  5 & Canceled &     2\\\\\n\t  4 & Canceled &    16\\\\\n\t  3 & Canceled &  2104\\\\\n\t  3 & No-Show  &    47\\\\\n\t  2 & Canceled & 34548\\\\\n\t  2 & No-Show  &   710\\\\\n\t  1 & Canceled &  6228\\\\\n\t  1 & No-Show  &   446\\\\\n\t  0 & Canceled &   105\\\\\n\t  0 & No-Show  &     4\\\\\n\\end{tabular}\n",
            "text/plain": [
              "   adults reservation_status n    \n",
              "1  55     Canceled               1\n",
              "2  50     Canceled               1\n",
              "3  40     Canceled               1\n",
              "4  27     Canceled               2\n",
              "5  26     Canceled               5\n",
              "6  20     Canceled               2\n",
              "7  10     Canceled               1\n",
              "8   6     Canceled               1\n",
              "9   5     Canceled               2\n",
              "10  4     Canceled              16\n",
              "11  3     Canceled            2104\n",
              "12  3     No-Show               47\n",
              "13  2     Canceled           34548\n",
              "14  2     No-Show              710\n",
              "15  1     Canceled            6228\n",
              "16  1     No-Show              446\n",
              "17  0     Canceled             105\n",
              "18  0     No-Show                4"
            ]
          },
          "metadata": {}
        }
      ]
    },
    {
      "cell_type": "code",
      "source": [
        "#code for question 9 part 2"
      ],
      "metadata": {
        "id": "FkF4GzLCeeHQ"
      },
      "execution_count": null,
      "outputs": []
    },
    {
      "cell_type": "code",
      "source": [
        "hotels %>%   \n",
        "  group_by(adults, reservation_status) %>%\n",
        "  filter(is_canceled == 0) %>%\n",
        "  count(adults) %>%\n",
        "  arrange(desc(n)) %>%  \n",
        "  arrange(desc(adults)) \n",
        "\n"
      ],
      "metadata": {
        "colab": {
          "base_uri": "https://localhost:8080/",
          "height": 255
        },
        "id": "DHvDth4HRu3C",
        "outputId": "bc003658-6cd4-4166-91e3-c2677819b972"
      },
      "execution_count": 15,
      "outputs": [
        {
          "output_type": "display_data",
          "data": {
            "text/html": [
              "<table class=\"dataframe\">\n",
              "<caption>A grouped_df: 5 × 3</caption>\n",
              "<thead>\n",
              "\t<tr><th scope=col>adults</th><th scope=col>reservation_status</th><th scope=col>n</th></tr>\n",
              "\t<tr><th scope=col>&lt;int&gt;</th><th scope=col>&lt;chr&gt;</th><th scope=col>&lt;int&gt;</th></tr>\n",
              "</thead>\n",
              "<tbody>\n",
              "\t<tr><td>4</td><td>Check-Out</td><td>   46</td></tr>\n",
              "\t<tr><td>3</td><td>Check-Out</td><td> 4051</td></tr>\n",
              "\t<tr><td>2</td><td>Check-Out</td><td>54422</td></tr>\n",
              "\t<tr><td>1</td><td>Check-Out</td><td>16353</td></tr>\n",
              "\t<tr><td>0</td><td>Check-Out</td><td>  294</td></tr>\n",
              "</tbody>\n",
              "</table>\n"
            ],
            "text/markdown": "\nA grouped_df: 5 × 3\n\n| adults &lt;int&gt; | reservation_status &lt;chr&gt; | n &lt;int&gt; |\n|---|---|---|\n| 4 | Check-Out |    46 |\n| 3 | Check-Out |  4051 |\n| 2 | Check-Out | 54422 |\n| 1 | Check-Out | 16353 |\n| 0 | Check-Out |   294 |\n\n",
            "text/latex": "A grouped\\_df: 5 × 3\n\\begin{tabular}{lll}\n adults & reservation\\_status & n\\\\\n <int> & <chr> & <int>\\\\\n\\hline\n\t 4 & Check-Out &    46\\\\\n\t 3 & Check-Out &  4051\\\\\n\t 2 & Check-Out & 54422\\\\\n\t 1 & Check-Out & 16353\\\\\n\t 0 & Check-Out &   294\\\\\n\\end{tabular}\n",
            "text/plain": [
              "  adults reservation_status n    \n",
              "1 4      Check-Out             46\n",
              "2 3      Check-Out           4051\n",
              "3 2      Check-Out          54422\n",
              "4 1      Check-Out          16353\n",
              "5 0      Check-Out            294"
            ]
          },
          "metadata": {}
        }
      ]
    },
    {
      "cell_type": "markdown",
      "source": [
        "##QUESTION 9 Answer\n",
        "\n",
        "Adults are much more likely to complete their stay if they book as a small group of adults rather than as a large group (e.g. 20 adults or more) \n",
        "\n",
        "\n",
        "\n",
        "\n",
        "\n",
        "\n",
        "\n"
      ],
      "metadata": {
        "id": "wfu5EEtEfXnm"
      }
    },
    {
      "cell_type": "code",
      "source": [
        "##Code for question 10 \n",
        "\n",
        "hotels %>%   \n",
        "  group_by(hotel) %>%\n",
        "  summarise(\n",
        "    min_adr = min(adr),\n",
        "    mean_adr = mean(adr),\n",
        "    median_adr = median(adr),\n",
        "    max_adr = max(adr)\n",
        "    )\n",
        "  "
      ],
      "metadata": {
        "colab": {
          "base_uri": "https://localhost:8080/",
          "height": 161
        },
        "id": "IZQZUyMThrjh",
        "outputId": "ba10dd24-1ff9-4f48-bd06-468575358b1c"
      },
      "execution_count": 16,
      "outputs": [
        {
          "output_type": "display_data",
          "data": {
            "text/html": [
              "<table class=\"dataframe\">\n",
              "<caption>A tibble: 2 × 5</caption>\n",
              "<thead>\n",
              "\t<tr><th scope=col>hotel</th><th scope=col>min_adr</th><th scope=col>mean_adr</th><th scope=col>median_adr</th><th scope=col>max_adr</th></tr>\n",
              "\t<tr><th scope=col>&lt;chr&gt;</th><th scope=col>&lt;dbl&gt;</th><th scope=col>&lt;dbl&gt;</th><th scope=col>&lt;dbl&gt;</th><th scope=col>&lt;dbl&gt;</th></tr>\n",
              "</thead>\n",
              "<tbody>\n",
              "\t<tr><td>City Hotel  </td><td> 0.00</td><td>105.30447</td><td>99.9</td><td>5400</td></tr>\n",
              "\t<tr><td>Resort Hotel</td><td>-6.38</td><td> 94.95293</td><td>75.0</td><td> 508</td></tr>\n",
              "</tbody>\n",
              "</table>\n"
            ],
            "text/markdown": "\nA tibble: 2 × 5\n\n| hotel &lt;chr&gt; | min_adr &lt;dbl&gt; | mean_adr &lt;dbl&gt; | median_adr &lt;dbl&gt; | max_adr &lt;dbl&gt; |\n|---|---|---|---|---|\n| City Hotel   |  0.00 | 105.30447 | 99.9 | 5400 |\n| Resort Hotel | -6.38 |  94.95293 | 75.0 |  508 |\n\n",
            "text/latex": "A tibble: 2 × 5\n\\begin{tabular}{lllll}\n hotel & min\\_adr & mean\\_adr & median\\_adr & max\\_adr\\\\\n <chr> & <dbl> & <dbl> & <dbl> & <dbl>\\\\\n\\hline\n\t City Hotel   &  0.00 & 105.30447 & 99.9 & 5400\\\\\n\t Resort Hotel & -6.38 &  94.95293 & 75.0 &  508\\\\\n\\end{tabular}\n",
            "text/plain": [
              "  hotel        min_adr mean_adr  median_adr max_adr\n",
              "1 City Hotel    0.00   105.30447 99.9       5400   \n",
              "2 Resort Hotel -6.38    94.95293 75.0        508   "
            ]
          },
          "metadata": {}
        }
      ]
    },
    {
      "cell_type": "markdown",
      "source": [
        "##ANSWER TO QUESTION 10\n",
        " The hotel type with the higher average adr is the city hotel 105.30 vs 94.95 dollars for resort hotels)"
      ],
      "metadata": {
        "id": "-kU1CVxlv36v"
      }
    },
    {
      "cell_type": "markdown",
      "source": [
        "##ANSWER TO QUESTION 11 \n",
        "\n",
        "The hotel type with the very low minimum is the resort hotel with -6.38 dollars and the hotel with a very high maximum is the city hotel with an adr of $5400. The arrival day of month for the former stay was 5, the week of the year was 10, and the year was 2017. For the max amount, the arrival date was day 25 of week 13 of 2016. In both cases only 2 adults were present. "
      ],
      "metadata": {
        "id": "MxWqdWvdw0D-"
      }
    },
    {
      "cell_type": "code",
      "source": [
        "min_adr <- 0.00 \n",
        "max_adr <- 5400 \n",
        "\n",
        "hotels %>%    \n",
        "  select(children, adults, babies, hotel, adr, arrival_date_day_of_month, arrival_date_week_number, arrival_date_year) %>%\n",
        "  filter(adr == 5400) \n",
        "\n",
        "hotels %>% \n",
        "  select(children, adults, babies, hotel, adr, arrival_date_day_of_month, arrival_date_week_number, arrival_date_year) %>%\n",
        "  filter(adr == -6.38) \n",
        "\n",
        "\n",
        "\n"
      ],
      "metadata": {
        "colab": {
          "base_uri": "https://localhost:8080/",
          "height": 297
        },
        "id": "s97VhaP4xA7T",
        "outputId": "9c33fd70-31d3-447f-ec04-3f007ce26478"
      },
      "execution_count": 17,
      "outputs": [
        {
          "output_type": "display_data",
          "data": {
            "text/html": [
              "<table class=\"dataframe\">\n",
              "<caption>A data.frame: 1 × 8</caption>\n",
              "<thead>\n",
              "\t<tr><th scope=col>children</th><th scope=col>adults</th><th scope=col>babies</th><th scope=col>hotel</th><th scope=col>adr</th><th scope=col>arrival_date_day_of_month</th><th scope=col>arrival_date_week_number</th><th scope=col>arrival_date_year</th></tr>\n",
              "\t<tr><th scope=col>&lt;int&gt;</th><th scope=col>&lt;int&gt;</th><th scope=col>&lt;int&gt;</th><th scope=col>&lt;chr&gt;</th><th scope=col>&lt;dbl&gt;</th><th scope=col>&lt;int&gt;</th><th scope=col>&lt;int&gt;</th><th scope=col>&lt;int&gt;</th></tr>\n",
              "</thead>\n",
              "<tbody>\n",
              "\t<tr><td>0</td><td>2</td><td>0</td><td>City Hotel</td><td>5400</td><td>25</td><td>13</td><td>2016</td></tr>\n",
              "</tbody>\n",
              "</table>\n"
            ],
            "text/markdown": "\nA data.frame: 1 × 8\n\n| children &lt;int&gt; | adults &lt;int&gt; | babies &lt;int&gt; | hotel &lt;chr&gt; | adr &lt;dbl&gt; | arrival_date_day_of_month &lt;int&gt; | arrival_date_week_number &lt;int&gt; | arrival_date_year &lt;int&gt; |\n|---|---|---|---|---|---|---|---|\n| 0 | 2 | 0 | City Hotel | 5400 | 25 | 13 | 2016 |\n\n",
            "text/latex": "A data.frame: 1 × 8\n\\begin{tabular}{llllllll}\n children & adults & babies & hotel & adr & arrival\\_date\\_day\\_of\\_month & arrival\\_date\\_week\\_number & arrival\\_date\\_year\\\\\n <int> & <int> & <int> & <chr> & <dbl> & <int> & <int> & <int>\\\\\n\\hline\n\t 0 & 2 & 0 & City Hotel & 5400 & 25 & 13 & 2016\\\\\n\\end{tabular}\n",
            "text/plain": [
              "  children adults babies hotel      adr  arrival_date_day_of_month\n",
              "1 0        2      0      City Hotel 5400 25                       \n",
              "  arrival_date_week_number arrival_date_year\n",
              "1 13                       2016             "
            ]
          },
          "metadata": {}
        },
        {
          "output_type": "display_data",
          "data": {
            "text/html": [
              "<table class=\"dataframe\">\n",
              "<caption>A data.frame: 1 × 8</caption>\n",
              "<thead>\n",
              "\t<tr><th scope=col>children</th><th scope=col>adults</th><th scope=col>babies</th><th scope=col>hotel</th><th scope=col>adr</th><th scope=col>arrival_date_day_of_month</th><th scope=col>arrival_date_week_number</th><th scope=col>arrival_date_year</th></tr>\n",
              "\t<tr><th scope=col>&lt;int&gt;</th><th scope=col>&lt;int&gt;</th><th scope=col>&lt;int&gt;</th><th scope=col>&lt;chr&gt;</th><th scope=col>&lt;dbl&gt;</th><th scope=col>&lt;int&gt;</th><th scope=col>&lt;int&gt;</th><th scope=col>&lt;int&gt;</th></tr>\n",
              "</thead>\n",
              "<tbody>\n",
              "\t<tr><td>0</td><td>2</td><td>0</td><td>Resort Hotel</td><td>-6.38</td><td>5</td><td>10</td><td>2017</td></tr>\n",
              "</tbody>\n",
              "</table>\n"
            ],
            "text/markdown": "\nA data.frame: 1 × 8\n\n| children &lt;int&gt; | adults &lt;int&gt; | babies &lt;int&gt; | hotel &lt;chr&gt; | adr &lt;dbl&gt; | arrival_date_day_of_month &lt;int&gt; | arrival_date_week_number &lt;int&gt; | arrival_date_year &lt;int&gt; |\n|---|---|---|---|---|---|---|---|\n| 0 | 2 | 0 | Resort Hotel | -6.38 | 5 | 10 | 2017 |\n\n",
            "text/latex": "A data.frame: 1 × 8\n\\begin{tabular}{llllllll}\n children & adults & babies & hotel & adr & arrival\\_date\\_day\\_of\\_month & arrival\\_date\\_week\\_number & arrival\\_date\\_year\\\\\n <int> & <int> & <int> & <chr> & <dbl> & <int> & <int> & <int>\\\\\n\\hline\n\t 0 & 2 & 0 & Resort Hotel & -6.38 & 5 & 10 & 2017\\\\\n\\end{tabular}\n",
            "text/plain": [
              "  children adults babies hotel        adr   arrival_date_day_of_month\n",
              "1 0        2      0      Resort Hotel -6.38 5                        \n",
              "  arrival_date_week_number arrival_date_year\n",
              "1 10                       2017             "
            ]
          },
          "metadata": {}
        }
      ]
    },
    {
      "cell_type": "code",
      "source": [],
      "metadata": {
        "id": "nj0oSZACxWWu"
      },
      "execution_count": null,
      "outputs": []
    }
  ]
}