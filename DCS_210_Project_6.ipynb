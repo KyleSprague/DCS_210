{
  "nbformat": 4,
  "nbformat_minor": 0,
  "metadata": {
    "colab": {
      "provenance": [],
      "authorship_tag": "ABX9TyNLgoCVfDtN2gdSXwvgTsq1",
      "include_colab_link": true
    },
    "kernelspec": {
      "name": "ir",
      "display_name": "R"
    },
    "language_info": {
      "name": "R"
    }
  },
  "cells": [
    {
      "cell_type": "markdown",
      "metadata": {
        "id": "view-in-github",
        "colab_type": "text"
      },
      "source": [
        "<a href=\"https://colab.research.google.com/github/KyleSprague/DCS_210/blob/main/DCS_210_Project_6.ipynb\" target=\"_parent\"><img src=\"https://colab.research.google.com/assets/colab-badge.svg\" alt=\"Open In Colab\"/></a>"
      ]
    },
    {
      "cell_type": "code",
      "execution_count": 2,
      "metadata": {
        "id": "Bc3qcNF7y5zP",
        "colab": {
          "base_uri": "https://localhost:8080/"
        },
        "outputId": "7e329628-02f8-4cfd-b5e8-5ab1a29c3d0f"
      },
      "outputs": [
        {
          "output_type": "stream",
          "name": "stderr",
          "text": [
            "Installing package into ‘/usr/local/lib/R/site-library’\n",
            "(as ‘lib’ is unspecified)\n",
            "\n",
            "Installing package into ‘/usr/local/lib/R/site-library’\n",
            "(as ‘lib’ is unspecified)\n",
            "\n",
            "also installing the dependencies ‘future.apply’, ‘numDeriv’, ‘progressr’, ‘SQUAREM’, ‘Rcpp’, ‘lava’, ‘listenv’, ‘parallelly’, ‘prodlim’, ‘future’, ‘warp’, ‘iterators’, ‘lhs’, ‘DiceDesign’, ‘patchwork’, ‘globals’, ‘clock’, ‘gower’, ‘ipred’, ‘timeDate’, ‘furrr’, ‘slider’, ‘foreach’, ‘GPfit’, ‘modelenv’, ‘conflicted’, ‘dials’, ‘hardhat’, ‘infer’, ‘modeldata’, ‘parsnip’, ‘recipes’, ‘rsample’, ‘tune’, ‘workflows’, ‘workflowsets’, ‘yardstick’\n",
            "\n",
            "\n",
            "Installing package into ‘/usr/local/lib/R/site-library’\n",
            "(as ‘lib’ is unspecified)\n",
            "\n",
            "also installing the dependencies ‘airports’, ‘cherryblossom’, ‘usdata’\n",
            "\n",
            "\n",
            "Warning message in system(\"timedatectl\", intern = TRUE):\n",
            "“running command 'timedatectl' had status 1”\n",
            "── \u001b[1mAttaching packages\u001b[22m ─────────────────────────────────────── tidyverse 1.3.2 ──\n",
            "\u001b[32m✔\u001b[39m \u001b[34mggplot2\u001b[39m 3.4.0      \u001b[32m✔\u001b[39m \u001b[34mpurrr  \u001b[39m 0.3.5 \n",
            "\u001b[32m✔\u001b[39m \u001b[34mtibble \u001b[39m 3.1.8      \u001b[32m✔\u001b[39m \u001b[34mdplyr  \u001b[39m 1.0.10\n",
            "\u001b[32m✔\u001b[39m \u001b[34mtidyr  \u001b[39m 1.2.1      \u001b[32m✔\u001b[39m \u001b[34mstringr\u001b[39m 1.4.1 \n",
            "\u001b[32m✔\u001b[39m \u001b[34mreadr  \u001b[39m 2.1.3      \u001b[32m✔\u001b[39m \u001b[34mforcats\u001b[39m 0.5.2 \n",
            "── \u001b[1mConflicts\u001b[22m ────────────────────────────────────────── tidyverse_conflicts() ──\n",
            "\u001b[31m✖\u001b[39m \u001b[34mdplyr\u001b[39m::\u001b[32mfilter()\u001b[39m masks \u001b[34mstats\u001b[39m::filter()\n",
            "\u001b[31m✖\u001b[39m \u001b[34mdplyr\u001b[39m::\u001b[32mlag()\u001b[39m    masks \u001b[34mstats\u001b[39m::lag()\n",
            "── \u001b[1mAttaching packages\u001b[22m ────────────────────────────────────── tidymodels 1.0.0 ──\n",
            "\n",
            "\u001b[32m✔\u001b[39m \u001b[34mbroom       \u001b[39m 1.0.1     \u001b[32m✔\u001b[39m \u001b[34mrsample     \u001b[39m 1.1.1\n",
            "\u001b[32m✔\u001b[39m \u001b[34mdials       \u001b[39m 1.1.0     \u001b[32m✔\u001b[39m \u001b[34mtune        \u001b[39m 1.0.1\n",
            "\u001b[32m✔\u001b[39m \u001b[34minfer       \u001b[39m 1.0.4     \u001b[32m✔\u001b[39m \u001b[34mworkflows   \u001b[39m 1.1.2\n",
            "\u001b[32m✔\u001b[39m \u001b[34mmodeldata   \u001b[39m 1.0.1     \u001b[32m✔\u001b[39m \u001b[34mworkflowsets\u001b[39m 1.0.0\n",
            "\u001b[32m✔\u001b[39m \u001b[34mparsnip     \u001b[39m 1.0.3     \u001b[32m✔\u001b[39m \u001b[34myardstick   \u001b[39m 1.1.0\n",
            "\u001b[32m✔\u001b[39m \u001b[34mrecipes     \u001b[39m 1.0.3     \n",
            "\n",
            "── \u001b[1mConflicts\u001b[22m ───────────────────────────────────────── tidymodels_conflicts() ──\n",
            "\u001b[31m✖\u001b[39m \u001b[34mscales\u001b[39m::\u001b[32mdiscard()\u001b[39m masks \u001b[34mpurrr\u001b[39m::discard()\n",
            "\u001b[31m✖\u001b[39m \u001b[34mdplyr\u001b[39m::\u001b[32mfilter()\u001b[39m   masks \u001b[34mstats\u001b[39m::filter()\n",
            "\u001b[31m✖\u001b[39m \u001b[34mrecipes\u001b[39m::\u001b[32mfixed()\u001b[39m  masks \u001b[34mstringr\u001b[39m::fixed()\n",
            "\u001b[31m✖\u001b[39m \u001b[34mdplyr\u001b[39m::\u001b[32mlag()\u001b[39m      masks \u001b[34mstats\u001b[39m::lag()\n",
            "\u001b[31m✖\u001b[39m \u001b[34myardstick\u001b[39m::\u001b[32mspec()\u001b[39m masks \u001b[34mreadr\u001b[39m::spec()\n",
            "\u001b[31m✖\u001b[39m \u001b[34mrecipes\u001b[39m::\u001b[32mstep()\u001b[39m   masks \u001b[34mstats\u001b[39m::step()\n",
            "\u001b[34m•\u001b[39m Use \u001b[32mtidymodels_prefer()\u001b[39m to resolve common conflicts.\n",
            "\n",
            "Loading required package: airports\n",
            "\n",
            "Loading required package: cherryblossom\n",
            "\n",
            "Loading required package: usdata\n",
            "\n",
            "\n",
            "Attaching package: ‘openintro’\n",
            "\n",
            "\n",
            "The following object is masked from ‘package:modeldata’:\n",
            "\n",
            "    ames\n",
            "\n",
            "\n"
          ]
        }
      ],
      "source": [
        "install.packages(\"tidyverse\")\n",
        "install.packages(\"tidymodels\") \n",
        "install.packages(\"openintro\") \n",
        "library(\"tidyverse\") \n",
        "library(\"tidymodels\") \n",
        "library(\"openintro\")"
      ]
    },
    {
      "cell_type": "code",
      "source": [
        "#code for question 1\n",
        "ncbirths  \n",
        "?ncbirths\n",
        "nrow(ncbirths) \n"
      ],
      "metadata": {
        "colab": {
          "base_uri": "https://localhost:8080/",
          "height": 1000
        },
        "id": "HiBz47LF0Uv-",
        "outputId": "a9c3adde-9433-49dd-f904-36fa0af72123"
      },
      "execution_count": 3,
      "outputs": [
        {
          "output_type": "display_data",
          "data": {
            "text/html": [
              "<table class=\"dataframe\">\n",
              "<caption>A tibble: 1000 × 13</caption>\n",
              "<thead>\n",
              "\t<tr><th scope=col>fage</th><th scope=col>mage</th><th scope=col>mature</th><th scope=col>weeks</th><th scope=col>premie</th><th scope=col>visits</th><th scope=col>marital</th><th scope=col>gained</th><th scope=col>weight</th><th scope=col>lowbirthweight</th><th scope=col>gender</th><th scope=col>habit</th><th scope=col>whitemom</th></tr>\n",
              "\t<tr><th scope=col>&lt;int&gt;</th><th scope=col>&lt;int&gt;</th><th scope=col>&lt;fct&gt;</th><th scope=col>&lt;int&gt;</th><th scope=col>&lt;fct&gt;</th><th scope=col>&lt;int&gt;</th><th scope=col>&lt;fct&gt;</th><th scope=col>&lt;int&gt;</th><th scope=col>&lt;dbl&gt;</th><th scope=col>&lt;fct&gt;</th><th scope=col>&lt;fct&gt;</th><th scope=col>&lt;fct&gt;</th><th scope=col>&lt;fct&gt;</th></tr>\n",
              "</thead>\n",
              "<tbody>\n",
              "\t<tr><td>NA</td><td>13</td><td>younger mom</td><td>39</td><td>full term</td><td>10</td><td>not married</td><td>38</td><td>7.63</td><td>not low</td><td>male  </td><td>nonsmoker</td><td>not white</td></tr>\n",
              "\t<tr><td>NA</td><td>14</td><td>younger mom</td><td>42</td><td>full term</td><td>15</td><td>not married</td><td>20</td><td>7.88</td><td>not low</td><td>male  </td><td>nonsmoker</td><td>not white</td></tr>\n",
              "\t<tr><td>19</td><td>15</td><td>younger mom</td><td>37</td><td>full term</td><td>11</td><td>not married</td><td>38</td><td>6.63</td><td>not low</td><td>female</td><td>nonsmoker</td><td>white    </td></tr>\n",
              "\t<tr><td>21</td><td>15</td><td>younger mom</td><td>41</td><td>full term</td><td> 6</td><td>not married</td><td>34</td><td>8.00</td><td>not low</td><td>male  </td><td>nonsmoker</td><td>white    </td></tr>\n",
              "\t<tr><td>NA</td><td>15</td><td>younger mom</td><td>39</td><td>full term</td><td> 9</td><td>not married</td><td>27</td><td>6.38</td><td>not low</td><td>female</td><td>nonsmoker</td><td>not white</td></tr>\n",
              "\t<tr><td>NA</td><td>15</td><td>younger mom</td><td>38</td><td>full term</td><td>19</td><td>not married</td><td>22</td><td>5.38</td><td>low    </td><td>male  </td><td>nonsmoker</td><td>not white</td></tr>\n",
              "\t<tr><td>18</td><td>15</td><td>younger mom</td><td>37</td><td>full term</td><td>12</td><td>not married</td><td>76</td><td>8.44</td><td>not low</td><td>male  </td><td>nonsmoker</td><td>not white</td></tr>\n",
              "\t<tr><td>17</td><td>15</td><td>younger mom</td><td>35</td><td>premie   </td><td> 5</td><td>not married</td><td>15</td><td>4.69</td><td>low    </td><td>male  </td><td>nonsmoker</td><td>not white</td></tr>\n",
              "\t<tr><td>NA</td><td>16</td><td>younger mom</td><td>38</td><td>full term</td><td> 9</td><td>not married</td><td>NA</td><td>8.81</td><td>not low</td><td>male  </td><td>nonsmoker</td><td>white    </td></tr>\n",
              "\t<tr><td>20</td><td>16</td><td>younger mom</td><td>37</td><td>full term</td><td>13</td><td>not married</td><td>52</td><td>6.94</td><td>not low</td><td>female</td><td>nonsmoker</td><td>white    </td></tr>\n",
              "\t<tr><td>30</td><td>16</td><td>younger mom</td><td>45</td><td>full term</td><td> 9</td><td>not married</td><td>28</td><td>7.44</td><td>not low</td><td>male  </td><td>nonsmoker</td><td>white    </td></tr>\n",
              "\t<tr><td>NA</td><td>16</td><td>younger mom</td><td>42</td><td>full term</td><td> 8</td><td>not married</td><td>34</td><td>8.81</td><td>not low</td><td>female</td><td>nonsmoker</td><td>white    </td></tr>\n",
              "\t<tr><td>NA</td><td>16</td><td>younger mom</td><td>40</td><td>full term</td><td> 4</td><td>not married</td><td>12</td><td>6.00</td><td>not low</td><td>female</td><td>nonsmoker</td><td>not white</td></tr>\n",
              "\t<tr><td>NA</td><td>16</td><td>younger mom</td><td>38</td><td>full term</td><td>12</td><td>not married</td><td>30</td><td>7.13</td><td>not low</td><td>female</td><td>nonsmoker</td><td>white    </td></tr>\n",
              "\t<tr><td>21</td><td>16</td><td>younger mom</td><td>38</td><td>full term</td><td>15</td><td>not married</td><td>75</td><td>7.56</td><td>not low</td><td>female</td><td>smoker   </td><td>white    </td></tr>\n",
              "\t<tr><td>NA</td><td>16</td><td>younger mom</td><td>40</td><td>full term</td><td> 7</td><td>not married</td><td>35</td><td>6.88</td><td>not low</td><td>male  </td><td>smoker   </td><td>white    </td></tr>\n",
              "\t<tr><td>14</td><td>16</td><td>younger mom</td><td>40</td><td>full term</td><td>12</td><td>not married</td><td> 9</td><td>5.81</td><td>not low</td><td>female</td><td>smoker   </td><td>white    </td></tr>\n",
              "\t<tr><td>16</td><td>16</td><td>younger mom</td><td>24</td><td>premie   </td><td> 5</td><td>not married</td><td>12</td><td>1.50</td><td>low    </td><td>male  </td><td>nonsmoker</td><td>not white</td></tr>\n",
              "\t<tr><td>20</td><td>17</td><td>younger mom</td><td>40</td><td>full term</td><td> 8</td><td>not married</td><td>20</td><td>8.25</td><td>not low</td><td>female</td><td>nonsmoker</td><td>white    </td></tr>\n",
              "\t<tr><td>18</td><td>17</td><td>younger mom</td><td>37</td><td>full term</td><td>10</td><td>not married</td><td>39</td><td>6.19</td><td>not low</td><td>female</td><td>nonsmoker</td><td>not white</td></tr>\n",
              "\t<tr><td>NA</td><td>17</td><td>younger mom</td><td>39</td><td>full term</td><td>10</td><td>not married</td><td>40</td><td>7.00</td><td>not low</td><td>male  </td><td>nonsmoker</td><td>not white</td></tr>\n",
              "\t<tr><td>20</td><td>17</td><td>younger mom</td><td>40</td><td>full term</td><td>17</td><td>not married</td><td>38</td><td>7.19</td><td>not low</td><td>male  </td><td>nonsmoker</td><td>white    </td></tr>\n",
              "\t<tr><td>20</td><td>17</td><td>younger mom</td><td>39</td><td>full term</td><td> 9</td><td>not married</td><td>36</td><td>6.00</td><td>not low</td><td>male  </td><td>nonsmoker</td><td>not white</td></tr>\n",
              "\t<tr><td>NA</td><td>17</td><td>younger mom</td><td>40</td><td>full term</td><td>15</td><td>not married</td><td>20</td><td>7.63</td><td>not low</td><td>female</td><td>nonsmoker</td><td>not white</td></tr>\n",
              "\t<tr><td>26</td><td>17</td><td>younger mom</td><td>38</td><td>full term</td><td>11</td><td>not married</td><td>30</td><td>9.50</td><td>not low</td><td>female</td><td>nonsmoker</td><td>white    </td></tr>\n",
              "\t<tr><td>NA</td><td>17</td><td>younger mom</td><td>38</td><td>full term</td><td>12</td><td>not married</td><td>30</td><td>5.56</td><td>not low</td><td>female</td><td>nonsmoker</td><td>not white</td></tr>\n",
              "\t<tr><td>NA</td><td>17</td><td>younger mom</td><td>39</td><td>full term</td><td>12</td><td>not married</td><td>50</td><td>7.50</td><td>not low</td><td>male  </td><td>nonsmoker</td><td>not white</td></tr>\n",
              "\t<tr><td>20</td><td>17</td><td>younger mom</td><td>40</td><td>full term</td><td>10</td><td>not married</td><td>68</td><td>7.44</td><td>not low</td><td>male  </td><td>nonsmoker</td><td>not white</td></tr>\n",
              "\t<tr><td>31</td><td>17</td><td>younger mom</td><td>39</td><td>full term</td><td>12</td><td>not married</td><td>27</td><td>7.56</td><td>not low</td><td>male  </td><td>nonsmoker</td><td>white    </td></tr>\n",
              "\t<tr><td>17</td><td>17</td><td>younger mom</td><td>38</td><td>full term</td><td>12</td><td>not married</td><td>22</td><td>6.06</td><td>not low</td><td>male  </td><td>nonsmoker</td><td>not white</td></tr>\n",
              "\t<tr><td>⋮</td><td>⋮</td><td>⋮</td><td>⋮</td><td>⋮</td><td>⋮</td><td>⋮</td><td>⋮</td><td>⋮</td><td>⋮</td><td>⋮</td><td>⋮</td><td>⋮</td></tr>\n",
              "\t<tr><td>NA</td><td>38</td><td>mature mom</td><td>32</td><td>premie   </td><td>10</td><td>not married</td><td>16</td><td>2.19</td><td>low    </td><td>female</td><td>smoker   </td><td>white    </td></tr>\n",
              "\t<tr><td>41</td><td>39</td><td>mature mom</td><td>39</td><td>full term</td><td>11</td><td>married    </td><td>30</td><td>8.06</td><td>not low</td><td>female</td><td>nonsmoker</td><td>white    </td></tr>\n",
              "\t<tr><td>39</td><td>39</td><td>mature mom</td><td>40</td><td>full term</td><td>12</td><td>married    </td><td>27</td><td>7.81</td><td>not low</td><td>female</td><td>nonsmoker</td><td>white    </td></tr>\n",
              "\t<tr><td>43</td><td>39</td><td>mature mom</td><td>38</td><td>full term</td><td>17</td><td>not married</td><td>40</td><td>7.50</td><td>not low</td><td>female</td><td>nonsmoker</td><td>white    </td></tr>\n",
              "\t<tr><td>38</td><td>39</td><td>mature mom</td><td>39</td><td>full term</td><td>20</td><td>married    </td><td>50</td><td>7.19</td><td>not low</td><td>female</td><td>nonsmoker</td><td>white    </td></tr>\n",
              "\t<tr><td>NA</td><td>39</td><td>mature mom</td><td>38</td><td>full term</td><td>16</td><td>not married</td><td>25</td><td>6.06</td><td>not low</td><td>female</td><td>smoker   </td><td>not white</td></tr>\n",
              "\t<tr><td>46</td><td>39</td><td>mature mom</td><td>38</td><td>full term</td><td>10</td><td>not married</td><td>35</td><td>6.75</td><td>not low</td><td>male  </td><td>smoker   </td><td>white    </td></tr>\n",
              "\t<tr><td>53</td><td>39</td><td>mature mom</td><td>33</td><td>premie   </td><td> 6</td><td>not married</td><td>24</td><td>5.50</td><td>low    </td><td>male  </td><td>smoker   </td><td>not white</td></tr>\n",
              "\t<tr><td>40</td><td>40</td><td>mature mom</td><td>38</td><td>full term</td><td>13</td><td>married    </td><td>38</td><td>7.31</td><td>not low</td><td>male  </td><td>nonsmoker</td><td>white    </td></tr>\n",
              "\t<tr><td>34</td><td>40</td><td>mature mom</td><td>41</td><td>full term</td><td> 8</td><td>not married</td><td>29</td><td>9.88</td><td>not low</td><td>male  </td><td>nonsmoker</td><td>NA       </td></tr>\n",
              "\t<tr><td>43</td><td>40</td><td>mature mom</td><td>41</td><td>full term</td><td>11</td><td>married    </td><td>25</td><td>9.19</td><td>not low</td><td>male  </td><td>nonsmoker</td><td>white    </td></tr>\n",
              "\t<tr><td>41</td><td>40</td><td>mature mom</td><td>43</td><td>full term</td><td>12</td><td>married    </td><td>27</td><td>8.13</td><td>not low</td><td>male  </td><td>nonsmoker</td><td>white    </td></tr>\n",
              "\t<tr><td>41</td><td>40</td><td>mature mom</td><td>40</td><td>full term</td><td>13</td><td>married    </td><td>30</td><td>9.00</td><td>not low</td><td>female</td><td>nonsmoker</td><td>white    </td></tr>\n",
              "\t<tr><td>44</td><td>40</td><td>mature mom</td><td>37</td><td>full term</td><td>30</td><td>married    </td><td>15</td><td>7.44</td><td>not low</td><td>female</td><td>nonsmoker</td><td>not white</td></tr>\n",
              "\t<tr><td>42</td><td>40</td><td>mature mom</td><td>35</td><td>premie   </td><td>12</td><td>married    </td><td>35</td><td>5.69</td><td>not low</td><td>male  </td><td>nonsmoker</td><td>white    </td></tr>\n",
              "\t<tr><td>33</td><td>40</td><td>mature mom</td><td>36</td><td>premie   </td><td>13</td><td>not married</td><td>23</td><td>7.81</td><td>not low</td><td>female</td><td>nonsmoker</td><td>white    </td></tr>\n",
              "\t<tr><td>46</td><td>40</td><td>mature mom</td><td>35</td><td>premie   </td><td>14</td><td>married    </td><td>NA</td><td>6.69</td><td>not low</td><td>male  </td><td>nonsmoker</td><td>white    </td></tr>\n",
              "\t<tr><td>NA</td><td>41</td><td>mature mom</td><td>NA</td><td>NA       </td><td>NA</td><td>NA         </td><td>NA</td><td>3.63</td><td>low    </td><td>female</td><td>NA       </td><td>white    </td></tr>\n",
              "\t<tr><td>48</td><td>41</td><td>mature mom</td><td>41</td><td>full term</td><td>15</td><td>married    </td><td>28</td><td>6.38</td><td>not low</td><td>male  </td><td>nonsmoker</td><td>not white</td></tr>\n",
              "\t<tr><td>50</td><td>41</td><td>mature mom</td><td>37</td><td>full term</td><td>12</td><td>not married</td><td>61</td><td>7.44</td><td>not low</td><td>male  </td><td>nonsmoker</td><td>white    </td></tr>\n",
              "\t<tr><td>42</td><td>41</td><td>mature mom</td><td>38</td><td>full term</td><td>11</td><td>not married</td><td>12</td><td>5.88</td><td>not low</td><td>female</td><td>nonsmoker</td><td>not white</td></tr>\n",
              "\t<tr><td>43</td><td>41</td><td>mature mom</td><td>39</td><td>full term</td><td>14</td><td>married    </td><td>10</td><td>7.69</td><td>not low</td><td>male  </td><td>nonsmoker</td><td>white    </td></tr>\n",
              "\t<tr><td>40</td><td>41</td><td>mature mom</td><td>39</td><td>full term</td><td>12</td><td>married    </td><td>20</td><td>7.56</td><td>not low</td><td>female</td><td>nonsmoker</td><td>white    </td></tr>\n",
              "\t<tr><td>34</td><td>41</td><td>mature mom</td><td>39</td><td>full term</td><td>15</td><td>married    </td><td>40</td><td>6.56</td><td>not low</td><td>male  </td><td>nonsmoker</td><td>not white</td></tr>\n",
              "\t<tr><td>NA</td><td>41</td><td>mature mom</td><td>33</td><td>premie   </td><td>13</td><td>married    </td><td> 0</td><td>5.69</td><td>not low</td><td>female</td><td>nonsmoker</td><td>not white</td></tr>\n",
              "\t<tr><td>47</td><td>42</td><td>mature mom</td><td>40</td><td>full term</td><td>10</td><td>married    </td><td>26</td><td>8.44</td><td>not low</td><td>male  </td><td>nonsmoker</td><td>not white</td></tr>\n",
              "\t<tr><td>34</td><td>42</td><td>mature mom</td><td>38</td><td>full term</td><td>18</td><td>married    </td><td>20</td><td>6.19</td><td>not low</td><td>female</td><td>nonsmoker</td><td>white    </td></tr>\n",
              "\t<tr><td>39</td><td>45</td><td>mature mom</td><td>40</td><td>full term</td><td>15</td><td>married    </td><td>32</td><td>6.94</td><td>not low</td><td>female</td><td>nonsmoker</td><td>white    </td></tr>\n",
              "\t<tr><td>55</td><td>46</td><td>mature mom</td><td>31</td><td>premie   </td><td> 8</td><td>married    </td><td>25</td><td>4.56</td><td>low    </td><td>female</td><td>nonsmoker</td><td>not white</td></tr>\n",
              "\t<tr><td>45</td><td>50</td><td>mature mom</td><td>39</td><td>full term</td><td>14</td><td>married    </td><td>23</td><td>7.13</td><td>not low</td><td>female</td><td>nonsmoker</td><td>white    </td></tr>\n",
              "</tbody>\n",
              "</table>\n"
            ],
            "text/markdown": "\nA tibble: 1000 × 13\n\n| fage &lt;int&gt; | mage &lt;int&gt; | mature &lt;fct&gt; | weeks &lt;int&gt; | premie &lt;fct&gt; | visits &lt;int&gt; | marital &lt;fct&gt; | gained &lt;int&gt; | weight &lt;dbl&gt; | lowbirthweight &lt;fct&gt; | gender &lt;fct&gt; | habit &lt;fct&gt; | whitemom &lt;fct&gt; |\n|---|---|---|---|---|---|---|---|---|---|---|---|---|\n| NA | 13 | younger mom | 39 | full term | 10 | not married | 38 | 7.63 | not low | male   | nonsmoker | not white |\n| NA | 14 | younger mom | 42 | full term | 15 | not married | 20 | 7.88 | not low | male   | nonsmoker | not white |\n| 19 | 15 | younger mom | 37 | full term | 11 | not married | 38 | 6.63 | not low | female | nonsmoker | white     |\n| 21 | 15 | younger mom | 41 | full term |  6 | not married | 34 | 8.00 | not low | male   | nonsmoker | white     |\n| NA | 15 | younger mom | 39 | full term |  9 | not married | 27 | 6.38 | not low | female | nonsmoker | not white |\n| NA | 15 | younger mom | 38 | full term | 19 | not married | 22 | 5.38 | low     | male   | nonsmoker | not white |\n| 18 | 15 | younger mom | 37 | full term | 12 | not married | 76 | 8.44 | not low | male   | nonsmoker | not white |\n| 17 | 15 | younger mom | 35 | premie    |  5 | not married | 15 | 4.69 | low     | male   | nonsmoker | not white |\n| NA | 16 | younger mom | 38 | full term |  9 | not married | NA | 8.81 | not low | male   | nonsmoker | white     |\n| 20 | 16 | younger mom | 37 | full term | 13 | not married | 52 | 6.94 | not low | female | nonsmoker | white     |\n| 30 | 16 | younger mom | 45 | full term |  9 | not married | 28 | 7.44 | not low | male   | nonsmoker | white     |\n| NA | 16 | younger mom | 42 | full term |  8 | not married | 34 | 8.81 | not low | female | nonsmoker | white     |\n| NA | 16 | younger mom | 40 | full term |  4 | not married | 12 | 6.00 | not low | female | nonsmoker | not white |\n| NA | 16 | younger mom | 38 | full term | 12 | not married | 30 | 7.13 | not low | female | nonsmoker | white     |\n| 21 | 16 | younger mom | 38 | full term | 15 | not married | 75 | 7.56 | not low | female | smoker    | white     |\n| NA | 16 | younger mom | 40 | full term |  7 | not married | 35 | 6.88 | not low | male   | smoker    | white     |\n| 14 | 16 | younger mom | 40 | full term | 12 | not married |  9 | 5.81 | not low | female | smoker    | white     |\n| 16 | 16 | younger mom | 24 | premie    |  5 | not married | 12 | 1.50 | low     | male   | nonsmoker | not white |\n| 20 | 17 | younger mom | 40 | full term |  8 | not married | 20 | 8.25 | not low | female | nonsmoker | white     |\n| 18 | 17 | younger mom | 37 | full term | 10 | not married | 39 | 6.19 | not low | female | nonsmoker | not white |\n| NA | 17 | younger mom | 39 | full term | 10 | not married | 40 | 7.00 | not low | male   | nonsmoker | not white |\n| 20 | 17 | younger mom | 40 | full term | 17 | not married | 38 | 7.19 | not low | male   | nonsmoker | white     |\n| 20 | 17 | younger mom | 39 | full term |  9 | not married | 36 | 6.00 | not low | male   | nonsmoker | not white |\n| NA | 17 | younger mom | 40 | full term | 15 | not married | 20 | 7.63 | not low | female | nonsmoker | not white |\n| 26 | 17 | younger mom | 38 | full term | 11 | not married | 30 | 9.50 | not low | female | nonsmoker | white     |\n| NA | 17 | younger mom | 38 | full term | 12 | not married | 30 | 5.56 | not low | female | nonsmoker | not white |\n| NA | 17 | younger mom | 39 | full term | 12 | not married | 50 | 7.50 | not low | male   | nonsmoker | not white |\n| 20 | 17 | younger mom | 40 | full term | 10 | not married | 68 | 7.44 | not low | male   | nonsmoker | not white |\n| 31 | 17 | younger mom | 39 | full term | 12 | not married | 27 | 7.56 | not low | male   | nonsmoker | white     |\n| 17 | 17 | younger mom | 38 | full term | 12 | not married | 22 | 6.06 | not low | male   | nonsmoker | not white |\n| ⋮ | ⋮ | ⋮ | ⋮ | ⋮ | ⋮ | ⋮ | ⋮ | ⋮ | ⋮ | ⋮ | ⋮ | ⋮ |\n| NA | 38 | mature mom | 32 | premie    | 10 | not married | 16 | 2.19 | low     | female | smoker    | white     |\n| 41 | 39 | mature mom | 39 | full term | 11 | married     | 30 | 8.06 | not low | female | nonsmoker | white     |\n| 39 | 39 | mature mom | 40 | full term | 12 | married     | 27 | 7.81 | not low | female | nonsmoker | white     |\n| 43 | 39 | mature mom | 38 | full term | 17 | not married | 40 | 7.50 | not low | female | nonsmoker | white     |\n| 38 | 39 | mature mom | 39 | full term | 20 | married     | 50 | 7.19 | not low | female | nonsmoker | white     |\n| NA | 39 | mature mom | 38 | full term | 16 | not married | 25 | 6.06 | not low | female | smoker    | not white |\n| 46 | 39 | mature mom | 38 | full term | 10 | not married | 35 | 6.75 | not low | male   | smoker    | white     |\n| 53 | 39 | mature mom | 33 | premie    |  6 | not married | 24 | 5.50 | low     | male   | smoker    | not white |\n| 40 | 40 | mature mom | 38 | full term | 13 | married     | 38 | 7.31 | not low | male   | nonsmoker | white     |\n| 34 | 40 | mature mom | 41 | full term |  8 | not married | 29 | 9.88 | not low | male   | nonsmoker | NA        |\n| 43 | 40 | mature mom | 41 | full term | 11 | married     | 25 | 9.19 | not low | male   | nonsmoker | white     |\n| 41 | 40 | mature mom | 43 | full term | 12 | married     | 27 | 8.13 | not low | male   | nonsmoker | white     |\n| 41 | 40 | mature mom | 40 | full term | 13 | married     | 30 | 9.00 | not low | female | nonsmoker | white     |\n| 44 | 40 | mature mom | 37 | full term | 30 | married     | 15 | 7.44 | not low | female | nonsmoker | not white |\n| 42 | 40 | mature mom | 35 | premie    | 12 | married     | 35 | 5.69 | not low | male   | nonsmoker | white     |\n| 33 | 40 | mature mom | 36 | premie    | 13 | not married | 23 | 7.81 | not low | female | nonsmoker | white     |\n| 46 | 40 | mature mom | 35 | premie    | 14 | married     | NA | 6.69 | not low | male   | nonsmoker | white     |\n| NA | 41 | mature mom | NA | NA        | NA | NA          | NA | 3.63 | low     | female | NA        | white     |\n| 48 | 41 | mature mom | 41 | full term | 15 | married     | 28 | 6.38 | not low | male   | nonsmoker | not white |\n| 50 | 41 | mature mom | 37 | full term | 12 | not married | 61 | 7.44 | not low | male   | nonsmoker | white     |\n| 42 | 41 | mature mom | 38 | full term | 11 | not married | 12 | 5.88 | not low | female | nonsmoker | not white |\n| 43 | 41 | mature mom | 39 | full term | 14 | married     | 10 | 7.69 | not low | male   | nonsmoker | white     |\n| 40 | 41 | mature mom | 39 | full term | 12 | married     | 20 | 7.56 | not low | female | nonsmoker | white     |\n| 34 | 41 | mature mom | 39 | full term | 15 | married     | 40 | 6.56 | not low | male   | nonsmoker | not white |\n| NA | 41 | mature mom | 33 | premie    | 13 | married     |  0 | 5.69 | not low | female | nonsmoker | not white |\n| 47 | 42 | mature mom | 40 | full term | 10 | married     | 26 | 8.44 | not low | male   | nonsmoker | not white |\n| 34 | 42 | mature mom | 38 | full term | 18 | married     | 20 | 6.19 | not low | female | nonsmoker | white     |\n| 39 | 45 | mature mom | 40 | full term | 15 | married     | 32 | 6.94 | not low | female | nonsmoker | white     |\n| 55 | 46 | mature mom | 31 | premie    |  8 | married     | 25 | 4.56 | low     | female | nonsmoker | not white |\n| 45 | 50 | mature mom | 39 | full term | 14 | married     | 23 | 7.13 | not low | female | nonsmoker | white     |\n\n",
            "text/latex": "A tibble: 1000 × 13\n\\begin{tabular}{lllllllllllll}\n fage & mage & mature & weeks & premie & visits & marital & gained & weight & lowbirthweight & gender & habit & whitemom\\\\\n <int> & <int> & <fct> & <int> & <fct> & <int> & <fct> & <int> & <dbl> & <fct> & <fct> & <fct> & <fct>\\\\\n\\hline\n\t NA & 13 & younger mom & 39 & full term & 10 & not married & 38 & 7.63 & not low & male   & nonsmoker & not white\\\\\n\t NA & 14 & younger mom & 42 & full term & 15 & not married & 20 & 7.88 & not low & male   & nonsmoker & not white\\\\\n\t 19 & 15 & younger mom & 37 & full term & 11 & not married & 38 & 6.63 & not low & female & nonsmoker & white    \\\\\n\t 21 & 15 & younger mom & 41 & full term &  6 & not married & 34 & 8.00 & not low & male   & nonsmoker & white    \\\\\n\t NA & 15 & younger mom & 39 & full term &  9 & not married & 27 & 6.38 & not low & female & nonsmoker & not white\\\\\n\t NA & 15 & younger mom & 38 & full term & 19 & not married & 22 & 5.38 & low     & male   & nonsmoker & not white\\\\\n\t 18 & 15 & younger mom & 37 & full term & 12 & not married & 76 & 8.44 & not low & male   & nonsmoker & not white\\\\\n\t 17 & 15 & younger mom & 35 & premie    &  5 & not married & 15 & 4.69 & low     & male   & nonsmoker & not white\\\\\n\t NA & 16 & younger mom & 38 & full term &  9 & not married & NA & 8.81 & not low & male   & nonsmoker & white    \\\\\n\t 20 & 16 & younger mom & 37 & full term & 13 & not married & 52 & 6.94 & not low & female & nonsmoker & white    \\\\\n\t 30 & 16 & younger mom & 45 & full term &  9 & not married & 28 & 7.44 & not low & male   & nonsmoker & white    \\\\\n\t NA & 16 & younger mom & 42 & full term &  8 & not married & 34 & 8.81 & not low & female & nonsmoker & white    \\\\\n\t NA & 16 & younger mom & 40 & full term &  4 & not married & 12 & 6.00 & not low & female & nonsmoker & not white\\\\\n\t NA & 16 & younger mom & 38 & full term & 12 & not married & 30 & 7.13 & not low & female & nonsmoker & white    \\\\\n\t 21 & 16 & younger mom & 38 & full term & 15 & not married & 75 & 7.56 & not low & female & smoker    & white    \\\\\n\t NA & 16 & younger mom & 40 & full term &  7 & not married & 35 & 6.88 & not low & male   & smoker    & white    \\\\\n\t 14 & 16 & younger mom & 40 & full term & 12 & not married &  9 & 5.81 & not low & female & smoker    & white    \\\\\n\t 16 & 16 & younger mom & 24 & premie    &  5 & not married & 12 & 1.50 & low     & male   & nonsmoker & not white\\\\\n\t 20 & 17 & younger mom & 40 & full term &  8 & not married & 20 & 8.25 & not low & female & nonsmoker & white    \\\\\n\t 18 & 17 & younger mom & 37 & full term & 10 & not married & 39 & 6.19 & not low & female & nonsmoker & not white\\\\\n\t NA & 17 & younger mom & 39 & full term & 10 & not married & 40 & 7.00 & not low & male   & nonsmoker & not white\\\\\n\t 20 & 17 & younger mom & 40 & full term & 17 & not married & 38 & 7.19 & not low & male   & nonsmoker & white    \\\\\n\t 20 & 17 & younger mom & 39 & full term &  9 & not married & 36 & 6.00 & not low & male   & nonsmoker & not white\\\\\n\t NA & 17 & younger mom & 40 & full term & 15 & not married & 20 & 7.63 & not low & female & nonsmoker & not white\\\\\n\t 26 & 17 & younger mom & 38 & full term & 11 & not married & 30 & 9.50 & not low & female & nonsmoker & white    \\\\\n\t NA & 17 & younger mom & 38 & full term & 12 & not married & 30 & 5.56 & not low & female & nonsmoker & not white\\\\\n\t NA & 17 & younger mom & 39 & full term & 12 & not married & 50 & 7.50 & not low & male   & nonsmoker & not white\\\\\n\t 20 & 17 & younger mom & 40 & full term & 10 & not married & 68 & 7.44 & not low & male   & nonsmoker & not white\\\\\n\t 31 & 17 & younger mom & 39 & full term & 12 & not married & 27 & 7.56 & not low & male   & nonsmoker & white    \\\\\n\t 17 & 17 & younger mom & 38 & full term & 12 & not married & 22 & 6.06 & not low & male   & nonsmoker & not white\\\\\n\t ⋮ & ⋮ & ⋮ & ⋮ & ⋮ & ⋮ & ⋮ & ⋮ & ⋮ & ⋮ & ⋮ & ⋮ & ⋮\\\\\n\t NA & 38 & mature mom & 32 & premie    & 10 & not married & 16 & 2.19 & low     & female & smoker    & white    \\\\\n\t 41 & 39 & mature mom & 39 & full term & 11 & married     & 30 & 8.06 & not low & female & nonsmoker & white    \\\\\n\t 39 & 39 & mature mom & 40 & full term & 12 & married     & 27 & 7.81 & not low & female & nonsmoker & white    \\\\\n\t 43 & 39 & mature mom & 38 & full term & 17 & not married & 40 & 7.50 & not low & female & nonsmoker & white    \\\\\n\t 38 & 39 & mature mom & 39 & full term & 20 & married     & 50 & 7.19 & not low & female & nonsmoker & white    \\\\\n\t NA & 39 & mature mom & 38 & full term & 16 & not married & 25 & 6.06 & not low & female & smoker    & not white\\\\\n\t 46 & 39 & mature mom & 38 & full term & 10 & not married & 35 & 6.75 & not low & male   & smoker    & white    \\\\\n\t 53 & 39 & mature mom & 33 & premie    &  6 & not married & 24 & 5.50 & low     & male   & smoker    & not white\\\\\n\t 40 & 40 & mature mom & 38 & full term & 13 & married     & 38 & 7.31 & not low & male   & nonsmoker & white    \\\\\n\t 34 & 40 & mature mom & 41 & full term &  8 & not married & 29 & 9.88 & not low & male   & nonsmoker & NA       \\\\\n\t 43 & 40 & mature mom & 41 & full term & 11 & married     & 25 & 9.19 & not low & male   & nonsmoker & white    \\\\\n\t 41 & 40 & mature mom & 43 & full term & 12 & married     & 27 & 8.13 & not low & male   & nonsmoker & white    \\\\\n\t 41 & 40 & mature mom & 40 & full term & 13 & married     & 30 & 9.00 & not low & female & nonsmoker & white    \\\\\n\t 44 & 40 & mature mom & 37 & full term & 30 & married     & 15 & 7.44 & not low & female & nonsmoker & not white\\\\\n\t 42 & 40 & mature mom & 35 & premie    & 12 & married     & 35 & 5.69 & not low & male   & nonsmoker & white    \\\\\n\t 33 & 40 & mature mom & 36 & premie    & 13 & not married & 23 & 7.81 & not low & female & nonsmoker & white    \\\\\n\t 46 & 40 & mature mom & 35 & premie    & 14 & married     & NA & 6.69 & not low & male   & nonsmoker & white    \\\\\n\t NA & 41 & mature mom & NA & NA        & NA & NA          & NA & 3.63 & low     & female & NA        & white    \\\\\n\t 48 & 41 & mature mom & 41 & full term & 15 & married     & 28 & 6.38 & not low & male   & nonsmoker & not white\\\\\n\t 50 & 41 & mature mom & 37 & full term & 12 & not married & 61 & 7.44 & not low & male   & nonsmoker & white    \\\\\n\t 42 & 41 & mature mom & 38 & full term & 11 & not married & 12 & 5.88 & not low & female & nonsmoker & not white\\\\\n\t 43 & 41 & mature mom & 39 & full term & 14 & married     & 10 & 7.69 & not low & male   & nonsmoker & white    \\\\\n\t 40 & 41 & mature mom & 39 & full term & 12 & married     & 20 & 7.56 & not low & female & nonsmoker & white    \\\\\n\t 34 & 41 & mature mom & 39 & full term & 15 & married     & 40 & 6.56 & not low & male   & nonsmoker & not white\\\\\n\t NA & 41 & mature mom & 33 & premie    & 13 & married     &  0 & 5.69 & not low & female & nonsmoker & not white\\\\\n\t 47 & 42 & mature mom & 40 & full term & 10 & married     & 26 & 8.44 & not low & male   & nonsmoker & not white\\\\\n\t 34 & 42 & mature mom & 38 & full term & 18 & married     & 20 & 6.19 & not low & female & nonsmoker & white    \\\\\n\t 39 & 45 & mature mom & 40 & full term & 15 & married     & 32 & 6.94 & not low & female & nonsmoker & white    \\\\\n\t 55 & 46 & mature mom & 31 & premie    &  8 & married     & 25 & 4.56 & low     & female & nonsmoker & not white\\\\\n\t 45 & 50 & mature mom & 39 & full term & 14 & married     & 23 & 7.13 & not low & female & nonsmoker & white    \\\\\n\\end{tabular}\n",
            "text/plain": [
              "     fage mage mature      weeks premie    visits marital     gained weight\n",
              "1    NA   13   younger mom 39    full term 10     not married 38     7.63  \n",
              "2    NA   14   younger mom 42    full term 15     not married 20     7.88  \n",
              "3    19   15   younger mom 37    full term 11     not married 38     6.63  \n",
              "4    21   15   younger mom 41    full term  6     not married 34     8.00  \n",
              "5    NA   15   younger mom 39    full term  9     not married 27     6.38  \n",
              "6    NA   15   younger mom 38    full term 19     not married 22     5.38  \n",
              "7    18   15   younger mom 37    full term 12     not married 76     8.44  \n",
              "8    17   15   younger mom 35    premie     5     not married 15     4.69  \n",
              "9    NA   16   younger mom 38    full term  9     not married NA     8.81  \n",
              "10   20   16   younger mom 37    full term 13     not married 52     6.94  \n",
              "11   30   16   younger mom 45    full term  9     not married 28     7.44  \n",
              "12   NA   16   younger mom 42    full term  8     not married 34     8.81  \n",
              "13   NA   16   younger mom 40    full term  4     not married 12     6.00  \n",
              "14   NA   16   younger mom 38    full term 12     not married 30     7.13  \n",
              "15   21   16   younger mom 38    full term 15     not married 75     7.56  \n",
              "16   NA   16   younger mom 40    full term  7     not married 35     6.88  \n",
              "17   14   16   younger mom 40    full term 12     not married  9     5.81  \n",
              "18   16   16   younger mom 24    premie     5     not married 12     1.50  \n",
              "19   20   17   younger mom 40    full term  8     not married 20     8.25  \n",
              "20   18   17   younger mom 37    full term 10     not married 39     6.19  \n",
              "21   NA   17   younger mom 39    full term 10     not married 40     7.00  \n",
              "22   20   17   younger mom 40    full term 17     not married 38     7.19  \n",
              "23   20   17   younger mom 39    full term  9     not married 36     6.00  \n",
              "24   NA   17   younger mom 40    full term 15     not married 20     7.63  \n",
              "25   26   17   younger mom 38    full term 11     not married 30     9.50  \n",
              "26   NA   17   younger mom 38    full term 12     not married 30     5.56  \n",
              "27   NA   17   younger mom 39    full term 12     not married 50     7.50  \n",
              "28   20   17   younger mom 40    full term 10     not married 68     7.44  \n",
              "29   31   17   younger mom 39    full term 12     not married 27     7.56  \n",
              "30   17   17   younger mom 38    full term 12     not married 22     6.06  \n",
              "⋮    ⋮    ⋮    ⋮           ⋮     ⋮         ⋮      ⋮           ⋮      ⋮     \n",
              "971  NA   38   mature mom  32    premie    10     not married 16     2.19  \n",
              "972  41   39   mature mom  39    full term 11     married     30     8.06  \n",
              "973  39   39   mature mom  40    full term 12     married     27     7.81  \n",
              "974  43   39   mature mom  38    full term 17     not married 40     7.50  \n",
              "975  38   39   mature mom  39    full term 20     married     50     7.19  \n",
              "976  NA   39   mature mom  38    full term 16     not married 25     6.06  \n",
              "977  46   39   mature mom  38    full term 10     not married 35     6.75  \n",
              "978  53   39   mature mom  33    premie     6     not married 24     5.50  \n",
              "979  40   40   mature mom  38    full term 13     married     38     7.31  \n",
              "980  34   40   mature mom  41    full term  8     not married 29     9.88  \n",
              "981  43   40   mature mom  41    full term 11     married     25     9.19  \n",
              "982  41   40   mature mom  43    full term 12     married     27     8.13  \n",
              "983  41   40   mature mom  40    full term 13     married     30     9.00  \n",
              "984  44   40   mature mom  37    full term 30     married     15     7.44  \n",
              "985  42   40   mature mom  35    premie    12     married     35     5.69  \n",
              "986  33   40   mature mom  36    premie    13     not married 23     7.81  \n",
              "987  46   40   mature mom  35    premie    14     married     NA     6.69  \n",
              "988  NA   41   mature mom  NA    NA        NA     NA          NA     3.63  \n",
              "989  48   41   mature mom  41    full term 15     married     28     6.38  \n",
              "990  50   41   mature mom  37    full term 12     not married 61     7.44  \n",
              "991  42   41   mature mom  38    full term 11     not married 12     5.88  \n",
              "992  43   41   mature mom  39    full term 14     married     10     7.69  \n",
              "993  40   41   mature mom  39    full term 12     married     20     7.56  \n",
              "994  34   41   mature mom  39    full term 15     married     40     6.56  \n",
              "995  NA   41   mature mom  33    premie    13     married      0     5.69  \n",
              "996  47   42   mature mom  40    full term 10     married     26     8.44  \n",
              "997  34   42   mature mom  38    full term 18     married     20     6.19  \n",
              "998  39   45   mature mom  40    full term 15     married     32     6.94  \n",
              "999  55   46   mature mom  31    premie     8     married     25     4.56  \n",
              "1000 45   50   mature mom  39    full term 14     married     23     7.13  \n",
              "     lowbirthweight gender habit     whitemom \n",
              "1    not low        male   nonsmoker not white\n",
              "2    not low        male   nonsmoker not white\n",
              "3    not low        female nonsmoker white    \n",
              "4    not low        male   nonsmoker white    \n",
              "5    not low        female nonsmoker not white\n",
              "6    low            male   nonsmoker not white\n",
              "7    not low        male   nonsmoker not white\n",
              "8    low            male   nonsmoker not white\n",
              "9    not low        male   nonsmoker white    \n",
              "10   not low        female nonsmoker white    \n",
              "11   not low        male   nonsmoker white    \n",
              "12   not low        female nonsmoker white    \n",
              "13   not low        female nonsmoker not white\n",
              "14   not low        female nonsmoker white    \n",
              "15   not low        female smoker    white    \n",
              "16   not low        male   smoker    white    \n",
              "17   not low        female smoker    white    \n",
              "18   low            male   nonsmoker not white\n",
              "19   not low        female nonsmoker white    \n",
              "20   not low        female nonsmoker not white\n",
              "21   not low        male   nonsmoker not white\n",
              "22   not low        male   nonsmoker white    \n",
              "23   not low        male   nonsmoker not white\n",
              "24   not low        female nonsmoker not white\n",
              "25   not low        female nonsmoker white    \n",
              "26   not low        female nonsmoker not white\n",
              "27   not low        male   nonsmoker not white\n",
              "28   not low        male   nonsmoker not white\n",
              "29   not low        male   nonsmoker white    \n",
              "30   not low        male   nonsmoker not white\n",
              "⋮    ⋮              ⋮      ⋮         ⋮        \n",
              "971  low            female smoker    white    \n",
              "972  not low        female nonsmoker white    \n",
              "973  not low        female nonsmoker white    \n",
              "974  not low        female nonsmoker white    \n",
              "975  not low        female nonsmoker white    \n",
              "976  not low        female smoker    not white\n",
              "977  not low        male   smoker    white    \n",
              "978  low            male   smoker    not white\n",
              "979  not low        male   nonsmoker white    \n",
              "980  not low        male   nonsmoker NA       \n",
              "981  not low        male   nonsmoker white    \n",
              "982  not low        male   nonsmoker white    \n",
              "983  not low        female nonsmoker white    \n",
              "984  not low        female nonsmoker not white\n",
              "985  not low        male   nonsmoker white    \n",
              "986  not low        female nonsmoker white    \n",
              "987  not low        male   nonsmoker white    \n",
              "988  low            female NA        white    \n",
              "989  not low        male   nonsmoker not white\n",
              "990  not low        male   nonsmoker white    \n",
              "991  not low        female nonsmoker not white\n",
              "992  not low        male   nonsmoker white    \n",
              "993  not low        female nonsmoker white    \n",
              "994  not low        male   nonsmoker not white\n",
              "995  not low        female nonsmoker not white\n",
              "996  not low        male   nonsmoker not white\n",
              "997  not low        female nonsmoker white    \n",
              "998  not low        female nonsmoker white    \n",
              "999  low            female nonsmoker not white\n",
              "1000 not low        female nonsmoker white    "
            ]
          },
          "metadata": {}
        },
        {
          "output_type": "display_data",
          "data": {
            "text/html": [
              "1000"
            ],
            "text/markdown": "1000",
            "text/latex": "1000",
            "text/plain": [
              "[1] 1000"
            ]
          },
          "metadata": {}
        }
      ]
    },
    {
      "cell_type": "markdown",
      "source": [
        "##ANSWER TO QUESTION 1: \n",
        "\n",
        "There are 1000 cases in this dataset and each case represents a birth and associated data relating to that birth. "
      ],
      "metadata": {
        "id": "b2ssEm7736av"
      }
    },
    {
      "cell_type": "code",
      "source": [
        "##code for question 2 \n",
        "\n",
        "#fage is the father's age: numerical \n",
        "#mage is the mother's age: numerical \n",
        "#maturity is level of maturity: categorical (levels = \"mature mom\" and \"younger mom\")\n",
        "\n",
        "#cite: https://www.geeksforgeeks.org/count-unique-values-in-r/#:~:text=Method%201%3A%20Using%20length(unique,function%20can%20calculate%20the%20frequency.\n",
        "categories_mature = unique(ncbirths$mature)\n",
        "print(categories_mature) \n",
        "\n",
        "#weeks is length of pregnancy: numerical \n",
        "#premie describes the prematurity of the birth: categorical (levels = \"premie\" {for premature} and \"full term\") \n",
        "#visits is visits to hospital by mother during pregnancy: numerical \n",
        "#gained weight is weight mom gained during pregnancy: numerical \n",
        "#lowbirthweigth is the whether or not the baby is classified as having a high or low birth rate: categorical (levels = \"low\" or \"not low\") \n",
        "#gender is the gender of the child: categorical (levels = \"male\" and \"female\") \n",
        "#habit is whether the mother is a smoker or nonsmoker: categorical (levels = \"smoker\" and \"nonsmoker\") \n",
        "#marital is whether the mother is married or not married: categorical (levels  =\"married\" and \"not married\")\n",
        "#white mom is whehter the mother of the child is white or not (levels = \"white\" and \"not white\")\n",
        "\n",
        "ncbirths %>%\n",
        "  ggplot(aes(x=fage)) + \n",
        "  geom_histogram()\n",
        "\n",
        "ncbirths %>% \n",
        "  ggplot(aes(x = mage)) + \n",
        "  geom_histogram() \n",
        "\n",
        "ncbirths %>% \n",
        "  ggplot(aes(x = weeks)) + \n",
        "  geom_histogram()  \n",
        "\n",
        "ncbirths %>% \n",
        "  ggplot(aes(x = visits)) + \n",
        "  geom_histogram() \n",
        "\n",
        "ncbirths %>% \n",
        "  ggplot(aes(x = weight)) + \n",
        "  geom_histogram() \n",
        "\n"
      ],
      "metadata": {
        "colab": {
          "base_uri": "https://localhost:8080/",
          "height": 1000
        },
        "id": "Mg4Hw5tE295g",
        "outputId": "31f6bd1a-b1df-4a3d-caf0-294b65a8ab85"
      },
      "execution_count": 4,
      "outputs": [
        {
          "output_type": "stream",
          "name": "stdout",
          "text": [
            "[1] younger mom mature mom \n",
            "Levels: mature mom younger mom\n"
          ]
        },
        {
          "output_type": "stream",
          "name": "stderr",
          "text": [
            "\u001b[1m\u001b[22m`stat_bin()` using `bins = 30`. Pick better value with `binwidth`.\n",
            "Warning message:\n",
            "“\u001b[1m\u001b[22mRemoved 171 rows containing non-finite values (`stat_bin()`).”\n",
            "\u001b[1m\u001b[22m`stat_bin()` using `bins = 30`. Pick better value with `binwidth`.\n"
          ]
        },
        {
          "output_type": "display_data",
          "data": {
            "text/plain": [
              "plot without title"
            ],
            "image/png": "[encoded data removed]"
          },
          "metadata": {
            "image/png": {
              "width": 420,
              "height": 420
            }
          }
        },
        {
          "output_type": "stream",
          "name": "stderr",
          "text": [
            "\u001b[1m\u001b[22m`stat_bin()` using `bins = 30`. Pick better value with `binwidth`.\n",
            "Warning message:\n",
            "“\u001b[1m\u001b[22mRemoved 2 rows containing non-finite values (`stat_bin()`).”\n"
          ]
        },
        {
          "output_type": "display_data",
          "data": {
            "text/plain": [
              "plot without title"
            ],
            "image/png": "[encoded data removed]"
          },
          "metadata": {
            "image/png": {
              "width": 420,
              "height": 420
            }
          }
        },
        {
          "output_type": "stream",
          "name": "stderr",
          "text": [
            "\u001b[1m\u001b[22m`stat_bin()` using `bins = 30`. Pick better value with `binwidth`.\n",
            "Warning message:\n",
            "“\u001b[1m\u001b[22mRemoved 9 rows containing non-finite values (`stat_bin()`).”\n"
          ]
        },
        {
          "output_type": "display_data",
          "data": {
            "text/plain": [
              "plot without title"
            ],
            "image/png": "[encoded data removed]"
          },
          "metadata": {
            "image/png": {
              "width": 420,
              "height": 420
            }
          }
        },
        {
          "output_type": "stream",
          "name": "stderr",
          "text": [
            "\u001b[1m\u001b[22m`stat_bin()` using `bins = 30`. Pick better value with `binwidth`.\n"
          ]
        },
        {
          "output_type": "display_data",
          "data": {
            "text/plain": [
              "plot without title"
            ],
            "image/png": "[encoded data removed]"
          },
          "metadata": {
            "image/png": {
              "width": 420,
              "height": 420
            }
          }
        },
        {
          "output_type": "display_data",
          "data": {
            "text/plain": [
              "plot without title"
            ],
            "image/png": "[encoded data removed]"
          },
          "metadata": {
            "image/png": {
              "width": 420,
              "height": 420
            }
          }
        }
      ]
    },
    {
      "cell_type": "markdown",
      "source": [
        "##Answer to question 2: \n",
        "\n",
        "1. weeks is length of pregnancy: numerical \n",
        "2.premie describes the prematurity of the birth: categorical (levels = \"premie\" {for premature} and \"full term\") \n",
        "3. visits is visits to hospital by mother during pregnancy: numerical \n",
        "4. gained weight is weight mom gained during pregnancy: numerical \n",
        "5. lowbirthweigth is the whether or not the baby is classified as having a high or low birth rate: categorical (levels = \"low\" or \"not low\") \n",
        "6. gender is the gender of the child: categorical (levels = \"male\" and \"female\") \n",
        "7. habit is whether the mother is a smoker or nonsmoker: categorical (levels = \"smoker\" and \"nonsmoker\") \n",
        "8. marital is whether the mother is married or not married: categorical (levels  =\"married\" and \"not married\")\n",
        "9. white mom is whehter the mother of the child is white or not (levels = \"white\" and \"not white\") \n",
        "10. fage is the father's age: numerical \n",
        "11. mage is the mother's age: numerical \n",
        "12. maturity is level of maturity: categorical (levels = \"mature mom\" and \"younger mom\") \n",
        "\n",
        "For the father's age, we have two outlier points near 50; for the mother's age, we have one outlier point near 50; for visits, we have an outlier point near 30. For weeks, we have an outlier case before 20, and for weight, we have no significant outliers in our data. \n",
        "\n"
      ],
      "metadata": {
        "id": "Gd41_5iGYuh7"
      }
    },
    {
      "cell_type": "code",
      "source": [
        "set.seed(8675309)"
      ],
      "metadata": {
        "id": "4Gz0Y8WNTHW8"
      },
      "execution_count": 5,
      "outputs": []
    },
    {
      "cell_type": "code",
      "source": [
        "##code for question 3 \n",
        "set.seed(8675309)\n",
        "ncbirths_white <- ncbirths %>%\n",
        "  filter(whitemom == \"white\")   \n",
        "\n",
        "nrow(ncbirths_white)\n",
        "\n",
        "birth_weight_mean = mean(ncbirths_white$weight)\n",
        "print(birth_weight_mean) \n",
        "\n"
      ],
      "metadata": {
        "id": "lxmLmQbJ4-n3",
        "colab": {
          "base_uri": "https://localhost:8080/",
          "height": 52
        },
        "outputId": "38439756-1c4f-4ff1-ecc5-d6974d1ef635"
      },
      "execution_count": 6,
      "outputs": [
        {
          "output_type": "display_data",
          "data": {
            "text/html": [
              "714"
            ],
            "text/markdown": "714",
            "text/latex": "714",
            "text/plain": [
              "[1] 714"
            ]
          },
          "metadata": {}
        },
        {
          "output_type": "stream",
          "name": "stdout",
          "text": [
            "[1] 7.250462\n"
          ]
        }
      ]
    },
    {
      "cell_type": "markdown",
      "source": [
        "##ANSWER TO QUESTION 3 \n",
        "\n",
        "Mean birth weight is 7.25 lbs\n"
      ],
      "metadata": {
        "id": "NrxeEjyQbthl"
      }
    },
    {
      "cell_type": "markdown",
      "source": [
        "##ANSWER TO QUESTION 4 \n",
        "\n",
        "According to the slides on inference, we need to first answer the questions \"How many variables\", \"What are the types of variables we have?\" and \"What is our research question?\". Our conditions for inference (see link: https://www.khanacademy.org/math/ap-statistics/xfb5d8e68:inference-quantitative-means/one-sample-t-interval-mean/a/reference-conditions-inference-one-mean) are that a sample be random, normal (sample greater than 30), and independent. We are told that the sample we are working with is random; we know that the sample size is greater than 30 and the distribution of the data is approximately normal by the graph above, so the data are normal; since the sample size is so much greater (714), it is also independent given our sample size is <= 71. Thus, the conditions for inference-based simulation are satisfied. "
      ],
      "metadata": {
        "id": "yeeBYboIdQqL"
      }
    },
    {
      "cell_type": "code",
      "source": [
        "##code for question 5 \n",
        "\n",
        "#from slides on Bootstrap distrib  \n",
        "set.seed(8675309)\n",
        "\n",
        "#creating bootstrap distribution\n",
        "boot_df <- ncbirths_white %>%\n",
        "  specify(response = weight) %>%   \n",
        "  generate(reps = 15000, type = \"bootstrap\") %>% \n",
        "  calculate(stat = \"mean\")\n",
        "\n",
        "ggplot(data = boot_df, mapping = aes(x = stat)) +\n",
        "  geom_histogram(binwidth = 0.01) +\n",
        "  labs(title = \"Bootstrap distribution of weight means\")\n",
        "\n",
        "boot_df %>%  \n",
        "  summarise(\n",
        "    lower = quantile(stat, 0.025), \n",
        "    upper = quantile(stat, 0.975),\n",
        "    mean_val = mean(stat)\n",
        "  ) \n",
        "\n",
        "\n",
        "\n",
        "#we are 95% confident weight is between 7.14 and 7.36\n",
        "\n",
        "#shifting bootstrap distribution \n",
        "new_boot_df <- ncbirths_white %>%\n",
        "  specify(response = weight) %>%   \n",
        "  hypothesize(null = \"point\", mu = 7.43) %>% #THIS IS WHAT SHIFTS OUR DATA\n",
        "  generate(reps = 15000, type = \"bootstrap\") %>% \n",
        "  calculate(stat = \"mean\")\n",
        "\n",
        "#visualing the bootstrap distribution\n",
        "\n",
        "ggplot(data = new_boot_df, mapping = aes(x = stat)) +\n",
        "  geom_histogram(binwidth = 0.01) +\n",
        "  labs(title = \"Bootstrap distribution of weight means with shift to null value\")\n",
        "\n",
        "print(mean(new_boot_df$stat))\n",
        "\n",
        "new_boot_df %>% \n",
        "  filter(stat <= 7.25) %>% \n",
        "  summarise(p_value = 2 * (n() / 15000)) \n",
        "\n"
      ],
      "metadata": {
        "colab": {
          "base_uri": "https://localhost:8080/",
          "height": 1000
        },
        "id": "JLgh4h9Sa7GP",
        "outputId": "26d2d1a2-dcd0-4c72-842e-cba950c70d70"
      },
      "execution_count": 7,
      "outputs": [
        {
          "output_type": "display_data",
          "data": {
            "text/html": [
              "<table class=\"dataframe\">\n",
              "<caption>A tibble: 1 × 3</caption>\n",
              "<thead>\n",
              "\t<tr><th scope=col>lower</th><th scope=col>upper</th><th scope=col>mean_val</th></tr>\n",
              "\t<tr><th scope=col>&lt;dbl&gt;</th><th scope=col>&lt;dbl&gt;</th><th scope=col>&lt;dbl&gt;</th></tr>\n",
              "</thead>\n",
              "<tbody>\n",
              "\t<tr><td>7.142121</td><td>7.353883</td><td>7.250095</td></tr>\n",
              "</tbody>\n",
              "</table>\n"
            ],
            "text/markdown": "\nA tibble: 1 × 3\n\n| lower &lt;dbl&gt; | upper &lt;dbl&gt; | mean_val &lt;dbl&gt; |\n|---|---|---|\n| 7.142121 | 7.353883 | 7.250095 |\n\n",
            "text/latex": "A tibble: 1 × 3\n\\begin{tabular}{lll}\n lower & upper & mean\\_val\\\\\n <dbl> & <dbl> & <dbl>\\\\\n\\hline\n\t 7.142121 & 7.353883 & 7.250095\\\\\n\\end{tabular}\n",
            "text/plain": [
              "  lower    upper    mean_val\n",
              "1 7.142121 7.353883 7.250095"
            ]
          },
          "metadata": {}
        },
        {
          "output_type": "display_data",
          "data": {
            "text/plain": [
              "plot without title"
            ],
            "image/png": "[encoded data removed]"
          },
          "metadata": {
            "image/png": {
              "width": 420,
              "height": 420
            }
          }
        },
        {
          "output_type": "stream",
          "name": "stdout",
          "text": [
            "[1] 7.430276\n"
          ]
        },
        {
          "output_type": "display_data",
          "data": {
            "text/html": [
              "<table class=\"dataframe\">\n",
              "<caption>A tibble: 1 × 1</caption>\n",
              "<thead>\n",
              "\t<tr><th scope=col>p_value</th></tr>\n",
              "\t<tr><th scope=col>&lt;dbl&gt;</th></tr>\n",
              "</thead>\n",
              "<tbody>\n",
              "\t<tr><td>8e-04</td></tr>\n",
              "</tbody>\n",
              "</table>\n"
            ],
            "text/markdown": "\nA tibble: 1 × 1\n\n| p_value &lt;dbl&gt; |\n|---|\n| 8e-04 |\n\n",
            "text/latex": "A tibble: 1 × 1\n\\begin{tabular}{l}\n p\\_value\\\\\n <dbl>\\\\\n\\hline\n\t 8e-04\\\\\n\\end{tabular}\n",
            "text/plain": [
              "  p_value\n",
              "1 8e-04  "
            ]
          },
          "metadata": {}
        },
        {
          "output_type": "display_data",
          "data": {
            "text/plain": [
              "plot without title"
            ],
            "image/png": "[encoded data removed]"
          },
          "metadata": {
            "image/png": {
              "width": 420,
              "height": 420
            }
          }
        }
      ]
    },
    {
      "cell_type": "markdown",
      "source": [
        "Because the p value is less than the significance level (5%) at 0.008, we reject the null hypothesis. This means, in the context of the data, that the birth weight has changed. "
      ],
      "metadata": {
        "id": "ZBwLzv_UvdRP"
      }
    },
    {
      "cell_type": "code",
      "source": [
        "##Code for question 6 AND 7 \n",
        "\n",
        "ncbirths_habitgiven <- ncbirths %>% \n",
        "  filter(!is.na(habit)) \n",
        "\n",
        "ncbirths_habitgiven %>% \n",
        "  ggplot(aes(x=habit, y =weight)) + \n",
        "  geom_boxplot() + \n",
        "  labs(x = \"Smoking Habit of Mother\", y = \"Weight of Child\") + \n",
        "  ggtitle('Relationship Between Birth Weight of Children and Whether \\n or Not Their Mother Smoked') + \n",
        "  theme_minimal() + \n",
        "  theme(plot.title = element_text(hjust = 0.5))\n"
      ],
      "metadata": {
        "colab": {
          "base_uri": "https://localhost:8080/",
          "height": 437
        },
        "id": "8g4ne4SvjsbF",
        "outputId": "83f0d05b-a711-4f54-dade-1e97dafa3e52"
      },
      "execution_count": 8,
      "outputs": [
        {
          "output_type": "display_data",
          "data": {
            "text/plain": [
              "plot without title"
            ],
            "image/png": "[encoded data removed]"
          },
          "metadata": {
            "image/png": {
              "width": 420,
              "height": 420
            }
          }
        }
      ]
    },
    {
      "cell_type": "markdown",
      "source": [
        "##ANSWER TO QUESTION 6 \n",
        "\n",
        "From the boxplot it seems like the median weight of children whose mother's are self-identified smokers is lower. "
      ],
      "metadata": {
        "id": "cnWIAiHy5cti"
      }
    },
    {
      "cell_type": "code",
      "source": [],
      "metadata": {
        "id": "tbBCeCDIbIUO"
      },
      "execution_count": 9,
      "outputs": []
    },
    {
      "cell_type": "code",
      "source": [
        "ncbirths_habitgiven %>% \n",
        "  group_by(habit) %>% \n",
        "  summarise(mean_weight = mean(weight))"
      ],
      "metadata": {
        "colab": {
          "base_uri": "https://localhost:8080/",
          "height": 161
        },
        "id": "OSD3aq8Z23EK",
        "outputId": "cba8397e-1f4a-497c-deb5-2b7ad2a58edb"
      },
      "execution_count": 10,
      "outputs": [
        {
          "output_type": "display_data",
          "data": {
            "text/html": [
              "<table class=\"dataframe\">\n",
              "<caption>A tibble: 2 × 2</caption>\n",
              "<thead>\n",
              "\t<tr><th scope=col>habit</th><th scope=col>mean_weight</th></tr>\n",
              "\t<tr><th scope=col>&lt;fct&gt;</th><th scope=col>&lt;dbl&gt;</th></tr>\n",
              "</thead>\n",
              "<tbody>\n",
              "\t<tr><td>nonsmoker</td><td>7.144273</td></tr>\n",
              "\t<tr><td>smoker   </td><td>6.828730</td></tr>\n",
              "</tbody>\n",
              "</table>\n"
            ],
            "text/markdown": "\nA tibble: 2 × 2\n\n| habit &lt;fct&gt; | mean_weight &lt;dbl&gt; |\n|---|---|\n| nonsmoker | 7.144273 |\n| smoker    | 6.828730 |\n\n",
            "text/latex": "A tibble: 2 × 2\n\\begin{tabular}{ll}\n habit & mean\\_weight\\\\\n <fct> & <dbl>\\\\\n\\hline\n\t nonsmoker & 7.144273\\\\\n\t smoker    & 6.828730\\\\\n\\end{tabular}\n",
            "text/plain": [
              "  habit     mean_weight\n",
              "1 nonsmoker 7.144273   \n",
              "2 smoker    6.828730   "
            ]
          },
          "metadata": {}
        }
      ]
    },
    {
      "cell_type": "markdown",
      "source": [
        "##ANSWER TO QUESTION 7 \n",
        "\n",
        "Null Hypothesis: The average weight of a baby born to a mother who is a smoker is the same as that for nonsmokers\n",
        "\n",
        "$H_0: p = mean(weight)$ <br> \n",
        "$H_A: \\hat{p} (!=) mean(weight)$\n",
        "\n",
        "Alternative Hypothesis: The average weight of a given infant is not the same if its mother is a smoker versus \n"
      ],
      "metadata": {
        "id": "Ml7WSYjT7O02"
      }
    },
    {
      "cell_type": "markdown",
      "source": [
        "##ANSWER to QUESTION 8 \n",
        "\n",
        "The conditions are met for inference in this case because the data are random and \n",
        "the sample size is sufficiently large >= 30 for normality and for independence if the sample size is kepts at <=100, categorical data can not have a normal distribution. "
      ],
      "metadata": {
        "id": "p_zWV4F2FZJy"
      }
    },
    {
      "cell_type": "code",
      "source": [
        "#ANSWER the \n",
        "\n",
        "set.seed(8675309)\n",
        "\n",
        "ncbirths_habitgiven %>% \n",
        "  filter(habit == \"smoker\") %>%\n",
        "  summarise(mean_weight = mean(weight))\n",
        "\n",
        "ncbirths_habitgiven %>% \n",
        "  filter(habit == \"nonsmoker\") %>% \n",
        "  summarise(mean_weight = mean(weight)) \n",
        "\n",
        "result_mean_diff <- (7.14-6.83)\n",
        "\n",
        "\n",
        "null_dist <- ncbirths_habitgiven %>% \n",
        "  specify(response = weight, explanatory = habit) %>%\n",
        "  hypothesize(null = \"independence\") %>%\n",
        "  generate(reps = 15000, type = \"permute\") %>% \n",
        "  calculate(\"diff in means\", order = c(\"smoker\", \"nonsmoker\")) \n",
        "\n",
        "null_dist\n",
        "\n",
        "ggplot(data = null_dist, mapping = aes(x = stat)) +\n",
        "  geom_histogram(binwidth = 0.05) +\n",
        "  labs(title = \"Null distribution\")  \n",
        "\n",
        "null_dist %>%  \n",
        "  summarise(\n",
        "    lower = quantile(stat, 0.025), \n",
        "    upper = quantile(stat, 0.975)\n",
        "  ) \n",
        "\n",
        "null_dist %>%\n",
        "  filter(stat >= result_mean_diff) %>%\n",
        "  summarise(p_value = n()/nrow(null_dist)) \n",
        "\n",
        "#https://michaelminn.net/tutorials/r-hypothesis-tests/index.html "
      ],
      "metadata": {
        "id": "6uc9u-pz-VgA",
        "colab": {
          "base_uri": "https://localhost:8080/",
          "height": 1000
        },
        "outputId": "25c3c11d-b6c7-479c-801a-4a72f0402546"
      },
      "execution_count": 11,
      "outputs": [
        {
          "output_type": "display_data",
          "data": {
            "text/html": [
              "<table class=\"dataframe\">\n",
              "<caption>A tibble: 1 × 1</caption>\n",
              "<thead>\n",
              "\t<tr><th scope=col>mean_weight</th></tr>\n",
              "\t<tr><th scope=col>&lt;dbl&gt;</th></tr>\n",
              "</thead>\n",
              "<tbody>\n",
              "\t<tr><td>6.82873</td></tr>\n",
              "</tbody>\n",
              "</table>\n"
            ],
            "text/markdown": "\nA tibble: 1 × 1\n\n| mean_weight &lt;dbl&gt; |\n|---|\n| 6.82873 |\n\n",
            "text/latex": "A tibble: 1 × 1\n\\begin{tabular}{l}\n mean\\_weight\\\\\n <dbl>\\\\\n\\hline\n\t 6.82873\\\\\n\\end{tabular}\n",
            "text/plain": [
              "  mean_weight\n",
              "1 6.82873    "
            ]
          },
          "metadata": {}
        },
        {
          "output_type": "display_data",
          "data": {
            "text/html": [
              "<table class=\"dataframe\">\n",
              "<caption>A tibble: 1 × 1</caption>\n",
              "<thead>\n",
              "\t<tr><th scope=col>mean_weight</th></tr>\n",
              "\t<tr><th scope=col>&lt;dbl&gt;</th></tr>\n",
              "</thead>\n",
              "<tbody>\n",
              "\t<tr><td>7.144273</td></tr>\n",
              "</tbody>\n",
              "</table>\n"
            ],
            "text/markdown": "\nA tibble: 1 × 1\n\n| mean_weight &lt;dbl&gt; |\n|---|\n| 7.144273 |\n\n",
            "text/latex": "A tibble: 1 × 1\n\\begin{tabular}{l}\n mean\\_weight\\\\\n <dbl>\\\\\n\\hline\n\t 7.144273\\\\\n\\end{tabular}\n",
            "text/plain": [
              "  mean_weight\n",
              "1 7.144273   "
            ]
          },
          "metadata": {}
        },
        {
          "output_type": "display_data",
          "data": {
            "text/html": [
              "<table class=\"dataframe\">\n",
              "<caption>A infer: 15000 × 2</caption>\n",
              "<thead>\n",
              "\t<tr><th scope=col>replicate</th><th scope=col>stat</th></tr>\n",
              "\t<tr><th scope=col>&lt;int&gt;</th><th scope=col>&lt;dbl&gt;</th></tr>\n",
              "</thead>\n",
              "<tbody>\n",
              "\t<tr><td> 1</td><td>-0.13208640</td></tr>\n",
              "\t<tr><td> 2</td><td> 0.05727295</td></tr>\n",
              "\t<tr><td> 3</td><td>-0.05261905</td></tr>\n",
              "\t<tr><td> 4</td><td> 0.06862543</td></tr>\n",
              "\t<tr><td> 5</td><td> 0.15826460</td></tr>\n",
              "\t<tr><td> 6</td><td> 0.28895434</td></tr>\n",
              "\t<tr><td> 7</td><td> 0.14772950</td></tr>\n",
              "\t<tr><td> 8</td><td>-0.05688758</td></tr>\n",
              "\t<tr><td> 9</td><td> 0.05291360</td></tr>\n",
              "\t<tr><td>10</td><td> 0.02984536</td></tr>\n",
              "\t<tr><td>11</td><td>-0.06079283</td></tr>\n",
              "\t<tr><td>12</td><td> 0.08860579</td></tr>\n",
              "\t<tr><td>13</td><td>-0.28711586</td></tr>\n",
              "\t<tr><td>14</td><td>-0.05943054</td></tr>\n",
              "\t<tr><td>15</td><td>-0.15787923</td></tr>\n",
              "\t<tr><td>16</td><td> 0.15236132</td></tr>\n",
              "\t<tr><td>17</td><td>-0.03054983</td></tr>\n",
              "\t<tr><td>18</td><td>-0.19348061</td></tr>\n",
              "\t<tr><td>19</td><td> 0.08588120</td></tr>\n",
              "\t<tr><td>20</td><td>-0.10711095</td></tr>\n",
              "\t<tr><td>21</td><td> 0.08797005</td></tr>\n",
              "\t<tr><td>22</td><td>-0.10111684</td></tr>\n",
              "\t<tr><td>23</td><td> 0.01967354</td></tr>\n",
              "\t<tr><td>24</td><td> 0.06435690</td></tr>\n",
              "\t<tr><td>25</td><td> 0.13537801</td></tr>\n",
              "\t<tr><td>26</td><td> 0.23119293</td></tr>\n",
              "\t<tr><td>27</td><td>-0.11473981</td></tr>\n",
              "\t<tr><td>28</td><td> 0.16589347</td></tr>\n",
              "\t<tr><td>29</td><td> 0.16153412</td></tr>\n",
              "\t<tr><td>30</td><td>-0.12863525</td></tr>\n",
              "\t<tr><td>⋮</td><td>⋮</td></tr>\n",
              "\t<tr><td>14971</td><td> 0.1378301424</td></tr>\n",
              "\t<tr><td>14972</td><td>-0.1215513009</td></tr>\n",
              "\t<tr><td>14973</td><td> 0.1031369661</td></tr>\n",
              "\t<tr><td>14974</td><td>-0.1195532646</td></tr>\n",
              "\t<tr><td>14975</td><td> 0.1845115366</td></tr>\n",
              "\t<tr><td>14976</td><td>-0.1596956308</td></tr>\n",
              "\t<tr><td>14977</td><td> 0.1368311242</td></tr>\n",
              "\t<tr><td>14978</td><td> 0.2040378007</td></tr>\n",
              "\t<tr><td>14979</td><td>-0.0785027000</td></tr>\n",
              "\t<tr><td>14980</td><td> 0.1554491900</td></tr>\n",
              "\t<tr><td>14981</td><td> 0.1896882671</td></tr>\n",
              "\t<tr><td>14982</td><td> 0.0817943054</td></tr>\n",
              "\t<tr><td>14983</td><td> 0.0922385862</td></tr>\n",
              "\t<tr><td>14984</td><td>-0.1201890034</td></tr>\n",
              "\t<tr><td>14985</td><td>-0.1213696613</td></tr>\n",
              "\t<tr><td>14986</td><td>-0.0448085420</td></tr>\n",
              "\t<tr><td>14987</td><td> 0.2586205204</td></tr>\n",
              "\t<tr><td>14988</td><td> 0.0633578792</td></tr>\n",
              "\t<tr><td>14989</td><td> 0.1005031910</td></tr>\n",
              "\t<tr><td>14990</td><td> 0.1041359843</td></tr>\n",
              "\t<tr><td>14991</td><td> 0.0025994109</td></tr>\n",
              "\t<tr><td>14992</td><td> 0.0136794305</td></tr>\n",
              "\t<tr><td>14993</td><td> 0.0003289151</td></tr>\n",
              "\t<tr><td>14994</td><td> 0.1121281296</td></tr>\n",
              "\t<tr><td>14995</td><td>-0.0339101620</td></tr>\n",
              "\t<tr><td>14996</td><td> 0.0692611684</td></tr>\n",
              "\t<tr><td>14997</td><td>-0.0415390280</td></tr>\n",
              "\t<tr><td>14998</td><td>-0.0255547374</td></tr>\n",
              "\t<tr><td>14999</td><td>-0.3957363770</td></tr>\n",
              "\t<tr><td>15000</td><td>-0.1423490427</td></tr>\n",
              "</tbody>\n",
              "</table>\n"
            ],
            "text/markdown": "\nA infer: 15000 × 2\n\n| replicate &lt;int&gt; | stat &lt;dbl&gt; |\n|---|---|\n|  1 | -0.13208640 |\n|  2 |  0.05727295 |\n|  3 | -0.05261905 |\n|  4 |  0.06862543 |\n|  5 |  0.15826460 |\n|  6 |  0.28895434 |\n|  7 |  0.14772950 |\n|  8 | -0.05688758 |\n|  9 |  0.05291360 |\n| 10 |  0.02984536 |\n| 11 | -0.06079283 |\n| 12 |  0.08860579 |\n| 13 | -0.28711586 |\n| 14 | -0.05943054 |\n| 15 | -0.15787923 |\n| 16 |  0.15236132 |\n| 17 | -0.03054983 |\n| 18 | -0.19348061 |\n| 19 |  0.08588120 |\n| 20 | -0.10711095 |\n| 21 |  0.08797005 |\n| 22 | -0.10111684 |\n| 23 |  0.01967354 |\n| 24 |  0.06435690 |\n| 25 |  0.13537801 |\n| 26 |  0.23119293 |\n| 27 | -0.11473981 |\n| 28 |  0.16589347 |\n| 29 |  0.16153412 |\n| 30 | -0.12863525 |\n| ⋮ | ⋮ |\n| 14971 |  0.1378301424 |\n| 14972 | -0.1215513009 |\n| 14973 |  0.1031369661 |\n| 14974 | -0.1195532646 |\n| 14975 |  0.1845115366 |\n| 14976 | -0.1596956308 |\n| 14977 |  0.1368311242 |\n| 14978 |  0.2040378007 |\n| 14979 | -0.0785027000 |\n| 14980 |  0.1554491900 |\n| 14981 |  0.1896882671 |\n| 14982 |  0.0817943054 |\n| 14983 |  0.0922385862 |\n| 14984 | -0.1201890034 |\n| 14985 | -0.1213696613 |\n| 14986 | -0.0448085420 |\n| 14987 |  0.2586205204 |\n| 14988 |  0.0633578792 |\n| 14989 |  0.1005031910 |\n| 14990 |  0.1041359843 |\n| 14991 |  0.0025994109 |\n| 14992 |  0.0136794305 |\n| 14993 |  0.0003289151 |\n| 14994 |  0.1121281296 |\n| 14995 | -0.0339101620 |\n| 14996 |  0.0692611684 |\n| 14997 | -0.0415390280 |\n| 14998 | -0.0255547374 |\n| 14999 | -0.3957363770 |\n| 15000 | -0.1423490427 |\n\n",
            "text/latex": "A infer: 15000 × 2\n\\begin{tabular}{ll}\n replicate & stat\\\\\n <int> & <dbl>\\\\\n\\hline\n\t  1 & -0.13208640\\\\\n\t  2 &  0.05727295\\\\\n\t  3 & -0.05261905\\\\\n\t  4 &  0.06862543\\\\\n\t  5 &  0.15826460\\\\\n\t  6 &  0.28895434\\\\\n\t  7 &  0.14772950\\\\\n\t  8 & -0.05688758\\\\\n\t  9 &  0.05291360\\\\\n\t 10 &  0.02984536\\\\\n\t 11 & -0.06079283\\\\\n\t 12 &  0.08860579\\\\\n\t 13 & -0.28711586\\\\\n\t 14 & -0.05943054\\\\\n\t 15 & -0.15787923\\\\\n\t 16 &  0.15236132\\\\\n\t 17 & -0.03054983\\\\\n\t 18 & -0.19348061\\\\\n\t 19 &  0.08588120\\\\\n\t 20 & -0.10711095\\\\\n\t 21 &  0.08797005\\\\\n\t 22 & -0.10111684\\\\\n\t 23 &  0.01967354\\\\\n\t 24 &  0.06435690\\\\\n\t 25 &  0.13537801\\\\\n\t 26 &  0.23119293\\\\\n\t 27 & -0.11473981\\\\\n\t 28 &  0.16589347\\\\\n\t 29 &  0.16153412\\\\\n\t 30 & -0.12863525\\\\\n\t ⋮ & ⋮\\\\\n\t 14971 &  0.1378301424\\\\\n\t 14972 & -0.1215513009\\\\\n\t 14973 &  0.1031369661\\\\\n\t 14974 & -0.1195532646\\\\\n\t 14975 &  0.1845115366\\\\\n\t 14976 & -0.1596956308\\\\\n\t 14977 &  0.1368311242\\\\\n\t 14978 &  0.2040378007\\\\\n\t 14979 & -0.0785027000\\\\\n\t 14980 &  0.1554491900\\\\\n\t 14981 &  0.1896882671\\\\\n\t 14982 &  0.0817943054\\\\\n\t 14983 &  0.0922385862\\\\\n\t 14984 & -0.1201890034\\\\\n\t 14985 & -0.1213696613\\\\\n\t 14986 & -0.0448085420\\\\\n\t 14987 &  0.2586205204\\\\\n\t 14988 &  0.0633578792\\\\\n\t 14989 &  0.1005031910\\\\\n\t 14990 &  0.1041359843\\\\\n\t 14991 &  0.0025994109\\\\\n\t 14992 &  0.0136794305\\\\\n\t 14993 &  0.0003289151\\\\\n\t 14994 &  0.1121281296\\\\\n\t 14995 & -0.0339101620\\\\\n\t 14996 &  0.0692611684\\\\\n\t 14997 & -0.0415390280\\\\\n\t 14998 & -0.0255547374\\\\\n\t 14999 & -0.3957363770\\\\\n\t 15000 & -0.1423490427\\\\\n\\end{tabular}\n",
            "text/plain": [
              "      replicate stat         \n",
              "1      1        -0.13208640  \n",
              "2      2         0.05727295  \n",
              "3      3        -0.05261905  \n",
              "4      4         0.06862543  \n",
              "5      5         0.15826460  \n",
              "6      6         0.28895434  \n",
              "7      7         0.14772950  \n",
              "8      8        -0.05688758  \n",
              "9      9         0.05291360  \n",
              "10    10         0.02984536  \n",
              "11    11        -0.06079283  \n",
              "12    12         0.08860579  \n",
              "13    13        -0.28711586  \n",
              "14    14        -0.05943054  \n",
              "15    15        -0.15787923  \n",
              "16    16         0.15236132  \n",
              "17    17        -0.03054983  \n",
              "18    18        -0.19348061  \n",
              "19    19         0.08588120  \n",
              "20    20        -0.10711095  \n",
              "21    21         0.08797005  \n",
              "22    22        -0.10111684  \n",
              "23    23         0.01967354  \n",
              "24    24         0.06435690  \n",
              "25    25         0.13537801  \n",
              "26    26         0.23119293  \n",
              "27    27        -0.11473981  \n",
              "28    28         0.16589347  \n",
              "29    29         0.16153412  \n",
              "30    30        -0.12863525  \n",
              "⋮     ⋮         ⋮            \n",
              "14971 14971      0.1378301424\n",
              "14972 14972     -0.1215513009\n",
              "14973 14973      0.1031369661\n",
              "14974 14974     -0.1195532646\n",
              "14975 14975      0.1845115366\n",
              "14976 14976     -0.1596956308\n",
              "14977 14977      0.1368311242\n",
              "14978 14978      0.2040378007\n",
              "14979 14979     -0.0785027000\n",
              "14980 14980      0.1554491900\n",
              "14981 14981      0.1896882671\n",
              "14982 14982      0.0817943054\n",
              "14983 14983      0.0922385862\n",
              "14984 14984     -0.1201890034\n",
              "14985 14985     -0.1213696613\n",
              "14986 14986     -0.0448085420\n",
              "14987 14987      0.2586205204\n",
              "14988 14988      0.0633578792\n",
              "14989 14989      0.1005031910\n",
              "14990 14990      0.1041359843\n",
              "14991 14991      0.0025994109\n",
              "14992 14992      0.0136794305\n",
              "14993 14993      0.0003289151\n",
              "14994 14994      0.1121281296\n",
              "14995 14995     -0.0339101620\n",
              "14996 14996      0.0692611684\n",
              "14997 14997     -0.0415390280\n",
              "14998 14998     -0.0255547374\n",
              "14999 14999     -0.3957363770\n",
              "15000 15000     -0.1423490427"
            ]
          },
          "metadata": {}
        },
        {
          "output_type": "display_data",
          "data": {
            "text/html": [
              "<table class=\"dataframe\">\n",
              "<caption>A tibble: 1 × 2</caption>\n",
              "<thead>\n",
              "\t<tr><th scope=col>lower</th><th scope=col>upper</th></tr>\n",
              "\t<tr><th scope=col>&lt;dbl&gt;</th><th scope=col>&lt;dbl&gt;</th></tr>\n",
              "</thead>\n",
              "<tbody>\n",
              "\t<tr><td>-0.2806018</td><td>0.2705247</td></tr>\n",
              "</tbody>\n",
              "</table>\n"
            ],
            "text/markdown": "\nA tibble: 1 × 2\n\n| lower &lt;dbl&gt; | upper &lt;dbl&gt; |\n|---|---|\n| -0.2806018 | 0.2705247 |\n\n",
            "text/latex": "A tibble: 1 × 2\n\\begin{tabular}{ll}\n lower & upper\\\\\n <dbl> & <dbl>\\\\\n\\hline\n\t -0.2806018 & 0.2705247\\\\\n\\end{tabular}\n",
            "text/plain": [
              "  lower      upper    \n",
              "1 -0.2806018 0.2705247"
            ]
          },
          "metadata": {}
        },
        {
          "output_type": "display_data",
          "data": {
            "text/html": [
              "<table class=\"dataframe\">\n",
              "<caption>A tibble: 1 × 1</caption>\n",
              "<thead>\n",
              "\t<tr><th scope=col>p_value</th></tr>\n",
              "\t<tr><th scope=col>&lt;dbl&gt;</th></tr>\n",
              "</thead>\n",
              "<tbody>\n",
              "\t<tr><td>0.012</td></tr>\n",
              "</tbody>\n",
              "</table>\n"
            ],
            "text/markdown": "\nA tibble: 1 × 1\n\n| p_value &lt;dbl&gt; |\n|---|\n| 0.012 |\n\n",
            "text/latex": "A tibble: 1 × 1\n\\begin{tabular}{l}\n p\\_value\\\\\n <dbl>\\\\\n\\hline\n\t 0.012\\\\\n\\end{tabular}\n",
            "text/plain": [
              "  p_value\n",
              "1 0.012  "
            ]
          },
          "metadata": {}
        },
        {
          "output_type": "display_data",
          "data": {
            "text/plain": [
              "plot without title"
            ],
            "image/png": "[encoded data removed]"
          },
          "metadata": {
            "image/png": {
              "width": 420,
              "height": 420
            }
          }
        }
      ]
    },
    {
      "cell_type": "markdown",
      "source": [
        "##ANSWERS to Question 9/10 \n",
        "\n",
        "Our 95% confidence interval tells us that we are 95% condifent that the difference between birth weights between children whose mothers are smokers versus children of nonsmokers is somewhere between -0.28 lbs and +0.27 lbs with a p-value of 0.012, which tells us that we are justified in rejecting the null hypothesis and that there is indeed a statistically significant difference in birth weights."
      ],
      "metadata": {
        "id": "drOCG_eMFZC7"
      }
    },
    {
      "cell_type": "code",
      "source": [
        "immature_result <- ncbirths %>% \n",
        "  filter(mature == \"younger mom\") %>% \n",
        "  summarise(max(mage))\n",
        "\n",
        "#immature_result\n",
        "\n",
        "mature_result <- ncbirths %>% \n",
        "  filter(mature == \"mature mom\") %>% \n",
        "  summarise(min(mage))\n",
        "\n",
        "#mature_result\n",
        "\n",
        "nrow(ncbirths)\n"
      ],
      "metadata": {
        "colab": {
          "base_uri": "https://localhost:8080/",
          "height": 34
        },
        "id": "nlVlDGgkdszP",
        "outputId": "25c724e6-6fed-4a51-83ab-7e498f783065"
      },
      "execution_count": 12,
      "outputs": [
        {
          "output_type": "display_data",
          "data": {
            "text/html": [
              "1000"
            ],
            "text/markdown": "1000",
            "text/latex": "1000",
            "text/plain": [
              "[1] 1000"
            ]
          },
          "metadata": {}
        }
      ]
    },
    {
      "cell_type": "markdown",
      "source": [
        "##ANSWER TO QUESTION 11: \n",
        "Cutoff between mature and immature falls at 34.5 with all values 34.5 and greater rounded to 35. We get this from just taking the mean of the maximum and and the minimum age."
      ],
      "metadata": {
        "id": "kOSMv0wJiItk"
      }
    },
    {
      "cell_type": "code",
      "source": [
        "##CODE FOR QUESTION 12 \n",
        "\n",
        "ncbirths %>% \n",
        "  filter(mature == \"mature mom\") %>% \n",
        "  filter(weight < 7.25) %>% \n",
        "  summarize(count = n())   \n",
        "\n",
        "ncbirths %>% \n",
        "  filter(weight < 7.25) %>%\n",
        "  summarize(count = n()) \n",
        "\n",
        "ncbirths_naremoved <- ncbirths %>% \n",
        "  filter(!is.na(weight)) %>% \n",
        "  filter(!is.na(mature))\n",
        "\n",
        "#number of mature moms: 133 \n",
        "#number of younge moms: 867\n",
        "#number of low birth weight children: 476\n",
        "#proportion of mature mom's w/ low birth weight children out of mature moms w/low birth weight\n",
        "#children is 63/133 = 0.47\n",
        "#413/867 = 0.47 \n",
        "#proportion of non mature mom's w/o low birth weight children is \n",
        "\n",
        "\n",
        "null_dist <- ncbirths_habitgiven %>% \n",
        "  specify(response = weight, explanatory = mature) %>%\n",
        "  hypothesize(null = \"independence\") %>%\n",
        "  generate(reps = 15000, type = \"draw\") %>% \n",
        "  calculate(\"prop\") \n",
        "\n",
        "null_dist_weights \n",
        "\n",
        "ggplot(data = null_dist, mapping = aes(x = stat)) +\n",
        "  geom_histogram(binwidth = 0.05) +\n",
        "  labs(title = \"Null distribution\")"
      ],
      "metadata": {
        "id": "zQthtYd1fO6p",
        "colab": {
          "base_uri": "https://localhost:8080/",
          "height": 619
        },
        "outputId": "e453f36b-058e-440f-c8e0-f49bb77b2c0f"
      },
      "execution_count": 13,
      "outputs": [
        {
          "output_type": "display_data",
          "data": {
            "text/html": [
              "<table class=\"dataframe\">\n",
              "<caption>A tibble: 1 × 1</caption>\n",
              "<thead>\n",
              "\t<tr><th scope=col>count</th></tr>\n",
              "\t<tr><th scope=col>&lt;int&gt;</th></tr>\n",
              "</thead>\n",
              "<tbody>\n",
              "\t<tr><td>63</td></tr>\n",
              "</tbody>\n",
              "</table>\n"
            ],
            "text/markdown": "\nA tibble: 1 × 1\n\n| count &lt;int&gt; |\n|---|\n| 63 |\n\n",
            "text/latex": "A tibble: 1 × 1\n\\begin{tabular}{l}\n count\\\\\n <int>\\\\\n\\hline\n\t 63\\\\\n\\end{tabular}\n",
            "text/plain": [
              "  count\n",
              "1 63   "
            ]
          },
          "metadata": {}
        },
        {
          "output_type": "display_data",
          "data": {
            "text/html": [
              "<table class=\"dataframe\">\n",
              "<caption>A tibble: 1 × 1</caption>\n",
              "<thead>\n",
              "\t<tr><th scope=col>count</th></tr>\n",
              "\t<tr><th scope=col>&lt;int&gt;</th></tr>\n",
              "</thead>\n",
              "<tbody>\n",
              "\t<tr><td>476</td></tr>\n",
              "</tbody>\n",
              "</table>\n"
            ],
            "text/markdown": "\nA tibble: 1 × 1\n\n| count &lt;int&gt; |\n|---|\n| 476 |\n\n",
            "text/latex": "A tibble: 1 × 1\n\\begin{tabular}{l}\n count\\\\\n <int>\\\\\n\\hline\n\t 476\\\\\n\\end{tabular}\n",
            "text/plain": [
              "  count\n",
              "1 476  "
            ]
          },
          "metadata": {}
        },
        {
          "output_type": "stream",
          "name": "stderr",
          "text": [
            "Warning message:\n",
            "“You have given `type = \"draw\"`, but `type` is expected to be `\"permute\"`. This workflow is untested and the results may not mean what you think they mean.”\n"
          ]
        },
        {
          "output_type": "error",
          "ename": "ERROR",
          "evalue": "ignored",
          "traceback": [
            "Error: A proportion is not well-defined for a numeric response variable (weight) and a dichotomous categorical explanatory variable (mature).\nTraceback:\n",
            "1. ncbirths_habitgiven %>% specify(response = weight, explanatory = mature) %>% \n .     hypothesize(null = \"independence\") %>% generate(reps = 15000, \n .     type = \"draw\") %>% calculate(\"prop\")",
            "2. calculate(., \"prop\")",
            "3. check_input_vs_stat(x, stat)",
            "4. stop_glue(\"{get_stat_desc(stat)} is not well-defined for a \", \n .     \"{get_stat_type_desc(response_type)} response variable \", \n .     \"({response_name(x)}) and \", msg_tail)",
            "5. stop(glue_null(..., .sep = .sep, .envir = .envir), call. = call., \n .     domain = .domain)"
          ]
        }
      ]
    },
    {
      "cell_type": "code",
      "source": [
        "#attempt 2 for coding question 12: \n",
        "\n",
        "\n",
        "nc_births_alt <- ncbirths %>%\n",
        "  mutate(\n",
        "    mature = fct_recode(\n",
        "      mature,\n",
        "      '0' = \"mature mom\",\n",
        "      '1' = \"younger mom\",\n",
        "    )\n",
        "  )  \n",
        "\n",
        "\n",
        "null_dist <- ncbirths %>%\n",
        "  specify(response = weight, explanatory = mature) %>%\n",
        "  hypothesize(null = \"point\", mu = 7.25) %>% \n",
        "  generate(reps = 100, type = \"bootstrap\") %>% \n",
        "  calculate(stat = \"t\", order = c(\"mature mom\", \"younger mom\")) \n",
        "\n",
        "null_dist %>%  \n",
        "  summarise(\n",
        "    lower = quantile(stat, 0.025), \n",
        "    upper = quantile(stat, 0.975)\n",
        "  )   \n",
        "\n",
        "null_dist %>%\n",
        "  filter(stat <= 7.25) %>%\n",
        "  summarise(p_value = n()/nrow(null_dist))\n",
        "  "
      ],
      "metadata": {
        "colab": {
          "base_uri": "https://localhost:8080/",
          "height": 259
        },
        "id": "wfQikoin6riO",
        "outputId": "5eeec083-3830-49c2-c489-3b14f039356f"
      },
      "execution_count": 31,
      "outputs": [
        {
          "output_type": "display_data",
          "data": {
            "text/html": [
              "<table class=\"dataframe\">\n",
              "<caption>A tibble: 1 × 2</caption>\n",
              "<thead>\n",
              "\t<tr><th scope=col>lower</th><th scope=col>upper</th></tr>\n",
              "\t<tr><th scope=col>&lt;dbl&gt;</th><th scope=col>&lt;dbl&gt;</th></tr>\n",
              "</thead>\n",
              "<tbody>\n",
              "\t<tr><td>-2.048776</td><td>2.069539</td></tr>\n",
              "</tbody>\n",
              "</table>\n"
            ],
            "text/markdown": "\nA tibble: 1 × 2\n\n| lower &lt;dbl&gt; | upper &lt;dbl&gt; |\n|---|---|\n| -2.048776 | 2.069539 |\n\n",
            "text/latex": "A tibble: 1 × 2\n\\begin{tabular}{ll}\n lower & upper\\\\\n <dbl> & <dbl>\\\\\n\\hline\n\t -2.048776 & 2.069539\\\\\n\\end{tabular}\n",
            "text/plain": [
              "  lower     upper   \n",
              "1 -2.048776 2.069539"
            ]
          },
          "metadata": {}
        },
        {
          "output_type": "display_data",
          "data": {
            "text/html": [
              "<table class=\"dataframe\">\n",
              "<caption>A tibble: 1 × 1</caption>\n",
              "<thead>\n",
              "\t<tr><th scope=col>p_value</th></tr>\n",
              "\t<tr><th scope=col>&lt;dbl&gt;</th></tr>\n",
              "</thead>\n",
              "<tbody>\n",
              "\t<tr><td>1</td></tr>\n",
              "</tbody>\n",
              "</table>\n"
            ],
            "text/markdown": "\nA tibble: 1 × 1\n\n| p_value &lt;dbl&gt; |\n|---|\n| 1 |\n\n",
            "text/latex": "A tibble: 1 × 1\n\\begin{tabular}{l}\n p\\_value\\\\\n <dbl>\\\\\n\\hline\n\t 1\\\\\n\\end{tabular}\n",
            "text/plain": [
              "  p_value\n",
              "1 1      "
            ]
          },
          "metadata": {}
        }
      ]
    },
    {
      "cell_type": "markdown",
      "source": [
        "##ANSWER TO QUESTION 12 \n",
        "\n",
        "For this test, we wanted to know whether the proportion of low birth weight babies is higher for mature mothers. This is a one sided hyphothesis, so we state it as: \n",
        "\n",
        "$H_0: p = weight_{younger}$ <br> \n",
        "$H_A: \\hat{p} > weight_{younger}$ <br> \n",
        "\n",
        "Because we have 1000 data points which will be randomly sampled from, we expect a normal distribution for samples of size < 100. Thus, the conditions for inference are met.\n",
        "The p value is 1 and thus the null hypothesis can be rejected."
      ],
      "metadata": {
        "id": "QUGiXDm9j5Tr"
      }
    },
    {
      "cell_type": "code",
      "source": [],
      "metadata": {
        "id": "0cIj-gEpmerz"
      },
      "execution_count": null,
      "outputs": []
    }
  ]
}