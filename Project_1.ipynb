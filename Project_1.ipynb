{
  "nbformat": 4,
  "nbformat_minor": 0,
  "metadata": {
    "colab": {
      "provenance": [],
      "collapsed_sections": [],
      "authorship_tag": "ABX9TyNytyX7q3uWa+T79PAVCJjG",
      "include_colab_link": true
    },
    "kernelspec": {
      "name": "ir",
      "display_name": "R"
    },
    "language_info": {
      "name": "R"
    }
  },
  "cells": [
    {
      "cell_type": "markdown",
      "metadata": {
        "id": "view-in-github",
        "colab_type": "text"
      },
      "source": [
        "<a href=\"https://colab.research.google.com/github/KyleSprague/DCS_210/blob/main/Project_1.ipynb\" target=\"_parent\"><img src=\"https://colab.research.google.com/assets/colab-badge.svg\" alt=\"Open In Colab\"/></a>"
      ]
    },
    {
      "cell_type": "code",
      "execution_count": 1,
      "metadata": {
        "colab": {
          "base_uri": "https://localhost:8080/"
        },
        "id": "h7QEnlJkK7Eu",
        "outputId": "a71370f7-3ee2-416b-a185-c368dabc528d"
      },
      "outputs": [
        {
          "output_type": "stream",
          "name": "stderr",
          "text": [
            "Installing package into ‘/usr/local/lib/R/site-library’\n",
            "(as ‘lib’ is unspecified)\n",
            "\n"
          ]
        }
      ],
      "source": [
        "install.packages(\"fivethirtyeight\") #installing package with Bechnel test data set"
      ]
    },
    {
      "cell_type": "code",
      "source": [
        "install.packages(\"tidyverse\") #installing package with R functions"
      ],
      "metadata": {
        "colab": {
          "base_uri": "https://localhost:8080/"
        },
        "id": "-86mGvA5LyFD",
        "outputId": "95865dc7-7114-4f27-f78e-64623e985858"
      },
      "execution_count": 2,
      "outputs": [
        {
          "output_type": "stream",
          "name": "stderr",
          "text": [
            "Installing package into ‘/usr/local/lib/R/site-library’\n",
            "(as ‘lib’ is unspecified)\n",
            "\n"
          ]
        }
      ]
    },
    {
      "cell_type": "code",
      "source": [
        "library(fivethirtyeight) \n",
        "library(tidyverse)"
      ],
      "metadata": {
        "colab": {
          "base_uri": "https://localhost:8080/"
        },
        "id": "z3OIcvz7MC5W",
        "outputId": "dbad74fa-ea51-475c-a1f1-da84378520b8"
      },
      "execution_count": 3,
      "outputs": [
        {
          "output_type": "stream",
          "name": "stderr",
          "text": [
            "Some larger datasets need to be installed separately, like senators and\n",
            "house_district_forecast. To install these, we recommend you install the\n",
            "fivethirtyeightdata package by running:\n",
            "install.packages('fivethirtyeightdata', repos =\n",
            "'https://fivethirtyeightdata.github.io/drat/', type = 'source')\n",
            "\n",
            "Warning message in system(\"timedatectl\", intern = TRUE):\n",
            "“running command 'timedatectl' had status 1”\n",
            "── \u001b[1mAttaching packages\u001b[22m ─────────────────────────────────────── tidyverse 1.3.2 ──\n",
            "\u001b[32m✔\u001b[39m \u001b[34mggplot2\u001b[39m 3.3.6      \u001b[32m✔\u001b[39m \u001b[34mpurrr  \u001b[39m 0.3.4 \n",
            "\u001b[32m✔\u001b[39m \u001b[34mtibble \u001b[39m 3.1.7      \u001b[32m✔\u001b[39m \u001b[34mdplyr  \u001b[39m 1.0.10\n",
            "\u001b[32m✔\u001b[39m \u001b[34mtidyr  \u001b[39m 1.2.1      \u001b[32m✔\u001b[39m \u001b[34mstringr\u001b[39m 1.4.1 \n",
            "\u001b[32m✔\u001b[39m \u001b[34mreadr  \u001b[39m 2.1.2      \u001b[32m✔\u001b[39m \u001b[34mforcats\u001b[39m 0.5.2 \n",
            "── \u001b[1mConflicts\u001b[22m ────────────────────────────────────────── tidyverse_conflicts() ──\n",
            "\u001b[31m✖\u001b[39m \u001b[34mdplyr\u001b[39m::\u001b[32mfilter()\u001b[39m masks \u001b[34mstats\u001b[39m::filter()\n",
            "\u001b[31m✖\u001b[39m \u001b[34mdplyr\u001b[39m::\u001b[32mlag()\u001b[39m    masks \u001b[34mstats\u001b[39m::lag()\n"
          ]
        }
      ]
    },
    {
      "cell_type": "code",
      "source": [
        "?fivethirtyeight\n",
        "\n",
        "#this function tells us that information about the data set can\n",
        "#be found using ?bechdel \n"
      ],
      "metadata": {
        "id": "dfgj0GqqMR4s"
      },
      "execution_count": 4,
      "outputs": []
    },
    {
      "cell_type": "code",
      "source": [
        "?bechdel \n",
        "head(bechdel)"
      ],
      "metadata": {
        "colab": {
          "base_uri": "https://localhost:8080/",
          "height": 428
        },
        "id": "5ixsYqPdMyKC",
        "outputId": "60d45fae-d689-445f-e6f6-2c91c7f1eabe"
      },
      "execution_count": 5,
      "outputs": [
        {
          "output_type": "display_data",
          "data": {
            "text/html": [
              "<table class=\"dataframe\">\n",
              "<caption>A tibble: 6 × 15</caption>\n",
              "<thead>\n",
              "\t<tr><th scope=col>year</th><th scope=col>imdb</th><th scope=col>title</th><th scope=col>test</th><th scope=col>clean_test</th><th scope=col>binary</th><th scope=col>budget</th><th scope=col>domgross</th><th scope=col>intgross</th><th scope=col>code</th><th scope=col>budget_2013</th><th scope=col>domgross_2013</th><th scope=col>intgross_2013</th><th scope=col>period_code</th><th scope=col>decade_code</th></tr>\n",
              "\t<tr><th scope=col>&lt;int&gt;</th><th scope=col>&lt;chr&gt;</th><th scope=col>&lt;chr&gt;</th><th scope=col>&lt;chr&gt;</th><th scope=col>&lt;ord&gt;</th><th scope=col>&lt;chr&gt;</th><th scope=col>&lt;int&gt;</th><th scope=col>&lt;dbl&gt;</th><th scope=col>&lt;dbl&gt;</th><th scope=col>&lt;chr&gt;</th><th scope=col>&lt;int&gt;</th><th scope=col>&lt;dbl&gt;</th><th scope=col>&lt;dbl&gt;</th><th scope=col>&lt;int&gt;</th><th scope=col>&lt;int&gt;</th></tr>\n",
              "</thead>\n",
              "<tbody>\n",
              "\t<tr><td>2013</td><td>tt1711425</td><td><span style=white-space:pre-wrap>21 &amp; Over       </span></td><td><span style=white-space:pre-wrap>notalk         </span></td><td>notalk</td><td>FAIL</td><td> 13000000</td><td>25682380</td><td> 42195766</td><td>2013FAIL</td><td> 13000000</td><td>25682380</td><td> 42195766</td><td>1</td><td>1</td></tr>\n",
              "\t<tr><td>2012</td><td>tt1343727</td><td>Dredd 3D        </td><td>ok-disagree    </td><td>ok    </td><td>PASS</td><td> 45000000</td><td>13414714</td><td> 40868994</td><td>2012PASS</td><td> 45658735</td><td>13611086</td><td> 41467257</td><td>1</td><td>1</td></tr>\n",
              "\t<tr><td>2013</td><td>tt2024544</td><td>12 Years a Slave</td><td>notalk-disagree</td><td>notalk</td><td>FAIL</td><td> 20000000</td><td>53107035</td><td>158607035</td><td>2013FAIL</td><td> 20000000</td><td>53107035</td><td>158607035</td><td>1</td><td>1</td></tr>\n",
              "\t<tr><td>2013</td><td>tt1272878</td><td>2 Guns          </td><td>notalk         </td><td>notalk</td><td>FAIL</td><td> 61000000</td><td>75612460</td><td>132493015</td><td>2013FAIL</td><td> 61000000</td><td>75612460</td><td>132493015</td><td>1</td><td>1</td></tr>\n",
              "\t<tr><td>2013</td><td>tt0453562</td><td>42              </td><td>men            </td><td>men   </td><td>FAIL</td><td> 40000000</td><td>95020213</td><td> 95020213</td><td>2013FAIL</td><td> 40000000</td><td>95020213</td><td> 95020213</td><td>1</td><td>1</td></tr>\n",
              "\t<tr><td>2013</td><td>tt1335975</td><td>47 Ronin        </td><td>men            </td><td>men   </td><td>FAIL</td><td>225000000</td><td>38362475</td><td>145803842</td><td>2013FAIL</td><td>225000000</td><td>38362475</td><td>145803842</td><td>1</td><td>1</td></tr>\n",
              "</tbody>\n",
              "</table>\n"
            ],
            "text/markdown": "\nA tibble: 6 × 15\n\n| year &lt;int&gt; | imdb &lt;chr&gt; | title &lt;chr&gt; | test &lt;chr&gt; | clean_test &lt;ord&gt; | binary &lt;chr&gt; | budget &lt;int&gt; | domgross &lt;dbl&gt; | intgross &lt;dbl&gt; | code &lt;chr&gt; | budget_2013 &lt;int&gt; | domgross_2013 &lt;dbl&gt; | intgross_2013 &lt;dbl&gt; | period_code &lt;int&gt; | decade_code &lt;int&gt; |\n|---|---|---|---|---|---|---|---|---|---|---|---|---|---|---|\n| 2013 | tt1711425 | 21 &amp; Over        | notalk          | notalk | FAIL |  13000000 | 25682380 |  42195766 | 2013FAIL |  13000000 | 25682380 |  42195766 | 1 | 1 |\n| 2012 | tt1343727 | Dredd 3D         | ok-disagree     | ok     | PASS |  45000000 | 13414714 |  40868994 | 2012PASS |  45658735 | 13611086 |  41467257 | 1 | 1 |\n| 2013 | tt2024544 | 12 Years a Slave | notalk-disagree | notalk | FAIL |  20000000 | 53107035 | 158607035 | 2013FAIL |  20000000 | 53107035 | 158607035 | 1 | 1 |\n| 2013 | tt1272878 | 2 Guns           | notalk          | notalk | FAIL |  61000000 | 75612460 | 132493015 | 2013FAIL |  61000000 | 75612460 | 132493015 | 1 | 1 |\n| 2013 | tt0453562 | 42               | men             | men    | FAIL |  40000000 | 95020213 |  95020213 | 2013FAIL |  40000000 | 95020213 |  95020213 | 1 | 1 |\n| 2013 | tt1335975 | 47 Ronin         | men             | men    | FAIL | 225000000 | 38362475 | 145803842 | 2013FAIL | 225000000 | 38362475 | 145803842 | 1 | 1 |\n\n",
            "text/latex": "A tibble: 6 × 15\n\\begin{tabular}{lllllllllllllll}\n year & imdb & title & test & clean\\_test & binary & budget & domgross & intgross & code & budget\\_2013 & domgross\\_2013 & intgross\\_2013 & period\\_code & decade\\_code\\\\\n <int> & <chr> & <chr> & <chr> & <ord> & <chr> & <int> & <dbl> & <dbl> & <chr> & <int> & <dbl> & <dbl> & <int> & <int>\\\\\n\\hline\n\t 2013 & tt1711425 & 21 \\& Over        & notalk          & notalk & FAIL &  13000000 & 25682380 &  42195766 & 2013FAIL &  13000000 & 25682380 &  42195766 & 1 & 1\\\\\n\t 2012 & tt1343727 & Dredd 3D         & ok-disagree     & ok     & PASS &  45000000 & 13414714 &  40868994 & 2012PASS &  45658735 & 13611086 &  41467257 & 1 & 1\\\\\n\t 2013 & tt2024544 & 12 Years a Slave & notalk-disagree & notalk & FAIL &  20000000 & 53107035 & 158607035 & 2013FAIL &  20000000 & 53107035 & 158607035 & 1 & 1\\\\\n\t 2013 & tt1272878 & 2 Guns           & notalk          & notalk & FAIL &  61000000 & 75612460 & 132493015 & 2013FAIL &  61000000 & 75612460 & 132493015 & 1 & 1\\\\\n\t 2013 & tt0453562 & 42               & men             & men    & FAIL &  40000000 & 95020213 &  95020213 & 2013FAIL &  40000000 & 95020213 &  95020213 & 1 & 1\\\\\n\t 2013 & tt1335975 & 47 Ronin         & men             & men    & FAIL & 225000000 & 38362475 & 145803842 & 2013FAIL & 225000000 & 38362475 & 145803842 & 1 & 1\\\\\n\\end{tabular}\n",
            "text/plain": [
              "  year imdb      title            test            clean_test binary budget   \n",
              "1 2013 tt1711425 21 & Over        notalk          notalk     FAIL    13000000\n",
              "2 2012 tt1343727 Dredd 3D         ok-disagree     ok         PASS    45000000\n",
              "3 2013 tt2024544 12 Years a Slave notalk-disagree notalk     FAIL    20000000\n",
              "4 2013 tt1272878 2 Guns           notalk          notalk     FAIL    61000000\n",
              "5 2013 tt0453562 42               men             men        FAIL    40000000\n",
              "6 2013 tt1335975 47 Ronin         men             men        FAIL   225000000\n",
              "  domgross intgross  code     budget_2013 domgross_2013 intgross_2013\n",
              "1 25682380  42195766 2013FAIL  13000000   25682380       42195766    \n",
              "2 13414714  40868994 2012PASS  45658735   13611086       41467257    \n",
              "3 53107035 158607035 2013FAIL  20000000   53107035      158607035    \n",
              "4 75612460 132493015 2013FAIL  61000000   75612460      132493015    \n",
              "5 95020213  95020213 2013FAIL  40000000   95020213       95020213    \n",
              "6 38362475 145803842 2013FAIL 225000000   38362475      145803842    \n",
              "  period_code decade_code\n",
              "1 1           1          \n",
              "2 1           1          \n",
              "3 1           1          \n",
              "4 1           1          \n",
              "5 1           1          \n",
              "6 1           1          "
            ]
          },
          "metadata": {}
        }
      ]
    },
    {
      "cell_type": "markdown",
      "source": [
        "##QUESTION 1\n",
        "Using the ?bechdel command tells us that we have a data frame from the article cited in the project description with 1794 rows and 15 variables (where the variables, of course, represent the columns). To make the variables more easily understandable, we can print the columns with head(bechdel). The variables are the following: \n",
        "\n",
        "**Year**: the year the movie was released <br>  \n",
        "**imdb**: test for imdb link <br> \n",
        "**Title**: the title of the movie <br>\n",
        "**Test**: the results of the Bechnel test with added <br> discrepencies <br>\n",
        "**Clean Test:** The test results with additional <br> information but absent any discrepencies <br> \n",
        "(this can include, ok, dubious, notalk, nowomen, <br>  or men)  \n",
        "**binary**: The result of the Bechdel test <br> \n",
        "**budget**: Film budget not adjusted for inflation <br> \n",
        "**domgross**: Domestic US gross: US gross not <br>adjusted for inflation <br>\n",
        "**intgross**: International gross not adjusted for <br> inflation <br>\n",
        "**budget_2013**: budget with 2013 inflated price <br>\n",
        "**domgross_2013**: domestic gross with 2013 inflated <br> price <br> \n",
        "**intgross_2013**: international gross adjusted for <br> 2013 inflation \n",
        "**period_code**: no further info given but presumably one time period \n",
        "**decade_code**: no further info but presumably one of the four decades under investigation. \n",
        "\n",
        " \n",
        "\n",
        "\n",
        "\n"
      ],
      "metadata": {
        "id": "cEo4c-IJNqGp"
      }
    },
    {
      "cell_type": "code",
      "source": [
        "bechdel90_13 <- bechdel%>% \n",
        "  filter(between(year, 1990, 2013)) \n",
        "\n",
        "print(bechdel90_13) \n",
        "row_number = nrow(bechdel90_13) \n",
        "print(row_number)"
      ],
      "metadata": {
        "colab": {
          "base_uri": "https://localhost:8080/"
        },
        "id": "33gJ21u-OGk4",
        "outputId": "db2ade60-8ed6-411d-adca-c4b00df8bf90"
      },
      "execution_count": 6,
      "outputs": [
        {
          "output_type": "stream",
          "name": "stdout",
          "text": [
            "\u001b[90m# A tibble: 1,615 × 15\u001b[39m\n",
            "    year imdb    title test  clean…¹ binary budget domgr…² intgr…³ code  budge…⁴\n",
            "   \u001b[3m\u001b[90m<int>\u001b[39m\u001b[23m \u001b[3m\u001b[90m<chr>\u001b[39m\u001b[23m   \u001b[3m\u001b[90m<chr>\u001b[39m\u001b[23m \u001b[3m\u001b[90m<chr>\u001b[39m\u001b[23m \u001b[3m\u001b[90m<ord>\u001b[39m\u001b[23m   \u001b[3m\u001b[90m<chr>\u001b[39m\u001b[23m   \u001b[3m\u001b[90m<int>\u001b[39m\u001b[23m   \u001b[3m\u001b[90m<dbl>\u001b[39m\u001b[23m   \u001b[3m\u001b[90m<dbl>\u001b[39m\u001b[23m \u001b[3m\u001b[90m<chr>\u001b[39m\u001b[23m   \u001b[3m\u001b[90m<int>\u001b[39m\u001b[23m\n",
            "\u001b[90m 1\u001b[39m  \u001b[4m2\u001b[24m013 tt1711… 21 &… nota… notalk  FAIL   1.3 \u001b[90me\u001b[39m7  2.57\u001b[90me\u001b[39m7  4.22\u001b[90me\u001b[39m7 2013…  1.3 \u001b[90me\u001b[39m7\n",
            "\u001b[90m 2\u001b[39m  \u001b[4m2\u001b[24m012 tt1343… Dred… ok-d… ok      PASS   4.5 \u001b[90me\u001b[39m7  1.34\u001b[90me\u001b[39m7  4.09\u001b[90me\u001b[39m7 2012…  4.57\u001b[90me\u001b[39m7\n",
            "\u001b[90m 3\u001b[39m  \u001b[4m2\u001b[24m013 tt2024… 12 Y… nota… notalk  FAIL   2   \u001b[90me\u001b[39m7  5.31\u001b[90me\u001b[39m7  1.59\u001b[90me\u001b[39m8 2013…  2   \u001b[90me\u001b[39m7\n",
            "\u001b[90m 4\u001b[39m  \u001b[4m2\u001b[24m013 tt1272… 2 Gu… nota… notalk  FAIL   6.1 \u001b[90me\u001b[39m7  7.56\u001b[90me\u001b[39m7  1.32\u001b[90me\u001b[39m8 2013…  6.1 \u001b[90me\u001b[39m7\n",
            "\u001b[90m 5\u001b[39m  \u001b[4m2\u001b[24m013 tt0453… 42    men   men     FAIL   4   \u001b[90me\u001b[39m7  9.50\u001b[90me\u001b[39m7  9.50\u001b[90me\u001b[39m7 2013…  4   \u001b[90me\u001b[39m7\n",
            "\u001b[90m 6\u001b[39m  \u001b[4m2\u001b[24m013 tt1335… 47 R… men   men     FAIL   2.25\u001b[90me\u001b[39m8  3.84\u001b[90me\u001b[39m7  1.46\u001b[90me\u001b[39m8 2013…  2.25\u001b[90me\u001b[39m8\n",
            "\u001b[90m 7\u001b[39m  \u001b[4m2\u001b[24m013 tt1606… A Go… nota… notalk  FAIL   9.2 \u001b[90me\u001b[39m7  6.73\u001b[90me\u001b[39m7  3.04\u001b[90me\u001b[39m8 2013…  9.2 \u001b[90me\u001b[39m7\n",
            "\u001b[90m 8\u001b[39m  \u001b[4m2\u001b[24m013 tt2194… Abou… ok-d… ok      PASS   1.2 \u001b[90me\u001b[39m7  1.53\u001b[90me\u001b[39m7  8.73\u001b[90me\u001b[39m7 2013…  1.2 \u001b[90me\u001b[39m7\n",
            "\u001b[90m 9\u001b[39m  \u001b[4m2\u001b[24m013 tt1814… Admi… ok    ok      PASS   1.3 \u001b[90me\u001b[39m7  1.80\u001b[90me\u001b[39m7  1.80\u001b[90me\u001b[39m7 2013…  1.3 \u001b[90me\u001b[39m7\n",
            "\u001b[90m10\u001b[39m  \u001b[4m2\u001b[24m013 tt1815… Afte… nota… notalk  FAIL   1.3 \u001b[90me\u001b[39m8  6.05\u001b[90me\u001b[39m7  2.44\u001b[90me\u001b[39m8 2013…  1.3 \u001b[90me\u001b[39m8\n",
            "\u001b[90m# … with 1,605 more rows, 4 more variables: domgross_2013 <dbl>,\u001b[39m\n",
            "\u001b[90m#   intgross_2013 <dbl>, period_code <int>, decade_code <int>, and abbreviated\u001b[39m\n",
            "\u001b[90m#   variable names ¹​clean_test, ²​domgross, ³​intgross, ⁴​budget_2013\u001b[39m\n",
            "[1] 1615\n"
          ]
        }
      ]
    },
    {
      "cell_type": "markdown",
      "source": [
        "##QUESTION 2 \n",
        "\n",
        "Since each row corresponds to a movie, and there are 1615 rows, we know that there are 1615 movies in the filtered data set spanning from 1990 to 2013. "
      ],
      "metadata": {
        "id": "jYUwreEFS76p"
      }
    },
    {
      "cell_type": "code",
      "source": [
        "bechdel90_13 %>% #now we are entering into the Bechdel data set\n",
        "  group_by(binary) %>% \n",
        "  summarise(med_budget = median(budget_2013), \n",
        "    med_domgross = median(domgross_2013, na.rm = TRUE),\n",
        "    med_intgross = median(intgross_2013, na.rm = TRUE)) \n",
        "\n",
        "#prints out the gross domestic, gross international, and budget \n",
        "#for movies that fail the bechdel test and pass it "
      ],
      "metadata": {
        "colab": {
          "base_uri": "https://localhost:8080/",
          "height": 161
        },
        "id": "SkF7NBJPTNho",
        "outputId": "21b86334-1f1c-4103-8bee-92875133ab52"
      },
      "execution_count": 7,
      "outputs": [
        {
          "output_type": "display_data",
          "data": {
            "text/html": [
              "<table class=\"dataframe\">\n",
              "<caption>A tibble: 2 × 4</caption>\n",
              "<thead>\n",
              "\t<tr><th scope=col>binary</th><th scope=col>med_budget</th><th scope=col>med_domgross</th><th scope=col>med_intgross</th></tr>\n",
              "\t<tr><th scope=col>&lt;chr&gt;</th><th scope=col>&lt;dbl&gt;</th><th scope=col>&lt;dbl&gt;</th><th scope=col>&lt;dbl&gt;</th></tr>\n",
              "</thead>\n",
              "<tbody>\n",
              "\t<tr><td>FAIL</td><td>48385984</td><td>57318606</td><td>104475669</td></tr>\n",
              "\t<tr><td>PASS</td><td>31070724</td><td>45330446</td><td> 80124349</td></tr>\n",
              "</tbody>\n",
              "</table>\n"
            ],
            "text/markdown": "\nA tibble: 2 × 4\n\n| binary &lt;chr&gt; | med_budget &lt;dbl&gt; | med_domgross &lt;dbl&gt; | med_intgross &lt;dbl&gt; |\n|---|---|---|---|\n| FAIL | 48385984 | 57318606 | 104475669 |\n| PASS | 31070724 | 45330446 |  80124349 |\n\n",
            "text/latex": "A tibble: 2 × 4\n\\begin{tabular}{llll}\n binary & med\\_budget & med\\_domgross & med\\_intgross\\\\\n <chr> & <dbl> & <dbl> & <dbl>\\\\\n\\hline\n\t FAIL & 48385984 & 57318606 & 104475669\\\\\n\t PASS & 31070724 & 45330446 &  80124349\\\\\n\\end{tabular}\n",
            "text/plain": [
              "  binary med_budget med_domgross med_intgross\n",
              "1 FAIL   48385984   57318606     104475669   \n",
              "2 PASS   31070724   45330446      80124349   "
            ]
          },
          "metadata": {}
        }
      ]
    },
    {
      "cell_type": "code",
      "source": [
        "bechdel90_13%>% \n",
        "  group_by(clean_test)%>% #we are working with the more\n",
        "  #detailed clean test data rather than the binary test \n",
        "  summarise(med_budget = median(budget_2013), \n",
        "    med_domgross = median(domgross_2013, na.rm = TRUE), \n",
        "    med_intgross = median(intgross_2013, na.rm = TRUE))\n"
      ],
      "metadata": {
        "colab": {
          "base_uri": "https://localhost:8080/",
          "height": 255
        },
        "id": "amskq423VwlQ",
        "outputId": "3dd680a2-d7f7-4b8e-881e-8f3253ac0b2e"
      },
      "execution_count": 8,
      "outputs": [
        {
          "output_type": "display_data",
          "data": {
            "text/html": [
              "<table class=\"dataframe\">\n",
              "<caption>A tibble: 5 × 4</caption>\n",
              "<thead>\n",
              "\t<tr><th scope=col>clean_test</th><th scope=col>med_budget</th><th scope=col>med_domgross</th><th scope=col>med_intgross</th></tr>\n",
              "\t<tr><th scope=col>&lt;ord&gt;</th><th scope=col>&lt;dbl&gt;</th><th scope=col>&lt;dbl&gt;</th><th scope=col>&lt;dbl&gt;</th></tr>\n",
              "</thead>\n",
              "<tbody>\n",
              "\t<tr><td>nowomen</td><td>43373066</td><td>44891296</td><td> 89509349</td></tr>\n",
              "\t<tr><td>notalk </td><td>56570084</td><td>63890455</td><td>123102194</td></tr>\n",
              "\t<tr><td>men    </td><td>39737690</td><td>56392786</td><td> 99578022</td></tr>\n",
              "\t<tr><td>dubious</td><td>35790994</td><td>49173429</td><td> 89883201</td></tr>\n",
              "\t<tr><td>ok     </td><td>31070724</td><td>45330446</td><td> 80124349</td></tr>\n",
              "</tbody>\n",
              "</table>\n"
            ],
            "text/markdown": "\nA tibble: 5 × 4\n\n| clean_test &lt;ord&gt; | med_budget &lt;dbl&gt; | med_domgross &lt;dbl&gt; | med_intgross &lt;dbl&gt; |\n|---|---|---|---|\n| nowomen | 43373066 | 44891296 |  89509349 |\n| notalk  | 56570084 | 63890455 | 123102194 |\n| men     | 39737690 | 56392786 |  99578022 |\n| dubious | 35790994 | 49173429 |  89883201 |\n| ok      | 31070724 | 45330446 |  80124349 |\n\n",
            "text/latex": "A tibble: 5 × 4\n\\begin{tabular}{llll}\n clean\\_test & med\\_budget & med\\_domgross & med\\_intgross\\\\\n <ord> & <dbl> & <dbl> & <dbl>\\\\\n\\hline\n\t nowomen & 43373066 & 44891296 &  89509349\\\\\n\t notalk  & 56570084 & 63890455 & 123102194\\\\\n\t men     & 39737690 & 56392786 &  99578022\\\\\n\t dubious & 35790994 & 49173429 &  89883201\\\\\n\t ok      & 31070724 & 45330446 &  80124349\\\\\n\\end{tabular}\n",
            "text/plain": [
              "  clean_test med_budget med_domgross med_intgross\n",
              "1 nowomen    43373066   44891296      89509349   \n",
              "2 notalk     56570084   63890455     123102194   \n",
              "3 men        39737690   56392786      99578022   \n",
              "4 dubious    35790994   49173429      89883201   \n",
              "5 ok         31070724   45330446      80124349   "
            ]
          },
          "metadata": {}
        }
      ]
    },
    {
      "cell_type": "code",
      "source": [
        "#now we want to look on the return on investment for movies that\n",
        "#pass/fail the Bechdel test\n",
        "\n",
        "bechdel90_13 <- bechdel90_13 %>% #what is the point of this line? \n",
        "  mutate(roi = (intgross_2013 + domgross_2013)/budget_2013) \n",
        "  #mutate function adds new variable to dataframe( in this case, roi) \n",
        "  #while retaining existing variable information \n",
        "\n",
        "bechdel90_13 %>% \n",
        "  arrange(desc(roi)) %>%  \n",
        "  select(title, roi, year) \n",
        "\n",
        "#here we grab arrange the movies in order of descending roi, with roi \n",
        "#for each row predetermined by the code above; then we select rows \n",
        "#title, roi, and year"
      ],
      "metadata": {
        "colab": {
          "base_uri": "https://localhost:8080/",
          "height": 1000
        },
        "id": "rBd6gMWJU2f8",
        "outputId": "65417199-b2bd-4c0d-c8be-903cd130da86"
      },
      "execution_count": 9,
      "outputs": [
        {
          "output_type": "display_data",
          "data": {
            "text/html": [
              "<table class=\"dataframe\">\n",
              "<caption>A tibble: 1615 × 3</caption>\n",
              "<thead>\n",
              "\t<tr><th scope=col>title</th><th scope=col>roi</th><th scope=col>year</th></tr>\n",
              "\t<tr><th scope=col>&lt;chr&gt;</th><th scope=col>&lt;dbl&gt;</th><th scope=col>&lt;int&gt;</th></tr>\n",
              "</thead>\n",
              "<tbody>\n",
              "\t<tr><td>Paranormal Activity     </td><td>671.33686</td><td>2007</td></tr>\n",
              "\t<tr><td>The Blair Witch Project </td><td>648.06533</td><td>1999</td></tr>\n",
              "\t<tr><td>El Mariachi             </td><td>583.28567</td><td>1992</td></tr>\n",
              "\t<tr><td>Clerks.                 </td><td>258.06146</td><td>1994</td></tr>\n",
              "\t<tr><td>In the Company of Men   </td><td>230.69259</td><td>1997</td></tr>\n",
              "\t<tr><td>Napoleon Dynamite       </td><td>226.65924</td><td>2004</td></tr>\n",
              "\t<tr><td>Once                    </td><td>189.62070</td><td>2006</td></tr>\n",
              "\t<tr><td>The Devil Inside        </td><td>155.02037</td><td>2012</td></tr>\n",
              "\t<tr><td>Primer                  </td><td>141.52085</td><td>2004</td></tr>\n",
              "\t<tr><td>Fireproof               </td><td>133.85927</td><td>2008</td></tr>\n",
              "\t<tr><td>Saw                     </td><td>131.90120</td><td>2004</td></tr>\n",
              "\t<tr><td>My Big Fat Greek Wedding</td><td>118.73615</td><td>2002</td></tr>\n",
              "\t<tr><td>Pi                      </td><td>116.17154</td><td>1998</td></tr>\n",
              "\t<tr><td>Chasing Amy             </td><td>108.64630</td><td>1997</td></tr>\n",
              "\t<tr><td>Slacker                 </td><td>106.74070</td><td>1991</td></tr>\n",
              "\t<tr><td>Insidious               </td><td>102.58668</td><td>2010</td></tr>\n",
              "\t<tr><td>Paranormal Activity 2   </td><td> 87.42163</td><td>2010</td></tr>\n",
              "\t<tr><td>Paranormal Activity 3   </td><td> 62.21373</td><td>2011</td></tr>\n",
              "\t<tr><td>The Last Exorcism       </td><td> 61.77793</td><td>2010</td></tr>\n",
              "\t<tr><td>Cinderella              </td><td> 58.62068</td><td>1997</td></tr>\n",
              "\t<tr><td>Chernobyl Diaries       </td><td> 56.50964</td><td>2012</td></tr>\n",
              "\t<tr><td>Juno                    </td><td> 53.56363</td><td>2007</td></tr>\n",
              "\t<tr><td>The Purge               </td><td> 51.85789</td><td>2013</td></tr>\n",
              "\t<tr><td>Home Alone              </td><td> 50.82973</td><td>1990</td></tr>\n",
              "\t<tr><td>Insidious: Chapter 2    </td><td> 49.09953</td><td>2013</td></tr>\n",
              "\t<tr><td>Saw II                  </td><td> 47.99003</td><td>2005</td></tr>\n",
              "\t<tr><td>Das Leben Der Anderen   </td><td> 46.24085</td><td>2006</td></tr>\n",
              "\t<tr><td>Sinister                </td><td> 45.27157</td><td>2012</td></tr>\n",
              "\t<tr><td>Pretty Woman            </td><td> 43.64658</td><td>1990</td></tr>\n",
              "\t<tr><td>Pulp Fiction            </td><td> 40.10719</td><td>1994</td></tr>\n",
              "\t<tr><td>⋮</td><td>⋮</td><td>⋮</td></tr>\n",
              "\t<tr><td>Enter the Void                            </td><td>0.042249621</td><td>2009</td></tr>\n",
              "\t<tr><td>All or Nothing                            </td><td>0.040945513</td><td>2002</td></tr>\n",
              "\t<tr><td>The Lucky Ones                            </td><td>0.038138181</td><td>2008</td></tr>\n",
              "\t<tr><td>Southland Tales                           </td><td>0.037646262</td><td>2006</td></tr>\n",
              "\t<tr><td>The Tempest                               </td><td>0.027794341</td><td>2010</td></tr>\n",
              "\t<tr><td>Wild Target                               </td><td>0.027334421</td><td>2010</td></tr>\n",
              "\t<tr><td>Police Academy: Mission to Moscow         </td><td>0.025249406</td><td>1994</td></tr>\n",
              "\t<tr><td>Pontypool                                 </td><td>0.023853876</td><td>2008</td></tr>\n",
              "\t<tr><td>The Good Guy                              </td><td>0.020137574</td><td>2009</td></tr>\n",
              "\t<tr><td>Eulogy                                    </td><td>0.014105336</td><td>2004</td></tr>\n",
              "\t<tr><td>The Dead Girl                             </td><td>0.012045217</td><td>2006</td></tr>\n",
              "\t<tr><td>The Divide                                </td><td>0.011999722</td><td>2011</td></tr>\n",
              "\t<tr><td>August                                    </td><td>0.007433121</td><td>1996</td></tr>\n",
              "\t<tr><td>Margaret                                  </td><td>0.006740705</td><td>2011</td></tr>\n",
              "\t<tr><td>Perrier's Bounty                          </td><td>0.000250913</td><td>2009</td></tr>\n",
              "\t<tr><td>The Frozen Ground                         </td><td>         NA</td><td>2013</td></tr>\n",
              "\t<tr><td>A Lonely Place to Die                     </td><td>         NA</td><td>2011</td></tr>\n",
              "\t<tr><td>Detention                                 </td><td>         NA</td><td>2011</td></tr>\n",
              "\t<tr><td>Womb                                      </td><td>         NA</td><td>2010</td></tr>\n",
              "\t<tr><td>I Come with the Rain                      </td><td>         NA</td><td>2009</td></tr>\n",
              "\t<tr><td>Veronika Decides to Die                   </td><td>         NA</td><td>2009</td></tr>\n",
              "\t<tr><td>Yesterday Was a Lie                       </td><td>         NA</td><td>2009</td></tr>\n",
              "\t<tr><td>Day of the Dead                           </td><td>         NA</td><td>2008</td></tr>\n",
              "\t<tr><td>Stargate: The Ark of Truth                </td><td>         NA</td><td>2008</td></tr>\n",
              "\t<tr><td>Three Kingdoms: Resurrection of the Dragon</td><td>         NA</td><td>2008</td></tr>\n",
              "\t<tr><td>[Rec]                                     </td><td>         NA</td><td>2007</td></tr>\n",
              "\t<tr><td>The Man from Earth                        </td><td>         NA</td><td>2007</td></tr>\n",
              "\t<tr><td>White Noise 2: The Light                  </td><td>         NA</td><td>2007</td></tr>\n",
              "\t<tr><td>Bandidas                                  </td><td>         NA</td><td>2006</td></tr>\n",
              "\t<tr><td>London To Brighton                        </td><td>         NA</td><td>2006</td></tr>\n",
              "</tbody>\n",
              "</table>\n"
            ],
            "text/markdown": "\nA tibble: 1615 × 3\n\n| title &lt;chr&gt; | roi &lt;dbl&gt; | year &lt;int&gt; |\n|---|---|---|\n| Paranormal Activity      | 671.33686 | 2007 |\n| The Blair Witch Project  | 648.06533 | 1999 |\n| El Mariachi              | 583.28567 | 1992 |\n| Clerks.                  | 258.06146 | 1994 |\n| In the Company of Men    | 230.69259 | 1997 |\n| Napoleon Dynamite        | 226.65924 | 2004 |\n| Once                     | 189.62070 | 2006 |\n| The Devil Inside         | 155.02037 | 2012 |\n| Primer                   | 141.52085 | 2004 |\n| Fireproof                | 133.85927 | 2008 |\n| Saw                      | 131.90120 | 2004 |\n| My Big Fat Greek Wedding | 118.73615 | 2002 |\n| Pi                       | 116.17154 | 1998 |\n| Chasing Amy              | 108.64630 | 1997 |\n| Slacker                  | 106.74070 | 1991 |\n| Insidious                | 102.58668 | 2010 |\n| Paranormal Activity 2    |  87.42163 | 2010 |\n| Paranormal Activity 3    |  62.21373 | 2011 |\n| The Last Exorcism        |  61.77793 | 2010 |\n| Cinderella               |  58.62068 | 1997 |\n| Chernobyl Diaries        |  56.50964 | 2012 |\n| Juno                     |  53.56363 | 2007 |\n| The Purge                |  51.85789 | 2013 |\n| Home Alone               |  50.82973 | 1990 |\n| Insidious: Chapter 2     |  49.09953 | 2013 |\n| Saw II                   |  47.99003 | 2005 |\n| Das Leben Der Anderen    |  46.24085 | 2006 |\n| Sinister                 |  45.27157 | 2012 |\n| Pretty Woman             |  43.64658 | 1990 |\n| Pulp Fiction             |  40.10719 | 1994 |\n| ⋮ | ⋮ | ⋮ |\n| Enter the Void                             | 0.042249621 | 2009 |\n| All or Nothing                             | 0.040945513 | 2002 |\n| The Lucky Ones                             | 0.038138181 | 2008 |\n| Southland Tales                            | 0.037646262 | 2006 |\n| The Tempest                                | 0.027794341 | 2010 |\n| Wild Target                                | 0.027334421 | 2010 |\n| Police Academy: Mission to Moscow          | 0.025249406 | 1994 |\n| Pontypool                                  | 0.023853876 | 2008 |\n| The Good Guy                               | 0.020137574 | 2009 |\n| Eulogy                                     | 0.014105336 | 2004 |\n| The Dead Girl                              | 0.012045217 | 2006 |\n| The Divide                                 | 0.011999722 | 2011 |\n| August                                     | 0.007433121 | 1996 |\n| Margaret                                   | 0.006740705 | 2011 |\n| Perrier's Bounty                           | 0.000250913 | 2009 |\n| The Frozen Ground                          |          NA | 2013 |\n| A Lonely Place to Die                      |          NA | 2011 |\n| Detention                                  |          NA | 2011 |\n| Womb                                       |          NA | 2010 |\n| I Come with the Rain                       |          NA | 2009 |\n| Veronika Decides to Die                    |          NA | 2009 |\n| Yesterday Was a Lie                        |          NA | 2009 |\n| Day of the Dead                            |          NA | 2008 |\n| Stargate: The Ark of Truth                 |          NA | 2008 |\n| Three Kingdoms: Resurrection of the Dragon |          NA | 2008 |\n| [Rec]                                      |          NA | 2007 |\n| The Man from Earth                         |          NA | 2007 |\n| White Noise 2: The Light                   |          NA | 2007 |\n| Bandidas                                   |          NA | 2006 |\n| London To Brighton                         |          NA | 2006 |\n\n",
            "text/latex": "A tibble: 1615 × 3\n\\begin{tabular}{lll}\n title & roi & year\\\\\n <chr> & <dbl> & <int>\\\\\n\\hline\n\t Paranormal Activity      & 671.33686 & 2007\\\\\n\t The Blair Witch Project  & 648.06533 & 1999\\\\\n\t El Mariachi              & 583.28567 & 1992\\\\\n\t Clerks.                  & 258.06146 & 1994\\\\\n\t In the Company of Men    & 230.69259 & 1997\\\\\n\t Napoleon Dynamite        & 226.65924 & 2004\\\\\n\t Once                     & 189.62070 & 2006\\\\\n\t The Devil Inside         & 155.02037 & 2012\\\\\n\t Primer                   & 141.52085 & 2004\\\\\n\t Fireproof                & 133.85927 & 2008\\\\\n\t Saw                      & 131.90120 & 2004\\\\\n\t My Big Fat Greek Wedding & 118.73615 & 2002\\\\\n\t Pi                       & 116.17154 & 1998\\\\\n\t Chasing Amy              & 108.64630 & 1997\\\\\n\t Slacker                  & 106.74070 & 1991\\\\\n\t Insidious                & 102.58668 & 2010\\\\\n\t Paranormal Activity 2    &  87.42163 & 2010\\\\\n\t Paranormal Activity 3    &  62.21373 & 2011\\\\\n\t The Last Exorcism        &  61.77793 & 2010\\\\\n\t Cinderella               &  58.62068 & 1997\\\\\n\t Chernobyl Diaries        &  56.50964 & 2012\\\\\n\t Juno                     &  53.56363 & 2007\\\\\n\t The Purge                &  51.85789 & 2013\\\\\n\t Home Alone               &  50.82973 & 1990\\\\\n\t Insidious: Chapter 2     &  49.09953 & 2013\\\\\n\t Saw II                   &  47.99003 & 2005\\\\\n\t Das Leben Der Anderen    &  46.24085 & 2006\\\\\n\t Sinister                 &  45.27157 & 2012\\\\\n\t Pretty Woman             &  43.64658 & 1990\\\\\n\t Pulp Fiction             &  40.10719 & 1994\\\\\n\t ⋮ & ⋮ & ⋮\\\\\n\t Enter the Void                             & 0.042249621 & 2009\\\\\n\t All or Nothing                             & 0.040945513 & 2002\\\\\n\t The Lucky Ones                             & 0.038138181 & 2008\\\\\n\t Southland Tales                            & 0.037646262 & 2006\\\\\n\t The Tempest                                & 0.027794341 & 2010\\\\\n\t Wild Target                                & 0.027334421 & 2010\\\\\n\t Police Academy: Mission to Moscow          & 0.025249406 & 1994\\\\\n\t Pontypool                                  & 0.023853876 & 2008\\\\\n\t The Good Guy                               & 0.020137574 & 2009\\\\\n\t Eulogy                                     & 0.014105336 & 2004\\\\\n\t The Dead Girl                              & 0.012045217 & 2006\\\\\n\t The Divide                                 & 0.011999722 & 2011\\\\\n\t August                                     & 0.007433121 & 1996\\\\\n\t Margaret                                   & 0.006740705 & 2011\\\\\n\t Perrier's Bounty                           & 0.000250913 & 2009\\\\\n\t The Frozen Ground                          &          NA & 2013\\\\\n\t A Lonely Place to Die                      &          NA & 2011\\\\\n\t Detention                                  &          NA & 2011\\\\\n\t Womb                                       &          NA & 2010\\\\\n\t I Come with the Rain                       &          NA & 2009\\\\\n\t Veronika Decides to Die                    &          NA & 2009\\\\\n\t Yesterday Was a Lie                        &          NA & 2009\\\\\n\t Day of the Dead                            &          NA & 2008\\\\\n\t Stargate: The Ark of Truth                 &          NA & 2008\\\\\n\t Three Kingdoms: Resurrection of the Dragon &          NA & 2008\\\\\n\t {[}Rec{]}                                      &          NA & 2007\\\\\n\t The Man from Earth                         &          NA & 2007\\\\\n\t White Noise 2: The Light                   &          NA & 2007\\\\\n\t Bandidas                                   &          NA & 2006\\\\\n\t London To Brighton                         &          NA & 2006\\\\\n\\end{tabular}\n",
            "text/plain": [
              "     title                                      roi         year\n",
              "1    Paranormal Activity                        671.33686   2007\n",
              "2    The Blair Witch Project                    648.06533   1999\n",
              "3    El Mariachi                                583.28567   1992\n",
              "4    Clerks.                                    258.06146   1994\n",
              "5    In the Company of Men                      230.69259   1997\n",
              "6    Napoleon Dynamite                          226.65924   2004\n",
              "7    Once                                       189.62070   2006\n",
              "8    The Devil Inside                           155.02037   2012\n",
              "9    Primer                                     141.52085   2004\n",
              "10   Fireproof                                  133.85927   2008\n",
              "11   Saw                                        131.90120   2004\n",
              "12   My Big Fat Greek Wedding                   118.73615   2002\n",
              "13   Pi                                         116.17154   1998\n",
              "14   Chasing Amy                                108.64630   1997\n",
              "15   Slacker                                    106.74070   1991\n",
              "16   Insidious                                  102.58668   2010\n",
              "17   Paranormal Activity 2                       87.42163   2010\n",
              "18   Paranormal Activity 3                       62.21373   2011\n",
              "19   The Last Exorcism                           61.77793   2010\n",
              "20   Cinderella                                  58.62068   1997\n",
              "21   Chernobyl Diaries                           56.50964   2012\n",
              "22   Juno                                        53.56363   2007\n",
              "23   The Purge                                   51.85789   2013\n",
              "24   Home Alone                                  50.82973   1990\n",
              "25   Insidious: Chapter 2                        49.09953   2013\n",
              "26   Saw II                                      47.99003   2005\n",
              "27   Das Leben Der Anderen                       46.24085   2006\n",
              "28   Sinister                                    45.27157   2012\n",
              "29   Pretty Woman                                43.64658   1990\n",
              "30   Pulp Fiction                                40.10719   1994\n",
              "⋮    ⋮                                          ⋮           ⋮   \n",
              "1586 Enter the Void                             0.042249621 2009\n",
              "1587 All or Nothing                             0.040945513 2002\n",
              "1588 The Lucky Ones                             0.038138181 2008\n",
              "1589 Southland Tales                            0.037646262 2006\n",
              "1590 The Tempest                                0.027794341 2010\n",
              "1591 Wild Target                                0.027334421 2010\n",
              "1592 Police Academy: Mission to Moscow          0.025249406 1994\n",
              "1593 Pontypool                                  0.023853876 2008\n",
              "1594 The Good Guy                               0.020137574 2009\n",
              "1595 Eulogy                                     0.014105336 2004\n",
              "1596 The Dead Girl                              0.012045217 2006\n",
              "1597 The Divide                                 0.011999722 2011\n",
              "1598 August                                     0.007433121 1996\n",
              "1599 Margaret                                   0.006740705 2011\n",
              "1600 Perrier's Bounty                           0.000250913 2009\n",
              "1601 The Frozen Ground                                   NA 2013\n",
              "1602 A Lonely Place to Die                               NA 2011\n",
              "1603 Detention                                           NA 2011\n",
              "1604 Womb                                                NA 2010\n",
              "1605 I Come with the Rain                                NA 2009\n",
              "1606 Veronika Decides to Die                             NA 2009\n",
              "1607 Yesterday Was a Lie                                 NA 2009\n",
              "1608 Day of the Dead                                     NA 2008\n",
              "1609 Stargate: The Ark of Truth                          NA 2008\n",
              "1610 Three Kingdoms: Resurrection of the Dragon          NA 2008\n",
              "1611 [Rec]                                               NA 2007\n",
              "1612 The Man from Earth                                  NA 2007\n",
              "1613 White Noise 2: The Light                            NA 2007\n",
              "1614 Bandidas                                            NA 2006\n",
              "1615 London To Brighton                                  NA 2006"
            ]
          },
          "metadata": {}
        }
      ]
    },
    {
      "cell_type": "code",
      "source": [
        "#plotting: \n",
        "\n",
        "#first line, data; second line, actual columns and info; \n",
        "#third line: plot type; fourth line: creating title info \n",
        "ggplot(data = bechdel90_13, \n",
        "    mapping = aes(x = clean_test, y = roi, color = binary)) + \n",
        "  geom_boxplot() + \n",
        "  labs(title = \"Return on investment vs. Bechdel test result\", \n",
        "    x = \"Detailed Bechdel Result\", \n",
        "    y = \"Return on Investment\", \n",
        "    color = \"Binary Bechdel Result\")"
      ],
      "metadata": {
        "colab": {
          "base_uri": "https://localhost:8080/",
          "height": 472
        },
        "id": "IXcXTzdbYkGA",
        "outputId": "729a017a-765a-4e7e-e15b-f8101f74b28b"
      },
      "execution_count": 10,
      "outputs": [
        {
          "output_type": "stream",
          "name": "stderr",
          "text": [
            "Warning message:\n",
            "“Removed 15 rows containing non-finite values (stat_boxplot).”\n"
          ]
        },
        {
          "output_type": "display_data",
          "data": {
            "text/plain": [
              "plot without title"
            ],
            "image/png": "[encoded data removed]"
          },
          "metadata": {
            "image/png": {
              "width": 420,
              "height": 420
            }
          }
        }
      ]
    },
    {
      "cell_type": "code",
      "source": [
        "bechdel90_13 %>% \n",
        "  filter(roi>400) %>% \n",
        "  select(title)"
      ],
      "metadata": {
        "colab": {
          "base_uri": "https://localhost:8080/",
          "height": 192
        },
        "id": "MUR71qdYaAhP",
        "outputId": "3d854ca6-5fe1-4f16-f94a-aefa3bf6730f"
      },
      "execution_count": 11,
      "outputs": [
        {
          "output_type": "display_data",
          "data": {
            "text/html": [
              "<table class=\"dataframe\">\n",
              "<caption>A tibble: 3 × 1</caption>\n",
              "<thead>\n",
              "\t<tr><th scope=col>title</th></tr>\n",
              "\t<tr><th scope=col>&lt;chr&gt;</th></tr>\n",
              "</thead>\n",
              "<tbody>\n",
              "\t<tr><td>Paranormal Activity    </td></tr>\n",
              "\t<tr><td>The Blair Witch Project</td></tr>\n",
              "\t<tr><td>El Mariachi            </td></tr>\n",
              "</tbody>\n",
              "</table>\n"
            ],
            "text/markdown": "\nA tibble: 3 × 1\n\n| title &lt;chr&gt; |\n|---|\n| Paranormal Activity     |\n| The Blair Witch Project |\n| El Mariachi             |\n\n",
            "text/latex": "A tibble: 3 × 1\n\\begin{tabular}{l}\n title\\\\\n <chr>\\\\\n\\hline\n\t Paranormal Activity    \\\\\n\t The Blair Witch Project\\\\\n\t El Mariachi            \\\\\n\\end{tabular}\n",
            "text/plain": [
              "  title                  \n",
              "1 Paranormal Activity    \n",
              "2 The Blair Witch Project\n",
              "3 El Mariachi            "
            ]
          },
          "metadata": {}
        }
      ]
    },
    {
      "cell_type": "markdown",
      "source": [
        "##QUESTION 3: \n",
        "\n",
        "As we can see, the movies that have ROI values of over 400 (that is, the extreme values with alter our perception of our Bechdel and Return on Investment plot), are \"Paranormal Activity\", \"The Blair Witch Project\", and \"El Mariachi\". "
      ],
      "metadata": {
        "id": "BEoTXBV8bm2Q"
      }
    },
    {
      "cell_type": "code",
      "source": [
        "#Zooming in on moview with an ROI of less than 400\n",
        "\n",
        "ggplot(data = bechdel90_13, mapping = aes(x =clean_test, y = roi, color = \n",
        "binary))+ \n",
        "  geom_boxplot() + \n",
        "  labs(title = \"Return on investment vs. Bechdel test result\", \n",
        "    subtitle = \"Movies with return on investment of less than 15\", \n",
        "    x = \"Detailed Bechdel result\", \n",
        "    y = \"Return on Investment\", \n",
        "      color = \"Binary Bechdel result\") + \n",
        "  coord_cartesian(ylim = c(0,15)) #just zooming in on the plot"
      ],
      "metadata": {
        "colab": {
          "base_uri": "https://localhost:8080/",
          "height": 472
        },
        "id": "sLRdR_XAcJaF",
        "outputId": "1d1cdf31-2a43-49a3-a8f7-3d5b457dcb23"
      },
      "execution_count": 14,
      "outputs": [
        {
          "output_type": "stream",
          "name": "stderr",
          "text": [
            "Warning message:\n",
            "“Removed 15 rows containing non-finite values (stat_boxplot).”\n"
          ]
        },
        {
          "output_type": "display_data",
          "data": {
            "text/plain": [
              "plot without title"
            ],
            "image/png": "[encoded data removed]"
          },
          "metadata": {
            "image/png": {
              "width": 420,
              "height": 420
            }
          }
        }
      ]
    },
    {
      "cell_type": "code",
      "source": [],
      "metadata": {
        "id": "8wHEEfAsdTKj"
      },
      "execution_count": 13,
      "outputs": []
    }
  ]
}