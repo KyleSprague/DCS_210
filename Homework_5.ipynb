{
  "nbformat": 4,
  "nbformat_minor": 0,
  "metadata": {
    "colab": {
      "provenance": [],
      "collapsed_sections": [],
      "include_colab_link": true
    },
    "kernelspec": {
      "name": "ir",
      "display_name": "R"
    },
    "language_info": {
      "name": "R"
    }
  },
  "cells": [
    {
      "cell_type": "markdown",
      "metadata": {
        "id": "view-in-github",
        "colab_type": "text"
      },
      "source": [
        "<a href=\"https://colab.research.google.com/github/KyleSprague/DCS_210/blob/main/Homework_5.ipynb\" target=\"_parent\"><img src=\"https://colab.research.google.com/assets/colab-badge.svg\" alt=\"Open In Colab\"/></a>"
      ]
    },
    {
      "cell_type": "code",
      "source": [
        "install.packages(\"tidyverse\")\n"
      ],
      "metadata": {
        "colab": {
          "base_uri": "https://localhost:8080/"
        },
        "id": "UmCsBkftnI8u",
        "outputId": "51909c55-9001-4db8-e309-d51f4ad5cab3"
      },
      "execution_count": 1,
      "outputs": [
        {
          "output_type": "stream",
          "name": "stderr",
          "text": [
            "Installing package into ‘/usr/local/lib/R/site-library’\n",
            "(as ‘lib’ is unspecified)\n",
            "\n"
          ]
        }
      ]
    },
    {
      "cell_type": "code",
      "source": [
        "library(tidyverse)"
      ],
      "metadata": {
        "colab": {
          "base_uri": "https://localhost:8080/"
        },
        "id": "78mDttggnTtm",
        "outputId": "6cffeeca-4fc1-49e8-c920-8a95565963a9"
      },
      "execution_count": 2,
      "outputs": [
        {
          "output_type": "stream",
          "name": "stderr",
          "text": [
            "Warning message in system(\"timedatectl\", intern = TRUE):\n",
            "“running command 'timedatectl' had status 1”\n",
            "── \u001b[1mAttaching packages\u001b[22m ─────────────────────────────────────── tidyverse 1.3.2 ──\n",
            "\u001b[32m✔\u001b[39m \u001b[34mggplot2\u001b[39m 3.3.6      \u001b[32m✔\u001b[39m \u001b[34mpurrr  \u001b[39m 0.3.4 \n",
            "\u001b[32m✔\u001b[39m \u001b[34mtibble \u001b[39m 3.1.7      \u001b[32m✔\u001b[39m \u001b[34mdplyr  \u001b[39m 1.0.10\n",
            "\u001b[32m✔\u001b[39m \u001b[34mtidyr  \u001b[39m 1.2.1      \u001b[32m✔\u001b[39m \u001b[34mstringr\u001b[39m 1.4.1 \n",
            "\u001b[32m✔\u001b[39m \u001b[34mreadr  \u001b[39m 2.1.3      \u001b[32m✔\u001b[39m \u001b[34mforcats\u001b[39m 0.5.2 \n",
            "── \u001b[1mConflicts\u001b[22m ────────────────────────────────────────── tidyverse_conflicts() ──\n",
            "\u001b[31m✖\u001b[39m \u001b[34mdplyr\u001b[39m::\u001b[32mfilter()\u001b[39m masks \u001b[34mstats\u001b[39m::filter()\n",
            "\u001b[31m✖\u001b[39m \u001b[34mdplyr\u001b[39m::\u001b[32mlag()\u001b[39m    masks \u001b[34mstats\u001b[39m::lag()\n"
          ]
        }
      ]
    },
    {
      "cell_type": "code",
      "execution_count": 3,
      "metadata": {
        "colab": {
          "base_uri": "https://localhost:8080/",
          "height": 86
        },
        "id": "GXOVtwF-vObx",
        "outputId": "581d4aa9-8f58-41a7-8611-af4d530162fe"
      },
      "outputs": [
        {
          "output_type": "stream",
          "name": "stdout",
          "text": [
            "list()\n",
            "[1] 1\n",
            "[1] 36\n"
          ]
        },
        {
          "output_type": "display_data",
          "data": {
            "text/html": [
              "0.166666666666667"
            ],
            "text/markdown": "0.166666666666667",
            "text/latex": "0.166666666666667",
            "text/plain": [
              "[1] 0.1666667"
            ]
          },
          "metadata": {}
        }
      ],
      "source": [
        "##SOME STARTER CODE FOR THE CASE OF 2 ROLLING TWO DICE\n",
        "\n",
        "roll_two_dice <- function() { \n",
        "  list_pos <- list()\n",
        "  win_count <- 0\n",
        "  lose_count <- 0\n",
        "  print(list_pos) \n",
        "\n",
        "  for (i in 1:6) {\n",
        "    for (j in 1:6) {\n",
        "      vec <- list(c(i, j)) \n",
        "      #list_pos <- append(list_pos, vec)  \n",
        "      list_pos <- append(list_pos, vec) \n",
        "    }\n",
        "  }\n",
        "  print(length(vec))\n",
        "\n",
        "  #print(list_pos) \n",
        "\n",
        "  len <- length(list_pos)  \n",
        "  print(len)\n",
        "\n",
        "  for (k in 1:len) {\n",
        "\n",
        "    if (list_pos[[k]][1] == list_pos[[k]][2]) {\n",
        "    win_count = win_count + 1  \n",
        "    #print(win_count)\n",
        "    }\n",
        "\n",
        "    else {\n",
        "      lose_count = lose_count + 1 \n",
        "      #print(lose_count)\n",
        "        }  \n",
        "\n",
        "  }\n",
        "\n",
        "  prob_two_dice_same_val = win_count/(win_count + lose_count) \n",
        "  return(prob_two_dice_same_val)\n",
        "  } \n",
        "\n",
        "roll_two_dice() \n",
        "\n",
        "#calculate probabilities using \n",
        "\n",
        "#(1/6)^1 \n",
        "#(1/6)^2 \n",
        "#(1/6)^3 \n",
        "#(1/6)^4 \n",
        "#(1/6)^5 \n",
        "#(1/6)^6\n",
        "\n"
      ]
    },
    {
      "cell_type": "code",
      "source": [
        "#NOW FOR THE CASE WHERE TWO OF FIVE TOTAL DICE HAVE THE SAME VALUE \n",
        "\n",
        "get_prob_double <- function() { \n",
        "  list_pos <- list()\n",
        "  win_count <- 0\n",
        "  lose_count <- 0\n",
        "  print(list_pos)\n",
        "\n",
        "\n",
        "  for (i in 1:6) {\n",
        "    for (j in 1:6) {\n",
        "      for (k in 1:6) {\n",
        "        for (q in 1:6) { \n",
        "          for (r in 1:6) {\n",
        "            vec <- list(c(i, j, k, q, r)) \n",
        "            list_pos <- append(list_pos, vec)  \n",
        "          }\n",
        "        }\n",
        "      } \n",
        "    }\n",
        "  }\n",
        "\n",
        "\n",
        "len <- length(list_pos) \n",
        "\n",
        "for (k in 1: len) { \n",
        "  temp_list <- lapply(list_pos[k],sort)\n",
        "  temp_list_vec <- unlist(temp_list)\n",
        "  #temp_list_vec <- unique(temp_list_vec) \n",
        "  #print(temp_list_vec)\n",
        "\n",
        "  one_count = 0 \n",
        "  two_count = 0 \n",
        "  three_count = 0 \n",
        "  four_count = 0 \n",
        "  five_count = 0 \n",
        "  six_count = 0\n",
        "\n",
        "  for (i in 1:6) { \n",
        "\n",
        "      match_one_vec = sum(temp_list_vec[i] == 1)  \n",
        "      print(match_one_vec)\n",
        "      for (a in 1:match_one_vec) {\n",
        "        print(match_one_vec[a]) }\n",
        "   \n",
        "\n",
        "      if (temp_list_vec[i] == temp_list_vec[i + 1]) {\n",
        "        win_count = win_count + 1\n",
        "      }\n",
        "      else {\n",
        "        lose_count = lose_count + 1\n",
        "      } \n",
        "      \n",
        "      }\n",
        "  }\n",
        "\n",
        "\n",
        "  as_vec = unlist(list_pos[k]) \n",
        "  sorted_vec = order(as_vec) \n",
        "\n",
        "\n",
        "\n",
        "\n",
        "\n",
        "  prob_two_dice_same_val = win_count/(win_count + lose_count) \n",
        "  return(prob_two_dice_same_val)\n",
        "  } \n",
        "\n",
        "prob_double <- get_prob_double()\n",
        "\n",
        "\n",
        "\n"
      ],
      "metadata": {
        "id": "8lgowkuJsGmW",
        "colab": {
          "base_uri": "https://localhost:8080/",
          "height": 321
        },
        "outputId": "c4e3826f-279b-4c1c-abe1-cb7931e7db7e"
      },
      "execution_count": 4,
      "outputs": [
        {
          "output_type": "stream",
          "name": "stdout",
          "text": [
            "list()\n",
            "[1] 1\n",
            "[1] 1\n",
            "[1] 1\n",
            "[1] 1\n",
            "[1] 1\n",
            "[1] 1\n",
            "[1] 1\n",
            "[1] 1\n",
            "[1] 1\n",
            "[1] 1\n"
          ]
        },
        {
          "output_type": "error",
          "ename": "ERROR",
          "evalue": "ignored",
          "traceback": [
            "Error in if (temp_list_vec[i] == temp_list_vec[i + 1]) {: missing value where TRUE/FALSE needed\nTraceback:\n",
            "1. get_prob_double()"
          ]
        }
      ]
    },
    {
      "cell_type": "code",
      "source": [
        "\n",
        "        if (length(match_one_vec) != 0) {\n",
        "          if (length(match_one_vec) != 0 & match_one_vec[a] == TRUE) {\n",
        "            one_count = one_count + 1\n",
        "          }\n",
        "        }\n",
        "        }\n",
        "\n",
        "      match_two_vec = sum(temp_list_vec[i] == 2)   \n",
        "        for (b in 1:match_two_vec) {\n",
        "          if (length(match_two_vec) != 0) {\n",
        "            if (length(match_two_vec) != 0 & match_two_vec[b] == TRUE) {\n",
        "              two_count = two_count + 1\n",
        "          }\n",
        "          }\n",
        "        } \n",
        "\n",
        "      match_three_vec = sum(temp_list_vec[i] == 3) \n",
        "        for (c in 1:match_three_vec) { \n",
        "          if (length(match_three_vec) != 0) {\n",
        "            if (length(match_three_vec) != 0 & match_three_vec[c] == TRUE) {\n",
        "              three_count = three_count + 1\n",
        "          } \n",
        "        }\n",
        "        }\n",
        "\n",
        "      match_four_vec = sum(temp_list_vec[i] == 4) \n",
        "        for (d in 1:match_four_vec) { \n",
        "          if (length(match_four_vec) != 0) {\n",
        "            if (length(match_four_vec) != 0 & match_four_vec[d] == TRUE) {\n",
        "              four_count = four_count + 1 \n",
        "          }\n",
        "          }\n",
        "        } \n",
        "\n",
        "      match_five_vec = sum(temp_list_vec[i] == 5) \n",
        "        for (e in 1:match_five_vec) { \n",
        "          if (length(match_five_vec) != 0) {\n",
        "            if (length(match_five_vec) != 0 & match_five_vec[e] == TRUE) {\n",
        "              five_count = five_count + 1 \n",
        "          } \n",
        "          }\n",
        "        }\n",
        "\n",
        "      match_six_vec = sum(temp_list_vec[i] == 6) \n",
        "        for (f in 1:match_six_vec) { \n",
        "          if (length(match_six_vec != 0)) {\n",
        "            if (length(match_six_vec) != 0 & match_six_vec[f] == TRUE) {\n",
        "              six_count = six_count + 1  \n",
        "          } \n",
        "          }\n",
        "        }\n",
        "\n",
        "      print(one_count, two_count, three_count, four_count, five_count, six_count)"
      ],
      "metadata": {
        "id": "s6tt3CjuSkLI"
      },
      "execution_count": null,
      "outputs": []
    },
    {
      "cell_type": "markdown",
      "source": [
        "##Answer to part 1: \n",
        "\n",
        "According to the Yahtzee Manifesto (link: https://www.yahtzeemanifesto.com/yahtzee-odds.php), the odds of three of a kind on a given roll is 19.29%, whereas four of a kind is 1.93%, a full house is 3.86%, a small straight is 12.35%, and a large straight is 3.09%. The probability of rolling a Yahtzee on the first roll is 0.077%. From this Stack Exchange thread (link: https://math.stackexchange.com/questions/2772282/probability-of-exactly-three-of-a-kind-in-a-roll-of-5-dice), it looks like the probability of at least one pair is 90%. "
      ],
      "metadata": {
        "id": "AAsA-kf5mFiX"
      }
    },
    {
      "cell_type": "code",
      "source": [
        "Type <- c(\"Doubles\", \"Three of a Kind\", \"Small Straight\", \"Full House\",\n",
        "\"Large Straight\", \"Yahtzee\") \n",
        "\n",
        "Probability <- c(0.9, 0.2, 0.1, 3e-2, 3e-2, 7e-4) \n",
        "\n",
        "prob_df <- data.frame(Type, Probability)\n",
        "\n",
        "print(prob_df)"
      ],
      "metadata": {
        "id": "IA4zBkKeaJwq",
        "colab": {
          "base_uri": "https://localhost:8080/"
        },
        "outputId": "ee559ed3-8398-4658-e5c7-78666110e171"
      },
      "execution_count": 47,
      "outputs": [
        {
          "output_type": "stream",
          "name": "stdout",
          "text": [
            "             Type Probability\n",
            "1         Doubles       9e-01\n",
            "2 Three of a Kind       2e-01\n",
            "3  Small Straight       1e-01\n",
            "4      Full House       3e-02\n",
            "5  Large Straight       3e-02\n",
            "6         Yahtzee       7e-04\n"
          ]
        }
      ]
    },
    {
      "cell_type": "code",
      "source": [
        "prob_df %>% \n",
        "  ggplot(aes(y = Type, x = Probability, fill = Type)) + \n",
        "  geom_bar(stat = \"identity\") + \n",
        "  \n",
        "      guides(fill = \"none\") +\n",
        "      geom_text(aes(label = Probability), hjust = -0.3) + \n",
        "      scale_fill_manual(values=c(\"#fef0d9\",\n",
        "                             \"#fdd493\",\n",
        "                             \"#fc8d59\",\n",
        "                             \"#fdbb84\",\n",
        "                             \"#b30000\",\n",
        "                             \"#e34a33\")) + \n",
        "\n",
        "    labs(\n",
        "      title = \"Probability of a Given Role for a Particular Roll Type\",\n",
        "      caption = \"Source: yahtzeemanifesto.com and StackX user N. F. Taussig\") +\n",
        "\n",
        "  theme_minimal()\n",
        "\n",
        "\n",
        "  \n",
        "  \n",
        "  "
      ],
      "metadata": {
        "colab": {
          "base_uri": "https://localhost:8080/",
          "height": 437
        },
        "id": "sYENGoBrs7PG",
        "outputId": "d63752b8-b4af-4de6-99b4-afaf5a6120d0"
      },
      "execution_count": 72,
      "outputs": [
        {
          "output_type": "display_data",
          "data": {
            "text/plain": [
              "plot without title"
            ],
            "image/png": "[encoded data removed]"
          },
          "metadata": {
            "image/png": {
              "width": 420,
              "height": 420
            }
          }
        }
      ]
    },
    {
      "cell_type": "markdown",
      "source": [
        "Narrative: The plot shows that, as expected, the probability of a particular outcome drops as the number of die required to reach that outcome increases. This is the reason while that you are more than 50% likely to roll a double, to roll three of a kind is only 20%; the probabilities drop from there until all dice are required to possess a specific value to reach the Yahtzee outcome, which is associated with a probability of 0.000077, which is about 0.07%. The probability is so low that I added numbers to the graph to indicate the probability because the scaling would not permit a bar to be displayed. "
      ],
      "metadata": {
        "id": "7DslX4qsEO6k"
      }
    },
    {
      "cell_type": "code",
      "source": [],
      "metadata": {
        "id": "HvlnF6G5uxJq"
      },
      "execution_count": null,
      "outputs": []
    }
  ]
}