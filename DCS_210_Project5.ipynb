{
  "cells": [
    {
      "cell_type": "markdown",
      "metadata": {
        "id": "view-in-github",
        "colab_type": "text"
      },
      "source": [
        "<a href=\"https://colab.research.google.com/github/KyleSprague/DCS_210/blob/main/DCS_210_Project5.ipynb\" target=\"_parent\"><img src=\"https://colab.research.google.com/assets/colab-badge.svg\" alt=\"Open In Colab\"/></a>"
      ]
    },
    {
      "cell_type": "code",
      "execution_count": 1,
      "metadata": {
        "colab": {
          "base_uri": "https://localhost:8080/"
        },
        "id": "SVtg8i1zozhs",
        "outputId": "ddc883d1-ca39-4c76-abed-3a1dd5420f73"
      },
      "outputs": [
        {
          "output_type": "stream",
          "name": "stderr",
          "text": [
            "Installing package into ‘/usr/local/lib/R/site-library’\n",
            "(as ‘lib’ is unspecified)\n",
            "\n",
            "Installing package into ‘/usr/local/lib/R/site-library’\n",
            "(as ‘lib’ is unspecified)\n",
            "\n",
            "Installing package into ‘/usr/local/lib/R/site-library’\n",
            "(as ‘lib’ is unspecified)\n",
            "\n",
            "Warning message in install.packages(\"openintro\"):\n",
            "“installation of package ‘openintro’ had non-zero exit status”\n"
          ]
        }
      ],
      "source": [
        "install.packages(\"tidyverse\") \n",
        "install.packages(\"tidymodels\") \n",
        "install.packages(\"openintro\") \n",
        "#install.packages(\"ggpubr\") \n",
        "#library(ggpubr)"
      ]
    },
    {
      "cell_type": "code",
      "execution_count": 2,
      "metadata": {
        "id": "CR0dBMMUqCQ2",
        "colab": {
          "base_uri": "https://localhost:8080/"
        },
        "outputId": "262d41a3-3a1c-435e-e8c2-9a4836c4a10f"
      },
      "outputs": [
        {
          "output_type": "stream",
          "name": "stderr",
          "text": [
            "Warning message in system(\"timedatectl\", intern = TRUE):\n",
            "“running command 'timedatectl' had status 1”\n",
            "── \u001b[1mAttaching packages\u001b[22m ─────────────────────────────────────── tidyverse 1.3.2 ──\n",
            "\u001b[32m✔\u001b[39m \u001b[34mggplot2\u001b[39m 3.3.6      \u001b[32m✔\u001b[39m \u001b[34mpurrr  \u001b[39m 0.3.5 \n",
            "\u001b[32m✔\u001b[39m \u001b[34mtibble \u001b[39m 3.1.7      \u001b[32m✔\u001b[39m \u001b[34mdplyr  \u001b[39m 1.0.10\n",
            "\u001b[32m✔\u001b[39m \u001b[34mtidyr  \u001b[39m 1.2.1      \u001b[32m✔\u001b[39m \u001b[34mstringr\u001b[39m 1.4.1 \n",
            "\u001b[32m✔\u001b[39m \u001b[34mreadr  \u001b[39m 2.1.3      \u001b[32m✔\u001b[39m \u001b[34mforcats\u001b[39m 0.5.2 \n",
            "── \u001b[1mConflicts\u001b[22m ────────────────────────────────────────── tidyverse_conflicts() ──\n",
            "\u001b[31m✖\u001b[39m \u001b[34mdplyr\u001b[39m::\u001b[32mfilter()\u001b[39m masks \u001b[34mstats\u001b[39m::filter()\n",
            "\u001b[31m✖\u001b[39m \u001b[34mdplyr\u001b[39m::\u001b[32mlag()\u001b[39m    masks \u001b[34mstats\u001b[39m::lag()\n",
            "── \u001b[1mAttaching packages\u001b[22m ────────────────────────────────────── tidymodels 1.0.0 ──\n",
            "\n",
            "\u001b[32m✔\u001b[39m \u001b[34mbroom       \u001b[39m 1.0.1     \u001b[32m✔\u001b[39m \u001b[34mrsample     \u001b[39m 1.1.0\n",
            "\u001b[32m✔\u001b[39m \u001b[34mdials       \u001b[39m 1.1.0     \u001b[32m✔\u001b[39m \u001b[34mtune        \u001b[39m 1.0.1\n",
            "\u001b[32m✔\u001b[39m \u001b[34minfer       \u001b[39m 1.0.3     \u001b[32m✔\u001b[39m \u001b[34mworkflows   \u001b[39m 1.1.0\n",
            "\u001b[32m✔\u001b[39m \u001b[34mmodeldata   \u001b[39m 1.0.1     \u001b[32m✔\u001b[39m \u001b[34mworkflowsets\u001b[39m 1.0.0\n",
            "\u001b[32m✔\u001b[39m \u001b[34mparsnip     \u001b[39m 1.0.3     \u001b[32m✔\u001b[39m \u001b[34myardstick   \u001b[39m 1.1.0\n",
            "\u001b[32m✔\u001b[39m \u001b[34mrecipes     \u001b[39m 1.0.3     \n",
            "\n",
            "── \u001b[1mConflicts\u001b[22m ───────────────────────────────────────── tidymodels_conflicts() ──\n",
            "\u001b[31m✖\u001b[39m \u001b[34mscales\u001b[39m::\u001b[32mdiscard()\u001b[39m masks \u001b[34mpurrr\u001b[39m::discard()\n",
            "\u001b[31m✖\u001b[39m \u001b[34mdplyr\u001b[39m::\u001b[32mfilter()\u001b[39m   masks \u001b[34mstats\u001b[39m::filter()\n",
            "\u001b[31m✖\u001b[39m \u001b[34mrecipes\u001b[39m::\u001b[32mfixed()\u001b[39m  masks \u001b[34mstringr\u001b[39m::fixed()\n",
            "\u001b[31m✖\u001b[39m \u001b[34mdplyr\u001b[39m::\u001b[32mlag()\u001b[39m      masks \u001b[34mstats\u001b[39m::lag()\n",
            "\u001b[31m✖\u001b[39m \u001b[34myardstick\u001b[39m::\u001b[32mspec()\u001b[39m masks \u001b[34mreadr\u001b[39m::spec()\n",
            "\u001b[31m✖\u001b[39m \u001b[34mrecipes\u001b[39m::\u001b[32mstep()\u001b[39m   masks \u001b[34mstats\u001b[39m::step()\n",
            "\u001b[34m•\u001b[39m Search for functions across packages at \u001b[32mhttps://www.tidymodels.org/find/\u001b[39m\n",
            "\n",
            "Loading required package: airports\n",
            "\n",
            "Loading required package: cherryblossom\n",
            "\n",
            "Loading required package: usdata\n",
            "\n",
            "\n",
            "Attaching package: ‘openintro’\n",
            "\n",
            "\n",
            "The following object is masked from ‘package:modeldata’:\n",
            "\n",
            "    ames\n",
            "\n",
            "\n"
          ]
        }
      ],
      "source": [
        "library(\"tidyverse\") \n",
        "library(\"tidymodels\") \n",
        "library(\"openintro\")"
      ]
    },
    {
      "cell_type": "code",
      "source": [
        "#glimpse(evals) \n",
        "\n",
        "help(evals) \n",
        "evals \n",
        "\n"
      ],
      "metadata": {
        "colab": {
          "base_uri": "https://localhost:8080/",
          "height": 1000
        },
        "id": "h_NYMTQaBQ5F",
        "outputId": "8846fb6c-5f0f-4f3c-fbb6-df316a1d5358"
      },
      "execution_count": 3,
      "outputs": [
        {
          "output_type": "display_data",
          "data": {
            "text/html": [
              "<table class=\"dataframe\">\n",
              "<caption>A tibble: 463 × 23</caption>\n",
              "<thead>\n",
              "\t<tr><th scope=col>course_id</th><th scope=col>prof_id</th><th scope=col>score</th><th scope=col>rank</th><th scope=col>ethnicity</th><th scope=col>gender</th><th scope=col>language</th><th scope=col>age</th><th scope=col>cls_perc_eval</th><th scope=col>cls_did_eval</th><th scope=col>⋯</th><th scope=col>cls_credits</th><th scope=col>bty_f1lower</th><th scope=col>bty_f1upper</th><th scope=col>bty_f2upper</th><th scope=col>bty_m1lower</th><th scope=col>bty_m1upper</th><th scope=col>bty_m2upper</th><th scope=col>bty_avg</th><th scope=col>pic_outfit</th><th scope=col>pic_color</th></tr>\n",
              "\t<tr><th scope=col>&lt;int&gt;</th><th scope=col>&lt;int&gt;</th><th scope=col>&lt;dbl&gt;</th><th scope=col>&lt;fct&gt;</th><th scope=col>&lt;fct&gt;</th><th scope=col>&lt;fct&gt;</th><th scope=col>&lt;fct&gt;</th><th scope=col>&lt;int&gt;</th><th scope=col>&lt;dbl&gt;</th><th scope=col>&lt;int&gt;</th><th scope=col>⋯</th><th scope=col>&lt;fct&gt;</th><th scope=col>&lt;int&gt;</th><th scope=col>&lt;int&gt;</th><th scope=col>&lt;int&gt;</th><th scope=col>&lt;int&gt;</th><th scope=col>&lt;int&gt;</th><th scope=col>&lt;int&gt;</th><th scope=col>&lt;dbl&gt;</th><th scope=col>&lt;fct&gt;</th><th scope=col>&lt;fct&gt;</th></tr>\n",
              "</thead>\n",
              "<tbody>\n",
              "\t<tr><td> 1</td><td>1</td><td>4.7</td><td>tenure track</td><td>minority    </td><td>female</td><td>english</td><td>36</td><td> 55.81395</td><td> 24</td><td>⋯</td><td>multi credit</td><td>5</td><td>7</td><td>6</td><td>2</td><td>4</td><td>6</td><td>5.000</td><td>not formal</td><td>color</td></tr>\n",
              "\t<tr><td> 2</td><td>1</td><td>4.1</td><td>tenure track</td><td>minority    </td><td>female</td><td>english</td><td>36</td><td> 68.80000</td><td> 86</td><td>⋯</td><td>multi credit</td><td>5</td><td>7</td><td>6</td><td>2</td><td>4</td><td>6</td><td>5.000</td><td>not formal</td><td>color</td></tr>\n",
              "\t<tr><td> 3</td><td>1</td><td>3.9</td><td>tenure track</td><td>minority    </td><td>female</td><td>english</td><td>36</td><td> 60.80000</td><td> 76</td><td>⋯</td><td>multi credit</td><td>5</td><td>7</td><td>6</td><td>2</td><td>4</td><td>6</td><td>5.000</td><td>not formal</td><td>color</td></tr>\n",
              "\t<tr><td> 4</td><td>1</td><td>4.8</td><td>tenure track</td><td>minority    </td><td>female</td><td>english</td><td>36</td><td> 62.60163</td><td> 77</td><td>⋯</td><td>multi credit</td><td>5</td><td>7</td><td>6</td><td>2</td><td>4</td><td>6</td><td>5.000</td><td>not formal</td><td>color</td></tr>\n",
              "\t<tr><td> 5</td><td>2</td><td>4.6</td><td>tenured     </td><td>not minority</td><td>male  </td><td>english</td><td>59</td><td> 85.00000</td><td> 17</td><td>⋯</td><td>multi credit</td><td>4</td><td>4</td><td>2</td><td>2</td><td>3</td><td>3</td><td>3.000</td><td>not formal</td><td>color</td></tr>\n",
              "\t<tr><td> 6</td><td>2</td><td>4.3</td><td>tenured     </td><td>not minority</td><td>male  </td><td>english</td><td>59</td><td> 87.50000</td><td> 35</td><td>⋯</td><td>multi credit</td><td>4</td><td>4</td><td>2</td><td>2</td><td>3</td><td>3</td><td>3.000</td><td>not formal</td><td>color</td></tr>\n",
              "\t<tr><td> 7</td><td>2</td><td>2.8</td><td>tenured     </td><td>not minority</td><td>male  </td><td>english</td><td>59</td><td> 88.63636</td><td> 39</td><td>⋯</td><td>multi credit</td><td>4</td><td>4</td><td>2</td><td>2</td><td>3</td><td>3</td><td>3.000</td><td>not formal</td><td>color</td></tr>\n",
              "\t<tr><td> 8</td><td>3</td><td>4.1</td><td>tenured     </td><td>not minority</td><td>male  </td><td>english</td><td>51</td><td>100.00000</td><td> 55</td><td>⋯</td><td>multi credit</td><td>5</td><td>2</td><td>5</td><td>2</td><td>3</td><td>3</td><td>3.333</td><td>not formal</td><td>color</td></tr>\n",
              "\t<tr><td> 9</td><td>3</td><td>3.4</td><td>tenured     </td><td>not minority</td><td>male  </td><td>english</td><td>51</td><td> 56.92308</td><td>111</td><td>⋯</td><td>multi credit</td><td>5</td><td>2</td><td>5</td><td>2</td><td>3</td><td>3</td><td>3.333</td><td>not formal</td><td>color</td></tr>\n",
              "\t<tr><td>10</td><td>4</td><td>4.5</td><td>tenured     </td><td>not minority</td><td>female</td><td>english</td><td>40</td><td> 86.95652</td><td> 40</td><td>⋯</td><td>multi credit</td><td>2</td><td>5</td><td>4</td><td>3</td><td>3</td><td>2</td><td>3.167</td><td>not formal</td><td>color</td></tr>\n",
              "\t<tr><td>11</td><td>4</td><td>3.8</td><td>tenured     </td><td>not minority</td><td>female</td><td>english</td><td>40</td><td> 88.88889</td><td> 24</td><td>⋯</td><td>multi credit</td><td>2</td><td>5</td><td>4</td><td>3</td><td>3</td><td>2</td><td>3.167</td><td>not formal</td><td>color</td></tr>\n",
              "\t<tr><td>12</td><td>4</td><td>4.5</td><td>tenured     </td><td>not minority</td><td>female</td><td>english</td><td>40</td><td> 96.00000</td><td> 24</td><td>⋯</td><td>multi credit</td><td>2</td><td>5</td><td>4</td><td>3</td><td>3</td><td>2</td><td>3.167</td><td>not formal</td><td>color</td></tr>\n",
              "\t<tr><td>13</td><td>4</td><td>4.6</td><td>tenured     </td><td>not minority</td><td>female</td><td>english</td><td>40</td><td> 85.00000</td><td> 17</td><td>⋯</td><td>multi credit</td><td>2</td><td>5</td><td>4</td><td>3</td><td>3</td><td>2</td><td>3.167</td><td>not formal</td><td>color</td></tr>\n",
              "\t<tr><td>14</td><td>4</td><td>3.9</td><td>tenured     </td><td>not minority</td><td>female</td><td>english</td><td>40</td><td> 56.00000</td><td> 14</td><td>⋯</td><td>multi credit</td><td>2</td><td>5</td><td>4</td><td>3</td><td>3</td><td>2</td><td>3.167</td><td>not formal</td><td>color</td></tr>\n",
              "\t<tr><td>15</td><td>4</td><td>3.9</td><td>tenured     </td><td>not minority</td><td>female</td><td>english</td><td>40</td><td> 88.09524</td><td> 37</td><td>⋯</td><td>multi credit</td><td>2</td><td>5</td><td>4</td><td>3</td><td>3</td><td>2</td><td>3.167</td><td>not formal</td><td>color</td></tr>\n",
              "\t<tr><td>16</td><td>4</td><td>4.3</td><td>tenured     </td><td>not minority</td><td>female</td><td>english</td><td>40</td><td> 90.00000</td><td> 18</td><td>⋯</td><td>multi credit</td><td>2</td><td>5</td><td>4</td><td>3</td><td>3</td><td>2</td><td>3.167</td><td>not formal</td><td>color</td></tr>\n",
              "\t<tr><td>17</td><td>4</td><td>4.5</td><td>tenured     </td><td>not minority</td><td>female</td><td>english</td><td>40</td><td> 83.33334</td><td> 15</td><td>⋯</td><td>multi credit</td><td>2</td><td>5</td><td>4</td><td>3</td><td>3</td><td>2</td><td>3.167</td><td>not formal</td><td>color</td></tr>\n",
              "\t<tr><td>18</td><td>5</td><td>4.8</td><td>tenure track</td><td>not minority</td><td>female</td><td>english</td><td>31</td><td> 87.50000</td><td> 42</td><td>⋯</td><td>multi credit</td><td>7</td><td>9</td><td>9</td><td>7</td><td>6</td><td>6</td><td>7.333</td><td>not formal</td><td>color</td></tr>\n",
              "\t<tr><td>19</td><td>5</td><td>4.6</td><td>tenure track</td><td>not minority</td><td>female</td><td>english</td><td>31</td><td> 90.90909</td><td> 40</td><td>⋯</td><td>multi credit</td><td>7</td><td>9</td><td>9</td><td>7</td><td>6</td><td>6</td><td>7.333</td><td>not formal</td><td>color</td></tr>\n",
              "\t<tr><td>20</td><td>5</td><td>4.6</td><td>tenure track</td><td>not minority</td><td>female</td><td>english</td><td>31</td><td> 79.16666</td><td> 38</td><td>⋯</td><td>multi credit</td><td>7</td><td>9</td><td>9</td><td>7</td><td>6</td><td>6</td><td>7.333</td><td>not formal</td><td>color</td></tr>\n",
              "\t<tr><td>21</td><td>5</td><td>4.9</td><td>tenure track</td><td>not minority</td><td>female</td><td>english</td><td>31</td><td> 88.88889</td><td> 40</td><td>⋯</td><td>multi credit</td><td>7</td><td>9</td><td>9</td><td>7</td><td>6</td><td>6</td><td>7.333</td><td>not formal</td><td>color</td></tr>\n",
              "\t<tr><td>22</td><td>5</td><td>4.6</td><td>tenure track</td><td>not minority</td><td>female</td><td>english</td><td>31</td><td> 88.13559</td><td> 52</td><td>⋯</td><td>multi credit</td><td>7</td><td>9</td><td>9</td><td>7</td><td>6</td><td>6</td><td>7.333</td><td>not formal</td><td>color</td></tr>\n",
              "\t<tr><td>23</td><td>5</td><td>4.5</td><td>tenure track</td><td>not minority</td><td>female</td><td>english</td><td>31</td><td> 56.32184</td><td> 49</td><td>⋯</td><td>multi credit</td><td>7</td><td>9</td><td>9</td><td>7</td><td>6</td><td>6</td><td>7.333</td><td>not formal</td><td>color</td></tr>\n",
              "\t<tr><td>24</td><td>6</td><td>4.4</td><td>tenured     </td><td>not minority</td><td>male  </td><td>english</td><td>62</td><td> 64.53901</td><td>182</td><td>⋯</td><td>multi credit</td><td>6</td><td>6</td><td>5</td><td>5</td><td>5</td><td>6</td><td>5.500</td><td>formal    </td><td>color</td></tr>\n",
              "\t<tr><td>25</td><td>6</td><td>4.6</td><td>tenured     </td><td>not minority</td><td>male  </td><td>english</td><td>62</td><td> 54.79452</td><td>160</td><td>⋯</td><td>multi credit</td><td>6</td><td>6</td><td>5</td><td>5</td><td>5</td><td>6</td><td>5.500</td><td>formal    </td><td>color</td></tr>\n",
              "\t<tr><td>26</td><td>6</td><td>4.7</td><td>tenured     </td><td>not minority</td><td>male  </td><td>english</td><td>62</td><td> 60.76923</td><td> 79</td><td>⋯</td><td>multi credit</td><td>6</td><td>6</td><td>5</td><td>5</td><td>5</td><td>6</td><td>5.500</td><td>formal    </td><td>color</td></tr>\n",
              "\t<tr><td>27</td><td>6</td><td>4.5</td><td>tenured     </td><td>not minority</td><td>male  </td><td>english</td><td>62</td><td> 61.75439</td><td>176</td><td>⋯</td><td>multi credit</td><td>6</td><td>6</td><td>5</td><td>5</td><td>5</td><td>6</td><td>5.500</td><td>formal    </td><td>color</td></tr>\n",
              "\t<tr><td>28</td><td>6</td><td>4.8</td><td>tenured     </td><td>not minority</td><td>male  </td><td>english</td><td>62</td><td> 56.98529</td><td>155</td><td>⋯</td><td>multi credit</td><td>6</td><td>6</td><td>5</td><td>5</td><td>5</td><td>6</td><td>5.500</td><td>formal    </td><td>color</td></tr>\n",
              "\t<tr><td>29</td><td>6</td><td>4.9</td><td>tenured     </td><td>not minority</td><td>male  </td><td>english</td><td>62</td><td> 58.04196</td><td>166</td><td>⋯</td><td>multi credit</td><td>6</td><td>6</td><td>5</td><td>5</td><td>5</td><td>6</td><td>5.500</td><td>formal    </td><td>color</td></tr>\n",
              "\t<tr><td>30</td><td>6</td><td>4.5</td><td>tenured     </td><td>not minority</td><td>male  </td><td>english</td><td>62</td><td> 61.58941</td><td>186</td><td>⋯</td><td>multi credit</td><td>6</td><td>6</td><td>5</td><td>5</td><td>5</td><td>6</td><td>5.500</td><td>formal    </td><td>color</td></tr>\n",
              "\t<tr><td>⋮</td><td>⋮</td><td>⋮</td><td>⋮</td><td>⋮</td><td>⋮</td><td>⋮</td><td>⋮</td><td>⋮</td><td>⋮</td><td>⋱</td><td>⋮</td><td>⋮</td><td>⋮</td><td>⋮</td><td>⋮</td><td>⋮</td><td>⋮</td><td>⋮</td><td>⋮</td><td>⋮</td></tr>\n",
              "\t<tr><td>434</td><td>88</td><td>2.8</td><td>tenured     </td><td>not minority</td><td>male  </td><td>english    </td><td>62</td><td> 40.93960</td><td> 61</td><td>⋯</td><td>multi credit</td><td>1</td><td>1</td><td> 1</td><td>4</td><td>1</td><td>4</td><td>2.000</td><td>not formal</td><td>color      </td></tr>\n",
              "\t<tr><td>435</td><td>88</td><td>3.1</td><td>tenured     </td><td>not minority</td><td>male  </td><td>english    </td><td>62</td><td> 35.76642</td><td> 49</td><td>⋯</td><td>multi credit</td><td>1</td><td>1</td><td> 1</td><td>4</td><td>1</td><td>4</td><td>2.000</td><td>not formal</td><td>color      </td></tr>\n",
              "\t<tr><td>436</td><td>88</td><td>4.2</td><td>tenured     </td><td>not minority</td><td>male  </td><td>english    </td><td>62</td><td> 44.82759</td><td> 13</td><td>⋯</td><td>multi credit</td><td>1</td><td>1</td><td> 1</td><td>4</td><td>1</td><td>4</td><td>2.000</td><td>not formal</td><td>color      </td></tr>\n",
              "\t<tr><td>437</td><td>88</td><td>3.4</td><td>tenured     </td><td>not minority</td><td>male  </td><td>english    </td><td>62</td><td> 50.90909</td><td> 28</td><td>⋯</td><td>multi credit</td><td>1</td><td>1</td><td> 1</td><td>4</td><td>1</td><td>4</td><td>2.000</td><td>not formal</td><td>color      </td></tr>\n",
              "\t<tr><td>438</td><td>88</td><td>3.0</td><td>tenured     </td><td>not minority</td><td>male  </td><td>english    </td><td>62</td><td> 49.26471</td><td> 67</td><td>⋯</td><td>multi credit</td><td>1</td><td>1</td><td> 1</td><td>4</td><td>1</td><td>4</td><td>2.000</td><td>not formal</td><td>color      </td></tr>\n",
              "\t<tr><td>439</td><td>89</td><td>3.3</td><td>tenure track</td><td>minority    </td><td>female</td><td>english    </td><td>35</td><td> 62.50000</td><td> 60</td><td>⋯</td><td>multi credit</td><td>7</td><td>9</td><td>10</td><td>6</td><td>7</td><td>8</td><td>7.833</td><td>not formal</td><td>color      </td></tr>\n",
              "\t<tr><td>440</td><td>89</td><td>3.6</td><td>tenure track</td><td>minority    </td><td>female</td><td>english    </td><td>35</td><td> 33.33333</td><td> 20</td><td>⋯</td><td>multi credit</td><td>7</td><td>9</td><td>10</td><td>6</td><td>7</td><td>8</td><td>7.833</td><td>not formal</td><td>color      </td></tr>\n",
              "\t<tr><td>441</td><td>89</td><td>3.7</td><td>tenure track</td><td>minority    </td><td>female</td><td>english    </td><td>35</td><td> 39.81482</td><td> 43</td><td>⋯</td><td>multi credit</td><td>7</td><td>9</td><td>10</td><td>6</td><td>7</td><td>8</td><td>7.833</td><td>not formal</td><td>color      </td></tr>\n",
              "\t<tr><td>442</td><td>90</td><td>3.6</td><td>tenured     </td><td>not minority</td><td>male  </td><td>english    </td><td>61</td><td> 69.23077</td><td> 27</td><td>⋯</td><td>multi credit</td><td>3</td><td>2</td><td> 7</td><td>1</td><td>3</td><td>4</td><td>3.333</td><td>not formal</td><td>color      </td></tr>\n",
              "\t<tr><td>443</td><td>90</td><td>4.3</td><td>tenured     </td><td>not minority</td><td>male  </td><td>english    </td><td>61</td><td> 86.66666</td><td> 13</td><td>⋯</td><td>multi credit</td><td>3</td><td>2</td><td> 7</td><td>1</td><td>3</td><td>4</td><td>3.333</td><td>not formal</td><td>color      </td></tr>\n",
              "\t<tr><td>444</td><td>91</td><td>4.1</td><td>tenured     </td><td>not minority</td><td>female</td><td>english    </td><td>52</td><td> 54.95496</td><td> 61</td><td>⋯</td><td>multi credit</td><td>4</td><td>8</td><td> 5</td><td>3</td><td>4</td><td>3</td><td>4.500</td><td>not formal</td><td>color      </td></tr>\n",
              "\t<tr><td>445</td><td>91</td><td>4.9</td><td>tenured     </td><td>not minority</td><td>female</td><td>english    </td><td>52</td><td> 82.35294</td><td> 14</td><td>⋯</td><td>multi credit</td><td>4</td><td>8</td><td> 5</td><td>3</td><td>4</td><td>3</td><td>4.500</td><td>not formal</td><td>color      </td></tr>\n",
              "\t<tr><td>446</td><td>91</td><td>4.8</td><td>tenured     </td><td>not minority</td><td>female</td><td>english    </td><td>52</td><td>100.00000</td><td> 19</td><td>⋯</td><td>multi credit</td><td>4</td><td>8</td><td> 5</td><td>3</td><td>4</td><td>3</td><td>4.500</td><td>not formal</td><td>color      </td></tr>\n",
              "\t<tr><td>447</td><td>92</td><td>3.7</td><td>tenure track</td><td>not minority</td><td>female</td><td>non-english</td><td>60</td><td> 85.18519</td><td> 23</td><td>⋯</td><td>multi credit</td><td>4</td><td>6</td><td> 6</td><td>2</td><td>3</td><td>5</td><td>4.333</td><td><span style=white-space:pre-wrap>formal    </span></td><td>black&amp;white</td></tr>\n",
              "\t<tr><td>448</td><td>92</td><td>3.9</td><td>tenure track</td><td>not minority</td><td>female</td><td>non-english</td><td>60</td><td> 94.73684</td><td> 18</td><td>⋯</td><td>multi credit</td><td>4</td><td>6</td><td> 6</td><td>2</td><td>3</td><td>5</td><td>4.333</td><td><span style=white-space:pre-wrap>formal    </span></td><td>black&amp;white</td></tr>\n",
              "\t<tr><td>449</td><td>92</td><td>4.5</td><td>tenure track</td><td>not minority</td><td>female</td><td>non-english</td><td>60</td><td> 84.61539</td><td> 11</td><td>⋯</td><td>multi credit</td><td>4</td><td>6</td><td> 6</td><td>2</td><td>3</td><td>5</td><td>4.333</td><td><span style=white-space:pre-wrap>formal    </span></td><td>black&amp;white</td></tr>\n",
              "\t<tr><td>450</td><td>92</td><td>3.6</td><td>tenure track</td><td>not minority</td><td>female</td><td>non-english</td><td>60</td><td> 94.73684</td><td> 18</td><td>⋯</td><td>multi credit</td><td>4</td><td>6</td><td> 6</td><td>2</td><td>3</td><td>5</td><td>4.333</td><td><span style=white-space:pre-wrap>formal    </span></td><td>black&amp;white</td></tr>\n",
              "\t<tr><td>451</td><td>92</td><td>4.4</td><td>tenure track</td><td>not minority</td><td>female</td><td>non-english</td><td>60</td><td> 50.00000</td><td> 11</td><td>⋯</td><td>multi credit</td><td>4</td><td>6</td><td> 6</td><td>2</td><td>3</td><td>5</td><td>4.333</td><td><span style=white-space:pre-wrap>formal    </span></td><td>black&amp;white</td></tr>\n",
              "\t<tr><td>452</td><td>92</td><td>3.4</td><td>tenure track</td><td>not minority</td><td>female</td><td>non-english</td><td>60</td><td> 35.00000</td><td><span style=white-space:pre-wrap>  7</span></td><td>⋯</td><td>multi credit</td><td>4</td><td>6</td><td> 6</td><td>2</td><td>3</td><td>5</td><td>4.333</td><td><span style=white-space:pre-wrap>formal    </span></td><td>black&amp;white</td></tr>\n",
              "\t<tr><td>453</td><td>92</td><td>4.4</td><td>tenure track</td><td>not minority</td><td>female</td><td>non-english</td><td>60</td><td> 88.88889</td><td> 24</td><td>⋯</td><td>multi credit</td><td>4</td><td>6</td><td> 6</td><td>2</td><td>3</td><td>5</td><td>4.333</td><td><span style=white-space:pre-wrap>formal    </span></td><td>black&amp;white</td></tr>\n",
              "\t<tr><td>454</td><td>93</td><td>4.5</td><td>tenure track</td><td>not minority</td><td>male  </td><td>english    </td><td>32</td><td> 74.24242</td><td> 98</td><td>⋯</td><td>multi credit</td><td>6</td><td>6</td><td> 9</td><td>7</td><td>8</td><td>5</td><td>6.833</td><td>not formal</td><td>color      </td></tr>\n",
              "\t<tr><td>455</td><td>93</td><td>4.5</td><td>tenure track</td><td>not minority</td><td>male  </td><td>english    </td><td>32</td><td> 87.40157</td><td>111</td><td>⋯</td><td>multi credit</td><td>6</td><td>6</td><td> 9</td><td>7</td><td>8</td><td>5</td><td>6.833</td><td>not formal</td><td>color      </td></tr>\n",
              "\t<tr><td>456</td><td>93</td><td>4.5</td><td>tenure track</td><td>not minority</td><td>male  </td><td>english    </td><td>32</td><td> 72.94118</td><td> 62</td><td>⋯</td><td>multi credit</td><td>6</td><td>6</td><td> 9</td><td>7</td><td>8</td><td>5</td><td>6.833</td><td>not formal</td><td>color      </td></tr>\n",
              "\t<tr><td>457</td><td>93</td><td>4.6</td><td>tenure track</td><td>not minority</td><td>male  </td><td>english    </td><td>32</td><td> 75.24753</td><td> 76</td><td>⋯</td><td>multi credit</td><td>6</td><td>6</td><td> 9</td><td>7</td><td>8</td><td>5</td><td>6.833</td><td>not formal</td><td>color      </td></tr>\n",
              "\t<tr><td>458</td><td>93</td><td>4.1</td><td>tenure track</td><td>not minority</td><td>male  </td><td>english    </td><td>32</td><td> 42.85714</td><td>  9</td><td>⋯</td><td>multi credit</td><td>6</td><td>6</td><td> 9</td><td>7</td><td>8</td><td>5</td><td>6.833</td><td>not formal</td><td>color      </td></tr>\n",
              "\t<tr><td>459</td><td>93</td><td>4.5</td><td>tenure track</td><td>not minority</td><td>male  </td><td>english    </td><td>32</td><td> 60.46511</td><td> 52</td><td>⋯</td><td>multi credit</td><td>6</td><td>6</td><td> 9</td><td>7</td><td>8</td><td>5</td><td>6.833</td><td>not formal</td><td>color      </td></tr>\n",
              "\t<tr><td>460</td><td>94</td><td>3.5</td><td>tenure track</td><td>minority    </td><td>female</td><td>non-english</td><td>42</td><td> 57.14286</td><td> 48</td><td>⋯</td><td>multi credit</td><td>3</td><td>8</td><td> 7</td><td>4</td><td>6</td><td>4</td><td>5.333</td><td>not formal</td><td>color      </td></tr>\n",
              "\t<tr><td>461</td><td>94</td><td>4.4</td><td>tenure track</td><td>minority    </td><td>female</td><td>non-english</td><td>42</td><td> 77.61194</td><td> 52</td><td>⋯</td><td>multi credit</td><td>3</td><td>8</td><td> 7</td><td>4</td><td>6</td><td>4</td><td>5.333</td><td>not formal</td><td>color      </td></tr>\n",
              "\t<tr><td>462</td><td>94</td><td>4.4</td><td>tenure track</td><td>minority    </td><td>female</td><td>non-english</td><td>42</td><td> 81.81818</td><td> 54</td><td>⋯</td><td>multi credit</td><td>3</td><td>8</td><td> 7</td><td>4</td><td>6</td><td>4</td><td>5.333</td><td>not formal</td><td>color      </td></tr>\n",
              "\t<tr><td>463</td><td>94</td><td>4.1</td><td>tenure track</td><td>minority    </td><td>female</td><td>non-english</td><td>42</td><td> 80.00000</td><td> 28</td><td>⋯</td><td>one credit  </td><td>3</td><td>8</td><td> 7</td><td>4</td><td>6</td><td>4</td><td>5.333</td><td>not formal</td><td>color      </td></tr>\n",
              "</tbody>\n",
              "</table>\n"
            ],
            "text/markdown": "\nA tibble: 463 × 23\n\n| course_id &lt;int&gt; | prof_id &lt;int&gt; | score &lt;dbl&gt; | rank &lt;fct&gt; | ethnicity &lt;fct&gt; | gender &lt;fct&gt; | language &lt;fct&gt; | age &lt;int&gt; | cls_perc_eval &lt;dbl&gt; | cls_did_eval &lt;int&gt; | ⋯ ⋯ | cls_credits &lt;fct&gt; | bty_f1lower &lt;int&gt; | bty_f1upper &lt;int&gt; | bty_f2upper &lt;int&gt; | bty_m1lower &lt;int&gt; | bty_m1upper &lt;int&gt; | bty_m2upper &lt;int&gt; | bty_avg &lt;dbl&gt; | pic_outfit &lt;fct&gt; | pic_color &lt;fct&gt; |\n|---|---|---|---|---|---|---|---|---|---|---|---|---|---|---|---|---|---|---|---|---|\n|  1 | 1 | 4.7 | tenure track | minority     | female | english | 36 |  55.81395 |  24 | ⋯ | multi credit | 5 | 7 | 6 | 2 | 4 | 6 | 5.000 | not formal | color |\n|  2 | 1 | 4.1 | tenure track | minority     | female | english | 36 |  68.80000 |  86 | ⋯ | multi credit | 5 | 7 | 6 | 2 | 4 | 6 | 5.000 | not formal | color |\n|  3 | 1 | 3.9 | tenure track | minority     | female | english | 36 |  60.80000 |  76 | ⋯ | multi credit | 5 | 7 | 6 | 2 | 4 | 6 | 5.000 | not formal | color |\n|  4 | 1 | 4.8 | tenure track | minority     | female | english | 36 |  62.60163 |  77 | ⋯ | multi credit | 5 | 7 | 6 | 2 | 4 | 6 | 5.000 | not formal | color |\n|  5 | 2 | 4.6 | tenured      | not minority | male   | english | 59 |  85.00000 |  17 | ⋯ | multi credit | 4 | 4 | 2 | 2 | 3 | 3 | 3.000 | not formal | color |\n|  6 | 2 | 4.3 | tenured      | not minority | male   | english | 59 |  87.50000 |  35 | ⋯ | multi credit | 4 | 4 | 2 | 2 | 3 | 3 | 3.000 | not formal | color |\n|  7 | 2 | 2.8 | tenured      | not minority | male   | english | 59 |  88.63636 |  39 | ⋯ | multi credit | 4 | 4 | 2 | 2 | 3 | 3 | 3.000 | not formal | color |\n|  8 | 3 | 4.1 | tenured      | not minority | male   | english | 51 | 100.00000 |  55 | ⋯ | multi credit | 5 | 2 | 5 | 2 | 3 | 3 | 3.333 | not formal | color |\n|  9 | 3 | 3.4 | tenured      | not minority | male   | english | 51 |  56.92308 | 111 | ⋯ | multi credit | 5 | 2 | 5 | 2 | 3 | 3 | 3.333 | not formal | color |\n| 10 | 4 | 4.5 | tenured      | not minority | female | english | 40 |  86.95652 |  40 | ⋯ | multi credit | 2 | 5 | 4 | 3 | 3 | 2 | 3.167 | not formal | color |\n| 11 | 4 | 3.8 | tenured      | not minority | female | english | 40 |  88.88889 |  24 | ⋯ | multi credit | 2 | 5 | 4 | 3 | 3 | 2 | 3.167 | not formal | color |\n| 12 | 4 | 4.5 | tenured      | not minority | female | english | 40 |  96.00000 |  24 | ⋯ | multi credit | 2 | 5 | 4 | 3 | 3 | 2 | 3.167 | not formal | color |\n| 13 | 4 | 4.6 | tenured      | not minority | female | english | 40 |  85.00000 |  17 | ⋯ | multi credit | 2 | 5 | 4 | 3 | 3 | 2 | 3.167 | not formal | color |\n| 14 | 4 | 3.9 | tenured      | not minority | female | english | 40 |  56.00000 |  14 | ⋯ | multi credit | 2 | 5 | 4 | 3 | 3 | 2 | 3.167 | not formal | color |\n| 15 | 4 | 3.9 | tenured      | not minority | female | english | 40 |  88.09524 |  37 | ⋯ | multi credit | 2 | 5 | 4 | 3 | 3 | 2 | 3.167 | not formal | color |\n| 16 | 4 | 4.3 | tenured      | not minority | female | english | 40 |  90.00000 |  18 | ⋯ | multi credit | 2 | 5 | 4 | 3 | 3 | 2 | 3.167 | not formal | color |\n| 17 | 4 | 4.5 | tenured      | not minority | female | english | 40 |  83.33334 |  15 | ⋯ | multi credit | 2 | 5 | 4 | 3 | 3 | 2 | 3.167 | not formal | color |\n| 18 | 5 | 4.8 | tenure track | not minority | female | english | 31 |  87.50000 |  42 | ⋯ | multi credit | 7 | 9 | 9 | 7 | 6 | 6 | 7.333 | not formal | color |\n| 19 | 5 | 4.6 | tenure track | not minority | female | english | 31 |  90.90909 |  40 | ⋯ | multi credit | 7 | 9 | 9 | 7 | 6 | 6 | 7.333 | not formal | color |\n| 20 | 5 | 4.6 | tenure track | not minority | female | english | 31 |  79.16666 |  38 | ⋯ | multi credit | 7 | 9 | 9 | 7 | 6 | 6 | 7.333 | not formal | color |\n| 21 | 5 | 4.9 | tenure track | not minority | female | english | 31 |  88.88889 |  40 | ⋯ | multi credit | 7 | 9 | 9 | 7 | 6 | 6 | 7.333 | not formal | color |\n| 22 | 5 | 4.6 | tenure track | not minority | female | english | 31 |  88.13559 |  52 | ⋯ | multi credit | 7 | 9 | 9 | 7 | 6 | 6 | 7.333 | not formal | color |\n| 23 | 5 | 4.5 | tenure track | not minority | female | english | 31 |  56.32184 |  49 | ⋯ | multi credit | 7 | 9 | 9 | 7 | 6 | 6 | 7.333 | not formal | color |\n| 24 | 6 | 4.4 | tenured      | not minority | male   | english | 62 |  64.53901 | 182 | ⋯ | multi credit | 6 | 6 | 5 | 5 | 5 | 6 | 5.500 | formal     | color |\n| 25 | 6 | 4.6 | tenured      | not minority | male   | english | 62 |  54.79452 | 160 | ⋯ | multi credit | 6 | 6 | 5 | 5 | 5 | 6 | 5.500 | formal     | color |\n| 26 | 6 | 4.7 | tenured      | not minority | male   | english | 62 |  60.76923 |  79 | ⋯ | multi credit | 6 | 6 | 5 | 5 | 5 | 6 | 5.500 | formal     | color |\n| 27 | 6 | 4.5 | tenured      | not minority | male   | english | 62 |  61.75439 | 176 | ⋯ | multi credit | 6 | 6 | 5 | 5 | 5 | 6 | 5.500 | formal     | color |\n| 28 | 6 | 4.8 | tenured      | not minority | male   | english | 62 |  56.98529 | 155 | ⋯ | multi credit | 6 | 6 | 5 | 5 | 5 | 6 | 5.500 | formal     | color |\n| 29 | 6 | 4.9 | tenured      | not minority | male   | english | 62 |  58.04196 | 166 | ⋯ | multi credit | 6 | 6 | 5 | 5 | 5 | 6 | 5.500 | formal     | color |\n| 30 | 6 | 4.5 | tenured      | not minority | male   | english | 62 |  61.58941 | 186 | ⋯ | multi credit | 6 | 6 | 5 | 5 | 5 | 6 | 5.500 | formal     | color |\n| ⋮ | ⋮ | ⋮ | ⋮ | ⋮ | ⋮ | ⋮ | ⋮ | ⋮ | ⋮ | ⋱ | ⋮ | ⋮ | ⋮ | ⋮ | ⋮ | ⋮ | ⋮ | ⋮ | ⋮ | ⋮ |\n| 434 | 88 | 2.8 | tenured      | not minority | male   | english     | 62 |  40.93960 |  61 | ⋯ | multi credit | 1 | 1 |  1 | 4 | 1 | 4 | 2.000 | not formal | color       |\n| 435 | 88 | 3.1 | tenured      | not minority | male   | english     | 62 |  35.76642 |  49 | ⋯ | multi credit | 1 | 1 |  1 | 4 | 1 | 4 | 2.000 | not formal | color       |\n| 436 | 88 | 4.2 | tenured      | not minority | male   | english     | 62 |  44.82759 |  13 | ⋯ | multi credit | 1 | 1 |  1 | 4 | 1 | 4 | 2.000 | not formal | color       |\n| 437 | 88 | 3.4 | tenured      | not minority | male   | english     | 62 |  50.90909 |  28 | ⋯ | multi credit | 1 | 1 |  1 | 4 | 1 | 4 | 2.000 | not formal | color       |\n| 438 | 88 | 3.0 | tenured      | not minority | male   | english     | 62 |  49.26471 |  67 | ⋯ | multi credit | 1 | 1 |  1 | 4 | 1 | 4 | 2.000 | not formal | color       |\n| 439 | 89 | 3.3 | tenure track | minority     | female | english     | 35 |  62.50000 |  60 | ⋯ | multi credit | 7 | 9 | 10 | 6 | 7 | 8 | 7.833 | not formal | color       |\n| 440 | 89 | 3.6 | tenure track | minority     | female | english     | 35 |  33.33333 |  20 | ⋯ | multi credit | 7 | 9 | 10 | 6 | 7 | 8 | 7.833 | not formal | color       |\n| 441 | 89 | 3.7 | tenure track | minority     | female | english     | 35 |  39.81482 |  43 | ⋯ | multi credit | 7 | 9 | 10 | 6 | 7 | 8 | 7.833 | not formal | color       |\n| 442 | 90 | 3.6 | tenured      | not minority | male   | english     | 61 |  69.23077 |  27 | ⋯ | multi credit | 3 | 2 |  7 | 1 | 3 | 4 | 3.333 | not formal | color       |\n| 443 | 90 | 4.3 | tenured      | not minority | male   | english     | 61 |  86.66666 |  13 | ⋯ | multi credit | 3 | 2 |  7 | 1 | 3 | 4 | 3.333 | not formal | color       |\n| 444 | 91 | 4.1 | tenured      | not minority | female | english     | 52 |  54.95496 |  61 | ⋯ | multi credit | 4 | 8 |  5 | 3 | 4 | 3 | 4.500 | not formal | color       |\n| 445 | 91 | 4.9 | tenured      | not minority | female | english     | 52 |  82.35294 |  14 | ⋯ | multi credit | 4 | 8 |  5 | 3 | 4 | 3 | 4.500 | not formal | color       |\n| 446 | 91 | 4.8 | tenured      | not minority | female | english     | 52 | 100.00000 |  19 | ⋯ | multi credit | 4 | 8 |  5 | 3 | 4 | 3 | 4.500 | not formal | color       |\n| 447 | 92 | 3.7 | tenure track | not minority | female | non-english | 60 |  85.18519 |  23 | ⋯ | multi credit | 4 | 6 |  6 | 2 | 3 | 5 | 4.333 | formal     | black&amp;white |\n| 448 | 92 | 3.9 | tenure track | not minority | female | non-english | 60 |  94.73684 |  18 | ⋯ | multi credit | 4 | 6 |  6 | 2 | 3 | 5 | 4.333 | formal     | black&amp;white |\n| 449 | 92 | 4.5 | tenure track | not minority | female | non-english | 60 |  84.61539 |  11 | ⋯ | multi credit | 4 | 6 |  6 | 2 | 3 | 5 | 4.333 | formal     | black&amp;white |\n| 450 | 92 | 3.6 | tenure track | not minority | female | non-english | 60 |  94.73684 |  18 | ⋯ | multi credit | 4 | 6 |  6 | 2 | 3 | 5 | 4.333 | formal     | black&amp;white |\n| 451 | 92 | 4.4 | tenure track | not minority | female | non-english | 60 |  50.00000 |  11 | ⋯ | multi credit | 4 | 6 |  6 | 2 | 3 | 5 | 4.333 | formal     | black&amp;white |\n| 452 | 92 | 3.4 | tenure track | not minority | female | non-english | 60 |  35.00000 |   7 | ⋯ | multi credit | 4 | 6 |  6 | 2 | 3 | 5 | 4.333 | formal     | black&amp;white |\n| 453 | 92 | 4.4 | tenure track | not minority | female | non-english | 60 |  88.88889 |  24 | ⋯ | multi credit | 4 | 6 |  6 | 2 | 3 | 5 | 4.333 | formal     | black&amp;white |\n| 454 | 93 | 4.5 | tenure track | not minority | male   | english     | 32 |  74.24242 |  98 | ⋯ | multi credit | 6 | 6 |  9 | 7 | 8 | 5 | 6.833 | not formal | color       |\n| 455 | 93 | 4.5 | tenure track | not minority | male   | english     | 32 |  87.40157 | 111 | ⋯ | multi credit | 6 | 6 |  9 | 7 | 8 | 5 | 6.833 | not formal | color       |\n| 456 | 93 | 4.5 | tenure track | not minority | male   | english     | 32 |  72.94118 |  62 | ⋯ | multi credit | 6 | 6 |  9 | 7 | 8 | 5 | 6.833 | not formal | color       |\n| 457 | 93 | 4.6 | tenure track | not minority | male   | english     | 32 |  75.24753 |  76 | ⋯ | multi credit | 6 | 6 |  9 | 7 | 8 | 5 | 6.833 | not formal | color       |\n| 458 | 93 | 4.1 | tenure track | not minority | male   | english     | 32 |  42.85714 |   9 | ⋯ | multi credit | 6 | 6 |  9 | 7 | 8 | 5 | 6.833 | not formal | color       |\n| 459 | 93 | 4.5 | tenure track | not minority | male   | english     | 32 |  60.46511 |  52 | ⋯ | multi credit | 6 | 6 |  9 | 7 | 8 | 5 | 6.833 | not formal | color       |\n| 460 | 94 | 3.5 | tenure track | minority     | female | non-english | 42 |  57.14286 |  48 | ⋯ | multi credit | 3 | 8 |  7 | 4 | 6 | 4 | 5.333 | not formal | color       |\n| 461 | 94 | 4.4 | tenure track | minority     | female | non-english | 42 |  77.61194 |  52 | ⋯ | multi credit | 3 | 8 |  7 | 4 | 6 | 4 | 5.333 | not formal | color       |\n| 462 | 94 | 4.4 | tenure track | minority     | female | non-english | 42 |  81.81818 |  54 | ⋯ | multi credit | 3 | 8 |  7 | 4 | 6 | 4 | 5.333 | not formal | color       |\n| 463 | 94 | 4.1 | tenure track | minority     | female | non-english | 42 |  80.00000 |  28 | ⋯ | one credit   | 3 | 8 |  7 | 4 | 6 | 4 | 5.333 | not formal | color       |\n\n",
            "text/latex": "A tibble: 463 × 23\n\\begin{tabular}{lllllllllllllllllllll}\n course\\_id & prof\\_id & score & rank & ethnicity & gender & language & age & cls\\_perc\\_eval & cls\\_did\\_eval & ⋯ & cls\\_credits & bty\\_f1lower & bty\\_f1upper & bty\\_f2upper & bty\\_m1lower & bty\\_m1upper & bty\\_m2upper & bty\\_avg & pic\\_outfit & pic\\_color\\\\\n <int> & <int> & <dbl> & <fct> & <fct> & <fct> & <fct> & <int> & <dbl> & <int> & ⋯ & <fct> & <int> & <int> & <int> & <int> & <int> & <int> & <dbl> & <fct> & <fct>\\\\\n\\hline\n\t  1 & 1 & 4.7 & tenure track & minority     & female & english & 36 &  55.81395 &  24 & ⋯ & multi credit & 5 & 7 & 6 & 2 & 4 & 6 & 5.000 & not formal & color\\\\\n\t  2 & 1 & 4.1 & tenure track & minority     & female & english & 36 &  68.80000 &  86 & ⋯ & multi credit & 5 & 7 & 6 & 2 & 4 & 6 & 5.000 & not formal & color\\\\\n\t  3 & 1 & 3.9 & tenure track & minority     & female & english & 36 &  60.80000 &  76 & ⋯ & multi credit & 5 & 7 & 6 & 2 & 4 & 6 & 5.000 & not formal & color\\\\\n\t  4 & 1 & 4.8 & tenure track & minority     & female & english & 36 &  62.60163 &  77 & ⋯ & multi credit & 5 & 7 & 6 & 2 & 4 & 6 & 5.000 & not formal & color\\\\\n\t  5 & 2 & 4.6 & tenured      & not minority & male   & english & 59 &  85.00000 &  17 & ⋯ & multi credit & 4 & 4 & 2 & 2 & 3 & 3 & 3.000 & not formal & color\\\\\n\t  6 & 2 & 4.3 & tenured      & not minority & male   & english & 59 &  87.50000 &  35 & ⋯ & multi credit & 4 & 4 & 2 & 2 & 3 & 3 & 3.000 & not formal & color\\\\\n\t  7 & 2 & 2.8 & tenured      & not minority & male   & english & 59 &  88.63636 &  39 & ⋯ & multi credit & 4 & 4 & 2 & 2 & 3 & 3 & 3.000 & not formal & color\\\\\n\t  8 & 3 & 4.1 & tenured      & not minority & male   & english & 51 & 100.00000 &  55 & ⋯ & multi credit & 5 & 2 & 5 & 2 & 3 & 3 & 3.333 & not formal & color\\\\\n\t  9 & 3 & 3.4 & tenured      & not minority & male   & english & 51 &  56.92308 & 111 & ⋯ & multi credit & 5 & 2 & 5 & 2 & 3 & 3 & 3.333 & not formal & color\\\\\n\t 10 & 4 & 4.5 & tenured      & not minority & female & english & 40 &  86.95652 &  40 & ⋯ & multi credit & 2 & 5 & 4 & 3 & 3 & 2 & 3.167 & not formal & color\\\\\n\t 11 & 4 & 3.8 & tenured      & not minority & female & english & 40 &  88.88889 &  24 & ⋯ & multi credit & 2 & 5 & 4 & 3 & 3 & 2 & 3.167 & not formal & color\\\\\n\t 12 & 4 & 4.5 & tenured      & not minority & female & english & 40 &  96.00000 &  24 & ⋯ & multi credit & 2 & 5 & 4 & 3 & 3 & 2 & 3.167 & not formal & color\\\\\n\t 13 & 4 & 4.6 & tenured      & not minority & female & english & 40 &  85.00000 &  17 & ⋯ & multi credit & 2 & 5 & 4 & 3 & 3 & 2 & 3.167 & not formal & color\\\\\n\t 14 & 4 & 3.9 & tenured      & not minority & female & english & 40 &  56.00000 &  14 & ⋯ & multi credit & 2 & 5 & 4 & 3 & 3 & 2 & 3.167 & not formal & color\\\\\n\t 15 & 4 & 3.9 & tenured      & not minority & female & english & 40 &  88.09524 &  37 & ⋯ & multi credit & 2 & 5 & 4 & 3 & 3 & 2 & 3.167 & not formal & color\\\\\n\t 16 & 4 & 4.3 & tenured      & not minority & female & english & 40 &  90.00000 &  18 & ⋯ & multi credit & 2 & 5 & 4 & 3 & 3 & 2 & 3.167 & not formal & color\\\\\n\t 17 & 4 & 4.5 & tenured      & not minority & female & english & 40 &  83.33334 &  15 & ⋯ & multi credit & 2 & 5 & 4 & 3 & 3 & 2 & 3.167 & not formal & color\\\\\n\t 18 & 5 & 4.8 & tenure track & not minority & female & english & 31 &  87.50000 &  42 & ⋯ & multi credit & 7 & 9 & 9 & 7 & 6 & 6 & 7.333 & not formal & color\\\\\n\t 19 & 5 & 4.6 & tenure track & not minority & female & english & 31 &  90.90909 &  40 & ⋯ & multi credit & 7 & 9 & 9 & 7 & 6 & 6 & 7.333 & not formal & color\\\\\n\t 20 & 5 & 4.6 & tenure track & not minority & female & english & 31 &  79.16666 &  38 & ⋯ & multi credit & 7 & 9 & 9 & 7 & 6 & 6 & 7.333 & not formal & color\\\\\n\t 21 & 5 & 4.9 & tenure track & not minority & female & english & 31 &  88.88889 &  40 & ⋯ & multi credit & 7 & 9 & 9 & 7 & 6 & 6 & 7.333 & not formal & color\\\\\n\t 22 & 5 & 4.6 & tenure track & not minority & female & english & 31 &  88.13559 &  52 & ⋯ & multi credit & 7 & 9 & 9 & 7 & 6 & 6 & 7.333 & not formal & color\\\\\n\t 23 & 5 & 4.5 & tenure track & not minority & female & english & 31 &  56.32184 &  49 & ⋯ & multi credit & 7 & 9 & 9 & 7 & 6 & 6 & 7.333 & not formal & color\\\\\n\t 24 & 6 & 4.4 & tenured      & not minority & male   & english & 62 &  64.53901 & 182 & ⋯ & multi credit & 6 & 6 & 5 & 5 & 5 & 6 & 5.500 & formal     & color\\\\\n\t 25 & 6 & 4.6 & tenured      & not minority & male   & english & 62 &  54.79452 & 160 & ⋯ & multi credit & 6 & 6 & 5 & 5 & 5 & 6 & 5.500 & formal     & color\\\\\n\t 26 & 6 & 4.7 & tenured      & not minority & male   & english & 62 &  60.76923 &  79 & ⋯ & multi credit & 6 & 6 & 5 & 5 & 5 & 6 & 5.500 & formal     & color\\\\\n\t 27 & 6 & 4.5 & tenured      & not minority & male   & english & 62 &  61.75439 & 176 & ⋯ & multi credit & 6 & 6 & 5 & 5 & 5 & 6 & 5.500 & formal     & color\\\\\n\t 28 & 6 & 4.8 & tenured      & not minority & male   & english & 62 &  56.98529 & 155 & ⋯ & multi credit & 6 & 6 & 5 & 5 & 5 & 6 & 5.500 & formal     & color\\\\\n\t 29 & 6 & 4.9 & tenured      & not minority & male   & english & 62 &  58.04196 & 166 & ⋯ & multi credit & 6 & 6 & 5 & 5 & 5 & 6 & 5.500 & formal     & color\\\\\n\t 30 & 6 & 4.5 & tenured      & not minority & male   & english & 62 &  61.58941 & 186 & ⋯ & multi credit & 6 & 6 & 5 & 5 & 5 & 6 & 5.500 & formal     & color\\\\\n\t ⋮ & ⋮ & ⋮ & ⋮ & ⋮ & ⋮ & ⋮ & ⋮ & ⋮ & ⋮ & ⋱ & ⋮ & ⋮ & ⋮ & ⋮ & ⋮ & ⋮ & ⋮ & ⋮ & ⋮ & ⋮\\\\\n\t 434 & 88 & 2.8 & tenured      & not minority & male   & english     & 62 &  40.93960 &  61 & ⋯ & multi credit & 1 & 1 &  1 & 4 & 1 & 4 & 2.000 & not formal & color      \\\\\n\t 435 & 88 & 3.1 & tenured      & not minority & male   & english     & 62 &  35.76642 &  49 & ⋯ & multi credit & 1 & 1 &  1 & 4 & 1 & 4 & 2.000 & not formal & color      \\\\\n\t 436 & 88 & 4.2 & tenured      & not minority & male   & english     & 62 &  44.82759 &  13 & ⋯ & multi credit & 1 & 1 &  1 & 4 & 1 & 4 & 2.000 & not formal & color      \\\\\n\t 437 & 88 & 3.4 & tenured      & not minority & male   & english     & 62 &  50.90909 &  28 & ⋯ & multi credit & 1 & 1 &  1 & 4 & 1 & 4 & 2.000 & not formal & color      \\\\\n\t 438 & 88 & 3.0 & tenured      & not minority & male   & english     & 62 &  49.26471 &  67 & ⋯ & multi credit & 1 & 1 &  1 & 4 & 1 & 4 & 2.000 & not formal & color      \\\\\n\t 439 & 89 & 3.3 & tenure track & minority     & female & english     & 35 &  62.50000 &  60 & ⋯ & multi credit & 7 & 9 & 10 & 6 & 7 & 8 & 7.833 & not formal & color      \\\\\n\t 440 & 89 & 3.6 & tenure track & minority     & female & english     & 35 &  33.33333 &  20 & ⋯ & multi credit & 7 & 9 & 10 & 6 & 7 & 8 & 7.833 & not formal & color      \\\\\n\t 441 & 89 & 3.7 & tenure track & minority     & female & english     & 35 &  39.81482 &  43 & ⋯ & multi credit & 7 & 9 & 10 & 6 & 7 & 8 & 7.833 & not formal & color      \\\\\n\t 442 & 90 & 3.6 & tenured      & not minority & male   & english     & 61 &  69.23077 &  27 & ⋯ & multi credit & 3 & 2 &  7 & 1 & 3 & 4 & 3.333 & not formal & color      \\\\\n\t 443 & 90 & 4.3 & tenured      & not minority & male   & english     & 61 &  86.66666 &  13 & ⋯ & multi credit & 3 & 2 &  7 & 1 & 3 & 4 & 3.333 & not formal & color      \\\\\n\t 444 & 91 & 4.1 & tenured      & not minority & female & english     & 52 &  54.95496 &  61 & ⋯ & multi credit & 4 & 8 &  5 & 3 & 4 & 3 & 4.500 & not formal & color      \\\\\n\t 445 & 91 & 4.9 & tenured      & not minority & female & english     & 52 &  82.35294 &  14 & ⋯ & multi credit & 4 & 8 &  5 & 3 & 4 & 3 & 4.500 & not formal & color      \\\\\n\t 446 & 91 & 4.8 & tenured      & not minority & female & english     & 52 & 100.00000 &  19 & ⋯ & multi credit & 4 & 8 &  5 & 3 & 4 & 3 & 4.500 & not formal & color      \\\\\n\t 447 & 92 & 3.7 & tenure track & not minority & female & non-english & 60 &  85.18519 &  23 & ⋯ & multi credit & 4 & 6 &  6 & 2 & 3 & 5 & 4.333 & formal     & black\\&white\\\\\n\t 448 & 92 & 3.9 & tenure track & not minority & female & non-english & 60 &  94.73684 &  18 & ⋯ & multi credit & 4 & 6 &  6 & 2 & 3 & 5 & 4.333 & formal     & black\\&white\\\\\n\t 449 & 92 & 4.5 & tenure track & not minority & female & non-english & 60 &  84.61539 &  11 & ⋯ & multi credit & 4 & 6 &  6 & 2 & 3 & 5 & 4.333 & formal     & black\\&white\\\\\n\t 450 & 92 & 3.6 & tenure track & not minority & female & non-english & 60 &  94.73684 &  18 & ⋯ & multi credit & 4 & 6 &  6 & 2 & 3 & 5 & 4.333 & formal     & black\\&white\\\\\n\t 451 & 92 & 4.4 & tenure track & not minority & female & non-english & 60 &  50.00000 &  11 & ⋯ & multi credit & 4 & 6 &  6 & 2 & 3 & 5 & 4.333 & formal     & black\\&white\\\\\n\t 452 & 92 & 3.4 & tenure track & not minority & female & non-english & 60 &  35.00000 &   7 & ⋯ & multi credit & 4 & 6 &  6 & 2 & 3 & 5 & 4.333 & formal     & black\\&white\\\\\n\t 453 & 92 & 4.4 & tenure track & not minority & female & non-english & 60 &  88.88889 &  24 & ⋯ & multi credit & 4 & 6 &  6 & 2 & 3 & 5 & 4.333 & formal     & black\\&white\\\\\n\t 454 & 93 & 4.5 & tenure track & not minority & male   & english     & 32 &  74.24242 &  98 & ⋯ & multi credit & 6 & 6 &  9 & 7 & 8 & 5 & 6.833 & not formal & color      \\\\\n\t 455 & 93 & 4.5 & tenure track & not minority & male   & english     & 32 &  87.40157 & 111 & ⋯ & multi credit & 6 & 6 &  9 & 7 & 8 & 5 & 6.833 & not formal & color      \\\\\n\t 456 & 93 & 4.5 & tenure track & not minority & male   & english     & 32 &  72.94118 &  62 & ⋯ & multi credit & 6 & 6 &  9 & 7 & 8 & 5 & 6.833 & not formal & color      \\\\\n\t 457 & 93 & 4.6 & tenure track & not minority & male   & english     & 32 &  75.24753 &  76 & ⋯ & multi credit & 6 & 6 &  9 & 7 & 8 & 5 & 6.833 & not formal & color      \\\\\n\t 458 & 93 & 4.1 & tenure track & not minority & male   & english     & 32 &  42.85714 &   9 & ⋯ & multi credit & 6 & 6 &  9 & 7 & 8 & 5 & 6.833 & not formal & color      \\\\\n\t 459 & 93 & 4.5 & tenure track & not minority & male   & english     & 32 &  60.46511 &  52 & ⋯ & multi credit & 6 & 6 &  9 & 7 & 8 & 5 & 6.833 & not formal & color      \\\\\n\t 460 & 94 & 3.5 & tenure track & minority     & female & non-english & 42 &  57.14286 &  48 & ⋯ & multi credit & 3 & 8 &  7 & 4 & 6 & 4 & 5.333 & not formal & color      \\\\\n\t 461 & 94 & 4.4 & tenure track & minority     & female & non-english & 42 &  77.61194 &  52 & ⋯ & multi credit & 3 & 8 &  7 & 4 & 6 & 4 & 5.333 & not formal & color      \\\\\n\t 462 & 94 & 4.4 & tenure track & minority     & female & non-english & 42 &  81.81818 &  54 & ⋯ & multi credit & 3 & 8 &  7 & 4 & 6 & 4 & 5.333 & not formal & color      \\\\\n\t 463 & 94 & 4.1 & tenure track & minority     & female & non-english & 42 &  80.00000 &  28 & ⋯ & one credit   & 3 & 8 &  7 & 4 & 6 & 4 & 5.333 & not formal & color      \\\\\n\\end{tabular}\n",
            "text/plain": [
              "    course_id prof_id score rank         ethnicity    gender language    age\n",
              "1    1        1       4.7   tenure track minority     female english     36 \n",
              "2    2        1       4.1   tenure track minority     female english     36 \n",
              "3    3        1       3.9   tenure track minority     female english     36 \n",
              "4    4        1       4.8   tenure track minority     female english     36 \n",
              "5    5        2       4.6   tenured      not minority male   english     59 \n",
              "6    6        2       4.3   tenured      not minority male   english     59 \n",
              "7    7        2       2.8   tenured      not minority male   english     59 \n",
              "8    8        3       4.1   tenured      not minority male   english     51 \n",
              "9    9        3       3.4   tenured      not minority male   english     51 \n",
              "10  10        4       4.5   tenured      not minority female english     40 \n",
              "11  11        4       3.8   tenured      not minority female english     40 \n",
              "12  12        4       4.5   tenured      not minority female english     40 \n",
              "13  13        4       4.6   tenured      not minority female english     40 \n",
              "14  14        4       3.9   tenured      not minority female english     40 \n",
              "15  15        4       3.9   tenured      not minority female english     40 \n",
              "16  16        4       4.3   tenured      not minority female english     40 \n",
              "17  17        4       4.5   tenured      not minority female english     40 \n",
              "18  18        5       4.8   tenure track not minority female english     31 \n",
              "19  19        5       4.6   tenure track not minority female english     31 \n",
              "20  20        5       4.6   tenure track not minority female english     31 \n",
              "21  21        5       4.9   tenure track not minority female english     31 \n",
              "22  22        5       4.6   tenure track not minority female english     31 \n",
              "23  23        5       4.5   tenure track not minority female english     31 \n",
              "24  24        6       4.4   tenured      not minority male   english     62 \n",
              "25  25        6       4.6   tenured      not minority male   english     62 \n",
              "26  26        6       4.7   tenured      not minority male   english     62 \n",
              "27  27        6       4.5   tenured      not minority male   english     62 \n",
              "28  28        6       4.8   tenured      not minority male   english     62 \n",
              "29  29        6       4.9   tenured      not minority male   english     62 \n",
              "30  30        6       4.5   tenured      not minority male   english     62 \n",
              "⋮   ⋮         ⋮       ⋮     ⋮            ⋮            ⋮      ⋮           ⋮  \n",
              "434 434       88      2.8   tenured      not minority male   english     62 \n",
              "435 435       88      3.1   tenured      not minority male   english     62 \n",
              "436 436       88      4.2   tenured      not minority male   english     62 \n",
              "437 437       88      3.4   tenured      not minority male   english     62 \n",
              "438 438       88      3.0   tenured      not minority male   english     62 \n",
              "439 439       89      3.3   tenure track minority     female english     35 \n",
              "440 440       89      3.6   tenure track minority     female english     35 \n",
              "441 441       89      3.7   tenure track minority     female english     35 \n",
              "442 442       90      3.6   tenured      not minority male   english     61 \n",
              "443 443       90      4.3   tenured      not minority male   english     61 \n",
              "444 444       91      4.1   tenured      not minority female english     52 \n",
              "445 445       91      4.9   tenured      not minority female english     52 \n",
              "446 446       91      4.8   tenured      not minority female english     52 \n",
              "447 447       92      3.7   tenure track not minority female non-english 60 \n",
              "448 448       92      3.9   tenure track not minority female non-english 60 \n",
              "449 449       92      4.5   tenure track not minority female non-english 60 \n",
              "450 450       92      3.6   tenure track not minority female non-english 60 \n",
              "451 451       92      4.4   tenure track not minority female non-english 60 \n",
              "452 452       92      3.4   tenure track not minority female non-english 60 \n",
              "453 453       92      4.4   tenure track not minority female non-english 60 \n",
              "454 454       93      4.5   tenure track not minority male   english     32 \n",
              "455 455       93      4.5   tenure track not minority male   english     32 \n",
              "456 456       93      4.5   tenure track not minority male   english     32 \n",
              "457 457       93      4.6   tenure track not minority male   english     32 \n",
              "458 458       93      4.1   tenure track not minority male   english     32 \n",
              "459 459       93      4.5   tenure track not minority male   english     32 \n",
              "460 460       94      3.5   tenure track minority     female non-english 42 \n",
              "461 461       94      4.4   tenure track minority     female non-english 42 \n",
              "462 462       94      4.4   tenure track minority     female non-english 42 \n",
              "463 463       94      4.1   tenure track minority     female non-english 42 \n",
              "    cls_perc_eval cls_did_eval ⋯ cls_credits  bty_f1lower bty_f1upper\n",
              "1    55.81395      24          ⋯ multi credit 5           7          \n",
              "2    68.80000      86          ⋯ multi credit 5           7          \n",
              "3    60.80000      76          ⋯ multi credit 5           7          \n",
              "4    62.60163      77          ⋯ multi credit 5           7          \n",
              "5    85.00000      17          ⋯ multi credit 4           4          \n",
              "6    87.50000      35          ⋯ multi credit 4           4          \n",
              "7    88.63636      39          ⋯ multi credit 4           4          \n",
              "8   100.00000      55          ⋯ multi credit 5           2          \n",
              "9    56.92308     111          ⋯ multi credit 5           2          \n",
              "10   86.95652      40          ⋯ multi credit 2           5          \n",
              "11   88.88889      24          ⋯ multi credit 2           5          \n",
              "12   96.00000      24          ⋯ multi credit 2           5          \n",
              "13   85.00000      17          ⋯ multi credit 2           5          \n",
              "14   56.00000      14          ⋯ multi credit 2           5          \n",
              "15   88.09524      37          ⋯ multi credit 2           5          \n",
              "16   90.00000      18          ⋯ multi credit 2           5          \n",
              "17   83.33334      15          ⋯ multi credit 2           5          \n",
              "18   87.50000      42          ⋯ multi credit 7           9          \n",
              "19   90.90909      40          ⋯ multi credit 7           9          \n",
              "20   79.16666      38          ⋯ multi credit 7           9          \n",
              "21   88.88889      40          ⋯ multi credit 7           9          \n",
              "22   88.13559      52          ⋯ multi credit 7           9          \n",
              "23   56.32184      49          ⋯ multi credit 7           9          \n",
              "24   64.53901     182          ⋯ multi credit 6           6          \n",
              "25   54.79452     160          ⋯ multi credit 6           6          \n",
              "26   60.76923      79          ⋯ multi credit 6           6          \n",
              "27   61.75439     176          ⋯ multi credit 6           6          \n",
              "28   56.98529     155          ⋯ multi credit 6           6          \n",
              "29   58.04196     166          ⋯ multi credit 6           6          \n",
              "30   61.58941     186          ⋯ multi credit 6           6          \n",
              "⋮   ⋮             ⋮            ⋱ ⋮            ⋮           ⋮          \n",
              "434  40.93960      61          ⋯ multi credit 1           1          \n",
              "435  35.76642      49          ⋯ multi credit 1           1          \n",
              "436  44.82759      13          ⋯ multi credit 1           1          \n",
              "437  50.90909      28          ⋯ multi credit 1           1          \n",
              "438  49.26471      67          ⋯ multi credit 1           1          \n",
              "439  62.50000      60          ⋯ multi credit 7           9          \n",
              "440  33.33333      20          ⋯ multi credit 7           9          \n",
              "441  39.81482      43          ⋯ multi credit 7           9          \n",
              "442  69.23077      27          ⋯ multi credit 3           2          \n",
              "443  86.66666      13          ⋯ multi credit 3           2          \n",
              "444  54.95496      61          ⋯ multi credit 4           8          \n",
              "445  82.35294      14          ⋯ multi credit 4           8          \n",
              "446 100.00000      19          ⋯ multi credit 4           8          \n",
              "447  85.18519      23          ⋯ multi credit 4           6          \n",
              "448  94.73684      18          ⋯ multi credit 4           6          \n",
              "449  84.61539      11          ⋯ multi credit 4           6          \n",
              "450  94.73684      18          ⋯ multi credit 4           6          \n",
              "451  50.00000      11          ⋯ multi credit 4           6          \n",
              "452  35.00000       7          ⋯ multi credit 4           6          \n",
              "453  88.88889      24          ⋯ multi credit 4           6          \n",
              "454  74.24242      98          ⋯ multi credit 6           6          \n",
              "455  87.40157     111          ⋯ multi credit 6           6          \n",
              "456  72.94118      62          ⋯ multi credit 6           6          \n",
              "457  75.24753      76          ⋯ multi credit 6           6          \n",
              "458  42.85714       9          ⋯ multi credit 6           6          \n",
              "459  60.46511      52          ⋯ multi credit 6           6          \n",
              "460  57.14286      48          ⋯ multi credit 3           8          \n",
              "461  77.61194      52          ⋯ multi credit 3           8          \n",
              "462  81.81818      54          ⋯ multi credit 3           8          \n",
              "463  80.00000      28          ⋯ one credit   3           8          \n",
              "    bty_f2upper bty_m1lower bty_m1upper bty_m2upper bty_avg pic_outfit\n",
              "1   6           2           4           6           5.000   not formal\n",
              "2   6           2           4           6           5.000   not formal\n",
              "3   6           2           4           6           5.000   not formal\n",
              "4   6           2           4           6           5.000   not formal\n",
              "5   2           2           3           3           3.000   not formal\n",
              "6   2           2           3           3           3.000   not formal\n",
              "7   2           2           3           3           3.000   not formal\n",
              "8   5           2           3           3           3.333   not formal\n",
              "9   5           2           3           3           3.333   not formal\n",
              "10  4           3           3           2           3.167   not formal\n",
              "11  4           3           3           2           3.167   not formal\n",
              "12  4           3           3           2           3.167   not formal\n",
              "13  4           3           3           2           3.167   not formal\n",
              "14  4           3           3           2           3.167   not formal\n",
              "15  4           3           3           2           3.167   not formal\n",
              "16  4           3           3           2           3.167   not formal\n",
              "17  4           3           3           2           3.167   not formal\n",
              "18  9           7           6           6           7.333   not formal\n",
              "19  9           7           6           6           7.333   not formal\n",
              "20  9           7           6           6           7.333   not formal\n",
              "21  9           7           6           6           7.333   not formal\n",
              "22  9           7           6           6           7.333   not formal\n",
              "23  9           7           6           6           7.333   not formal\n",
              "24  5           5           5           6           5.500   formal    \n",
              "25  5           5           5           6           5.500   formal    \n",
              "26  5           5           5           6           5.500   formal    \n",
              "27  5           5           5           6           5.500   formal    \n",
              "28  5           5           5           6           5.500   formal    \n",
              "29  5           5           5           6           5.500   formal    \n",
              "30  5           5           5           6           5.500   formal    \n",
              "⋮   ⋮           ⋮           ⋮           ⋮           ⋮       ⋮         \n",
              "434  1          4           1           4           2.000   not formal\n",
              "435  1          4           1           4           2.000   not formal\n",
              "436  1          4           1           4           2.000   not formal\n",
              "437  1          4           1           4           2.000   not formal\n",
              "438  1          4           1           4           2.000   not formal\n",
              "439 10          6           7           8           7.833   not formal\n",
              "440 10          6           7           8           7.833   not formal\n",
              "441 10          6           7           8           7.833   not formal\n",
              "442  7          1           3           4           3.333   not formal\n",
              "443  7          1           3           4           3.333   not formal\n",
              "444  5          3           4           3           4.500   not formal\n",
              "445  5          3           4           3           4.500   not formal\n",
              "446  5          3           4           3           4.500   not formal\n",
              "447  6          2           3           5           4.333   formal    \n",
              "448  6          2           3           5           4.333   formal    \n",
              "449  6          2           3           5           4.333   formal    \n",
              "450  6          2           3           5           4.333   formal    \n",
              "451  6          2           3           5           4.333   formal    \n",
              "452  6          2           3           5           4.333   formal    \n",
              "453  6          2           3           5           4.333   formal    \n",
              "454  9          7           8           5           6.833   not formal\n",
              "455  9          7           8           5           6.833   not formal\n",
              "456  9          7           8           5           6.833   not formal\n",
              "457  9          7           8           5           6.833   not formal\n",
              "458  9          7           8           5           6.833   not formal\n",
              "459  9          7           8           5           6.833   not formal\n",
              "460  7          4           6           4           5.333   not formal\n",
              "461  7          4           6           4           5.333   not formal\n",
              "462  7          4           6           4           5.333   not formal\n",
              "463  7          4           6           4           5.333   not formal\n",
              "    pic_color  \n",
              "1   color      \n",
              "2   color      \n",
              "3   color      \n",
              "4   color      \n",
              "5   color      \n",
              "6   color      \n",
              "7   color      \n",
              "8   color      \n",
              "9   color      \n",
              "10  color      \n",
              "11  color      \n",
              "12  color      \n",
              "13  color      \n",
              "14  color      \n",
              "15  color      \n",
              "16  color      \n",
              "17  color      \n",
              "18  color      \n",
              "19  color      \n",
              "20  color      \n",
              "21  color      \n",
              "22  color      \n",
              "23  color      \n",
              "24  color      \n",
              "25  color      \n",
              "26  color      \n",
              "27  color      \n",
              "28  color      \n",
              "29  color      \n",
              "30  color      \n",
              "⋮   ⋮          \n",
              "434 color      \n",
              "435 color      \n",
              "436 color      \n",
              "437 color      \n",
              "438 color      \n",
              "439 color      \n",
              "440 color      \n",
              "441 color      \n",
              "442 color      \n",
              "443 color      \n",
              "444 color      \n",
              "445 color      \n",
              "446 color      \n",
              "447 black&white\n",
              "448 black&white\n",
              "449 black&white\n",
              "450 black&white\n",
              "451 black&white\n",
              "452 black&white\n",
              "453 black&white\n",
              "454 color      \n",
              "455 color      \n",
              "456 color      \n",
              "457 color      \n",
              "458 color      \n",
              "459 color      \n",
              "460 color      \n",
              "461 color      \n",
              "462 color      \n",
              "463 color      "
            ]
          },
          "metadata": {}
        }
      ]
    },
    {
      "cell_type": "code",
      "execution_count": 4,
      "metadata": {
        "id": "-WSVEtAaqcHt",
        "colab": {
          "base_uri": "https://localhost:8080/",
          "height": 619
        },
        "outputId": "ccef6c9a-5e8a-42d0-f118-ffd282c991d2"
      },
      "outputs": [
        {
          "output_type": "stream",
          "name": "stderr",
          "text": [
            "Warning message:\n",
            "“Ignoring unknown parameters: bindwidth”\n",
            "`stat_bin()` using `bins = 30`. Pick better value with `binwidth`.\n",
            "\n"
          ]
        },
        {
          "output_type": "display_data",
          "data": {
            "text/html": [
              "<table class=\"dataframe\">\n",
              "<caption>A tibble: 1 × 3</caption>\n",
              "<thead>\n",
              "\t<tr><th scope=col>mean</th><th scope=col>range</th><th scope=col>median</th></tr>\n",
              "\t<tr><th scope=col>&lt;dbl&gt;</th><th scope=col>&lt;dbl&gt;</th><th scope=col>&lt;dbl&gt;</th></tr>\n",
              "</thead>\n",
              "<tbody>\n",
              "\t<tr><td>4.17473</td><td>0.8</td><td>4.3</td></tr>\n",
              "</tbody>\n",
              "</table>\n"
            ],
            "text/markdown": "\nA tibble: 1 × 3\n\n| mean &lt;dbl&gt; | range &lt;dbl&gt; | median &lt;dbl&gt; |\n|---|---|---|\n| 4.17473 | 0.8 | 4.3 |\n\n",
            "text/latex": "A tibble: 1 × 3\n\\begin{tabular}{lll}\n mean & range & median\\\\\n <dbl> & <dbl> & <dbl>\\\\\n\\hline\n\t 4.17473 & 0.8 & 4.3\\\\\n\\end{tabular}\n",
            "text/plain": [
              "  mean    range median\n",
              "1 4.17473 0.8   4.3   "
            ]
          },
          "metadata": {}
        },
        {
          "output_type": "display_data",
          "data": {
            "text/plain": [
              "plot without title"
            ],
            "image/png": "[encoded data removed]"
          },
          "metadata": {
            "image/png": {
              "width": 420,
              "height": 420
            }
          }
        }
      ],
      "source": [
        "##Code for question 1 \n",
        "ggplot(data = evals, aes(x = score)) + \n",
        "  geom_histogram(bindwidth = 5, fill = \"#2b8cbe\") +   \n",
        "  ggtitle(\"Distribution of Average Professor Scores\") +\n",
        "  theme(plot.title = element_text(size=15)) +\n",
        "  labs(x = \"Score\", y = \"Evaluation Number\")\n",
        "  #theme_minimal()\n",
        "\n",
        "data <- evals %>% \n",
        "  select(score) %>%\n",
        "  summarize(mean = mean(score), range = IQR(score), median = median(score))  \n",
        "\n",
        "data\n"
      ]
    },
    {
      "cell_type": "markdown",
      "source": [
        "##ANSWER TO QUESTION 1: \n",
        "\n",
        "The distribution has a definite leftward skew. Since score is defined as the average professor score, this graph actually does not tell us about how students rate courses, but rather how they rate the professors who teach them. The skew to the right is expected given that most people tend to rate their professors favorably overall. The graphical result is in alignment with our expectations, based on the fact that our IQR is very small, just 0.8, centered about a median value of 4.3. "
      ],
      "metadata": {
        "id": "vC3_NkZ2I-Y0"
      }
    },
    {
      "cell_type": "code",
      "source": [
        "#code for question 2\n",
        "\n",
        "#bty_average is the average beauty rating of the professor \n",
        "\n",
        "ggplot(data = evals, aes(x= bty_avg, y = score)) + \n",
        "  geom_point() + \n",
        "  labs(x = \"Average Beauty Score\", y = \"Evaluation Score\") + \n",
        "  ggtitle(\"Relationship Between Beauty Score and Professor Evaluation Score\") +\n",
        "  geom_smooth(method = \"lm\", formula = y~x) +\n",
        "  theme_minimal() +\n",
        "  stat_regline_equation(label.y = 4, label.x = 7, aes(label = ..rr.label..)) \n",
        "\n",
        "  #formatting for R^2: https://www.roelpeters.be/how-to-add-a-regression-equation-and-r-squared-in-ggplot2/\n"
      ],
      "metadata": {
        "colab": {
          "base_uri": "https://localhost:8080/",
          "height": 114
        },
        "id": "zcoiyeQAKkfz",
        "outputId": "b533c279-bc3c-473d-f6cb-1fe55e528946"
      },
      "execution_count": 5,
      "outputs": [
        {
          "output_type": "error",
          "ename": "ERROR",
          "evalue": "ignored",
          "traceback": [
            "Error in stat_regline_equation(label.y = 4, label.x = 7, aes(label = ..rr.label..)): could not find function \"stat_regline_equation\"\nTraceback:\n"
          ]
        }
      ]
    },
    {
      "cell_type": "markdown",
      "source": [
        "##ANSWER TO QUESTION 2 \n",
        "\n",
        "There is a slight correlation (R^2 = 0.04) between the explanatory variable (bty_avg) and response variable (score). "
      ],
      "metadata": {
        "id": "tCyOEvvrZ0y7"
      }
    },
    {
      "cell_type": "code",
      "source": [
        "#Code for question 3 \n",
        "\n",
        "\n",
        "ggplot(data = evals, aes(x= bty_avg, y = score)) + \n",
        "  geom_point() +  \n",
        "  geom_jitter() +\n",
        "  labs(x = \"Average Beauty Score\", y = \"Evaluation Score\") + \n",
        "  ggtitle(\"Relationship Between Beauty Score and Professor Evaluation Score\") +\n",
        "  geom_smooth(method = \"lm\") +\n",
        "  theme_minimal() +\n",
        "  stat_regline_equation(label.y = 4, label.x = 7, aes(label = ..rr.label..)) "
      ],
      "metadata": {
        "id": "HoVcDSYQaWk-"
      },
      "execution_count": null,
      "outputs": []
    },
    {
      "cell_type": "markdown",
      "source": [
        "##ANSWER TO QUESTION 3 \n",
        "\n",
        "Jitter means slightly adjusting the points so that they are not overlapping. The initial scatterplot shows a clean distribution of points; the jitter shows to us that we just have many overlapping points that can not be seen. "
      ],
      "metadata": {
        "id": "HogVErtYcxBo"
      }
    },
    {
      "cell_type": "code",
      "source": [
        "##Code for question 4\n",
        "#bty_avg is the explanatory variable \n",
        "#score is the response variable \n",
        "#model is called bty_avg \n",
        "#model type is linear \n",
        "\n",
        "score_bty_fit <- linear_reg() %>%\n",
        "  set_engine(\"lm\") %>%\n",
        "  fit(score ~ bty_avg, data = evals) %>% \n",
        "  tidy() \n",
        "\n",
        "score_bty_fit"
      ],
      "metadata": {
        "id": "VaLWHmEydSMV",
        "colab": {
          "base_uri": "https://localhost:8080/",
          "height": 161
        },
        "outputId": "4d542c5d-71de-4c46-8203-d139b45911be"
      },
      "execution_count": 19,
      "outputs": [
        {
          "output_type": "display_data",
          "data": {
            "text/html": [
              "<table class=\"dataframe\">\n",
              "<caption>A tibble: 2 × 5</caption>\n",
              "<thead>\n",
              "\t<tr><th scope=col>term</th><th scope=col>estimate</th><th scope=col>std.error</th><th scope=col>statistic</th><th scope=col>p.value</th></tr>\n",
              "\t<tr><th scope=col>&lt;chr&gt;</th><th scope=col>&lt;dbl&gt;</th><th scope=col>&lt;dbl&gt;</th><th scope=col>&lt;dbl&gt;</th><th scope=col>&lt;dbl&gt;</th></tr>\n",
              "</thead>\n",
              "<tbody>\n",
              "\t<tr><td>(Intercept)</td><td>3.88033795</td><td>0.07614297</td><td>50.961212</td><td>1.561043e-191</td></tr>\n",
              "\t<tr><td>bty_avg    </td><td>0.06663704</td><td>0.01629115</td><td> 4.090382</td><td> 5.082731e-05</td></tr>\n",
              "</tbody>\n",
              "</table>\n"
            ],
            "text/markdown": "\nA tibble: 2 × 5\n\n| term &lt;chr&gt; | estimate &lt;dbl&gt; | std.error &lt;dbl&gt; | statistic &lt;dbl&gt; | p.value &lt;dbl&gt; |\n|---|---|---|---|---|\n| (Intercept) | 3.88033795 | 0.07614297 | 50.961212 | 1.561043e-191 |\n| bty_avg     | 0.06663704 | 0.01629115 |  4.090382 |  5.082731e-05 |\n\n",
            "text/latex": "A tibble: 2 × 5\n\\begin{tabular}{lllll}\n term & estimate & std.error & statistic & p.value\\\\\n <chr> & <dbl> & <dbl> & <dbl> & <dbl>\\\\\n\\hline\n\t (Intercept) & 3.88033795 & 0.07614297 & 50.961212 & 1.561043e-191\\\\\n\t bty\\_avg     & 0.06663704 & 0.01629115 &  4.090382 &  5.082731e-05\\\\\n\\end{tabular}\n",
            "text/plain": [
              "  term        estimate   std.error  statistic p.value      \n",
              "1 (Intercept) 3.88033795 0.07614297 50.961212 1.561043e-191\n",
              "2 bty_avg     0.06663704 0.01629115  4.090382  5.082731e-05"
            ]
          },
          "metadata": {}
        }
      ]
    },
    {
      "cell_type": "markdown",
      "source": [
        "##ANSWER to Question 4 \n",
        "\n",
        "Our model predicts an intercept of 3.88 and a slope of 0.06; thus, our model equation is  \n",
        "\n",
        "$\\hat{score} = 3.88 + 0.06 x$. \n"
      ],
      "metadata": {
        "id": "sQGybUp5MwA4"
      }
    },
    {
      "cell_type": "code",
      "source": [
        "#code/ANSWER for question 5 \n",
        "\n",
        "ggplot(data = evals, aes(x= bty_avg, y = score)) + \n",
        "  geom_point() +  \n",
        "  labs(x = \"Average Beauty Score\", y = \"Evaluation Score\") + \n",
        "  ggtitle(\"Relationship Between Beauty Score and Professor Evaluation Score\") +\n",
        "  geom_smooth(method = \"lm\", formula = y~x, color = \"orange\", se = FALSE) +\n",
        "  theme_minimal() "
      ],
      "metadata": {
        "id": "d4QANipudWJ0",
        "colab": {
          "base_uri": "https://localhost:8080/",
          "height": 437
        },
        "outputId": "1e5b5956-cac1-44cb-b249-6885e43cce20"
      },
      "execution_count": 20,
      "outputs": [
        {
          "output_type": "display_data",
          "data": {
            "text/plain": [
              "plot without title"
            ],
            "image/png": "[encoded data removed]"
          },
          "metadata": {
            "image/png": {
              "width": 420,
              "height": 420
            }
          }
        }
      ]
    },
    {
      "cell_type": "markdown",
      "source": [
        "##ANSWER TO QUESTION 6 \n",
        "\n",
        "The slope of 0.06 tells us that there is a slightly positive relationship between average beauty score and professor rating for a particular class. This implies that there is a very small, positive correlation between perceived attractiveness of a professor and perceived performace. "
      ],
      "metadata": {
        "id": "DwZUTxvZQxTs"
      }
    },
    {
      "cell_type": "markdown",
      "source": [
        "##ANSWER TO QUESTION 7 \n",
        "\n",
        "The intercept tells us that for a beauty rating of zero, the average professor score is 3.88. Since there is almost no correlation between professor beauty rating and the evaluation score they received, this result would make sense, if not for the probability of receiving a 0 for attractiveness being almost nothing. Because receiving a 0 for an attractiveness rating would not happen, the intercept alone does not make sense. It implies that even if a professor is not considered attractive, they are, based on the average of all professors, still likely to receive a nonzero evaluation score. "
      ],
      "metadata": {
        "id": "po5pB0tdRXhf"
      }
    },
    {
      "cell_type": "code",
      "source": [
        "#code for question 8\n",
        "\n",
        "#to get the r^2 value, we need to use \n",
        "#b1 = rsy/sx where sy is the standard deviation in the y values \n",
        "#and sx is the standard deviation in the x values \n",
        "\n",
        "#rearranging, we have (b1*sx)/sy = r and R^2 = r^2 \n",
        "\n",
        "sx = evals %>% \n",
        "  select(bty_avg) %>%\n",
        "  summarize(std = sd(bty_avg))  \n",
        "sx_working = 1.53\n",
        "\n",
        "sy = evals %>% \n",
        "  select(score) %>% \n",
        "  summarize(std = sd(score))   \n",
        "\n",
        "sy_working = 0.54  \n",
        "b1 = 0.06\n",
        "\n",
        "r = (sx_working * b1)/sy_working \n",
        "r_2 = r*r \n",
        "r_2 \n",
        "\n",
        "model_for_r_squared <- lm(data = evals, score~bty_avg) \n",
        "summary(model_for_r_squared)$r.squared\n"
      ],
      "metadata": {
        "colab": {
          "base_uri": "https://localhost:8080/",
          "height": 52
        },
        "id": "cbkaoJ51QdSI",
        "outputId": "b5605df1-863c-48fb-9736-2e280e42e57a"
      },
      "execution_count": 25,
      "outputs": [
        {
          "output_type": "display_data",
          "data": {
            "text/html": [
              "0.0289"
            ],
            "text/markdown": "0.0289",
            "text/latex": "0.0289",
            "text/plain": [
              "[1] 0.0289"
            ]
          },
          "metadata": {}
        },
        {
          "output_type": "display_data",
          "data": {
            "text/html": [
              "0.0350222609857179"
            ],
            "text/markdown": "0.0350222609857179",
            "text/latex": "0.0350222609857179",
            "text/plain": [
              "[1] 0.03502226"
            ]
          },
          "metadata": {}
        }
      ]
    },
    {
      "cell_type": "markdown",
      "source": [
        "##ANSWER TO QUESTION 8: \n",
        "\n",
        "Using GGPubr, I obtained an $R^2$ value of 0.035; for a hand calculation (with more rounding error involved as I rounded to two significant figures), I obtained an $R^2$ value of approximately 0.03. The r.squared call gives back an r_sqr 0.035 as well, so it is safe to assume that 0.035 is correct. This value represents the variability in score that can be explained by professor beauty. Given that the $R^2$ value is so low, we know that for the most part, beauty does not effect the evaluation score received by a professor. "
      ],
      "metadata": {
        "id": "piB72wyRbcIV"
      }
    },
    {
      "cell_type": "code",
      "source": [
        "##Code for quesiton 9  \n",
        "\n",
        "\n",
        "score_gender_fit <- linear_reg() %>%\n",
        "  set_engine(\"lm\") %>%\n",
        "  fit(score ~ factor(gender), data = evals) %>%\n",
        "  tidy()     \n",
        "\n",
        "\n",
        "score_gender_fit  \n",
        "\n",
        "\n",
        "\n"
      ],
      "metadata": {
        "id": "qf_4aeoeYVhk",
        "colab": {
          "base_uri": "https://localhost:8080/",
          "height": 161
        },
        "outputId": "074f1565-9873-4e04-e761-a4b709ada207"
      },
      "execution_count": 16,
      "outputs": [
        {
          "output_type": "display_data",
          "data": {
            "text/html": [
              "<table class=\"dataframe\">\n",
              "<caption>A tibble: 2 × 5</caption>\n",
              "<thead>\n",
              "\t<tr><th scope=col>term</th><th scope=col>estimate</th><th scope=col>std.error</th><th scope=col>statistic</th><th scope=col>p.value</th></tr>\n",
              "\t<tr><th scope=col>&lt;chr&gt;</th><th scope=col>&lt;dbl&gt;</th><th scope=col>&lt;dbl&gt;</th><th scope=col>&lt;dbl&gt;</th><th scope=col>&lt;dbl&gt;</th></tr>\n",
              "</thead>\n",
              "<tbody>\n",
              "\t<tr><td>(Intercept)       </td><td>4.0928205</td><td>0.03866539</td><td>105.852305</td><td>0.000000000</td></tr>\n",
              "\t<tr><td>factor(gender)male</td><td>0.1415078</td><td>0.05082127</td><td>  2.784422</td><td>0.005582967</td></tr>\n",
              "</tbody>\n",
              "</table>\n"
            ],
            "text/markdown": "\nA tibble: 2 × 5\n\n| term &lt;chr&gt; | estimate &lt;dbl&gt; | std.error &lt;dbl&gt; | statistic &lt;dbl&gt; | p.value &lt;dbl&gt; |\n|---|---|---|---|---|\n| (Intercept)        | 4.0928205 | 0.03866539 | 105.852305 | 0.000000000 |\n| factor(gender)male | 0.1415078 | 0.05082127 |   2.784422 | 0.005582967 |\n\n",
            "text/latex": "A tibble: 2 × 5\n\\begin{tabular}{lllll}\n term & estimate & std.error & statistic & p.value\\\\\n <chr> & <dbl> & <dbl> & <dbl> & <dbl>\\\\\n\\hline\n\t (Intercept)        & 4.0928205 & 0.03866539 & 105.852305 & 0.000000000\\\\\n\t factor(gender)male & 0.1415078 & 0.05082127 &   2.784422 & 0.005582967\\\\\n\\end{tabular}\n",
            "text/plain": [
              "  term               estimate  std.error  statistic  p.value    \n",
              "1 (Intercept)        4.0928205 0.03866539 105.852305 0.000000000\n",
              "2 factor(gender)male 0.1415078 0.05082127   2.784422 0.005582967"
            ]
          },
          "metadata": {}
        }
      ]
    },
    {
      "cell_type": "markdown",
      "source": [
        "##ANSWER TO QUESTION 9 \n",
        "\n",
        "Based on the above work, we see that the line describing the relationship between professor gender and evaluation score is \n",
        "\n",
        "$\\hat{score} =   4.09 + 0.14 gender$  \n",
        "\n",
        "This intercept tells us that the average rating for women (0 in the model) is 4.09, whereas the slope tells us that average score for an average man (1 in the model) is expected to be 0.14 1 = 0.14% higher than that of the average woman\n",
        "\n"
      ],
      "metadata": {
        "id": "F8okEMnCx8Hu"
      }
    },
    {
      "cell_type": "code",
      "source": [
        "#code for question 10 \n",
        "\n",
        "#DOES NOT WORK \n",
        "\n",
        "#evals_new <- evals %>%\n",
        "#  mutate(\n",
        "#    gender = fct_recode(\n",
        "#      gender,\n",
        "#      '0' = \"male\",\n",
        "#      '1' = \"female\",\n",
        "#    )\n",
        "#  )   \n",
        "\n",
        "#score_gender_fit_two <- linear_reg() %>%\n",
        "#  set_engine(\"lm\") %>%\n",
        "#  fit(score ~ gender == \"Male\", data = evals_new) %>%\n",
        "#  tidy()     \n",
        "\n",
        "#score_gender_fit_two\n",
        "\n",
        "data <- lm(score ~ gender == \"Male\", data = evals) #setting male as baseline\n",
        "tidy(data) \n",
        "\n",
        "data_female_base_line <- lm(score ~ gender == \"Male\", data = evals) \n",
        "tidy(data_female_base_line)\n",
        "\n",
        "\n",
        "#data2 = lm(score ~ gender == \"Female\", data = evals) \n",
        "#tidy(data2)\n"
      ],
      "metadata": {
        "colab": {
          "base_uri": "https://localhost:8080/",
          "height": 304
        },
        "id": "T_fWXEqRAUcM",
        "outputId": "b930f1d1-cc14-4940-a3ad-3111b4a089a3"
      },
      "execution_count": 15,
      "outputs": [
        {
          "output_type": "display_data",
          "data": {
            "text/html": [
              "<table class=\"dataframe\">\n",
              "<caption>A tibble: 2 × 5</caption>\n",
              "<thead>\n",
              "\t<tr><th scope=col>term</th><th scope=col>estimate</th><th scope=col>std.error</th><th scope=col>statistic</th><th scope=col>p.value</th></tr>\n",
              "\t<tr><th scope=col>&lt;chr&gt;</th><th scope=col>&lt;dbl&gt;</th><th scope=col>&lt;dbl&gt;</th><th scope=col>&lt;dbl&gt;</th><th scope=col>&lt;dbl&gt;</th></tr>\n",
              "</thead>\n",
              "<tbody>\n",
              "\t<tr><td>(Intercept)         </td><td>4.17473</td><td>0.02527553</td><td>165.1689</td><td> 0</td></tr>\n",
              "\t<tr><td>gender == \"Male\"TRUE</td><td>     NA</td><td>        NA</td><td>      NA</td><td>NA</td></tr>\n",
              "</tbody>\n",
              "</table>\n"
            ],
            "text/markdown": "\nA tibble: 2 × 5\n\n| term &lt;chr&gt; | estimate &lt;dbl&gt; | std.error &lt;dbl&gt; | statistic &lt;dbl&gt; | p.value &lt;dbl&gt; |\n|---|---|---|---|---|\n| (Intercept)          | 4.17473 | 0.02527553 | 165.1689 |  0 |\n| gender == \"Male\"TRUE |      NA |         NA |       NA | NA |\n\n",
            "text/latex": "A tibble: 2 × 5\n\\begin{tabular}{lllll}\n term & estimate & std.error & statistic & p.value\\\\\n <chr> & <dbl> & <dbl> & <dbl> & <dbl>\\\\\n\\hline\n\t (Intercept)          & 4.17473 & 0.02527553 & 165.1689 &  0\\\\\n\t gender == \"Male\"TRUE &      NA &         NA &       NA & NA\\\\\n\\end{tabular}\n",
            "text/plain": [
              "  term                 estimate std.error  statistic p.value\n",
              "1 (Intercept)          4.17473  0.02527553 165.1689   0     \n",
              "2 gender == \"Male\"TRUE      NA          NA       NA  NA     "
            ]
          },
          "metadata": {}
        },
        {
          "output_type": "display_data",
          "data": {
            "text/html": [
              "<table class=\"dataframe\">\n",
              "<caption>A tibble: 2 × 5</caption>\n",
              "<thead>\n",
              "\t<tr><th scope=col>term</th><th scope=col>estimate</th><th scope=col>std.error</th><th scope=col>statistic</th><th scope=col>p.value</th></tr>\n",
              "\t<tr><th scope=col>&lt;chr&gt;</th><th scope=col>&lt;dbl&gt;</th><th scope=col>&lt;dbl&gt;</th><th scope=col>&lt;dbl&gt;</th><th scope=col>&lt;dbl&gt;</th></tr>\n",
              "</thead>\n",
              "<tbody>\n",
              "\t<tr><td>(Intercept)         </td><td>4.17473</td><td>0.02527553</td><td>165.1689</td><td> 0</td></tr>\n",
              "\t<tr><td>gender == \"Male\"TRUE</td><td>     NA</td><td>        NA</td><td>      NA</td><td>NA</td></tr>\n",
              "</tbody>\n",
              "</table>\n"
            ],
            "text/markdown": "\nA tibble: 2 × 5\n\n| term &lt;chr&gt; | estimate &lt;dbl&gt; | std.error &lt;dbl&gt; | statistic &lt;dbl&gt; | p.value &lt;dbl&gt; |\n|---|---|---|---|---|\n| (Intercept)          | 4.17473 | 0.02527553 | 165.1689 |  0 |\n| gender == \"Male\"TRUE |      NA |         NA |       NA | NA |\n\n",
            "text/latex": "A tibble: 2 × 5\n\\begin{tabular}{lllll}\n term & estimate & std.error & statistic & p.value\\\\\n <chr> & <dbl> & <dbl> & <dbl> & <dbl>\\\\\n\\hline\n\t (Intercept)          & 4.17473 & 0.02527553 & 165.1689 &  0\\\\\n\t gender == \"Male\"TRUE &      NA &         NA &       NA & NA\\\\\n\\end{tabular}\n",
            "text/plain": [
              "  term                 estimate std.error  statistic p.value\n",
              "1 (Intercept)          4.17473  0.02527553 165.1689   0     \n",
              "2 gender == \"Male\"TRUE      NA          NA       NA  NA     "
            ]
          },
          "metadata": {}
        }
      ]
    },
    {
      "cell_type": "markdown",
      "source": [
        "##ANSWER TO QUESTION 10 \n",
        "\n",
        "**********************************************\n",
        "\n",
        "For male professors, the equation is \n",
        "\n",
        "$\\hat{score} =   4.09 + 0.14male$  <br> \n",
        "$\\hat{score} =   4.23$ <br>\n",
        "$\\hat{y} =   4.23$ . \n",
        "\n",
        "For female professors, the equation is  \n",
        "\n",
        "$\\hat{score} =   4.09 + 0.14female$ <br> \n",
        "$\\hat{y} =   4.09$ . \n",
        "\n",
        "For each gender, individually, we have a line with zero slope at a specific score. There can be no slope for a categorical variable, only between categorical variables. \n",
        "\n",
        "\n",
        "\n"
      ],
      "metadata": {
        "id": "9UlAtPPH2JjZ"
      }
    },
    {
      "cell_type": "code",
      "source": [
        "#code for question 11\n",
        "\n",
        "#evals %>% \n",
        "  #select(rank) %>%\n",
        "  #filter(rank != \"tenure track\" & rank != \"tenured\") \n",
        "\n",
        "#options are teaching, tenure track, and tenured (aka multiple categorical predictors; teaching is baseline) \n",
        "\n",
        "score_rank_fit <- linear_reg() %>%\n",
        "  set_engine(\"lm\") %>%\n",
        "  fit(score ~ factor(rank), data = evals) %>%\n",
        "  tidy()  \n",
        "\n",
        "score_rank_fit"
      ],
      "metadata": {
        "colab": {
          "base_uri": "https://localhost:8080/",
          "height": 192
        },
        "id": "fYfnBQOh2N4F",
        "outputId": "fe848c62-e9ab-4919-961a-59a7a727392a"
      },
      "execution_count": 9,
      "outputs": [
        {
          "output_type": "display_data",
          "data": {
            "text/html": [
              "<table class=\"dataframe\">\n",
              "<caption>A tibble: 3 × 5</caption>\n",
              "<thead>\n",
              "\t<tr><th scope=col>term</th><th scope=col>estimate</th><th scope=col>std.error</th><th scope=col>statistic</th><th scope=col>p.value</th></tr>\n",
              "\t<tr><th scope=col>&lt;chr&gt;</th><th scope=col>&lt;dbl&gt;</th><th scope=col>&lt;dbl&gt;</th><th scope=col>&lt;dbl&gt;</th><th scope=col>&lt;dbl&gt;</th></tr>\n",
              "</thead>\n",
              "<tbody>\n",
              "\t<tr><td>(Intercept)             </td><td> 4.2843137</td><td>0.05365284</td><td>79.852504</td><td>1.021033e-271</td></tr>\n",
              "\t<tr><td>factor(rank)tenure track</td><td>-0.1296841</td><td>0.07481531</td><td>-1.733390</td><td> 8.369651e-02</td></tr>\n",
              "\t<tr><td>factor(rank)tenured     </td><td>-0.1451833</td><td>0.06355455</td><td>-2.284389</td><td> 2.280338e-02</td></tr>\n",
              "</tbody>\n",
              "</table>\n"
            ],
            "text/markdown": "\nA tibble: 3 × 5\n\n| term &lt;chr&gt; | estimate &lt;dbl&gt; | std.error &lt;dbl&gt; | statistic &lt;dbl&gt; | p.value &lt;dbl&gt; |\n|---|---|---|---|---|\n| (Intercept)              |  4.2843137 | 0.05365284 | 79.852504 | 1.021033e-271 |\n| factor(rank)tenure track | -0.1296841 | 0.07481531 | -1.733390 |  8.369651e-02 |\n| factor(rank)tenured      | -0.1451833 | 0.06355455 | -2.284389 |  2.280338e-02 |\n\n",
            "text/latex": "A tibble: 3 × 5\n\\begin{tabular}{lllll}\n term & estimate & std.error & statistic & p.value\\\\\n <chr> & <dbl> & <dbl> & <dbl> & <dbl>\\\\\n\\hline\n\t (Intercept)              &  4.2843137 & 0.05365284 & 79.852504 & 1.021033e-271\\\\\n\t factor(rank)tenure track & -0.1296841 & 0.07481531 & -1.733390 &  8.369651e-02\\\\\n\t factor(rank)tenured      & -0.1451833 & 0.06355455 & -2.284389 &  2.280338e-02\\\\\n\\end{tabular}\n",
            "text/plain": [
              "  term                     estimate   std.error  statistic p.value      \n",
              "1 (Intercept)               4.2843137 0.05365284 79.852504 1.021033e-271\n",
              "2 factor(rank)tenure track -0.1296841 0.07481531 -1.733390  8.369651e-02\n",
              "3 factor(rank)tenured      -0.1451833 0.06355455 -2.284389  2.280338e-02"
            ]
          },
          "metadata": {}
        }
      ]
    },
    {
      "cell_type": "markdown",
      "source": [
        "##ANSWER TO QUESTION 11:  \n",
        "\n",
        "Our equation for the score_rank_fit linear model is \n",
        "\n",
        "$\\hat{score} = 4.28 - 0.13rank_{tenure track} - 0.15rank_{tenured}$, \n",
        "\n",
        "where $rank_{tenuretrack}$ and $rank_{tenured}$ represent categorical values that are measured relative to teaching professors. The result implies that the average evaluation score for teaching professors is 4.28 when tenured and tenure track are both 0 (false). The slope of -0.13 for tenure track professors tells us that relative to teaching professors, tenure tracked professors are rated 13% lower; the slope of -0.15 for tenured professors tells us that, relative to teaching professors, tenured professors are rated 15% lower, on average. The intercept of 4.28 tells us that the average teaching professor has an evaluation score of 4.28. The intercept makes sense in this context because we can expect that a teaching professor will have some base score. \n",
        "\n"
      ],
      "metadata": {
        "id": "FPlG4ZK9-wSw"
      }
    },
    {
      "cell_type": "code",
      "source": [
        "##Code for question 12   \n",
        "\n",
        "evals_new <- cbind(evals)\n",
        "\n",
        "evals_new$rank_relevel <- relevel(evals$rank, ref = \"tenure track\")  \n",
        "levels(evals_new$rank_relevel) \n",
        "\n",
        "\n",
        "#rank_level <- relevel(evals_new$score_rank_fit,  ref = \"tenured_track\") \n",
        "\n"
      ],
      "metadata": {
        "colab": {
          "base_uri": "https://localhost:8080/",
          "height": 209
        },
        "id": "POWy75yb3Lxj",
        "outputId": "47822e7c-48c6-4dcb-9676-ced7ca9a2054"
      },
      "execution_count": 14,
      "outputs": [
        {
          "output_type": "display_data",
          "data": {
            "text/html": [
              "<style>\n",
              ".list-inline {list-style: none; margin:0; padding: 0}\n",
              ".list-inline>li {display: inline-block}\n",
              ".list-inline>li:not(:last-child)::after {content: \"\\00b7\"; padding: 0 .5ex}\n",
              "</style>\n",
              "<ol class=list-inline><li>'tenure track'</li><li>'teaching'</li><li>'tenured'</li></ol>\n"
            ],
            "text/markdown": "1. 'tenure track'\n2. 'teaching'\n3. 'tenured'\n\n\n",
            "text/latex": "\\begin{enumerate*}\n\\item 'tenure track'\n\\item 'teaching'\n\\item 'tenured'\n\\end{enumerate*}\n",
            "text/plain": [
              "[1] \"tenure track\" \"teaching\"     \"tenured\"     "
            ]
          },
          "metadata": {}
        },
        {
          "output_type": "display_data",
          "data": {
            "text/html": [
              "<table class=\"dataframe\">\n",
              "<caption>A tibble: 3 × 5</caption>\n",
              "<thead>\n",
              "\t<tr><th scope=col>term</th><th scope=col>estimate</th><th scope=col>std.error</th><th scope=col>statistic</th><th scope=col>p.value</th></tr>\n",
              "\t<tr><th scope=col>&lt;chr&gt;</th><th scope=col>&lt;dbl&gt;</th><th scope=col>&lt;dbl&gt;</th><th scope=col>&lt;dbl&gt;</th><th scope=col>&lt;dbl&gt;</th></tr>\n",
              "</thead>\n",
              "<tbody>\n",
              "\t<tr><td>(Intercept)         </td><td> 4.15462963</td><td>0.05214119</td><td>79.6803772</td><td>2.577096e-271</td></tr>\n",
              "\t<tr><td>rank_relevelteaching</td><td> 0.12968410</td><td>0.07481531</td><td> 1.7333898</td><td> 8.369651e-02</td></tr>\n",
              "\t<tr><td>rank_releveltenured </td><td>-0.01549919</td><td>0.06228368</td><td>-0.2488484</td><td> 8.035891e-01</td></tr>\n",
              "</tbody>\n",
              "</table>\n"
            ],
            "text/markdown": "\nA tibble: 3 × 5\n\n| term &lt;chr&gt; | estimate &lt;dbl&gt; | std.error &lt;dbl&gt; | statistic &lt;dbl&gt; | p.value &lt;dbl&gt; |\n|---|---|---|---|---|\n| (Intercept)          |  4.15462963 | 0.05214119 | 79.6803772 | 2.577096e-271 |\n| rank_relevelteaching |  0.12968410 | 0.07481531 |  1.7333898 |  8.369651e-02 |\n| rank_releveltenured  | -0.01549919 | 0.06228368 | -0.2488484 |  8.035891e-01 |\n\n",
            "text/latex": "A tibble: 3 × 5\n\\begin{tabular}{lllll}\n term & estimate & std.error & statistic & p.value\\\\\n <chr> & <dbl> & <dbl> & <dbl> & <dbl>\\\\\n\\hline\n\t (Intercept)          &  4.15462963 & 0.05214119 & 79.6803772 & 2.577096e-271\\\\\n\t rank\\_relevelteaching &  0.12968410 & 0.07481531 &  1.7333898 &  8.369651e-02\\\\\n\t rank\\_releveltenured  & -0.01549919 & 0.06228368 & -0.2488484 &  8.035891e-01\\\\\n\\end{tabular}\n",
            "text/plain": [
              "  term                 estimate    std.error  statistic  p.value      \n",
              "1 (Intercept)           4.15462963 0.05214119 79.6803772 2.577096e-271\n",
              "2 rank_relevelteaching  0.12968410 0.07481531  1.7333898  8.369651e-02\n",
              "3 rank_releveltenured  -0.01549919 0.06228368 -0.2488484  8.035891e-01"
            ]
          },
          "metadata": {}
        }
      ]
    },
    {
      "cell_type": "code",
      "source": [
        "#code for question 13 \n",
        "\n",
        "score_rank_relevel_fit <- linear_reg() %>%\n",
        "  set_engine(\"lm\") %>%\n",
        "  fit(score ~ rank_relevel, data = evals_new) %>%\n",
        "  tidy()   \n",
        "\n",
        "score_rank_relevel_fit \n",
        "\n",
        "#calculating R squared \n",
        "\n",
        "r_squared_model <- lm(data = evals_new, score~rank_relevel)  \n",
        "r_squared_model\n",
        "summary(r_squared_model)$r.squared\n",
        "\n",
        "\n"
      ],
      "metadata": {
        "colab": {
          "base_uri": "https://localhost:8080/",
          "height": 331
        },
        "id": "M7R_s4MfYkSo",
        "outputId": "a6346394-8cb3-45cd-9004-02f85da705a6"
      },
      "execution_count": 29,
      "outputs": [
        {
          "output_type": "display_data",
          "data": {
            "text/html": [
              "<table class=\"dataframe\">\n",
              "<caption>A tibble: 3 × 5</caption>\n",
              "<thead>\n",
              "\t<tr><th scope=col>term</th><th scope=col>estimate</th><th scope=col>std.error</th><th scope=col>statistic</th><th scope=col>p.value</th></tr>\n",
              "\t<tr><th scope=col>&lt;chr&gt;</th><th scope=col>&lt;dbl&gt;</th><th scope=col>&lt;dbl&gt;</th><th scope=col>&lt;dbl&gt;</th><th scope=col>&lt;dbl&gt;</th></tr>\n",
              "</thead>\n",
              "<tbody>\n",
              "\t<tr><td>(Intercept)         </td><td> 4.15462963</td><td>0.05214119</td><td>79.6803772</td><td>2.577096e-271</td></tr>\n",
              "\t<tr><td>rank_relevelteaching</td><td> 0.12968410</td><td>0.07481531</td><td> 1.7333898</td><td> 8.369651e-02</td></tr>\n",
              "\t<tr><td>rank_releveltenured </td><td>-0.01549919</td><td>0.06228368</td><td>-0.2488484</td><td> 8.035891e-01</td></tr>\n",
              "</tbody>\n",
              "</table>\n"
            ],
            "text/markdown": "\nA tibble: 3 × 5\n\n| term &lt;chr&gt; | estimate &lt;dbl&gt; | std.error &lt;dbl&gt; | statistic &lt;dbl&gt; | p.value &lt;dbl&gt; |\n|---|---|---|---|---|\n| (Intercept)          |  4.15462963 | 0.05214119 | 79.6803772 | 2.577096e-271 |\n| rank_relevelteaching |  0.12968410 | 0.07481531 |  1.7333898 |  8.369651e-02 |\n| rank_releveltenured  | -0.01549919 | 0.06228368 | -0.2488484 |  8.035891e-01 |\n\n",
            "text/latex": "A tibble: 3 × 5\n\\begin{tabular}{lllll}\n term & estimate & std.error & statistic & p.value\\\\\n <chr> & <dbl> & <dbl> & <dbl> & <dbl>\\\\\n\\hline\n\t (Intercept)          &  4.15462963 & 0.05214119 & 79.6803772 & 2.577096e-271\\\\\n\t rank\\_relevelteaching &  0.12968410 & 0.07481531 &  1.7333898 &  8.369651e-02\\\\\n\t rank\\_releveltenured  & -0.01549919 & 0.06228368 & -0.2488484 &  8.035891e-01\\\\\n\\end{tabular}\n",
            "text/plain": [
              "  term                 estimate    std.error  statistic  p.value      \n",
              "1 (Intercept)           4.15462963 0.05214119 79.6803772 2.577096e-271\n",
              "2 rank_relevelteaching  0.12968410 0.07481531  1.7333898  8.369651e-02\n",
              "3 rank_releveltenured  -0.01549919 0.06228368 -0.2488484  8.035891e-01"
            ]
          },
          "metadata": {}
        },
        {
          "output_type": "display_data",
          "data": {
            "text/plain": [
              "\n",
              "Call:\n",
              "lm(formula = score ~ rank_relevel, data = evals_new)\n",
              "\n",
              "Coefficients:\n",
              "         (Intercept)  rank_relevelteaching   rank_releveltenured  \n",
              "              4.1546                0.1297               -0.0155  \n"
            ]
          },
          "metadata": {}
        },
        {
          "output_type": "display_data",
          "data": {
            "text/html": [
              "0.0116289420190426"
            ],
            "text/markdown": "0.0116289420190426",
            "text/latex": "0.0116289420190426",
            "text/plain": [
              "[1] 0.01162894"
            ]
          },
          "metadata": {}
        }
      ]
    },
    {
      "cell_type": "markdown",
      "source": [
        "##ANSWER to Question 13 \n",
        "\n",
        "Our equation for the score_rank_relevel_fit linear model is \n",
        "\n",
        "$\\hat{score} = 4.15 + 0.13rank_{teaching} - 0.02rank_{tenured}$, \n",
        "\n",
        "where $rank_{teaching}$ and $rank_{tenured}$ represent categorical values that are measured relative to tenure track professors. The slope 0.13 for teaching represents the percent (13%) increase in evaluation score for teaching professors relative to the tenure track baseline. The slope of -0.02 for tenured represents the percent drop (2%) in evaluation scores relative to the tenure track baseline. The intercept of 4.15 is the baseline score for the average tenure track professor, and makes sense because we expect an average rating. The $R^2$ value of 0.01 tells us that the percent variability in the score explained by the regression model is very small (just 1%). This means that our model is not a very good fit. If we add more explanatory variables, we should see $R^2$ rise, which is why it is usually a good idea, for multiple explanatory variables, to use adjusted $R^2$ instead."
      ],
      "metadata": {
        "id": "UPd1KAC5aD3v"
      }
    },
    {
      "cell_type": "code",
      "source": [
        "evals_new"
      ],
      "metadata": {
        "colab": {
          "base_uri": "https://localhost:8080/",
          "height": 1000
        },
        "id": "VuhsP4HmnAPs",
        "outputId": "5eacb4e7-fa5d-4d95-eb22-27186b1c7fd3"
      },
      "execution_count": 32,
      "outputs": [
        {
          "output_type": "display_data",
          "data": {
            "text/html": [
              "<table class=\"dataframe\">\n",
              "<caption>A data.frame: 463 × 24</caption>\n",
              "<thead>\n",
              "\t<tr><th scope=col>course_id</th><th scope=col>prof_id</th><th scope=col>score</th><th scope=col>rank</th><th scope=col>ethnicity</th><th scope=col>gender</th><th scope=col>language</th><th scope=col>age</th><th scope=col>cls_perc_eval</th><th scope=col>cls_did_eval</th><th scope=col>⋯</th><th scope=col>bty_f1lower</th><th scope=col>bty_f1upper</th><th scope=col>bty_f2upper</th><th scope=col>bty_m1lower</th><th scope=col>bty_m1upper</th><th scope=col>bty_m2upper</th><th scope=col>bty_avg</th><th scope=col>pic_outfit</th><th scope=col>pic_color</th><th scope=col>rank_relevel</th></tr>\n",
              "\t<tr><th scope=col>&lt;int&gt;</th><th scope=col>&lt;int&gt;</th><th scope=col>&lt;dbl&gt;</th><th scope=col>&lt;fct&gt;</th><th scope=col>&lt;fct&gt;</th><th scope=col>&lt;fct&gt;</th><th scope=col>&lt;fct&gt;</th><th scope=col>&lt;int&gt;</th><th scope=col>&lt;dbl&gt;</th><th scope=col>&lt;int&gt;</th><th scope=col>⋯</th><th scope=col>&lt;int&gt;</th><th scope=col>&lt;int&gt;</th><th scope=col>&lt;int&gt;</th><th scope=col>&lt;int&gt;</th><th scope=col>&lt;int&gt;</th><th scope=col>&lt;int&gt;</th><th scope=col>&lt;dbl&gt;</th><th scope=col>&lt;fct&gt;</th><th scope=col>&lt;fct&gt;</th><th scope=col>&lt;fct&gt;</th></tr>\n",
              "</thead>\n",
              "<tbody>\n",
              "\t<tr><td> 1</td><td>1</td><td>4.7</td><td>tenure track</td><td>minority    </td><td>female</td><td>english</td><td>36</td><td> 55.81395</td><td> 24</td><td>⋯</td><td>5</td><td>7</td><td>6</td><td>2</td><td>4</td><td>6</td><td>5.000</td><td>not formal</td><td>color</td><td>tenure track</td></tr>\n",
              "\t<tr><td> 2</td><td>1</td><td>4.1</td><td>tenure track</td><td>minority    </td><td>female</td><td>english</td><td>36</td><td> 68.80000</td><td> 86</td><td>⋯</td><td>5</td><td>7</td><td>6</td><td>2</td><td>4</td><td>6</td><td>5.000</td><td>not formal</td><td>color</td><td>tenure track</td></tr>\n",
              "\t<tr><td> 3</td><td>1</td><td>3.9</td><td>tenure track</td><td>minority    </td><td>female</td><td>english</td><td>36</td><td> 60.80000</td><td> 76</td><td>⋯</td><td>5</td><td>7</td><td>6</td><td>2</td><td>4</td><td>6</td><td>5.000</td><td>not formal</td><td>color</td><td>tenure track</td></tr>\n",
              "\t<tr><td> 4</td><td>1</td><td>4.8</td><td>tenure track</td><td>minority    </td><td>female</td><td>english</td><td>36</td><td> 62.60163</td><td> 77</td><td>⋯</td><td>5</td><td>7</td><td>6</td><td>2</td><td>4</td><td>6</td><td>5.000</td><td>not formal</td><td>color</td><td>tenure track</td></tr>\n",
              "\t<tr><td> 5</td><td>2</td><td>4.6</td><td>tenured     </td><td>not minority</td><td>male  </td><td>english</td><td>59</td><td> 85.00000</td><td> 17</td><td>⋯</td><td>4</td><td>4</td><td>2</td><td>2</td><td>3</td><td>3</td><td>3.000</td><td>not formal</td><td>color</td><td>tenured     </td></tr>\n",
              "\t<tr><td> 6</td><td>2</td><td>4.3</td><td>tenured     </td><td>not minority</td><td>male  </td><td>english</td><td>59</td><td> 87.50000</td><td> 35</td><td>⋯</td><td>4</td><td>4</td><td>2</td><td>2</td><td>3</td><td>3</td><td>3.000</td><td>not formal</td><td>color</td><td>tenured     </td></tr>\n",
              "\t<tr><td> 7</td><td>2</td><td>2.8</td><td>tenured     </td><td>not minority</td><td>male  </td><td>english</td><td>59</td><td> 88.63636</td><td> 39</td><td>⋯</td><td>4</td><td>4</td><td>2</td><td>2</td><td>3</td><td>3</td><td>3.000</td><td>not formal</td><td>color</td><td>tenured     </td></tr>\n",
              "\t<tr><td> 8</td><td>3</td><td>4.1</td><td>tenured     </td><td>not minority</td><td>male  </td><td>english</td><td>51</td><td>100.00000</td><td> 55</td><td>⋯</td><td>5</td><td>2</td><td>5</td><td>2</td><td>3</td><td>3</td><td>3.333</td><td>not formal</td><td>color</td><td>tenured     </td></tr>\n",
              "\t<tr><td> 9</td><td>3</td><td>3.4</td><td>tenured     </td><td>not minority</td><td>male  </td><td>english</td><td>51</td><td> 56.92308</td><td>111</td><td>⋯</td><td>5</td><td>2</td><td>5</td><td>2</td><td>3</td><td>3</td><td>3.333</td><td>not formal</td><td>color</td><td>tenured     </td></tr>\n",
              "\t<tr><td>10</td><td>4</td><td>4.5</td><td>tenured     </td><td>not minority</td><td>female</td><td>english</td><td>40</td><td> 86.95652</td><td> 40</td><td>⋯</td><td>2</td><td>5</td><td>4</td><td>3</td><td>3</td><td>2</td><td>3.167</td><td>not formal</td><td>color</td><td>tenured     </td></tr>\n",
              "\t<tr><td>11</td><td>4</td><td>3.8</td><td>tenured     </td><td>not minority</td><td>female</td><td>english</td><td>40</td><td> 88.88889</td><td> 24</td><td>⋯</td><td>2</td><td>5</td><td>4</td><td>3</td><td>3</td><td>2</td><td>3.167</td><td>not formal</td><td>color</td><td>tenured     </td></tr>\n",
              "\t<tr><td>12</td><td>4</td><td>4.5</td><td>tenured     </td><td>not minority</td><td>female</td><td>english</td><td>40</td><td> 96.00000</td><td> 24</td><td>⋯</td><td>2</td><td>5</td><td>4</td><td>3</td><td>3</td><td>2</td><td>3.167</td><td>not formal</td><td>color</td><td>tenured     </td></tr>\n",
              "\t<tr><td>13</td><td>4</td><td>4.6</td><td>tenured     </td><td>not minority</td><td>female</td><td>english</td><td>40</td><td> 85.00000</td><td> 17</td><td>⋯</td><td>2</td><td>5</td><td>4</td><td>3</td><td>3</td><td>2</td><td>3.167</td><td>not formal</td><td>color</td><td>tenured     </td></tr>\n",
              "\t<tr><td>14</td><td>4</td><td>3.9</td><td>tenured     </td><td>not minority</td><td>female</td><td>english</td><td>40</td><td> 56.00000</td><td> 14</td><td>⋯</td><td>2</td><td>5</td><td>4</td><td>3</td><td>3</td><td>2</td><td>3.167</td><td>not formal</td><td>color</td><td>tenured     </td></tr>\n",
              "\t<tr><td>15</td><td>4</td><td>3.9</td><td>tenured     </td><td>not minority</td><td>female</td><td>english</td><td>40</td><td> 88.09524</td><td> 37</td><td>⋯</td><td>2</td><td>5</td><td>4</td><td>3</td><td>3</td><td>2</td><td>3.167</td><td>not formal</td><td>color</td><td>tenured     </td></tr>\n",
              "\t<tr><td>16</td><td>4</td><td>4.3</td><td>tenured     </td><td>not minority</td><td>female</td><td>english</td><td>40</td><td> 90.00000</td><td> 18</td><td>⋯</td><td>2</td><td>5</td><td>4</td><td>3</td><td>3</td><td>2</td><td>3.167</td><td>not formal</td><td>color</td><td>tenured     </td></tr>\n",
              "\t<tr><td>17</td><td>4</td><td>4.5</td><td>tenured     </td><td>not minority</td><td>female</td><td>english</td><td>40</td><td> 83.33334</td><td> 15</td><td>⋯</td><td>2</td><td>5</td><td>4</td><td>3</td><td>3</td><td>2</td><td>3.167</td><td>not formal</td><td>color</td><td>tenured     </td></tr>\n",
              "\t<tr><td>18</td><td>5</td><td>4.8</td><td>tenure track</td><td>not minority</td><td>female</td><td>english</td><td>31</td><td> 87.50000</td><td> 42</td><td>⋯</td><td>7</td><td>9</td><td>9</td><td>7</td><td>6</td><td>6</td><td>7.333</td><td>not formal</td><td>color</td><td>tenure track</td></tr>\n",
              "\t<tr><td>19</td><td>5</td><td>4.6</td><td>tenure track</td><td>not minority</td><td>female</td><td>english</td><td>31</td><td> 90.90909</td><td> 40</td><td>⋯</td><td>7</td><td>9</td><td>9</td><td>7</td><td>6</td><td>6</td><td>7.333</td><td>not formal</td><td>color</td><td>tenure track</td></tr>\n",
              "\t<tr><td>20</td><td>5</td><td>4.6</td><td>tenure track</td><td>not minority</td><td>female</td><td>english</td><td>31</td><td> 79.16666</td><td> 38</td><td>⋯</td><td>7</td><td>9</td><td>9</td><td>7</td><td>6</td><td>6</td><td>7.333</td><td>not formal</td><td>color</td><td>tenure track</td></tr>\n",
              "\t<tr><td>21</td><td>5</td><td>4.9</td><td>tenure track</td><td>not minority</td><td>female</td><td>english</td><td>31</td><td> 88.88889</td><td> 40</td><td>⋯</td><td>7</td><td>9</td><td>9</td><td>7</td><td>6</td><td>6</td><td>7.333</td><td>not formal</td><td>color</td><td>tenure track</td></tr>\n",
              "\t<tr><td>22</td><td>5</td><td>4.6</td><td>tenure track</td><td>not minority</td><td>female</td><td>english</td><td>31</td><td> 88.13559</td><td> 52</td><td>⋯</td><td>7</td><td>9</td><td>9</td><td>7</td><td>6</td><td>6</td><td>7.333</td><td>not formal</td><td>color</td><td>tenure track</td></tr>\n",
              "\t<tr><td>23</td><td>5</td><td>4.5</td><td>tenure track</td><td>not minority</td><td>female</td><td>english</td><td>31</td><td> 56.32184</td><td> 49</td><td>⋯</td><td>7</td><td>9</td><td>9</td><td>7</td><td>6</td><td>6</td><td>7.333</td><td>not formal</td><td>color</td><td>tenure track</td></tr>\n",
              "\t<tr><td>24</td><td>6</td><td>4.4</td><td>tenured     </td><td>not minority</td><td>male  </td><td>english</td><td>62</td><td> 64.53901</td><td>182</td><td>⋯</td><td>6</td><td>6</td><td>5</td><td>5</td><td>5</td><td>6</td><td>5.500</td><td>formal    </td><td>color</td><td>tenured     </td></tr>\n",
              "\t<tr><td>25</td><td>6</td><td>4.6</td><td>tenured     </td><td>not minority</td><td>male  </td><td>english</td><td>62</td><td> 54.79452</td><td>160</td><td>⋯</td><td>6</td><td>6</td><td>5</td><td>5</td><td>5</td><td>6</td><td>5.500</td><td>formal    </td><td>color</td><td>tenured     </td></tr>\n",
              "\t<tr><td>26</td><td>6</td><td>4.7</td><td>tenured     </td><td>not minority</td><td>male  </td><td>english</td><td>62</td><td> 60.76923</td><td> 79</td><td>⋯</td><td>6</td><td>6</td><td>5</td><td>5</td><td>5</td><td>6</td><td>5.500</td><td>formal    </td><td>color</td><td>tenured     </td></tr>\n",
              "\t<tr><td>27</td><td>6</td><td>4.5</td><td>tenured     </td><td>not minority</td><td>male  </td><td>english</td><td>62</td><td> 61.75439</td><td>176</td><td>⋯</td><td>6</td><td>6</td><td>5</td><td>5</td><td>5</td><td>6</td><td>5.500</td><td>formal    </td><td>color</td><td>tenured     </td></tr>\n",
              "\t<tr><td>28</td><td>6</td><td>4.8</td><td>tenured     </td><td>not minority</td><td>male  </td><td>english</td><td>62</td><td> 56.98529</td><td>155</td><td>⋯</td><td>6</td><td>6</td><td>5</td><td>5</td><td>5</td><td>6</td><td>5.500</td><td>formal    </td><td>color</td><td>tenured     </td></tr>\n",
              "\t<tr><td>29</td><td>6</td><td>4.9</td><td>tenured     </td><td>not minority</td><td>male  </td><td>english</td><td>62</td><td> 58.04196</td><td>166</td><td>⋯</td><td>6</td><td>6</td><td>5</td><td>5</td><td>5</td><td>6</td><td>5.500</td><td>formal    </td><td>color</td><td>tenured     </td></tr>\n",
              "\t<tr><td>30</td><td>6</td><td>4.5</td><td>tenured     </td><td>not minority</td><td>male  </td><td>english</td><td>62</td><td> 61.58941</td><td>186</td><td>⋯</td><td>6</td><td>6</td><td>5</td><td>5</td><td>5</td><td>6</td><td>5.500</td><td>formal    </td><td>color</td><td>tenured     </td></tr>\n",
              "\t<tr><td>⋮</td><td>⋮</td><td>⋮</td><td>⋮</td><td>⋮</td><td>⋮</td><td>⋮</td><td>⋮</td><td>⋮</td><td>⋮</td><td>⋱</td><td>⋮</td><td>⋮</td><td>⋮</td><td>⋮</td><td>⋮</td><td>⋮</td><td>⋮</td><td>⋮</td><td>⋮</td><td>⋮</td></tr>\n",
              "\t<tr><td>434</td><td>88</td><td>2.8</td><td>tenured     </td><td>not minority</td><td>male  </td><td>english    </td><td>62</td><td> 40.93960</td><td> 61</td><td>⋯</td><td>1</td><td>1</td><td> 1</td><td>4</td><td>1</td><td>4</td><td>2.000</td><td>not formal</td><td>color      </td><td>tenured     </td></tr>\n",
              "\t<tr><td>435</td><td>88</td><td>3.1</td><td>tenured     </td><td>not minority</td><td>male  </td><td>english    </td><td>62</td><td> 35.76642</td><td> 49</td><td>⋯</td><td>1</td><td>1</td><td> 1</td><td>4</td><td>1</td><td>4</td><td>2.000</td><td>not formal</td><td>color      </td><td>tenured     </td></tr>\n",
              "\t<tr><td>436</td><td>88</td><td>4.2</td><td>tenured     </td><td>not minority</td><td>male  </td><td>english    </td><td>62</td><td> 44.82759</td><td> 13</td><td>⋯</td><td>1</td><td>1</td><td> 1</td><td>4</td><td>1</td><td>4</td><td>2.000</td><td>not formal</td><td>color      </td><td>tenured     </td></tr>\n",
              "\t<tr><td>437</td><td>88</td><td>3.4</td><td>tenured     </td><td>not minority</td><td>male  </td><td>english    </td><td>62</td><td> 50.90909</td><td> 28</td><td>⋯</td><td>1</td><td>1</td><td> 1</td><td>4</td><td>1</td><td>4</td><td>2.000</td><td>not formal</td><td>color      </td><td>tenured     </td></tr>\n",
              "\t<tr><td>438</td><td>88</td><td>3.0</td><td>tenured     </td><td>not minority</td><td>male  </td><td>english    </td><td>62</td><td> 49.26471</td><td> 67</td><td>⋯</td><td>1</td><td>1</td><td> 1</td><td>4</td><td>1</td><td>4</td><td>2.000</td><td>not formal</td><td>color      </td><td>tenured     </td></tr>\n",
              "\t<tr><td>439</td><td>89</td><td>3.3</td><td>tenure track</td><td>minority    </td><td>female</td><td>english    </td><td>35</td><td> 62.50000</td><td> 60</td><td>⋯</td><td>7</td><td>9</td><td>10</td><td>6</td><td>7</td><td>8</td><td>7.833</td><td>not formal</td><td>color      </td><td>tenure track</td></tr>\n",
              "\t<tr><td>440</td><td>89</td><td>3.6</td><td>tenure track</td><td>minority    </td><td>female</td><td>english    </td><td>35</td><td> 33.33333</td><td> 20</td><td>⋯</td><td>7</td><td>9</td><td>10</td><td>6</td><td>7</td><td>8</td><td>7.833</td><td>not formal</td><td>color      </td><td>tenure track</td></tr>\n",
              "\t<tr><td>441</td><td>89</td><td>3.7</td><td>tenure track</td><td>minority    </td><td>female</td><td>english    </td><td>35</td><td> 39.81482</td><td> 43</td><td>⋯</td><td>7</td><td>9</td><td>10</td><td>6</td><td>7</td><td>8</td><td>7.833</td><td>not formal</td><td>color      </td><td>tenure track</td></tr>\n",
              "\t<tr><td>442</td><td>90</td><td>3.6</td><td>tenured     </td><td>not minority</td><td>male  </td><td>english    </td><td>61</td><td> 69.23077</td><td> 27</td><td>⋯</td><td>3</td><td>2</td><td> 7</td><td>1</td><td>3</td><td>4</td><td>3.333</td><td>not formal</td><td>color      </td><td>tenured     </td></tr>\n",
              "\t<tr><td>443</td><td>90</td><td>4.3</td><td>tenured     </td><td>not minority</td><td>male  </td><td>english    </td><td>61</td><td> 86.66666</td><td> 13</td><td>⋯</td><td>3</td><td>2</td><td> 7</td><td>1</td><td>3</td><td>4</td><td>3.333</td><td>not formal</td><td>color      </td><td>tenured     </td></tr>\n",
              "\t<tr><td>444</td><td>91</td><td>4.1</td><td>tenured     </td><td>not minority</td><td>female</td><td>english    </td><td>52</td><td> 54.95496</td><td> 61</td><td>⋯</td><td>4</td><td>8</td><td> 5</td><td>3</td><td>4</td><td>3</td><td>4.500</td><td>not formal</td><td>color      </td><td>tenured     </td></tr>\n",
              "\t<tr><td>445</td><td>91</td><td>4.9</td><td>tenured     </td><td>not minority</td><td>female</td><td>english    </td><td>52</td><td> 82.35294</td><td> 14</td><td>⋯</td><td>4</td><td>8</td><td> 5</td><td>3</td><td>4</td><td>3</td><td>4.500</td><td>not formal</td><td>color      </td><td>tenured     </td></tr>\n",
              "\t<tr><td>446</td><td>91</td><td>4.8</td><td>tenured     </td><td>not minority</td><td>female</td><td>english    </td><td>52</td><td>100.00000</td><td> 19</td><td>⋯</td><td>4</td><td>8</td><td> 5</td><td>3</td><td>4</td><td>3</td><td>4.500</td><td>not formal</td><td>color      </td><td>tenured     </td></tr>\n",
              "\t<tr><td>447</td><td>92</td><td>3.7</td><td>tenure track</td><td>not minority</td><td>female</td><td>non-english</td><td>60</td><td> 85.18519</td><td> 23</td><td>⋯</td><td>4</td><td>6</td><td> 6</td><td>2</td><td>3</td><td>5</td><td>4.333</td><td><span style=white-space:pre-wrap>formal    </span></td><td>black&amp;white</td><td>tenure track</td></tr>\n",
              "\t<tr><td>448</td><td>92</td><td>3.9</td><td>tenure track</td><td>not minority</td><td>female</td><td>non-english</td><td>60</td><td> 94.73684</td><td> 18</td><td>⋯</td><td>4</td><td>6</td><td> 6</td><td>2</td><td>3</td><td>5</td><td>4.333</td><td><span style=white-space:pre-wrap>formal    </span></td><td>black&amp;white</td><td>tenure track</td></tr>\n",
              "\t<tr><td>449</td><td>92</td><td>4.5</td><td>tenure track</td><td>not minority</td><td>female</td><td>non-english</td><td>60</td><td> 84.61539</td><td> 11</td><td>⋯</td><td>4</td><td>6</td><td> 6</td><td>2</td><td>3</td><td>5</td><td>4.333</td><td><span style=white-space:pre-wrap>formal    </span></td><td>black&amp;white</td><td>tenure track</td></tr>\n",
              "\t<tr><td>450</td><td>92</td><td>3.6</td><td>tenure track</td><td>not minority</td><td>female</td><td>non-english</td><td>60</td><td> 94.73684</td><td> 18</td><td>⋯</td><td>4</td><td>6</td><td> 6</td><td>2</td><td>3</td><td>5</td><td>4.333</td><td><span style=white-space:pre-wrap>formal    </span></td><td>black&amp;white</td><td>tenure track</td></tr>\n",
              "\t<tr><td>451</td><td>92</td><td>4.4</td><td>tenure track</td><td>not minority</td><td>female</td><td>non-english</td><td>60</td><td> 50.00000</td><td> 11</td><td>⋯</td><td>4</td><td>6</td><td> 6</td><td>2</td><td>3</td><td>5</td><td>4.333</td><td><span style=white-space:pre-wrap>formal    </span></td><td>black&amp;white</td><td>tenure track</td></tr>\n",
              "\t<tr><td>452</td><td>92</td><td>3.4</td><td>tenure track</td><td>not minority</td><td>female</td><td>non-english</td><td>60</td><td> 35.00000</td><td><span style=white-space:pre-wrap>  7</span></td><td>⋯</td><td>4</td><td>6</td><td> 6</td><td>2</td><td>3</td><td>5</td><td>4.333</td><td><span style=white-space:pre-wrap>formal    </span></td><td>black&amp;white</td><td>tenure track</td></tr>\n",
              "\t<tr><td>453</td><td>92</td><td>4.4</td><td>tenure track</td><td>not minority</td><td>female</td><td>non-english</td><td>60</td><td> 88.88889</td><td> 24</td><td>⋯</td><td>4</td><td>6</td><td> 6</td><td>2</td><td>3</td><td>5</td><td>4.333</td><td><span style=white-space:pre-wrap>formal    </span></td><td>black&amp;white</td><td>tenure track</td></tr>\n",
              "\t<tr><td>454</td><td>93</td><td>4.5</td><td>tenure track</td><td>not minority</td><td>male  </td><td>english    </td><td>32</td><td> 74.24242</td><td> 98</td><td>⋯</td><td>6</td><td>6</td><td> 9</td><td>7</td><td>8</td><td>5</td><td>6.833</td><td>not formal</td><td>color      </td><td>tenure track</td></tr>\n",
              "\t<tr><td>455</td><td>93</td><td>4.5</td><td>tenure track</td><td>not minority</td><td>male  </td><td>english    </td><td>32</td><td> 87.40157</td><td>111</td><td>⋯</td><td>6</td><td>6</td><td> 9</td><td>7</td><td>8</td><td>5</td><td>6.833</td><td>not formal</td><td>color      </td><td>tenure track</td></tr>\n",
              "\t<tr><td>456</td><td>93</td><td>4.5</td><td>tenure track</td><td>not minority</td><td>male  </td><td>english    </td><td>32</td><td> 72.94118</td><td> 62</td><td>⋯</td><td>6</td><td>6</td><td> 9</td><td>7</td><td>8</td><td>5</td><td>6.833</td><td>not formal</td><td>color      </td><td>tenure track</td></tr>\n",
              "\t<tr><td>457</td><td>93</td><td>4.6</td><td>tenure track</td><td>not minority</td><td>male  </td><td>english    </td><td>32</td><td> 75.24753</td><td> 76</td><td>⋯</td><td>6</td><td>6</td><td> 9</td><td>7</td><td>8</td><td>5</td><td>6.833</td><td>not formal</td><td>color      </td><td>tenure track</td></tr>\n",
              "\t<tr><td>458</td><td>93</td><td>4.1</td><td>tenure track</td><td>not minority</td><td>male  </td><td>english    </td><td>32</td><td> 42.85714</td><td>  9</td><td>⋯</td><td>6</td><td>6</td><td> 9</td><td>7</td><td>8</td><td>5</td><td>6.833</td><td>not formal</td><td>color      </td><td>tenure track</td></tr>\n",
              "\t<tr><td>459</td><td>93</td><td>4.5</td><td>tenure track</td><td>not minority</td><td>male  </td><td>english    </td><td>32</td><td> 60.46511</td><td> 52</td><td>⋯</td><td>6</td><td>6</td><td> 9</td><td>7</td><td>8</td><td>5</td><td>6.833</td><td>not formal</td><td>color      </td><td>tenure track</td></tr>\n",
              "\t<tr><td>460</td><td>94</td><td>3.5</td><td>tenure track</td><td>minority    </td><td>female</td><td>non-english</td><td>42</td><td> 57.14286</td><td> 48</td><td>⋯</td><td>3</td><td>8</td><td> 7</td><td>4</td><td>6</td><td>4</td><td>5.333</td><td>not formal</td><td>color      </td><td>tenure track</td></tr>\n",
              "\t<tr><td>461</td><td>94</td><td>4.4</td><td>tenure track</td><td>minority    </td><td>female</td><td>non-english</td><td>42</td><td> 77.61194</td><td> 52</td><td>⋯</td><td>3</td><td>8</td><td> 7</td><td>4</td><td>6</td><td>4</td><td>5.333</td><td>not formal</td><td>color      </td><td>tenure track</td></tr>\n",
              "\t<tr><td>462</td><td>94</td><td>4.4</td><td>tenure track</td><td>minority    </td><td>female</td><td>non-english</td><td>42</td><td> 81.81818</td><td> 54</td><td>⋯</td><td>3</td><td>8</td><td> 7</td><td>4</td><td>6</td><td>4</td><td>5.333</td><td>not formal</td><td>color      </td><td>tenure track</td></tr>\n",
              "\t<tr><td>463</td><td>94</td><td>4.1</td><td>tenure track</td><td>minority    </td><td>female</td><td>non-english</td><td>42</td><td> 80.00000</td><td> 28</td><td>⋯</td><td>3</td><td>8</td><td> 7</td><td>4</td><td>6</td><td>4</td><td>5.333</td><td>not formal</td><td>color      </td><td>tenure track</td></tr>\n",
              "</tbody>\n",
              "</table>\n"
            ],
            "text/markdown": "\nA data.frame: 463 × 24\n\n| course_id &lt;int&gt; | prof_id &lt;int&gt; | score &lt;dbl&gt; | rank &lt;fct&gt; | ethnicity &lt;fct&gt; | gender &lt;fct&gt; | language &lt;fct&gt; | age &lt;int&gt; | cls_perc_eval &lt;dbl&gt; | cls_did_eval &lt;int&gt; | ⋯ ⋯ | bty_f1lower &lt;int&gt; | bty_f1upper &lt;int&gt; | bty_f2upper &lt;int&gt; | bty_m1lower &lt;int&gt; | bty_m1upper &lt;int&gt; | bty_m2upper &lt;int&gt; | bty_avg &lt;dbl&gt; | pic_outfit &lt;fct&gt; | pic_color &lt;fct&gt; | rank_relevel &lt;fct&gt; |\n|---|---|---|---|---|---|---|---|---|---|---|---|---|---|---|---|---|---|---|---|---|\n|  1 | 1 | 4.7 | tenure track | minority     | female | english | 36 |  55.81395 |  24 | ⋯ | 5 | 7 | 6 | 2 | 4 | 6 | 5.000 | not formal | color | tenure track |\n|  2 | 1 | 4.1 | tenure track | minority     | female | english | 36 |  68.80000 |  86 | ⋯ | 5 | 7 | 6 | 2 | 4 | 6 | 5.000 | not formal | color | tenure track |\n|  3 | 1 | 3.9 | tenure track | minority     | female | english | 36 |  60.80000 |  76 | ⋯ | 5 | 7 | 6 | 2 | 4 | 6 | 5.000 | not formal | color | tenure track |\n|  4 | 1 | 4.8 | tenure track | minority     | female | english | 36 |  62.60163 |  77 | ⋯ | 5 | 7 | 6 | 2 | 4 | 6 | 5.000 | not formal | color | tenure track |\n|  5 | 2 | 4.6 | tenured      | not minority | male   | english | 59 |  85.00000 |  17 | ⋯ | 4 | 4 | 2 | 2 | 3 | 3 | 3.000 | not formal | color | tenured      |\n|  6 | 2 | 4.3 | tenured      | not minority | male   | english | 59 |  87.50000 |  35 | ⋯ | 4 | 4 | 2 | 2 | 3 | 3 | 3.000 | not formal | color | tenured      |\n|  7 | 2 | 2.8 | tenured      | not minority | male   | english | 59 |  88.63636 |  39 | ⋯ | 4 | 4 | 2 | 2 | 3 | 3 | 3.000 | not formal | color | tenured      |\n|  8 | 3 | 4.1 | tenured      | not minority | male   | english | 51 | 100.00000 |  55 | ⋯ | 5 | 2 | 5 | 2 | 3 | 3 | 3.333 | not formal | color | tenured      |\n|  9 | 3 | 3.4 | tenured      | not minority | male   | english | 51 |  56.92308 | 111 | ⋯ | 5 | 2 | 5 | 2 | 3 | 3 | 3.333 | not formal | color | tenured      |\n| 10 | 4 | 4.5 | tenured      | not minority | female | english | 40 |  86.95652 |  40 | ⋯ | 2 | 5 | 4 | 3 | 3 | 2 | 3.167 | not formal | color | tenured      |\n| 11 | 4 | 3.8 | tenured      | not minority | female | english | 40 |  88.88889 |  24 | ⋯ | 2 | 5 | 4 | 3 | 3 | 2 | 3.167 | not formal | color | tenured      |\n| 12 | 4 | 4.5 | tenured      | not minority | female | english | 40 |  96.00000 |  24 | ⋯ | 2 | 5 | 4 | 3 | 3 | 2 | 3.167 | not formal | color | tenured      |\n| 13 | 4 | 4.6 | tenured      | not minority | female | english | 40 |  85.00000 |  17 | ⋯ | 2 | 5 | 4 | 3 | 3 | 2 | 3.167 | not formal | color | tenured      |\n| 14 | 4 | 3.9 | tenured      | not minority | female | english | 40 |  56.00000 |  14 | ⋯ | 2 | 5 | 4 | 3 | 3 | 2 | 3.167 | not formal | color | tenured      |\n| 15 | 4 | 3.9 | tenured      | not minority | female | english | 40 |  88.09524 |  37 | ⋯ | 2 | 5 | 4 | 3 | 3 | 2 | 3.167 | not formal | color | tenured      |\n| 16 | 4 | 4.3 | tenured      | not minority | female | english | 40 |  90.00000 |  18 | ⋯ | 2 | 5 | 4 | 3 | 3 | 2 | 3.167 | not formal | color | tenured      |\n| 17 | 4 | 4.5 | tenured      | not minority | female | english | 40 |  83.33334 |  15 | ⋯ | 2 | 5 | 4 | 3 | 3 | 2 | 3.167 | not formal | color | tenured      |\n| 18 | 5 | 4.8 | tenure track | not minority | female | english | 31 |  87.50000 |  42 | ⋯ | 7 | 9 | 9 | 7 | 6 | 6 | 7.333 | not formal | color | tenure track |\n| 19 | 5 | 4.6 | tenure track | not minority | female | english | 31 |  90.90909 |  40 | ⋯ | 7 | 9 | 9 | 7 | 6 | 6 | 7.333 | not formal | color | tenure track |\n| 20 | 5 | 4.6 | tenure track | not minority | female | english | 31 |  79.16666 |  38 | ⋯ | 7 | 9 | 9 | 7 | 6 | 6 | 7.333 | not formal | color | tenure track |\n| 21 | 5 | 4.9 | tenure track | not minority | female | english | 31 |  88.88889 |  40 | ⋯ | 7 | 9 | 9 | 7 | 6 | 6 | 7.333 | not formal | color | tenure track |\n| 22 | 5 | 4.6 | tenure track | not minority | female | english | 31 |  88.13559 |  52 | ⋯ | 7 | 9 | 9 | 7 | 6 | 6 | 7.333 | not formal | color | tenure track |\n| 23 | 5 | 4.5 | tenure track | not minority | female | english | 31 |  56.32184 |  49 | ⋯ | 7 | 9 | 9 | 7 | 6 | 6 | 7.333 | not formal | color | tenure track |\n| 24 | 6 | 4.4 | tenured      | not minority | male   | english | 62 |  64.53901 | 182 | ⋯ | 6 | 6 | 5 | 5 | 5 | 6 | 5.500 | formal     | color | tenured      |\n| 25 | 6 | 4.6 | tenured      | not minority | male   | english | 62 |  54.79452 | 160 | ⋯ | 6 | 6 | 5 | 5 | 5 | 6 | 5.500 | formal     | color | tenured      |\n| 26 | 6 | 4.7 | tenured      | not minority | male   | english | 62 |  60.76923 |  79 | ⋯ | 6 | 6 | 5 | 5 | 5 | 6 | 5.500 | formal     | color | tenured      |\n| 27 | 6 | 4.5 | tenured      | not minority | male   | english | 62 |  61.75439 | 176 | ⋯ | 6 | 6 | 5 | 5 | 5 | 6 | 5.500 | formal     | color | tenured      |\n| 28 | 6 | 4.8 | tenured      | not minority | male   | english | 62 |  56.98529 | 155 | ⋯ | 6 | 6 | 5 | 5 | 5 | 6 | 5.500 | formal     | color | tenured      |\n| 29 | 6 | 4.9 | tenured      | not minority | male   | english | 62 |  58.04196 | 166 | ⋯ | 6 | 6 | 5 | 5 | 5 | 6 | 5.500 | formal     | color | tenured      |\n| 30 | 6 | 4.5 | tenured      | not minority | male   | english | 62 |  61.58941 | 186 | ⋯ | 6 | 6 | 5 | 5 | 5 | 6 | 5.500 | formal     | color | tenured      |\n| ⋮ | ⋮ | ⋮ | ⋮ | ⋮ | ⋮ | ⋮ | ⋮ | ⋮ | ⋮ | ⋱ | ⋮ | ⋮ | ⋮ | ⋮ | ⋮ | ⋮ | ⋮ | ⋮ | ⋮ | ⋮ |\n| 434 | 88 | 2.8 | tenured      | not minority | male   | english     | 62 |  40.93960 |  61 | ⋯ | 1 | 1 |  1 | 4 | 1 | 4 | 2.000 | not formal | color       | tenured      |\n| 435 | 88 | 3.1 | tenured      | not minority | male   | english     | 62 |  35.76642 |  49 | ⋯ | 1 | 1 |  1 | 4 | 1 | 4 | 2.000 | not formal | color       | tenured      |\n| 436 | 88 | 4.2 | tenured      | not minority | male   | english     | 62 |  44.82759 |  13 | ⋯ | 1 | 1 |  1 | 4 | 1 | 4 | 2.000 | not formal | color       | tenured      |\n| 437 | 88 | 3.4 | tenured      | not minority | male   | english     | 62 |  50.90909 |  28 | ⋯ | 1 | 1 |  1 | 4 | 1 | 4 | 2.000 | not formal | color       | tenured      |\n| 438 | 88 | 3.0 | tenured      | not minority | male   | english     | 62 |  49.26471 |  67 | ⋯ | 1 | 1 |  1 | 4 | 1 | 4 | 2.000 | not formal | color       | tenured      |\n| 439 | 89 | 3.3 | tenure track | minority     | female | english     | 35 |  62.50000 |  60 | ⋯ | 7 | 9 | 10 | 6 | 7 | 8 | 7.833 | not formal | color       | tenure track |\n| 440 | 89 | 3.6 | tenure track | minority     | female | english     | 35 |  33.33333 |  20 | ⋯ | 7 | 9 | 10 | 6 | 7 | 8 | 7.833 | not formal | color       | tenure track |\n| 441 | 89 | 3.7 | tenure track | minority     | female | english     | 35 |  39.81482 |  43 | ⋯ | 7 | 9 | 10 | 6 | 7 | 8 | 7.833 | not formal | color       | tenure track |\n| 442 | 90 | 3.6 | tenured      | not minority | male   | english     | 61 |  69.23077 |  27 | ⋯ | 3 | 2 |  7 | 1 | 3 | 4 | 3.333 | not formal | color       | tenured      |\n| 443 | 90 | 4.3 | tenured      | not minority | male   | english     | 61 |  86.66666 |  13 | ⋯ | 3 | 2 |  7 | 1 | 3 | 4 | 3.333 | not formal | color       | tenured      |\n| 444 | 91 | 4.1 | tenured      | not minority | female | english     | 52 |  54.95496 |  61 | ⋯ | 4 | 8 |  5 | 3 | 4 | 3 | 4.500 | not formal | color       | tenured      |\n| 445 | 91 | 4.9 | tenured      | not minority | female | english     | 52 |  82.35294 |  14 | ⋯ | 4 | 8 |  5 | 3 | 4 | 3 | 4.500 | not formal | color       | tenured      |\n| 446 | 91 | 4.8 | tenured      | not minority | female | english     | 52 | 100.00000 |  19 | ⋯ | 4 | 8 |  5 | 3 | 4 | 3 | 4.500 | not formal | color       | tenured      |\n| 447 | 92 | 3.7 | tenure track | not minority | female | non-english | 60 |  85.18519 |  23 | ⋯ | 4 | 6 |  6 | 2 | 3 | 5 | 4.333 | formal     | black&amp;white | tenure track |\n| 448 | 92 | 3.9 | tenure track | not minority | female | non-english | 60 |  94.73684 |  18 | ⋯ | 4 | 6 |  6 | 2 | 3 | 5 | 4.333 | formal     | black&amp;white | tenure track |\n| 449 | 92 | 4.5 | tenure track | not minority | female | non-english | 60 |  84.61539 |  11 | ⋯ | 4 | 6 |  6 | 2 | 3 | 5 | 4.333 | formal     | black&amp;white | tenure track |\n| 450 | 92 | 3.6 | tenure track | not minority | female | non-english | 60 |  94.73684 |  18 | ⋯ | 4 | 6 |  6 | 2 | 3 | 5 | 4.333 | formal     | black&amp;white | tenure track |\n| 451 | 92 | 4.4 | tenure track | not minority | female | non-english | 60 |  50.00000 |  11 | ⋯ | 4 | 6 |  6 | 2 | 3 | 5 | 4.333 | formal     | black&amp;white | tenure track |\n| 452 | 92 | 3.4 | tenure track | not minority | female | non-english | 60 |  35.00000 |   7 | ⋯ | 4 | 6 |  6 | 2 | 3 | 5 | 4.333 | formal     | black&amp;white | tenure track |\n| 453 | 92 | 4.4 | tenure track | not minority | female | non-english | 60 |  88.88889 |  24 | ⋯ | 4 | 6 |  6 | 2 | 3 | 5 | 4.333 | formal     | black&amp;white | tenure track |\n| 454 | 93 | 4.5 | tenure track | not minority | male   | english     | 32 |  74.24242 |  98 | ⋯ | 6 | 6 |  9 | 7 | 8 | 5 | 6.833 | not formal | color       | tenure track |\n| 455 | 93 | 4.5 | tenure track | not minority | male   | english     | 32 |  87.40157 | 111 | ⋯ | 6 | 6 |  9 | 7 | 8 | 5 | 6.833 | not formal | color       | tenure track |\n| 456 | 93 | 4.5 | tenure track | not minority | male   | english     | 32 |  72.94118 |  62 | ⋯ | 6 | 6 |  9 | 7 | 8 | 5 | 6.833 | not formal | color       | tenure track |\n| 457 | 93 | 4.6 | tenure track | not minority | male   | english     | 32 |  75.24753 |  76 | ⋯ | 6 | 6 |  9 | 7 | 8 | 5 | 6.833 | not formal | color       | tenure track |\n| 458 | 93 | 4.1 | tenure track | not minority | male   | english     | 32 |  42.85714 |   9 | ⋯ | 6 | 6 |  9 | 7 | 8 | 5 | 6.833 | not formal | color       | tenure track |\n| 459 | 93 | 4.5 | tenure track | not minority | male   | english     | 32 |  60.46511 |  52 | ⋯ | 6 | 6 |  9 | 7 | 8 | 5 | 6.833 | not formal | color       | tenure track |\n| 460 | 94 | 3.5 | tenure track | minority     | female | non-english | 42 |  57.14286 |  48 | ⋯ | 3 | 8 |  7 | 4 | 6 | 4 | 5.333 | not formal | color       | tenure track |\n| 461 | 94 | 4.4 | tenure track | minority     | female | non-english | 42 |  77.61194 |  52 | ⋯ | 3 | 8 |  7 | 4 | 6 | 4 | 5.333 | not formal | color       | tenure track |\n| 462 | 94 | 4.4 | tenure track | minority     | female | non-english | 42 |  81.81818 |  54 | ⋯ | 3 | 8 |  7 | 4 | 6 | 4 | 5.333 | not formal | color       | tenure track |\n| 463 | 94 | 4.1 | tenure track | minority     | female | non-english | 42 |  80.00000 |  28 | ⋯ | 3 | 8 |  7 | 4 | 6 | 4 | 5.333 | not formal | color       | tenure track |\n\n",
            "text/latex": "A data.frame: 463 × 24\n\\begin{tabular}{lllllllllllllllllllll}\n course\\_id & prof\\_id & score & rank & ethnicity & gender & language & age & cls\\_perc\\_eval & cls\\_did\\_eval & ⋯ & bty\\_f1lower & bty\\_f1upper & bty\\_f2upper & bty\\_m1lower & bty\\_m1upper & bty\\_m2upper & bty\\_avg & pic\\_outfit & pic\\_color & rank\\_relevel\\\\\n <int> & <int> & <dbl> & <fct> & <fct> & <fct> & <fct> & <int> & <dbl> & <int> & ⋯ & <int> & <int> & <int> & <int> & <int> & <int> & <dbl> & <fct> & <fct> & <fct>\\\\\n\\hline\n\t  1 & 1 & 4.7 & tenure track & minority     & female & english & 36 &  55.81395 &  24 & ⋯ & 5 & 7 & 6 & 2 & 4 & 6 & 5.000 & not formal & color & tenure track\\\\\n\t  2 & 1 & 4.1 & tenure track & minority     & female & english & 36 &  68.80000 &  86 & ⋯ & 5 & 7 & 6 & 2 & 4 & 6 & 5.000 & not formal & color & tenure track\\\\\n\t  3 & 1 & 3.9 & tenure track & minority     & female & english & 36 &  60.80000 &  76 & ⋯ & 5 & 7 & 6 & 2 & 4 & 6 & 5.000 & not formal & color & tenure track\\\\\n\t  4 & 1 & 4.8 & tenure track & minority     & female & english & 36 &  62.60163 &  77 & ⋯ & 5 & 7 & 6 & 2 & 4 & 6 & 5.000 & not formal & color & tenure track\\\\\n\t  5 & 2 & 4.6 & tenured      & not minority & male   & english & 59 &  85.00000 &  17 & ⋯ & 4 & 4 & 2 & 2 & 3 & 3 & 3.000 & not formal & color & tenured     \\\\\n\t  6 & 2 & 4.3 & tenured      & not minority & male   & english & 59 &  87.50000 &  35 & ⋯ & 4 & 4 & 2 & 2 & 3 & 3 & 3.000 & not formal & color & tenured     \\\\\n\t  7 & 2 & 2.8 & tenured      & not minority & male   & english & 59 &  88.63636 &  39 & ⋯ & 4 & 4 & 2 & 2 & 3 & 3 & 3.000 & not formal & color & tenured     \\\\\n\t  8 & 3 & 4.1 & tenured      & not minority & male   & english & 51 & 100.00000 &  55 & ⋯ & 5 & 2 & 5 & 2 & 3 & 3 & 3.333 & not formal & color & tenured     \\\\\n\t  9 & 3 & 3.4 & tenured      & not minority & male   & english & 51 &  56.92308 & 111 & ⋯ & 5 & 2 & 5 & 2 & 3 & 3 & 3.333 & not formal & color & tenured     \\\\\n\t 10 & 4 & 4.5 & tenured      & not minority & female & english & 40 &  86.95652 &  40 & ⋯ & 2 & 5 & 4 & 3 & 3 & 2 & 3.167 & not formal & color & tenured     \\\\\n\t 11 & 4 & 3.8 & tenured      & not minority & female & english & 40 &  88.88889 &  24 & ⋯ & 2 & 5 & 4 & 3 & 3 & 2 & 3.167 & not formal & color & tenured     \\\\\n\t 12 & 4 & 4.5 & tenured      & not minority & female & english & 40 &  96.00000 &  24 & ⋯ & 2 & 5 & 4 & 3 & 3 & 2 & 3.167 & not formal & color & tenured     \\\\\n\t 13 & 4 & 4.6 & tenured      & not minority & female & english & 40 &  85.00000 &  17 & ⋯ & 2 & 5 & 4 & 3 & 3 & 2 & 3.167 & not formal & color & tenured     \\\\\n\t 14 & 4 & 3.9 & tenured      & not minority & female & english & 40 &  56.00000 &  14 & ⋯ & 2 & 5 & 4 & 3 & 3 & 2 & 3.167 & not formal & color & tenured     \\\\\n\t 15 & 4 & 3.9 & tenured      & not minority & female & english & 40 &  88.09524 &  37 & ⋯ & 2 & 5 & 4 & 3 & 3 & 2 & 3.167 & not formal & color & tenured     \\\\\n\t 16 & 4 & 4.3 & tenured      & not minority & female & english & 40 &  90.00000 &  18 & ⋯ & 2 & 5 & 4 & 3 & 3 & 2 & 3.167 & not formal & color & tenured     \\\\\n\t 17 & 4 & 4.5 & tenured      & not minority & female & english & 40 &  83.33334 &  15 & ⋯ & 2 & 5 & 4 & 3 & 3 & 2 & 3.167 & not formal & color & tenured     \\\\\n\t 18 & 5 & 4.8 & tenure track & not minority & female & english & 31 &  87.50000 &  42 & ⋯ & 7 & 9 & 9 & 7 & 6 & 6 & 7.333 & not formal & color & tenure track\\\\\n\t 19 & 5 & 4.6 & tenure track & not minority & female & english & 31 &  90.90909 &  40 & ⋯ & 7 & 9 & 9 & 7 & 6 & 6 & 7.333 & not formal & color & tenure track\\\\\n\t 20 & 5 & 4.6 & tenure track & not minority & female & english & 31 &  79.16666 &  38 & ⋯ & 7 & 9 & 9 & 7 & 6 & 6 & 7.333 & not formal & color & tenure track\\\\\n\t 21 & 5 & 4.9 & tenure track & not minority & female & english & 31 &  88.88889 &  40 & ⋯ & 7 & 9 & 9 & 7 & 6 & 6 & 7.333 & not formal & color & tenure track\\\\\n\t 22 & 5 & 4.6 & tenure track & not minority & female & english & 31 &  88.13559 &  52 & ⋯ & 7 & 9 & 9 & 7 & 6 & 6 & 7.333 & not formal & color & tenure track\\\\\n\t 23 & 5 & 4.5 & tenure track & not minority & female & english & 31 &  56.32184 &  49 & ⋯ & 7 & 9 & 9 & 7 & 6 & 6 & 7.333 & not formal & color & tenure track\\\\\n\t 24 & 6 & 4.4 & tenured      & not minority & male   & english & 62 &  64.53901 & 182 & ⋯ & 6 & 6 & 5 & 5 & 5 & 6 & 5.500 & formal     & color & tenured     \\\\\n\t 25 & 6 & 4.6 & tenured      & not minority & male   & english & 62 &  54.79452 & 160 & ⋯ & 6 & 6 & 5 & 5 & 5 & 6 & 5.500 & formal     & color & tenured     \\\\\n\t 26 & 6 & 4.7 & tenured      & not minority & male   & english & 62 &  60.76923 &  79 & ⋯ & 6 & 6 & 5 & 5 & 5 & 6 & 5.500 & formal     & color & tenured     \\\\\n\t 27 & 6 & 4.5 & tenured      & not minority & male   & english & 62 &  61.75439 & 176 & ⋯ & 6 & 6 & 5 & 5 & 5 & 6 & 5.500 & formal     & color & tenured     \\\\\n\t 28 & 6 & 4.8 & tenured      & not minority & male   & english & 62 &  56.98529 & 155 & ⋯ & 6 & 6 & 5 & 5 & 5 & 6 & 5.500 & formal     & color & tenured     \\\\\n\t 29 & 6 & 4.9 & tenured      & not minority & male   & english & 62 &  58.04196 & 166 & ⋯ & 6 & 6 & 5 & 5 & 5 & 6 & 5.500 & formal     & color & tenured     \\\\\n\t 30 & 6 & 4.5 & tenured      & not minority & male   & english & 62 &  61.58941 & 186 & ⋯ & 6 & 6 & 5 & 5 & 5 & 6 & 5.500 & formal     & color & tenured     \\\\\n\t ⋮ & ⋮ & ⋮ & ⋮ & ⋮ & ⋮ & ⋮ & ⋮ & ⋮ & ⋮ & ⋱ & ⋮ & ⋮ & ⋮ & ⋮ & ⋮ & ⋮ & ⋮ & ⋮ & ⋮ & ⋮\\\\\n\t 434 & 88 & 2.8 & tenured      & not minority & male   & english     & 62 &  40.93960 &  61 & ⋯ & 1 & 1 &  1 & 4 & 1 & 4 & 2.000 & not formal & color       & tenured     \\\\\n\t 435 & 88 & 3.1 & tenured      & not minority & male   & english     & 62 &  35.76642 &  49 & ⋯ & 1 & 1 &  1 & 4 & 1 & 4 & 2.000 & not formal & color       & tenured     \\\\\n\t 436 & 88 & 4.2 & tenured      & not minority & male   & english     & 62 &  44.82759 &  13 & ⋯ & 1 & 1 &  1 & 4 & 1 & 4 & 2.000 & not formal & color       & tenured     \\\\\n\t 437 & 88 & 3.4 & tenured      & not minority & male   & english     & 62 &  50.90909 &  28 & ⋯ & 1 & 1 &  1 & 4 & 1 & 4 & 2.000 & not formal & color       & tenured     \\\\\n\t 438 & 88 & 3.0 & tenured      & not minority & male   & english     & 62 &  49.26471 &  67 & ⋯ & 1 & 1 &  1 & 4 & 1 & 4 & 2.000 & not formal & color       & tenured     \\\\\n\t 439 & 89 & 3.3 & tenure track & minority     & female & english     & 35 &  62.50000 &  60 & ⋯ & 7 & 9 & 10 & 6 & 7 & 8 & 7.833 & not formal & color       & tenure track\\\\\n\t 440 & 89 & 3.6 & tenure track & minority     & female & english     & 35 &  33.33333 &  20 & ⋯ & 7 & 9 & 10 & 6 & 7 & 8 & 7.833 & not formal & color       & tenure track\\\\\n\t 441 & 89 & 3.7 & tenure track & minority     & female & english     & 35 &  39.81482 &  43 & ⋯ & 7 & 9 & 10 & 6 & 7 & 8 & 7.833 & not formal & color       & tenure track\\\\\n\t 442 & 90 & 3.6 & tenured      & not minority & male   & english     & 61 &  69.23077 &  27 & ⋯ & 3 & 2 &  7 & 1 & 3 & 4 & 3.333 & not formal & color       & tenured     \\\\\n\t 443 & 90 & 4.3 & tenured      & not minority & male   & english     & 61 &  86.66666 &  13 & ⋯ & 3 & 2 &  7 & 1 & 3 & 4 & 3.333 & not formal & color       & tenured     \\\\\n\t 444 & 91 & 4.1 & tenured      & not minority & female & english     & 52 &  54.95496 &  61 & ⋯ & 4 & 8 &  5 & 3 & 4 & 3 & 4.500 & not formal & color       & tenured     \\\\\n\t 445 & 91 & 4.9 & tenured      & not minority & female & english     & 52 &  82.35294 &  14 & ⋯ & 4 & 8 &  5 & 3 & 4 & 3 & 4.500 & not formal & color       & tenured     \\\\\n\t 446 & 91 & 4.8 & tenured      & not minority & female & english     & 52 & 100.00000 &  19 & ⋯ & 4 & 8 &  5 & 3 & 4 & 3 & 4.500 & not formal & color       & tenured     \\\\\n\t 447 & 92 & 3.7 & tenure track & not minority & female & non-english & 60 &  85.18519 &  23 & ⋯ & 4 & 6 &  6 & 2 & 3 & 5 & 4.333 & formal     & black\\&white & tenure track\\\\\n\t 448 & 92 & 3.9 & tenure track & not minority & female & non-english & 60 &  94.73684 &  18 & ⋯ & 4 & 6 &  6 & 2 & 3 & 5 & 4.333 & formal     & black\\&white & tenure track\\\\\n\t 449 & 92 & 4.5 & tenure track & not minority & female & non-english & 60 &  84.61539 &  11 & ⋯ & 4 & 6 &  6 & 2 & 3 & 5 & 4.333 & formal     & black\\&white & tenure track\\\\\n\t 450 & 92 & 3.6 & tenure track & not minority & female & non-english & 60 &  94.73684 &  18 & ⋯ & 4 & 6 &  6 & 2 & 3 & 5 & 4.333 & formal     & black\\&white & tenure track\\\\\n\t 451 & 92 & 4.4 & tenure track & not minority & female & non-english & 60 &  50.00000 &  11 & ⋯ & 4 & 6 &  6 & 2 & 3 & 5 & 4.333 & formal     & black\\&white & tenure track\\\\\n\t 452 & 92 & 3.4 & tenure track & not minority & female & non-english & 60 &  35.00000 &   7 & ⋯ & 4 & 6 &  6 & 2 & 3 & 5 & 4.333 & formal     & black\\&white & tenure track\\\\\n\t 453 & 92 & 4.4 & tenure track & not minority & female & non-english & 60 &  88.88889 &  24 & ⋯ & 4 & 6 &  6 & 2 & 3 & 5 & 4.333 & formal     & black\\&white & tenure track\\\\\n\t 454 & 93 & 4.5 & tenure track & not minority & male   & english     & 32 &  74.24242 &  98 & ⋯ & 6 & 6 &  9 & 7 & 8 & 5 & 6.833 & not formal & color       & tenure track\\\\\n\t 455 & 93 & 4.5 & tenure track & not minority & male   & english     & 32 &  87.40157 & 111 & ⋯ & 6 & 6 &  9 & 7 & 8 & 5 & 6.833 & not formal & color       & tenure track\\\\\n\t 456 & 93 & 4.5 & tenure track & not minority & male   & english     & 32 &  72.94118 &  62 & ⋯ & 6 & 6 &  9 & 7 & 8 & 5 & 6.833 & not formal & color       & tenure track\\\\\n\t 457 & 93 & 4.6 & tenure track & not minority & male   & english     & 32 &  75.24753 &  76 & ⋯ & 6 & 6 &  9 & 7 & 8 & 5 & 6.833 & not formal & color       & tenure track\\\\\n\t 458 & 93 & 4.1 & tenure track & not minority & male   & english     & 32 &  42.85714 &   9 & ⋯ & 6 & 6 &  9 & 7 & 8 & 5 & 6.833 & not formal & color       & tenure track\\\\\n\t 459 & 93 & 4.5 & tenure track & not minority & male   & english     & 32 &  60.46511 &  52 & ⋯ & 6 & 6 &  9 & 7 & 8 & 5 & 6.833 & not formal & color       & tenure track\\\\\n\t 460 & 94 & 3.5 & tenure track & minority     & female & non-english & 42 &  57.14286 &  48 & ⋯ & 3 & 8 &  7 & 4 & 6 & 4 & 5.333 & not formal & color       & tenure track\\\\\n\t 461 & 94 & 4.4 & tenure track & minority     & female & non-english & 42 &  77.61194 &  52 & ⋯ & 3 & 8 &  7 & 4 & 6 & 4 & 5.333 & not formal & color       & tenure track\\\\\n\t 462 & 94 & 4.4 & tenure track & minority     & female & non-english & 42 &  81.81818 &  54 & ⋯ & 3 & 8 &  7 & 4 & 6 & 4 & 5.333 & not formal & color       & tenure track\\\\\n\t 463 & 94 & 4.1 & tenure track & minority     & female & non-english & 42 &  80.00000 &  28 & ⋯ & 3 & 8 &  7 & 4 & 6 & 4 & 5.333 & not formal & color       & tenure track\\\\\n\\end{tabular}\n",
            "text/plain": [
              "    course_id prof_id score rank         ethnicity    gender language    age\n",
              "1    1        1       4.7   tenure track minority     female english     36 \n",
              "2    2        1       4.1   tenure track minority     female english     36 \n",
              "3    3        1       3.9   tenure track minority     female english     36 \n",
              "4    4        1       4.8   tenure track minority     female english     36 \n",
              "5    5        2       4.6   tenured      not minority male   english     59 \n",
              "6    6        2       4.3   tenured      not minority male   english     59 \n",
              "7    7        2       2.8   tenured      not minority male   english     59 \n",
              "8    8        3       4.1   tenured      not minority male   english     51 \n",
              "9    9        3       3.4   tenured      not minority male   english     51 \n",
              "10  10        4       4.5   tenured      not minority female english     40 \n",
              "11  11        4       3.8   tenured      not minority female english     40 \n",
              "12  12        4       4.5   tenured      not minority female english     40 \n",
              "13  13        4       4.6   tenured      not minority female english     40 \n",
              "14  14        4       3.9   tenured      not minority female english     40 \n",
              "15  15        4       3.9   tenured      not minority female english     40 \n",
              "16  16        4       4.3   tenured      not minority female english     40 \n",
              "17  17        4       4.5   tenured      not minority female english     40 \n",
              "18  18        5       4.8   tenure track not minority female english     31 \n",
              "19  19        5       4.6   tenure track not minority female english     31 \n",
              "20  20        5       4.6   tenure track not minority female english     31 \n",
              "21  21        5       4.9   tenure track not minority female english     31 \n",
              "22  22        5       4.6   tenure track not minority female english     31 \n",
              "23  23        5       4.5   tenure track not minority female english     31 \n",
              "24  24        6       4.4   tenured      not minority male   english     62 \n",
              "25  25        6       4.6   tenured      not minority male   english     62 \n",
              "26  26        6       4.7   tenured      not minority male   english     62 \n",
              "27  27        6       4.5   tenured      not minority male   english     62 \n",
              "28  28        6       4.8   tenured      not minority male   english     62 \n",
              "29  29        6       4.9   tenured      not minority male   english     62 \n",
              "30  30        6       4.5   tenured      not minority male   english     62 \n",
              "⋮   ⋮         ⋮       ⋮     ⋮            ⋮            ⋮      ⋮           ⋮  \n",
              "434 434       88      2.8   tenured      not minority male   english     62 \n",
              "435 435       88      3.1   tenured      not minority male   english     62 \n",
              "436 436       88      4.2   tenured      not minority male   english     62 \n",
              "437 437       88      3.4   tenured      not minority male   english     62 \n",
              "438 438       88      3.0   tenured      not minority male   english     62 \n",
              "439 439       89      3.3   tenure track minority     female english     35 \n",
              "440 440       89      3.6   tenure track minority     female english     35 \n",
              "441 441       89      3.7   tenure track minority     female english     35 \n",
              "442 442       90      3.6   tenured      not minority male   english     61 \n",
              "443 443       90      4.3   tenured      not minority male   english     61 \n",
              "444 444       91      4.1   tenured      not minority female english     52 \n",
              "445 445       91      4.9   tenured      not minority female english     52 \n",
              "446 446       91      4.8   tenured      not minority female english     52 \n",
              "447 447       92      3.7   tenure track not minority female non-english 60 \n",
              "448 448       92      3.9   tenure track not minority female non-english 60 \n",
              "449 449       92      4.5   tenure track not minority female non-english 60 \n",
              "450 450       92      3.6   tenure track not minority female non-english 60 \n",
              "451 451       92      4.4   tenure track not minority female non-english 60 \n",
              "452 452       92      3.4   tenure track not minority female non-english 60 \n",
              "453 453       92      4.4   tenure track not minority female non-english 60 \n",
              "454 454       93      4.5   tenure track not minority male   english     32 \n",
              "455 455       93      4.5   tenure track not minority male   english     32 \n",
              "456 456       93      4.5   tenure track not minority male   english     32 \n",
              "457 457       93      4.6   tenure track not minority male   english     32 \n",
              "458 458       93      4.1   tenure track not minority male   english     32 \n",
              "459 459       93      4.5   tenure track not minority male   english     32 \n",
              "460 460       94      3.5   tenure track minority     female non-english 42 \n",
              "461 461       94      4.4   tenure track minority     female non-english 42 \n",
              "462 462       94      4.4   tenure track minority     female non-english 42 \n",
              "463 463       94      4.1   tenure track minority     female non-english 42 \n",
              "    cls_perc_eval cls_did_eval ⋯ bty_f1lower bty_f1upper bty_f2upper\n",
              "1    55.81395      24          ⋯ 5           7           6          \n",
              "2    68.80000      86          ⋯ 5           7           6          \n",
              "3    60.80000      76          ⋯ 5           7           6          \n",
              "4    62.60163      77          ⋯ 5           7           6          \n",
              "5    85.00000      17          ⋯ 4           4           2          \n",
              "6    87.50000      35          ⋯ 4           4           2          \n",
              "7    88.63636      39          ⋯ 4           4           2          \n",
              "8   100.00000      55          ⋯ 5           2           5          \n",
              "9    56.92308     111          ⋯ 5           2           5          \n",
              "10   86.95652      40          ⋯ 2           5           4          \n",
              "11   88.88889      24          ⋯ 2           5           4          \n",
              "12   96.00000      24          ⋯ 2           5           4          \n",
              "13   85.00000      17          ⋯ 2           5           4          \n",
              "14   56.00000      14          ⋯ 2           5           4          \n",
              "15   88.09524      37          ⋯ 2           5           4          \n",
              "16   90.00000      18          ⋯ 2           5           4          \n",
              "17   83.33334      15          ⋯ 2           5           4          \n",
              "18   87.50000      42          ⋯ 7           9           9          \n",
              "19   90.90909      40          ⋯ 7           9           9          \n",
              "20   79.16666      38          ⋯ 7           9           9          \n",
              "21   88.88889      40          ⋯ 7           9           9          \n",
              "22   88.13559      52          ⋯ 7           9           9          \n",
              "23   56.32184      49          ⋯ 7           9           9          \n",
              "24   64.53901     182          ⋯ 6           6           5          \n",
              "25   54.79452     160          ⋯ 6           6           5          \n",
              "26   60.76923      79          ⋯ 6           6           5          \n",
              "27   61.75439     176          ⋯ 6           6           5          \n",
              "28   56.98529     155          ⋯ 6           6           5          \n",
              "29   58.04196     166          ⋯ 6           6           5          \n",
              "30   61.58941     186          ⋯ 6           6           5          \n",
              "⋮   ⋮             ⋮            ⋱ ⋮           ⋮           ⋮          \n",
              "434  40.93960      61          ⋯ 1           1            1         \n",
              "435  35.76642      49          ⋯ 1           1            1         \n",
              "436  44.82759      13          ⋯ 1           1            1         \n",
              "437  50.90909      28          ⋯ 1           1            1         \n",
              "438  49.26471      67          ⋯ 1           1            1         \n",
              "439  62.50000      60          ⋯ 7           9           10         \n",
              "440  33.33333      20          ⋯ 7           9           10         \n",
              "441  39.81482      43          ⋯ 7           9           10         \n",
              "442  69.23077      27          ⋯ 3           2            7         \n",
              "443  86.66666      13          ⋯ 3           2            7         \n",
              "444  54.95496      61          ⋯ 4           8            5         \n",
              "445  82.35294      14          ⋯ 4           8            5         \n",
              "446 100.00000      19          ⋯ 4           8            5         \n",
              "447  85.18519      23          ⋯ 4           6            6         \n",
              "448  94.73684      18          ⋯ 4           6            6         \n",
              "449  84.61539      11          ⋯ 4           6            6         \n",
              "450  94.73684      18          ⋯ 4           6            6         \n",
              "451  50.00000      11          ⋯ 4           6            6         \n",
              "452  35.00000       7          ⋯ 4           6            6         \n",
              "453  88.88889      24          ⋯ 4           6            6         \n",
              "454  74.24242      98          ⋯ 6           6            9         \n",
              "455  87.40157     111          ⋯ 6           6            9         \n",
              "456  72.94118      62          ⋯ 6           6            9         \n",
              "457  75.24753      76          ⋯ 6           6            9         \n",
              "458  42.85714       9          ⋯ 6           6            9         \n",
              "459  60.46511      52          ⋯ 6           6            9         \n",
              "460  57.14286      48          ⋯ 3           8            7         \n",
              "461  77.61194      52          ⋯ 3           8            7         \n",
              "462  81.81818      54          ⋯ 3           8            7         \n",
              "463  80.00000      28          ⋯ 3           8            7         \n",
              "    bty_m1lower bty_m1upper bty_m2upper bty_avg pic_outfit pic_color  \n",
              "1   2           4           6           5.000   not formal color      \n",
              "2   2           4           6           5.000   not formal color      \n",
              "3   2           4           6           5.000   not formal color      \n",
              "4   2           4           6           5.000   not formal color      \n",
              "5   2           3           3           3.000   not formal color      \n",
              "6   2           3           3           3.000   not formal color      \n",
              "7   2           3           3           3.000   not formal color      \n",
              "8   2           3           3           3.333   not formal color      \n",
              "9   2           3           3           3.333   not formal color      \n",
              "10  3           3           2           3.167   not formal color      \n",
              "11  3           3           2           3.167   not formal color      \n",
              "12  3           3           2           3.167   not formal color      \n",
              "13  3           3           2           3.167   not formal color      \n",
              "14  3           3           2           3.167   not formal color      \n",
              "15  3           3           2           3.167   not formal color      \n",
              "16  3           3           2           3.167   not formal color      \n",
              "17  3           3           2           3.167   not formal color      \n",
              "18  7           6           6           7.333   not formal color      \n",
              "19  7           6           6           7.333   not formal color      \n",
              "20  7           6           6           7.333   not formal color      \n",
              "21  7           6           6           7.333   not formal color      \n",
              "22  7           6           6           7.333   not formal color      \n",
              "23  7           6           6           7.333   not formal color      \n",
              "24  5           5           6           5.500   formal     color      \n",
              "25  5           5           6           5.500   formal     color      \n",
              "26  5           5           6           5.500   formal     color      \n",
              "27  5           5           6           5.500   formal     color      \n",
              "28  5           5           6           5.500   formal     color      \n",
              "29  5           5           6           5.500   formal     color      \n",
              "30  5           5           6           5.500   formal     color      \n",
              "⋮   ⋮           ⋮           ⋮           ⋮       ⋮          ⋮          \n",
              "434 4           1           4           2.000   not formal color      \n",
              "435 4           1           4           2.000   not formal color      \n",
              "436 4           1           4           2.000   not formal color      \n",
              "437 4           1           4           2.000   not formal color      \n",
              "438 4           1           4           2.000   not formal color      \n",
              "439 6           7           8           7.833   not formal color      \n",
              "440 6           7           8           7.833   not formal color      \n",
              "441 6           7           8           7.833   not formal color      \n",
              "442 1           3           4           3.333   not formal color      \n",
              "443 1           3           4           3.333   not formal color      \n",
              "444 3           4           3           4.500   not formal color      \n",
              "445 3           4           3           4.500   not formal color      \n",
              "446 3           4           3           4.500   not formal color      \n",
              "447 2           3           5           4.333   formal     black&white\n",
              "448 2           3           5           4.333   formal     black&white\n",
              "449 2           3           5           4.333   formal     black&white\n",
              "450 2           3           5           4.333   formal     black&white\n",
              "451 2           3           5           4.333   formal     black&white\n",
              "452 2           3           5           4.333   formal     black&white\n",
              "453 2           3           5           4.333   formal     black&white\n",
              "454 7           8           5           6.833   not formal color      \n",
              "455 7           8           5           6.833   not formal color      \n",
              "456 7           8           5           6.833   not formal color      \n",
              "457 7           8           5           6.833   not formal color      \n",
              "458 7           8           5           6.833   not formal color      \n",
              "459 7           8           5           6.833   not formal color      \n",
              "460 4           6           4           5.333   not formal color      \n",
              "461 4           6           4           5.333   not formal color      \n",
              "462 4           6           4           5.333   not formal color      \n",
              "463 4           6           4           5.333   not formal color      \n",
              "    rank_relevel\n",
              "1   tenure track\n",
              "2   tenure track\n",
              "3   tenure track\n",
              "4   tenure track\n",
              "5   tenured     \n",
              "6   tenured     \n",
              "7   tenured     \n",
              "8   tenured     \n",
              "9   tenured     \n",
              "10  tenured     \n",
              "11  tenured     \n",
              "12  tenured     \n",
              "13  tenured     \n",
              "14  tenured     \n",
              "15  tenured     \n",
              "16  tenured     \n",
              "17  tenured     \n",
              "18  tenure track\n",
              "19  tenure track\n",
              "20  tenure track\n",
              "21  tenure track\n",
              "22  tenure track\n",
              "23  tenure track\n",
              "24  tenured     \n",
              "25  tenured     \n",
              "26  tenured     \n",
              "27  tenured     \n",
              "28  tenured     \n",
              "29  tenured     \n",
              "30  tenured     \n",
              "⋮   ⋮           \n",
              "434 tenured     \n",
              "435 tenured     \n",
              "436 tenured     \n",
              "437 tenured     \n",
              "438 tenured     \n",
              "439 tenure track\n",
              "440 tenure track\n",
              "441 tenure track\n",
              "442 tenured     \n",
              "443 tenured     \n",
              "444 tenured     \n",
              "445 tenured     \n",
              "446 tenured     \n",
              "447 tenure track\n",
              "448 tenure track\n",
              "449 tenure track\n",
              "450 tenure track\n",
              "451 tenure track\n",
              "452 tenure track\n",
              "453 tenure track\n",
              "454 tenure track\n",
              "455 tenure track\n",
              "456 tenure track\n",
              "457 tenure track\n",
              "458 tenure track\n",
              "459 tenure track\n",
              "460 tenure track\n",
              "461 tenure track\n",
              "462 tenure track\n",
              "463 tenure track"
            ]
          },
          "metadata": {}
        }
      ]
    },
    {
      "cell_type": "code",
      "source": [
        "##Code for question 14\n",
        "\n",
        "evals_final <- evals_new %>% \n",
        "  mutate(\n",
        "    tenure_eligible = ifelse(rank != \"teaching\", \"Yes\", \"No\")\n",
        "  ) \n",
        "\n",
        "#evals_final %>% \n",
        "#  filter(rank == \"teaching\")  \n",
        "\n",
        "#no is baseline\n",
        "\n"
      ],
      "metadata": {
        "id": "kw0kx8nA3L9r"
      },
      "execution_count": 44,
      "outputs": []
    },
    {
      "cell_type": "code",
      "source": [
        "##code for question 15 \n",
        "\n",
        "#code for question 13  \n",
        "\n",
        "\n",
        "score_tenure_eligible_fit <- linear_reg() %>%\n",
        "  set_engine(\"lm\") %>%\n",
        "  fit(score  ~ tenure_eligible, data = evals_final) %>%\n",
        "  tidy()    \n",
        "\n",
        "score_tenure_eligible_fit\n",
        "\n",
        "#calculating R squared \n",
        "\n",
        "r_squared_model <- lm(data = evals_final, score~ tenure_eligible)  \n",
        "r_squared_model\n",
        "summary(r_squared_model)$r.squared \n",
        "\n",
        "\n"
      ],
      "metadata": {
        "colab": {
          "base_uri": "https://localhost:8080/",
          "height": 300
        },
        "id": "BpGx9apIpinz",
        "outputId": "14ac4aab-a437-40d4-f6ee-e6ff7d935a4e"
      },
      "execution_count": 50,
      "outputs": [
        {
          "output_type": "display_data",
          "data": {
            "text/html": [
              "<table class=\"dataframe\">\n",
              "<caption>A tibble: 2 × 5</caption>\n",
              "<thead>\n",
              "\t<tr><th scope=col>term</th><th scope=col>estimate</th><th scope=col>std.error</th><th scope=col>statistic</th><th scope=col>p.value</th></tr>\n",
              "\t<tr><th scope=col>&lt;chr&gt;</th><th scope=col>&lt;dbl&gt;</th><th scope=col>&lt;dbl&gt;</th><th scope=col>&lt;dbl&gt;</th><th scope=col>&lt;dbl&gt;</th></tr>\n",
              "</thead>\n",
              "<tbody>\n",
              "\t<tr><td>(Intercept)       </td><td> 4.2843137</td><td>0.05359823</td><td>79.933873</td><td>2.723351e-272</td></tr>\n",
              "\t<tr><td>tenure_eligibleYes</td><td>-0.1405464</td><td>0.06069981</td><td>-2.315434</td><td> 2.102730e-02</td></tr>\n",
              "</tbody>\n",
              "</table>\n"
            ],
            "text/markdown": "\nA tibble: 2 × 5\n\n| term &lt;chr&gt; | estimate &lt;dbl&gt; | std.error &lt;dbl&gt; | statistic &lt;dbl&gt; | p.value &lt;dbl&gt; |\n|---|---|---|---|---|\n| (Intercept)        |  4.2843137 | 0.05359823 | 79.933873 | 2.723351e-272 |\n| tenure_eligibleYes | -0.1405464 | 0.06069981 | -2.315434 |  2.102730e-02 |\n\n",
            "text/latex": "A tibble: 2 × 5\n\\begin{tabular}{lllll}\n term & estimate & std.error & statistic & p.value\\\\\n <chr> & <dbl> & <dbl> & <dbl> & <dbl>\\\\\n\\hline\n\t (Intercept)        &  4.2843137 & 0.05359823 & 79.933873 & 2.723351e-272\\\\\n\t tenure\\_eligibleYes & -0.1405464 & 0.06069981 & -2.315434 &  2.102730e-02\\\\\n\\end{tabular}\n",
            "text/plain": [
              "  term               estimate   std.error  statistic p.value      \n",
              "1 (Intercept)         4.2843137 0.05359823 79.933873 2.723351e-272\n",
              "2 tenure_eligibleYes -0.1405464 0.06069981 -2.315434  2.102730e-02"
            ]
          },
          "metadata": {}
        },
        {
          "output_type": "display_data",
          "data": {
            "text/plain": [
              "\n",
              "Call:\n",
              "lm(formula = score ~ tenure_eligible, data = evals_final)\n",
              "\n",
              "Coefficients:\n",
              "       (Intercept)  tenure_eligibleYes  \n",
              "            4.2843             -0.1405  \n"
            ]
          },
          "metadata": {}
        },
        {
          "output_type": "display_data",
          "data": {
            "text/html": [
              "0.0114958867989187"
            ],
            "text/markdown": "0.0114958867989187",
            "text/latex": "0.0114958867989187",
            "text/plain": [
              "[1] 0.01149589"
            ]
          },
          "metadata": {}
        }
      ]
    },
    {
      "cell_type": "markdown",
      "source": [
        "##ANSWER TO QUESTION 15: \n",
        "\n",
        "The linear model for score_tenure_eligible_fit is described by the equation: \n",
        "$\\hat{score} = 4.28 - 0.14_{tenure  eligible}$. \n",
        "The slope tells us that if a professor is tenure track or tenured, their average rating is (14% less) compared to the average non-tenure eligible professor, whose average rating is represented by the y-intercept (4.28). We expect that the average teaching professor will have a nonzero rating, so the intercept makes sense. The $R^2$ value of 0.02 tells us that the percent of variation (2%) in the score that can be explained by whether or not the professor is tenure track. We again conclude that this $R^2$ shows us that the model is not a good fit for a data. Further, for a more accurate $R^2$ that penalizes additional model variables, we should use adjusted $R^2$. "
      ],
      "metadata": {
        "id": "3Dk04q3rsCNg"
      }
    },
    {
      "cell_type": "code",
      "source": [],
      "metadata": {
        "id": "NbyL66Tj3MAc"
      },
      "execution_count": null,
      "outputs": []
    },
    {
      "cell_type": "code",
      "source": [],
      "metadata": {
        "id": "Zb-Lmghb3MD7"
      },
      "execution_count": null,
      "outputs": []
    }
  ],
  "metadata": {
    "colab": {
      "provenance": [],
      "collapsed_sections": [],
      "authorship_tag": "ABX9TyNoJtQVuydoD2g03VAqytcj",
      "include_colab_link": true
    },
    "kernelspec": {
      "display_name": "R",
      "name": "ir"
    },
    "language_info": {
      "name": "R"
    }
  },
  "nbformat": 4,
  "nbformat_minor": 0
}