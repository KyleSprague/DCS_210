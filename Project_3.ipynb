{
  "nbformat": 4,
  "nbformat_minor": 0,
  "metadata": {
    "colab": {
      "provenance": [],
      "collapsed_sections": [],
      "authorship_tag": "ABX9TyN9VkfZThx2Lcio7IZEH97j",
      "include_colab_link": true
    },
    "kernelspec": {
      "name": "ir",
      "display_name": "R"
    },
    "language_info": {
      "name": "R"
    }
  },
  "cells": [
    {
      "cell_type": "markdown",
      "metadata": {
        "id": "view-in-github",
        "colab_type": "text"
      },
      "source": [
        "<a href=\"https://colab.research.google.com/github/KyleSprague/DCS_210/blob/main/Project_3.ipynb\" target=\"_parent\"><img src=\"https://colab.research.google.com/assets/colab-badge.svg\" alt=\"Open In Colab\"/></a>"
      ]
    },
    {
      "cell_type": "code",
      "execution_count": null,
      "metadata": {
        "id": "xeK1CzKHJMnv",
        "colab": {
          "base_uri": "https://localhost:8080/"
        },
        "outputId": "ce5dde96-5787-421a-95a7-152aad6f8f90"
      },
      "outputs": [
        {
          "output_type": "stream",
          "name": "stderr",
          "text": [
            "Installing package into ‘/usr/local/lib/R/site-library’\n",
            "(as ‘lib’ is unspecified)\n",
            "\n",
            "Installing package into ‘/usr/local/lib/R/site-library’\n",
            "(as ‘lib’ is unspecified)\n",
            "\n",
            "Installing package into ‘/usr/local/lib/R/site-library’\n",
            "(as ‘lib’ is unspecified)\n",
            "\n"
          ]
        }
      ],
      "source": [
        "install.packages(\"tidyverse\") \n",
        "install.packages(\"fivethirtyeight\") \n",
        "install.packages(\"scales\")"
      ]
    },
    {
      "cell_type": "code",
      "source": [
        "library(\"tidyverse\") \n",
        "library(\"fivethirtyeight\") \n",
        "library(\"scales\")"
      ],
      "metadata": {
        "id": "wPvuTihXKFiq"
      },
      "execution_count": null,
      "outputs": []
    },
    {
      "cell_type": "code",
      "source": [
        "glimpse(college_recent_grads)"
      ],
      "metadata": {
        "colab": {
          "base_uri": "https://localhost:8080/"
        },
        "id": "k0Z0-rmPKRAj",
        "outputId": "73788e10-65fe-4c5d-f0fd-b06cfb383f46"
      },
      "execution_count": null,
      "outputs": [
        {
          "output_type": "stream",
          "name": "stdout",
          "text": [
            "Rows: 173\n",
            "Columns: 22\n",
            "$ rank                        \u001b[3m\u001b[90m<int>\u001b[39m\u001b[23m 1, 2, 3, 4, 5, 6, 7, 8, 9, 10, 11, 12, 13,…\n",
            "$ major_code                  \u001b[3m\u001b[90m<int>\u001b[39m\u001b[23m 2419, 2416, 2415, 2417, 2405, 2418, 6202, …\n",
            "$ major                       \u001b[3m\u001b[90m<chr>\u001b[39m\u001b[23m \"Petroleum Engineering\", \"Mining And Miner…\n",
            "$ major_category              \u001b[3m\u001b[90m<chr>\u001b[39m\u001b[23m \"Engineering\", \"Engineering\", \"Engineering…\n",
            "$ total                       \u001b[3m\u001b[90m<int>\u001b[39m\u001b[23m 2339, 756, 856, 1258, 32260, 2573, 3777, 1…\n",
            "$ sample_size                 \u001b[3m\u001b[90m<int>\u001b[39m\u001b[23m 36, 7, 3, 16, 289, 17, 51, 10, 1029, 631, …\n",
            "$ men                         \u001b[3m\u001b[90m<int>\u001b[39m\u001b[23m 2057, 679, 725, 1123, 21239, 2200, 2110, 8…\n",
            "$ women                       \u001b[3m\u001b[90m<int>\u001b[39m\u001b[23m 282, 77, 131, 135, 11021, 373, 1667, 960, …\n",
            "$ sharewomen                  \u001b[3m\u001b[90m<dbl>\u001b[39m\u001b[23m 0.1205643, 0.1018519, 0.1530374, 0.1073132…\n",
            "$ employed                    \u001b[3m\u001b[90m<int>\u001b[39m\u001b[23m 1976, 640, 648, 758, 25694, 1857, 2912, 15…\n",
            "$ employed_fulltime           \u001b[3m\u001b[90m<int>\u001b[39m\u001b[23m 1849, 556, 558, 1069, 23170, 2038, 2924, 1…\n",
            "$ employed_parttime           \u001b[3m\u001b[90m<int>\u001b[39m\u001b[23m 270, 170, 133, 150, 5180, 264, 296, 553, 1…\n",
            "$ employed_fulltime_yearround \u001b[3m\u001b[90m<int>\u001b[39m\u001b[23m 1207, 388, 340, 692, 16697, 1449, 2482, 82…\n",
            "$ unemployed                  \u001b[3m\u001b[90m<int>\u001b[39m\u001b[23m 37, 85, 16, 40, 1672, 400, 308, 33, 4650, …\n",
            "$ unemployment_rate           \u001b[3m\u001b[90m<dbl>\u001b[39m\u001b[23m 0.018380527, 0.117241379, 0.024096386, 0.0…\n",
            "$ p25th                       \u001b[3m\u001b[90m<dbl>\u001b[39m\u001b[23m 95000, 55000, 50000, 43000, 50000, 50000, …\n",
            "$ median                      \u001b[3m\u001b[90m<dbl>\u001b[39m\u001b[23m 110000, 75000, 73000, 70000, 65000, 65000,…\n",
            "$ p75th                       \u001b[3m\u001b[90m<dbl>\u001b[39m\u001b[23m 125000, 90000, 105000, 80000, 75000, 10200…\n",
            "$ college_jobs                \u001b[3m\u001b[90m<int>\u001b[39m\u001b[23m 1534, 350, 456, 529, 18314, 1142, 1768, 97…\n",
            "$ non_college_jobs            \u001b[3m\u001b[90m<int>\u001b[39m\u001b[23m 364, 257, 176, 102, 4440, 657, 314, 500, 1…\n",
            "$ low_wage_jobs               \u001b[3m\u001b[90m<int>\u001b[39m\u001b[23m 193, 50, 0, 0, 972, 244, 259, 220, 3253, 3…\n",
            "$ major_type                  \u001b[3m\u001b[90m<chr>\u001b[39m\u001b[23m \"stem\", \"stem\", \"stem\", \"stem\", \"stem\", \"s…\n"
          ]
        }
      ]
    },
    {
      "cell_type": "code",
      "source": [
        "head(college_recent_grads)"
      ],
      "metadata": {
        "id": "jPrKm01XXzWa",
        "colab": {
          "base_uri": "https://localhost:8080/",
          "height": 462
        },
        "outputId": "9ab3dc59-651d-4972-b885-611985482302"
      },
      "execution_count": null,
      "outputs": [
        {
          "output_type": "display_data",
          "data": {
            "text/html": [
              "<table class=\"dataframe\">\n",
              "<caption>A tibble: 6 × 22</caption>\n",
              "<thead>\n",
              "\t<tr><th scope=col>rank</th><th scope=col>major_code</th><th scope=col>major</th><th scope=col>major_category</th><th scope=col>total</th><th scope=col>sample_size</th><th scope=col>men</th><th scope=col>women</th><th scope=col>sharewomen</th><th scope=col>employed</th><th scope=col>⋯</th><th scope=col>employed_fulltime_yearround</th><th scope=col>unemployed</th><th scope=col>unemployment_rate</th><th scope=col>p25th</th><th scope=col>median</th><th scope=col>p75th</th><th scope=col>college_jobs</th><th scope=col>non_college_jobs</th><th scope=col>low_wage_jobs</th><th scope=col>major_type</th></tr>\n",
              "\t<tr><th scope=col>&lt;int&gt;</th><th scope=col>&lt;int&gt;</th><th scope=col>&lt;chr&gt;</th><th scope=col>&lt;chr&gt;</th><th scope=col>&lt;int&gt;</th><th scope=col>&lt;int&gt;</th><th scope=col>&lt;int&gt;</th><th scope=col>&lt;int&gt;</th><th scope=col>&lt;dbl&gt;</th><th scope=col>&lt;int&gt;</th><th scope=col>⋯</th><th scope=col>&lt;int&gt;</th><th scope=col>&lt;int&gt;</th><th scope=col>&lt;dbl&gt;</th><th scope=col>&lt;dbl&gt;</th><th scope=col>&lt;dbl&gt;</th><th scope=col>&lt;dbl&gt;</th><th scope=col>&lt;int&gt;</th><th scope=col>&lt;int&gt;</th><th scope=col>&lt;int&gt;</th><th scope=col>&lt;chr&gt;</th></tr>\n",
              "</thead>\n",
              "<tbody>\n",
              "\t<tr><td>1</td><td>2419</td><td>Petroleum Engineering                    </td><td>Engineering</td><td> 2339</td><td> 36</td><td> 2057</td><td>  282</td><td>0.1205643</td><td> 1976</td><td>⋯</td><td> 1207</td><td>  37</td><td>0.01838053</td><td>95000</td><td>110000</td><td>125000</td><td> 1534</td><td> 364</td><td>193</td><td>stem</td></tr>\n",
              "\t<tr><td>2</td><td>2416</td><td>Mining And Mineral Engineering           </td><td>Engineering</td><td>  756</td><td>  7</td><td>  679</td><td>   77</td><td>0.1018519</td><td>  640</td><td>⋯</td><td>  388</td><td>  85</td><td>0.11724138</td><td>55000</td><td> 75000</td><td> 90000</td><td>  350</td><td> 257</td><td> 50</td><td>stem</td></tr>\n",
              "\t<tr><td>3</td><td>2415</td><td>Metallurgical Engineering                </td><td>Engineering</td><td>  856</td><td>  3</td><td>  725</td><td>  131</td><td>0.1530374</td><td>  648</td><td>⋯</td><td>  340</td><td>  16</td><td>0.02409639</td><td>50000</td><td> 73000</td><td>105000</td><td>  456</td><td> 176</td><td>  0</td><td>stem</td></tr>\n",
              "\t<tr><td>4</td><td>2417</td><td>Naval Architecture And Marine Engineering</td><td>Engineering</td><td> 1258</td><td> 16</td><td> 1123</td><td>  135</td><td>0.1073132</td><td>  758</td><td>⋯</td><td>  692</td><td>  40</td><td>0.05012531</td><td>43000</td><td> 70000</td><td> 80000</td><td>  529</td><td> 102</td><td>  0</td><td>stem</td></tr>\n",
              "\t<tr><td>5</td><td>2405</td><td>Chemical Engineering                     </td><td>Engineering</td><td>32260</td><td>289</td><td>21239</td><td>11021</td><td>0.3416305</td><td>25694</td><td>⋯</td><td>16697</td><td>1672</td><td>0.06109771</td><td>50000</td><td> 65000</td><td> 75000</td><td>18314</td><td>4440</td><td>972</td><td>stem</td></tr>\n",
              "\t<tr><td>6</td><td>2418</td><td>Nuclear Engineering                      </td><td>Engineering</td><td> 2573</td><td> 17</td><td> 2200</td><td>  373</td><td>0.1449670</td><td> 1857</td><td>⋯</td><td> 1449</td><td> 400</td><td>0.17722641</td><td>50000</td><td> 65000</td><td>102000</td><td> 1142</td><td> 657</td><td>244</td><td>stem</td></tr>\n",
              "</tbody>\n",
              "</table>\n"
            ],
            "text/markdown": "\nA tibble: 6 × 22\n\n| rank &lt;int&gt; | major_code &lt;int&gt; | major &lt;chr&gt; | major_category &lt;chr&gt; | total &lt;int&gt; | sample_size &lt;int&gt; | men &lt;int&gt; | women &lt;int&gt; | sharewomen &lt;dbl&gt; | employed &lt;int&gt; | ⋯ ⋯ | employed_fulltime_yearround &lt;int&gt; | unemployed &lt;int&gt; | unemployment_rate &lt;dbl&gt; | p25th &lt;dbl&gt; | median &lt;dbl&gt; | p75th &lt;dbl&gt; | college_jobs &lt;int&gt; | non_college_jobs &lt;int&gt; | low_wage_jobs &lt;int&gt; | major_type &lt;chr&gt; |\n|---|---|---|---|---|---|---|---|---|---|---|---|---|---|---|---|---|---|---|---|---|\n| 1 | 2419 | Petroleum Engineering                     | Engineering |  2339 |  36 |  2057 |   282 | 0.1205643 |  1976 | ⋯ |  1207 |   37 | 0.01838053 | 95000 | 110000 | 125000 |  1534 |  364 | 193 | stem |\n| 2 | 2416 | Mining And Mineral Engineering            | Engineering |   756 |   7 |   679 |    77 | 0.1018519 |   640 | ⋯ |   388 |   85 | 0.11724138 | 55000 |  75000 |  90000 |   350 |  257 |  50 | stem |\n| 3 | 2415 | Metallurgical Engineering                 | Engineering |   856 |   3 |   725 |   131 | 0.1530374 |   648 | ⋯ |   340 |   16 | 0.02409639 | 50000 |  73000 | 105000 |   456 |  176 |   0 | stem |\n| 4 | 2417 | Naval Architecture And Marine Engineering | Engineering |  1258 |  16 |  1123 |   135 | 0.1073132 |   758 | ⋯ |   692 |   40 | 0.05012531 | 43000 |  70000 |  80000 |   529 |  102 |   0 | stem |\n| 5 | 2405 | Chemical Engineering                      | Engineering | 32260 | 289 | 21239 | 11021 | 0.3416305 | 25694 | ⋯ | 16697 | 1672 | 0.06109771 | 50000 |  65000 |  75000 | 18314 | 4440 | 972 | stem |\n| 6 | 2418 | Nuclear Engineering                       | Engineering |  2573 |  17 |  2200 |   373 | 0.1449670 |  1857 | ⋯ |  1449 |  400 | 0.17722641 | 50000 |  65000 | 102000 |  1142 |  657 | 244 | stem |\n\n",
            "text/latex": "A tibble: 6 × 22\n\\begin{tabular}{lllllllllllllllllllll}\n rank & major\\_code & major & major\\_category & total & sample\\_size & men & women & sharewomen & employed & ⋯ & employed\\_fulltime\\_yearround & unemployed & unemployment\\_rate & p25th & median & p75th & college\\_jobs & non\\_college\\_jobs & low\\_wage\\_jobs & major\\_type\\\\\n <int> & <int> & <chr> & <chr> & <int> & <int> & <int> & <int> & <dbl> & <int> & ⋯ & <int> & <int> & <dbl> & <dbl> & <dbl> & <dbl> & <int> & <int> & <int> & <chr>\\\\\n\\hline\n\t 1 & 2419 & Petroleum Engineering                     & Engineering &  2339 &  36 &  2057 &   282 & 0.1205643 &  1976 & ⋯ &  1207 &   37 & 0.01838053 & 95000 & 110000 & 125000 &  1534 &  364 & 193 & stem\\\\\n\t 2 & 2416 & Mining And Mineral Engineering            & Engineering &   756 &   7 &   679 &    77 & 0.1018519 &   640 & ⋯ &   388 &   85 & 0.11724138 & 55000 &  75000 &  90000 &   350 &  257 &  50 & stem\\\\\n\t 3 & 2415 & Metallurgical Engineering                 & Engineering &   856 &   3 &   725 &   131 & 0.1530374 &   648 & ⋯ &   340 &   16 & 0.02409639 & 50000 &  73000 & 105000 &   456 &  176 &   0 & stem\\\\\n\t 4 & 2417 & Naval Architecture And Marine Engineering & Engineering &  1258 &  16 &  1123 &   135 & 0.1073132 &   758 & ⋯ &   692 &   40 & 0.05012531 & 43000 &  70000 &  80000 &   529 &  102 &   0 & stem\\\\\n\t 5 & 2405 & Chemical Engineering                      & Engineering & 32260 & 289 & 21239 & 11021 & 0.3416305 & 25694 & ⋯ & 16697 & 1672 & 0.06109771 & 50000 &  65000 &  75000 & 18314 & 4440 & 972 & stem\\\\\n\t 6 & 2418 & Nuclear Engineering                       & Engineering &  2573 &  17 &  2200 &   373 & 0.1449670 &  1857 & ⋯ &  1449 &  400 & 0.17722641 & 50000 &  65000 & 102000 &  1142 &  657 & 244 & stem\\\\\n\\end{tabular}\n",
            "text/plain": [
              "  rank major_code major                                     major_category\n",
              "1 1    2419       Petroleum Engineering                     Engineering   \n",
              "2 2    2416       Mining And Mineral Engineering            Engineering   \n",
              "3 3    2415       Metallurgical Engineering                 Engineering   \n",
              "4 4    2417       Naval Architecture And Marine Engineering Engineering   \n",
              "5 5    2405       Chemical Engineering                      Engineering   \n",
              "6 6    2418       Nuclear Engineering                       Engineering   \n",
              "  total sample_size men   women sharewomen employed ⋯\n",
              "1  2339  36          2057   282 0.1205643   1976    ⋯\n",
              "2   756   7           679    77 0.1018519    640    ⋯\n",
              "3   856   3           725   131 0.1530374    648    ⋯\n",
              "4  1258  16          1123   135 0.1073132    758    ⋯\n",
              "5 32260 289         21239 11021 0.3416305  25694    ⋯\n",
              "6  2573  17          2200   373 0.1449670   1857    ⋯\n",
              "  employed_fulltime_yearround unemployed unemployment_rate p25th median p75th \n",
              "1  1207                         37       0.01838053        95000 110000 125000\n",
              "2   388                         85       0.11724138        55000  75000  90000\n",
              "3   340                         16       0.02409639        50000  73000 105000\n",
              "4   692                         40       0.05012531        43000  70000  80000\n",
              "5 16697                       1672       0.06109771        50000  65000  75000\n",
              "6  1449                        400       0.17722641        50000  65000 102000\n",
              "  college_jobs non_college_jobs low_wage_jobs major_type\n",
              "1  1534         364             193           stem      \n",
              "2   350         257              50           stem      \n",
              "3   456         176               0           stem      \n",
              "4   529         102               0           stem      \n",
              "5 18314        4440             972           stem      \n",
              "6  1142         657             244           stem      "
            ]
          },
          "metadata": {}
        }
      ]
    },
    {
      "cell_type": "markdown",
      "source": [
        "##KEY QUESTIONS TO ANSWER: \n",
        "\n",
        "Which major has the lowest unemployment rate? <br> \n",
        "Which major has the highest percentage of women <br> \n",
        "How do the distributions of median income compare across major categories? <br> \n",
        "Do women tend to choose majors with lower or higher earnings? \n",
        "\n"
      ],
      "metadata": {
        "id": "eRAH2DrMKsjm"
      }
    },
    {
      "cell_type": "code",
      "source": [
        "##CODE FOR QUESTION 1 \n",
        "\n",
        "college_recent_grads %>% \n",
        "  arrange(unemployment_rate) %>% \n",
        "  select(rank, major, unemployment_rate) %>%\n",
        "  mutate(unemployment_rate = percent(unemployment_rate))\n",
        "  "
      ],
      "metadata": {
        "colab": {
          "base_uri": "https://localhost:8080/",
          "height": 1000
        },
        "id": "feEm-LO7LRPi",
        "outputId": "e9de3428-da54-424e-cb0b-ae5e24e0196d"
      },
      "execution_count": null,
      "outputs": [
        {
          "output_type": "display_data",
          "data": {
            "text/html": [
              "<table class=\"dataframe\">\n",
              "<caption>A tibble: 173 × 3</caption>\n",
              "<thead>\n",
              "\t<tr><th scope=col>rank</th><th scope=col>major</th><th scope=col>unemployment_rate</th></tr>\n",
              "\t<tr><th scope=col>&lt;int&gt;</th><th scope=col>&lt;chr&gt;</th><th scope=col>&lt;chr&gt;</th></tr>\n",
              "</thead>\n",
              "<tbody>\n",
              "\t<tr><td> 53</td><td>Mathematics And Computer Science                                 </td><td>0.00000%</td></tr>\n",
              "\t<tr><td> 74</td><td>Military Technologies                                            </td><td>0.00000%</td></tr>\n",
              "\t<tr><td> 84</td><td>Botany                                                           </td><td>0.00000%</td></tr>\n",
              "\t<tr><td>113</td><td>Soil Science                                                     </td><td>0.00000%</td></tr>\n",
              "\t<tr><td>121</td><td>Educational Administration And Supervision                       </td><td>0.00000%</td></tr>\n",
              "\t<tr><td> 15</td><td>Engineering Mechanics Physics And Science                        </td><td>0.63343%</td></tr>\n",
              "\t<tr><td> 20</td><td>Court Reporting                                                  </td><td>1.16897%</td></tr>\n",
              "\t<tr><td>120</td><td>Mathematics Teacher Education                                    </td><td>1.62028%</td></tr>\n",
              "\t<tr><td>  1</td><td>Petroleum Engineering                                            </td><td>1.83805%</td></tr>\n",
              "\t<tr><td> 65</td><td>General Agriculture                                              </td><td>1.96425%</td></tr>\n",
              "\t<tr><td>  8</td><td>Astronomy And Astrophysics                                       </td><td>2.11674%</td></tr>\n",
              "\t<tr><td>111</td><td>Atmospheric Sciences And Meteorology                             </td><td>2.22286%</td></tr>\n",
              "\t<tr><td> 14</td><td>Materials Science                                                </td><td>2.30428%</td></tr>\n",
              "\t<tr><td>  3</td><td>Metallurgical Engineering                                        </td><td>2.40964%</td></tr>\n",
              "\t<tr><td> 91</td><td>Geosciences                                                      </td><td>2.43737%</td></tr>\n",
              "\t<tr><td> 24</td><td>Materials Engineering And Materials Science                      </td><td>2.77888%</td></tr>\n",
              "\t<tr><td> 39</td><td>Industrial Production Technologies                               </td><td>2.83081%</td></tr>\n",
              "\t<tr><td> 76</td><td>Electrical, Mechanical, And Precision Technologies And Production</td><td>2.94795%</td></tr>\n",
              "\t<tr><td> 92</td><td>Social Psychology                                                </td><td>2.96496%</td></tr>\n",
              "\t<tr><td> 51</td><td>Engineering And Industrial Management                            </td><td>3.36517%</td></tr>\n",
              "\t<tr><td> 68</td><td>Genetics                                                         </td><td>3.41176%</td></tr>\n",
              "\t<tr><td> 73</td><td>Physical Sciences                                                </td><td>3.53535%</td></tr>\n",
              "\t<tr><td>155</td><td>Teacher Education: Multiple Levels                               </td><td>3.65458%</td></tr>\n",
              "\t<tr><td> 45</td><td>Medical Technologies Technicians                                 </td><td>3.69828%</td></tr>\n",
              "\t<tr><td>157</td><td>Human Services And Community Organization                        </td><td>3.78190%</td></tr>\n",
              "\t<tr><td>137</td><td>Art And Music Education                                          </td><td>3.86377%</td></tr>\n",
              "\t<tr><td>165</td><td>Early Childhood Education                                        </td><td>4.01050%</td></tr>\n",
              "\t<tr><td>101</td><td>Special Needs Education                                          </td><td>4.15078%</td></tr>\n",
              "\t<tr><td> 52</td><td>Medical Assisting Services                                       </td><td>4.25065%</td></tr>\n",
              "\t<tr><td> 17</td><td>Industrial And Manufacturing Engineering                         </td><td>4.28755%</td></tr>\n",
              "\t<tr><td>⋮</td><td>⋮</td><td>⋮</td></tr>\n",
              "\t<tr><td> 60</td><td>International Business                             </td><td>9.61751% </td></tr>\n",
              "\t<tr><td> 38</td><td>Business Economics                                 </td><td>9.64484% </td></tr>\n",
              "\t<tr><td>112</td><td>Forestry                                           </td><td>9.67257% </td></tr>\n",
              "\t<tr><td> 96</td><td>Commercial Art And Graphic Design                  </td><td>9.67976% </td></tr>\n",
              "\t<tr><td> 57</td><td>International Relations                            </td><td>9.67989% </td></tr>\n",
              "\t<tr><td> 22</td><td>Food Science                                       </td><td>9.69315% </td></tr>\n",
              "\t<tr><td>103</td><td>Criminology                                        </td><td>9.72439% </td></tr>\n",
              "\t<tr><td> 37</td><td>Economics                                          </td><td>9.90923% </td></tr>\n",
              "\t<tr><td> 82</td><td>Computer Administration Management And Security    </td><td>9.97234% </td></tr>\n",
              "\t<tr><td> 79</td><td>Political Science And Government                   </td><td>10.11746%</td></tr>\n",
              "\t<tr><td>154</td><td>Visual And Performing Arts                         </td><td>10.21974%</td></tr>\n",
              "\t<tr><td>163</td><td>Anthropology And Archeology                        </td><td>10.27916%</td></tr>\n",
              "\t<tr><td>143</td><td>General Social Sciences                            </td><td>10.34547%</td></tr>\n",
              "\t<tr><td>130</td><td>Linguistics And Comparative Language And Literature</td><td>10.44357%</td></tr>\n",
              "\t<tr><td>173</td><td>Library Science                                    </td><td>10.49457%</td></tr>\n",
              "\t<tr><td>142</td><td>Film Video And Photographic Arts                   </td><td>10.57722%</td></tr>\n",
              "\t<tr><td>166</td><td>Other Foreign Languages                            </td><td>10.71157%</td></tr>\n",
              "\t<tr><td> 56</td><td>School Student Counseling                          </td><td>10.75795%</td></tr>\n",
              "\t<tr><td> 71</td><td>Industrial And Organizational Psychology           </td><td>10.87866%</td></tr>\n",
              "\t<tr><td>119</td><td>Community And Public Health                        </td><td>11.21444%</td></tr>\n",
              "\t<tr><td> 59</td><td>Architecture                                       </td><td>11.33319%</td></tr>\n",
              "\t<tr><td> 80</td><td>Geography                                          </td><td>11.34586%</td></tr>\n",
              "\t<tr><td> 54</td><td>Computer Programming And Data Processing           </td><td>11.39826%</td></tr>\n",
              "\t<tr><td>  2</td><td>Mining And Mineral Engineering                     </td><td>11.72414%</td></tr>\n",
              "\t<tr><td>106</td><td>Communication Technologies                         </td><td>11.95115%</td></tr>\n",
              "\t<tr><td> 30</td><td>Public Policy                                      </td><td>12.84263%</td></tr>\n",
              "\t<tr><td>171</td><td>Clinical Psychology                                </td><td>14.90482%</td></tr>\n",
              "\t<tr><td> 85</td><td>Computer Networking And Telecommunications         </td><td>15.18498%</td></tr>\n",
              "\t<tr><td> 90</td><td>Public Administration                              </td><td>15.94906%</td></tr>\n",
              "\t<tr><td>  6</td><td>Nuclear Engineering                                </td><td>17.72264%</td></tr>\n",
              "</tbody>\n",
              "</table>\n"
            ],
            "text/markdown": "\nA tibble: 173 × 3\n\n| rank &lt;int&gt; | major &lt;chr&gt; | unemployment_rate &lt;chr&gt; |\n|---|---|---|\n|  53 | Mathematics And Computer Science                                  | 0.00000% |\n|  74 | Military Technologies                                             | 0.00000% |\n|  84 | Botany                                                            | 0.00000% |\n| 113 | Soil Science                                                      | 0.00000% |\n| 121 | Educational Administration And Supervision                        | 0.00000% |\n|  15 | Engineering Mechanics Physics And Science                         | 0.63343% |\n|  20 | Court Reporting                                                   | 1.16897% |\n| 120 | Mathematics Teacher Education                                     | 1.62028% |\n|   1 | Petroleum Engineering                                             | 1.83805% |\n|  65 | General Agriculture                                               | 1.96425% |\n|   8 | Astronomy And Astrophysics                                        | 2.11674% |\n| 111 | Atmospheric Sciences And Meteorology                              | 2.22286% |\n|  14 | Materials Science                                                 | 2.30428% |\n|   3 | Metallurgical Engineering                                         | 2.40964% |\n|  91 | Geosciences                                                       | 2.43737% |\n|  24 | Materials Engineering And Materials Science                       | 2.77888% |\n|  39 | Industrial Production Technologies                                | 2.83081% |\n|  76 | Electrical, Mechanical, And Precision Technologies And Production | 2.94795% |\n|  92 | Social Psychology                                                 | 2.96496% |\n|  51 | Engineering And Industrial Management                             | 3.36517% |\n|  68 | Genetics                                                          | 3.41176% |\n|  73 | Physical Sciences                                                 | 3.53535% |\n| 155 | Teacher Education: Multiple Levels                                | 3.65458% |\n|  45 | Medical Technologies Technicians                                  | 3.69828% |\n| 157 | Human Services And Community Organization                         | 3.78190% |\n| 137 | Art And Music Education                                           | 3.86377% |\n| 165 | Early Childhood Education                                         | 4.01050% |\n| 101 | Special Needs Education                                           | 4.15078% |\n|  52 | Medical Assisting Services                                        | 4.25065% |\n|  17 | Industrial And Manufacturing Engineering                          | 4.28755% |\n| ⋮ | ⋮ | ⋮ |\n|  60 | International Business                              | 9.61751%  |\n|  38 | Business Economics                                  | 9.64484%  |\n| 112 | Forestry                                            | 9.67257%  |\n|  96 | Commercial Art And Graphic Design                   | 9.67976%  |\n|  57 | International Relations                             | 9.67989%  |\n|  22 | Food Science                                        | 9.69315%  |\n| 103 | Criminology                                         | 9.72439%  |\n|  37 | Economics                                           | 9.90923%  |\n|  82 | Computer Administration Management And Security     | 9.97234%  |\n|  79 | Political Science And Government                    | 10.11746% |\n| 154 | Visual And Performing Arts                          | 10.21974% |\n| 163 | Anthropology And Archeology                         | 10.27916% |\n| 143 | General Social Sciences                             | 10.34547% |\n| 130 | Linguistics And Comparative Language And Literature | 10.44357% |\n| 173 | Library Science                                     | 10.49457% |\n| 142 | Film Video And Photographic Arts                    | 10.57722% |\n| 166 | Other Foreign Languages                             | 10.71157% |\n|  56 | School Student Counseling                           | 10.75795% |\n|  71 | Industrial And Organizational Psychology            | 10.87866% |\n| 119 | Community And Public Health                         | 11.21444% |\n|  59 | Architecture                                        | 11.33319% |\n|  80 | Geography                                           | 11.34586% |\n|  54 | Computer Programming And Data Processing            | 11.39826% |\n|   2 | Mining And Mineral Engineering                      | 11.72414% |\n| 106 | Communication Technologies                          | 11.95115% |\n|  30 | Public Policy                                       | 12.84263% |\n| 171 | Clinical Psychology                                 | 14.90482% |\n|  85 | Computer Networking And Telecommunications          | 15.18498% |\n|  90 | Public Administration                               | 15.94906% |\n|   6 | Nuclear Engineering                                 | 17.72264% |\n\n",
            "text/latex": "A tibble: 173 × 3\n\\begin{tabular}{lll}\n rank & major & unemployment\\_rate\\\\\n <int> & <chr> & <chr>\\\\\n\\hline\n\t  53 & Mathematics And Computer Science                                  & 0.00000\\%\\\\\n\t  74 & Military Technologies                                             & 0.00000\\%\\\\\n\t  84 & Botany                                                            & 0.00000\\%\\\\\n\t 113 & Soil Science                                                      & 0.00000\\%\\\\\n\t 121 & Educational Administration And Supervision                        & 0.00000\\%\\\\\n\t  15 & Engineering Mechanics Physics And Science                         & 0.63343\\%\\\\\n\t  20 & Court Reporting                                                   & 1.16897\\%\\\\\n\t 120 & Mathematics Teacher Education                                     & 1.62028\\%\\\\\n\t   1 & Petroleum Engineering                                             & 1.83805\\%\\\\\n\t  65 & General Agriculture                                               & 1.96425\\%\\\\\n\t   8 & Astronomy And Astrophysics                                        & 2.11674\\%\\\\\n\t 111 & Atmospheric Sciences And Meteorology                              & 2.22286\\%\\\\\n\t  14 & Materials Science                                                 & 2.30428\\%\\\\\n\t   3 & Metallurgical Engineering                                         & 2.40964\\%\\\\\n\t  91 & Geosciences                                                       & 2.43737\\%\\\\\n\t  24 & Materials Engineering And Materials Science                       & 2.77888\\%\\\\\n\t  39 & Industrial Production Technologies                                & 2.83081\\%\\\\\n\t  76 & Electrical, Mechanical, And Precision Technologies And Production & 2.94795\\%\\\\\n\t  92 & Social Psychology                                                 & 2.96496\\%\\\\\n\t  51 & Engineering And Industrial Management                             & 3.36517\\%\\\\\n\t  68 & Genetics                                                          & 3.41176\\%\\\\\n\t  73 & Physical Sciences                                                 & 3.53535\\%\\\\\n\t 155 & Teacher Education: Multiple Levels                                & 3.65458\\%\\\\\n\t  45 & Medical Technologies Technicians                                  & 3.69828\\%\\\\\n\t 157 & Human Services And Community Organization                         & 3.78190\\%\\\\\n\t 137 & Art And Music Education                                           & 3.86377\\%\\\\\n\t 165 & Early Childhood Education                                         & 4.01050\\%\\\\\n\t 101 & Special Needs Education                                           & 4.15078\\%\\\\\n\t  52 & Medical Assisting Services                                        & 4.25065\\%\\\\\n\t  17 & Industrial And Manufacturing Engineering                          & 4.28755\\%\\\\\n\t ⋮ & ⋮ & ⋮\\\\\n\t  60 & International Business                              & 9.61751\\% \\\\\n\t  38 & Business Economics                                  & 9.64484\\% \\\\\n\t 112 & Forestry                                            & 9.67257\\% \\\\\n\t  96 & Commercial Art And Graphic Design                   & 9.67976\\% \\\\\n\t  57 & International Relations                             & 9.67989\\% \\\\\n\t  22 & Food Science                                        & 9.69315\\% \\\\\n\t 103 & Criminology                                         & 9.72439\\% \\\\\n\t  37 & Economics                                           & 9.90923\\% \\\\\n\t  82 & Computer Administration Management And Security     & 9.97234\\% \\\\\n\t  79 & Political Science And Government                    & 10.11746\\%\\\\\n\t 154 & Visual And Performing Arts                          & 10.21974\\%\\\\\n\t 163 & Anthropology And Archeology                         & 10.27916\\%\\\\\n\t 143 & General Social Sciences                             & 10.34547\\%\\\\\n\t 130 & Linguistics And Comparative Language And Literature & 10.44357\\%\\\\\n\t 173 & Library Science                                     & 10.49457\\%\\\\\n\t 142 & Film Video And Photographic Arts                    & 10.57722\\%\\\\\n\t 166 & Other Foreign Languages                             & 10.71157\\%\\\\\n\t  56 & School Student Counseling                           & 10.75795\\%\\\\\n\t  71 & Industrial And Organizational Psychology            & 10.87866\\%\\\\\n\t 119 & Community And Public Health                         & 11.21444\\%\\\\\n\t  59 & Architecture                                        & 11.33319\\%\\\\\n\t  80 & Geography                                           & 11.34586\\%\\\\\n\t  54 & Computer Programming And Data Processing            & 11.39826\\%\\\\\n\t   2 & Mining And Mineral Engineering                      & 11.72414\\%\\\\\n\t 106 & Communication Technologies                          & 11.95115\\%\\\\\n\t  30 & Public Policy                                       & 12.84263\\%\\\\\n\t 171 & Clinical Psychology                                 & 14.90482\\%\\\\\n\t  85 & Computer Networking And Telecommunications          & 15.18498\\%\\\\\n\t  90 & Public Administration                               & 15.94906\\%\\\\\n\t   6 & Nuclear Engineering                                 & 17.72264\\%\\\\\n\\end{tabular}\n",
            "text/plain": [
              "    rank major                                                            \n",
              "1    53  Mathematics And Computer Science                                 \n",
              "2    74  Military Technologies                                            \n",
              "3    84  Botany                                                           \n",
              "4   113  Soil Science                                                     \n",
              "5   121  Educational Administration And Supervision                       \n",
              "6    15  Engineering Mechanics Physics And Science                        \n",
              "7    20  Court Reporting                                                  \n",
              "8   120  Mathematics Teacher Education                                    \n",
              "9     1  Petroleum Engineering                                            \n",
              "10   65  General Agriculture                                              \n",
              "11    8  Astronomy And Astrophysics                                       \n",
              "12  111  Atmospheric Sciences And Meteorology                             \n",
              "13   14  Materials Science                                                \n",
              "14    3  Metallurgical Engineering                                        \n",
              "15   91  Geosciences                                                      \n",
              "16   24  Materials Engineering And Materials Science                      \n",
              "17   39  Industrial Production Technologies                               \n",
              "18   76  Electrical, Mechanical, And Precision Technologies And Production\n",
              "19   92  Social Psychology                                                \n",
              "20   51  Engineering And Industrial Management                            \n",
              "21   68  Genetics                                                         \n",
              "22   73  Physical Sciences                                                \n",
              "23  155  Teacher Education: Multiple Levels                               \n",
              "24   45  Medical Technologies Technicians                                 \n",
              "25  157  Human Services And Community Organization                        \n",
              "26  137  Art And Music Education                                          \n",
              "27  165  Early Childhood Education                                        \n",
              "28  101  Special Needs Education                                          \n",
              "29   52  Medical Assisting Services                                       \n",
              "30   17  Industrial And Manufacturing Engineering                         \n",
              "⋮   ⋮    ⋮                                                                \n",
              "144  60  International Business                                           \n",
              "145  38  Business Economics                                               \n",
              "146 112  Forestry                                                         \n",
              "147  96  Commercial Art And Graphic Design                                \n",
              "148  57  International Relations                                          \n",
              "149  22  Food Science                                                     \n",
              "150 103  Criminology                                                      \n",
              "151  37  Economics                                                        \n",
              "152  82  Computer Administration Management And Security                  \n",
              "153  79  Political Science And Government                                 \n",
              "154 154  Visual And Performing Arts                                       \n",
              "155 163  Anthropology And Archeology                                      \n",
              "156 143  General Social Sciences                                          \n",
              "157 130  Linguistics And Comparative Language And Literature              \n",
              "158 173  Library Science                                                  \n",
              "159 142  Film Video And Photographic Arts                                 \n",
              "160 166  Other Foreign Languages                                          \n",
              "161  56  School Student Counseling                                        \n",
              "162  71  Industrial And Organizational Psychology                         \n",
              "163 119  Community And Public Health                                      \n",
              "164  59  Architecture                                                     \n",
              "165  80  Geography                                                        \n",
              "166  54  Computer Programming And Data Processing                         \n",
              "167   2  Mining And Mineral Engineering                                   \n",
              "168 106  Communication Technologies                                       \n",
              "169  30  Public Policy                                                    \n",
              "170 171  Clinical Psychology                                              \n",
              "171  85  Computer Networking And Telecommunications                       \n",
              "172  90  Public Administration                                            \n",
              "173   6  Nuclear Engineering                                              \n",
              "    unemployment_rate\n",
              "1   0.00000%         \n",
              "2   0.00000%         \n",
              "3   0.00000%         \n",
              "4   0.00000%         \n",
              "5   0.00000%         \n",
              "6   0.63343%         \n",
              "7   1.16897%         \n",
              "8   1.62028%         \n",
              "9   1.83805%         \n",
              "10  1.96425%         \n",
              "11  2.11674%         \n",
              "12  2.22286%         \n",
              "13  2.30428%         \n",
              "14  2.40964%         \n",
              "15  2.43737%         \n",
              "16  2.77888%         \n",
              "17  2.83081%         \n",
              "18  2.94795%         \n",
              "19  2.96496%         \n",
              "20  3.36517%         \n",
              "21  3.41176%         \n",
              "22  3.53535%         \n",
              "23  3.65458%         \n",
              "24  3.69828%         \n",
              "25  3.78190%         \n",
              "26  3.86377%         \n",
              "27  4.01050%         \n",
              "28  4.15078%         \n",
              "29  4.25065%         \n",
              "30  4.28755%         \n",
              "⋮   ⋮                \n",
              "144 9.61751%         \n",
              "145 9.64484%         \n",
              "146 9.67257%         \n",
              "147 9.67976%         \n",
              "148 9.67989%         \n",
              "149 9.69315%         \n",
              "150 9.72439%         \n",
              "151 9.90923%         \n",
              "152 9.97234%         \n",
              "153 10.11746%        \n",
              "154 10.21974%        \n",
              "155 10.27916%        \n",
              "156 10.34547%        \n",
              "157 10.44357%        \n",
              "158 10.49457%        \n",
              "159 10.57722%        \n",
              "160 10.71157%        \n",
              "161 10.75795%        \n",
              "162 10.87866%        \n",
              "163 11.21444%        \n",
              "164 11.33319%        \n",
              "165 11.34586%        \n",
              "166 11.39826%        \n",
              "167 11.72414%        \n",
              "168 11.95115%        \n",
              "169 12.84263%        \n",
              "170 14.90482%        \n",
              "171 15.18498%        \n",
              "172 15.94906%        \n",
              "173 17.72264%        "
            ]
          },
          "metadata": {}
        }
      ]
    },
    {
      "cell_type": "markdown",
      "source": [
        "##Which major has the lowest unemployment rate?\n",
        "The major with the lowest unemployment rate is a tie between Mathematics and Computer Science, Military Technologies, Botany, Soil Science, and Educational Administration and Supervision."
      ],
      "metadata": {
        "id": "0aoYJxy3Nw2o"
      }
    },
    {
      "cell_type": "code",
      "source": [
        "##code for question 2 (labelled as number \"1.\"): \n",
        "\n",
        "college_recent_grads %>% \n",
        "  arrange(desc(sharewomen)) %>% \n",
        "  select(major, total, sharewomen) %>% \n",
        "  top_n(3)"
      ],
      "metadata": {
        "colab": {
          "base_uri": "https://localhost:8080/",
          "height": 210
        },
        "id": "gq24RQWwMV1u",
        "outputId": "fd168fa1-35c4-4a96-a9f4-517765700563"
      },
      "execution_count": null,
      "outputs": [
        {
          "output_type": "stream",
          "name": "stderr",
          "text": [
            "\u001b[1m\u001b[22mSelecting by sharewomen\n"
          ]
        },
        {
          "output_type": "display_data",
          "data": {
            "text/html": [
              "<table class=\"dataframe\">\n",
              "<caption>A tibble: 3 × 3</caption>\n",
              "<thead>\n",
              "\t<tr><th scope=col>major</th><th scope=col>total</th><th scope=col>sharewomen</th></tr>\n",
              "\t<tr><th scope=col>&lt;chr&gt;</th><th scope=col>&lt;int&gt;</th><th scope=col>&lt;dbl&gt;</th></tr>\n",
              "</thead>\n",
              "<tbody>\n",
              "\t<tr><td>Early Childhood Education                    </td><td>37589</td><td>0.9689537</td></tr>\n",
              "\t<tr><td>Communication Disorders Sciences And Services</td><td>38279</td><td>0.9679981</td></tr>\n",
              "\t<tr><td>Medical Assisting Services                   </td><td>11123</td><td>0.9278072</td></tr>\n",
              "</tbody>\n",
              "</table>\n"
            ],
            "text/markdown": "\nA tibble: 3 × 3\n\n| major &lt;chr&gt; | total &lt;int&gt; | sharewomen &lt;dbl&gt; |\n|---|---|---|\n| Early Childhood Education                     | 37589 | 0.9689537 |\n| Communication Disorders Sciences And Services | 38279 | 0.9679981 |\n| Medical Assisting Services                    | 11123 | 0.9278072 |\n\n",
            "text/latex": "A tibble: 3 × 3\n\\begin{tabular}{lll}\n major & total & sharewomen\\\\\n <chr> & <int> & <dbl>\\\\\n\\hline\n\t Early Childhood Education                     & 37589 & 0.9689537\\\\\n\t Communication Disorders Sciences And Services & 38279 & 0.9679981\\\\\n\t Medical Assisting Services                    & 11123 & 0.9278072\\\\\n\\end{tabular}\n",
            "text/plain": [
              "  major                                         total sharewomen\n",
              "1 Early Childhood Education                     37589 0.9689537 \n",
              "2 Communication Disorders Sciences And Services 38279 0.9679981 \n",
              "3 Medical Assisting Services                    11123 0.9278072 "
            ]
          },
          "metadata": {}
        }
      ]
    },
    {
      "cell_type": "markdown",
      "source": [
        "## \"1.\" Which major has the highest percentage of women?\n",
        "\n",
        "The top majors for women in terms of the percentage of graduates in the major are, as given by\n",
        "\n",
        "```\n",
        "college_recent_grads %>% \n",
        "  arrange(desc(sharewomen)) %>% \n",
        "  select(major, total, sharewomen) %>% \n",
        "  top_n(3)\n",
        "``` \n",
        "\n",
        "Early Childhood Education, Communication Disorders Sciences and Services, and Medical Assisting Services. \n",
        "\n"
      ],
      "metadata": {
        "id": "XjcCR8OIQDdZ"
      }
    },
    {
      "cell_type": "markdown",
      "source": [
        "##ANSWER TO QUESTION 2 \n",
        "\n",
        "The reason people use median income for a group of people instead of the mean is to avoid outliers that skew the data set. For example, you could have a communications major who comes from a very wealthy family and got a job at their family's financial firm as an executive, thereby increasing their income drastically over what it would have been outherwise. This person then represents an outlier that would be accounted for by the mean calculation but unaccounted for when working with them median. The mean would thus not be representative of the effect of the major choice on income, unlike the median."
      ],
      "metadata": {
        "id": "ZLU6hOcmQ2Rd"
      }
    },
    {
      "cell_type": "code",
      "source": [
        "college_recent_grads %>% \n",
        "  count(major) %>%\n",
        "  summarize(major_number = sum(n))  \n",
        "\n",
        "college_recent_grads %>%\n",
        "  select(major, median) %>% \n",
        "  group_by(major)\n",
        "\n",
        "#there are 173 different majors so count below represents the number of majors \n",
        "#or rows at the same median income level\n",
        "\n",
        "\n",
        "ggplot(data = college_recent_grads, mapping = aes(x=median)) + \n",
        "  geom_histogram(binwidth = 5000) \n"
      ],
      "metadata": {
        "colab": {
          "base_uri": "https://localhost:8080/",
          "height": 1000
        },
        "id": "tKrhGzGXRZzo",
        "outputId": "1964f59d-eef6-439e-dc1c-a3fefe1fa33c"
      },
      "execution_count": null,
      "outputs": [
        {
          "output_type": "display_data",
          "data": {
            "text/html": [
              "<table class=\"dataframe\">\n",
              "<caption>A tibble: 1 × 1</caption>\n",
              "<thead>\n",
              "\t<tr><th scope=col>major_number</th></tr>\n",
              "\t<tr><th scope=col>&lt;int&gt;</th></tr>\n",
              "</thead>\n",
              "<tbody>\n",
              "\t<tr><td>173</td></tr>\n",
              "</tbody>\n",
              "</table>\n"
            ],
            "text/markdown": "\nA tibble: 1 × 1\n\n| major_number &lt;int&gt; |\n|---|\n| 173 |\n\n",
            "text/latex": "A tibble: 1 × 1\n\\begin{tabular}{l}\n major\\_number\\\\\n <int>\\\\\n\\hline\n\t 173\\\\\n\\end{tabular}\n",
            "text/plain": [
              "  major_number\n",
              "1 173         "
            ]
          },
          "metadata": {}
        },
        {
          "output_type": "display_data",
          "data": {
            "text/html": [
              "<table class=\"dataframe\">\n",
              "<caption>A grouped_df: 173 × 2</caption>\n",
              "<thead>\n",
              "\t<tr><th scope=col>major</th><th scope=col>median</th></tr>\n",
              "\t<tr><th scope=col>&lt;chr&gt;</th><th scope=col>&lt;dbl&gt;</th></tr>\n",
              "</thead>\n",
              "<tbody>\n",
              "\t<tr><td>Petroleum Engineering                        </td><td>110000</td></tr>\n",
              "\t<tr><td>Mining And Mineral Engineering               </td><td> 75000</td></tr>\n",
              "\t<tr><td>Metallurgical Engineering                    </td><td> 73000</td></tr>\n",
              "\t<tr><td>Naval Architecture And Marine Engineering    </td><td> 70000</td></tr>\n",
              "\t<tr><td>Chemical Engineering                         </td><td> 65000</td></tr>\n",
              "\t<tr><td>Nuclear Engineering                          </td><td> 65000</td></tr>\n",
              "\t<tr><td>Actuarial Science                            </td><td> 62000</td></tr>\n",
              "\t<tr><td>Astronomy And Astrophysics                   </td><td> 62000</td></tr>\n",
              "\t<tr><td>Mechanical Engineering                       </td><td> 60000</td></tr>\n",
              "\t<tr><td>Electrical Engineering                       </td><td> 60000</td></tr>\n",
              "\t<tr><td>Computer Engineering                         </td><td> 60000</td></tr>\n",
              "\t<tr><td>Aerospace Engineering                        </td><td> 60000</td></tr>\n",
              "\t<tr><td>Biomedical Engineering                       </td><td> 60000</td></tr>\n",
              "\t<tr><td>Materials Science                            </td><td> 60000</td></tr>\n",
              "\t<tr><td>Engineering Mechanics Physics And Science    </td><td> 58000</td></tr>\n",
              "\t<tr><td>Biological Engineering                       </td><td> 57100</td></tr>\n",
              "\t<tr><td>Industrial And Manufacturing Engineering     </td><td> 57000</td></tr>\n",
              "\t<tr><td>General Engineering                          </td><td> 56000</td></tr>\n",
              "\t<tr><td>Architectural Engineering                    </td><td> 54000</td></tr>\n",
              "\t<tr><td>Court Reporting                              </td><td> 54000</td></tr>\n",
              "\t<tr><td>Computer Science                             </td><td> 53000</td></tr>\n",
              "\t<tr><td>Food Science                                 </td><td> 53000</td></tr>\n",
              "\t<tr><td>Electrical Engineering Technology            </td><td> 52000</td></tr>\n",
              "\t<tr><td>Materials Engineering And Materials Science  </td><td> 52000</td></tr>\n",
              "\t<tr><td>Management Information Systems And Statistics</td><td> 51000</td></tr>\n",
              "\t<tr><td>Civil Engineering                            </td><td> 50000</td></tr>\n",
              "\t<tr><td>Construction Services                        </td><td> 50000</td></tr>\n",
              "\t<tr><td>Operations Logistics And E-Commerce          </td><td> 50000</td></tr>\n",
              "\t<tr><td>Miscellaneous Engineering                    </td><td> 50000</td></tr>\n",
              "\t<tr><td>Public Policy                                </td><td> 50000</td></tr>\n",
              "\t<tr><td>⋮</td><td>⋮</td></tr>\n",
              "\t<tr><td>Plant Science And Agronomy                   </td><td>32000</td></tr>\n",
              "\t<tr><td>Science And Computer Teacher Education       </td><td>32000</td></tr>\n",
              "\t<tr><td>Psychology                                   </td><td>31500</td></tr>\n",
              "\t<tr><td>Music                                        </td><td>31000</td></tr>\n",
              "\t<tr><td>Physical And Health Education Teaching       </td><td>31000</td></tr>\n",
              "\t<tr><td>Art History And Criticism                    </td><td>31000</td></tr>\n",
              "\t<tr><td>Fine Arts                                    </td><td>30500</td></tr>\n",
              "\t<tr><td>Family And Consumer Sciences                 </td><td>30000</td></tr>\n",
              "\t<tr><td>Social Work                                  </td><td>30000</td></tr>\n",
              "\t<tr><td>Animal Sciences                              </td><td>30000</td></tr>\n",
              "\t<tr><td>Visual And Performing Arts                   </td><td>30000</td></tr>\n",
              "\t<tr><td>Teacher Education: Multiple Levels           </td><td>30000</td></tr>\n",
              "\t<tr><td>Miscellaneous Psychology                     </td><td>30000</td></tr>\n",
              "\t<tr><td>Human Services And Community Organization    </td><td>30000</td></tr>\n",
              "\t<tr><td>Humanities                                   </td><td>30000</td></tr>\n",
              "\t<tr><td>Theology And Religious Vocations             </td><td>29000</td></tr>\n",
              "\t<tr><td>Studio Arts                                  </td><td>29000</td></tr>\n",
              "\t<tr><td>Cosmetology Services And Culinary Arts       </td><td>29000</td></tr>\n",
              "\t<tr><td>Miscellaneous Agriculture                    </td><td>29000</td></tr>\n",
              "\t<tr><td>Anthropology And Archeology                  </td><td>28000</td></tr>\n",
              "\t<tr><td>Communication Disorders Sciences And Services</td><td>28000</td></tr>\n",
              "\t<tr><td>Early Childhood Education                    </td><td>28000</td></tr>\n",
              "\t<tr><td>Other Foreign Languages                      </td><td>27500</td></tr>\n",
              "\t<tr><td>Drama And Theater Arts                       </td><td>27000</td></tr>\n",
              "\t<tr><td>Composition And Rhetoric                     </td><td>27000</td></tr>\n",
              "\t<tr><td>Zoology                                      </td><td>26000</td></tr>\n",
              "\t<tr><td>Educational Psychology                       </td><td>25000</td></tr>\n",
              "\t<tr><td>Clinical Psychology                          </td><td>25000</td></tr>\n",
              "\t<tr><td>Counseling Psychology                        </td><td>23400</td></tr>\n",
              "\t<tr><td>Library Science                              </td><td>22000</td></tr>\n",
              "</tbody>\n",
              "</table>\n"
            ],
            "text/markdown": "\nA grouped_df: 173 × 2\n\n| major &lt;chr&gt; | median &lt;dbl&gt; |\n|---|---|\n| Petroleum Engineering                         | 110000 |\n| Mining And Mineral Engineering                |  75000 |\n| Metallurgical Engineering                     |  73000 |\n| Naval Architecture And Marine Engineering     |  70000 |\n| Chemical Engineering                          |  65000 |\n| Nuclear Engineering                           |  65000 |\n| Actuarial Science                             |  62000 |\n| Astronomy And Astrophysics                    |  62000 |\n| Mechanical Engineering                        |  60000 |\n| Electrical Engineering                        |  60000 |\n| Computer Engineering                          |  60000 |\n| Aerospace Engineering                         |  60000 |\n| Biomedical Engineering                        |  60000 |\n| Materials Science                             |  60000 |\n| Engineering Mechanics Physics And Science     |  58000 |\n| Biological Engineering                        |  57100 |\n| Industrial And Manufacturing Engineering      |  57000 |\n| General Engineering                           |  56000 |\n| Architectural Engineering                     |  54000 |\n| Court Reporting                               |  54000 |\n| Computer Science                              |  53000 |\n| Food Science                                  |  53000 |\n| Electrical Engineering Technology             |  52000 |\n| Materials Engineering And Materials Science   |  52000 |\n| Management Information Systems And Statistics |  51000 |\n| Civil Engineering                             |  50000 |\n| Construction Services                         |  50000 |\n| Operations Logistics And E-Commerce           |  50000 |\n| Miscellaneous Engineering                     |  50000 |\n| Public Policy                                 |  50000 |\n| ⋮ | ⋮ |\n| Plant Science And Agronomy                    | 32000 |\n| Science And Computer Teacher Education        | 32000 |\n| Psychology                                    | 31500 |\n| Music                                         | 31000 |\n| Physical And Health Education Teaching        | 31000 |\n| Art History And Criticism                     | 31000 |\n| Fine Arts                                     | 30500 |\n| Family And Consumer Sciences                  | 30000 |\n| Social Work                                   | 30000 |\n| Animal Sciences                               | 30000 |\n| Visual And Performing Arts                    | 30000 |\n| Teacher Education: Multiple Levels            | 30000 |\n| Miscellaneous Psychology                      | 30000 |\n| Human Services And Community Organization     | 30000 |\n| Humanities                                    | 30000 |\n| Theology And Religious Vocations              | 29000 |\n| Studio Arts                                   | 29000 |\n| Cosmetology Services And Culinary Arts        | 29000 |\n| Miscellaneous Agriculture                     | 29000 |\n| Anthropology And Archeology                   | 28000 |\n| Communication Disorders Sciences And Services | 28000 |\n| Early Childhood Education                     | 28000 |\n| Other Foreign Languages                       | 27500 |\n| Drama And Theater Arts                        | 27000 |\n| Composition And Rhetoric                      | 27000 |\n| Zoology                                       | 26000 |\n| Educational Psychology                        | 25000 |\n| Clinical Psychology                           | 25000 |\n| Counseling Psychology                         | 23400 |\n| Library Science                               | 22000 |\n\n",
            "text/latex": "A grouped\\_df: 173 × 2\n\\begin{tabular}{ll}\n major & median\\\\\n <chr> & <dbl>\\\\\n\\hline\n\t Petroleum Engineering                         & 110000\\\\\n\t Mining And Mineral Engineering                &  75000\\\\\n\t Metallurgical Engineering                     &  73000\\\\\n\t Naval Architecture And Marine Engineering     &  70000\\\\\n\t Chemical Engineering                          &  65000\\\\\n\t Nuclear Engineering                           &  65000\\\\\n\t Actuarial Science                             &  62000\\\\\n\t Astronomy And Astrophysics                    &  62000\\\\\n\t Mechanical Engineering                        &  60000\\\\\n\t Electrical Engineering                        &  60000\\\\\n\t Computer Engineering                          &  60000\\\\\n\t Aerospace Engineering                         &  60000\\\\\n\t Biomedical Engineering                        &  60000\\\\\n\t Materials Science                             &  60000\\\\\n\t Engineering Mechanics Physics And Science     &  58000\\\\\n\t Biological Engineering                        &  57100\\\\\n\t Industrial And Manufacturing Engineering      &  57000\\\\\n\t General Engineering                           &  56000\\\\\n\t Architectural Engineering                     &  54000\\\\\n\t Court Reporting                               &  54000\\\\\n\t Computer Science                              &  53000\\\\\n\t Food Science                                  &  53000\\\\\n\t Electrical Engineering Technology             &  52000\\\\\n\t Materials Engineering And Materials Science   &  52000\\\\\n\t Management Information Systems And Statistics &  51000\\\\\n\t Civil Engineering                             &  50000\\\\\n\t Construction Services                         &  50000\\\\\n\t Operations Logistics And E-Commerce           &  50000\\\\\n\t Miscellaneous Engineering                     &  50000\\\\\n\t Public Policy                                 &  50000\\\\\n\t ⋮ & ⋮\\\\\n\t Plant Science And Agronomy                    & 32000\\\\\n\t Science And Computer Teacher Education        & 32000\\\\\n\t Psychology                                    & 31500\\\\\n\t Music                                         & 31000\\\\\n\t Physical And Health Education Teaching        & 31000\\\\\n\t Art History And Criticism                     & 31000\\\\\n\t Fine Arts                                     & 30500\\\\\n\t Family And Consumer Sciences                  & 30000\\\\\n\t Social Work                                   & 30000\\\\\n\t Animal Sciences                               & 30000\\\\\n\t Visual And Performing Arts                    & 30000\\\\\n\t Teacher Education: Multiple Levels            & 30000\\\\\n\t Miscellaneous Psychology                      & 30000\\\\\n\t Human Services And Community Organization     & 30000\\\\\n\t Humanities                                    & 30000\\\\\n\t Theology And Religious Vocations              & 29000\\\\\n\t Studio Arts                                   & 29000\\\\\n\t Cosmetology Services And Culinary Arts        & 29000\\\\\n\t Miscellaneous Agriculture                     & 29000\\\\\n\t Anthropology And Archeology                   & 28000\\\\\n\t Communication Disorders Sciences And Services & 28000\\\\\n\t Early Childhood Education                     & 28000\\\\\n\t Other Foreign Languages                       & 27500\\\\\n\t Drama And Theater Arts                        & 27000\\\\\n\t Composition And Rhetoric                      & 27000\\\\\n\t Zoology                                       & 26000\\\\\n\t Educational Psychology                        & 25000\\\\\n\t Clinical Psychology                           & 25000\\\\\n\t Counseling Psychology                         & 23400\\\\\n\t Library Science                               & 22000\\\\\n\\end{tabular}\n",
            "text/plain": [
              "    major                                         median\n",
              "1   Petroleum Engineering                         110000\n",
              "2   Mining And Mineral Engineering                 75000\n",
              "3   Metallurgical Engineering                      73000\n",
              "4   Naval Architecture And Marine Engineering      70000\n",
              "5   Chemical Engineering                           65000\n",
              "6   Nuclear Engineering                            65000\n",
              "7   Actuarial Science                              62000\n",
              "8   Astronomy And Astrophysics                     62000\n",
              "9   Mechanical Engineering                         60000\n",
              "10  Electrical Engineering                         60000\n",
              "11  Computer Engineering                           60000\n",
              "12  Aerospace Engineering                          60000\n",
              "13  Biomedical Engineering                         60000\n",
              "14  Materials Science                              60000\n",
              "15  Engineering Mechanics Physics And Science      58000\n",
              "16  Biological Engineering                         57100\n",
              "17  Industrial And Manufacturing Engineering       57000\n",
              "18  General Engineering                            56000\n",
              "19  Architectural Engineering                      54000\n",
              "20  Court Reporting                                54000\n",
              "21  Computer Science                               53000\n",
              "22  Food Science                                   53000\n",
              "23  Electrical Engineering Technology              52000\n",
              "24  Materials Engineering And Materials Science    52000\n",
              "25  Management Information Systems And Statistics  51000\n",
              "26  Civil Engineering                              50000\n",
              "27  Construction Services                          50000\n",
              "28  Operations Logistics And E-Commerce            50000\n",
              "29  Miscellaneous Engineering                      50000\n",
              "30  Public Policy                                  50000\n",
              "⋮   ⋮                                             ⋮     \n",
              "144 Plant Science And Agronomy                    32000 \n",
              "145 Science And Computer Teacher Education        32000 \n",
              "146 Psychology                                    31500 \n",
              "147 Music                                         31000 \n",
              "148 Physical And Health Education Teaching        31000 \n",
              "149 Art History And Criticism                     31000 \n",
              "150 Fine Arts                                     30500 \n",
              "151 Family And Consumer Sciences                  30000 \n",
              "152 Social Work                                   30000 \n",
              "153 Animal Sciences                               30000 \n",
              "154 Visual And Performing Arts                    30000 \n",
              "155 Teacher Education: Multiple Levels            30000 \n",
              "156 Miscellaneous Psychology                      30000 \n",
              "157 Human Services And Community Organization     30000 \n",
              "158 Humanities                                    30000 \n",
              "159 Theology And Religious Vocations              29000 \n",
              "160 Studio Arts                                   29000 \n",
              "161 Cosmetology Services And Culinary Arts        29000 \n",
              "162 Miscellaneous Agriculture                     29000 \n",
              "163 Anthropology And Archeology                   28000 \n",
              "164 Communication Disorders Sciences And Services 28000 \n",
              "165 Early Childhood Education                     28000 \n",
              "166 Other Foreign Languages                       27500 \n",
              "167 Drama And Theater Arts                        27000 \n",
              "168 Composition And Rhetoric                      27000 \n",
              "169 Zoology                                       26000 \n",
              "170 Educational Psychology                        25000 \n",
              "171 Clinical Psychology                           25000 \n",
              "172 Counseling Psychology                         23400 \n",
              "173 Library Science                               22000 "
            ]
          },
          "metadata": {}
        },
        {
          "output_type": "display_data",
          "data": {
            "text/plain": [
              "plot without title"
            ],
            "image/png": "[encoded data removed]"
          },
          "metadata": {
            "image/png": {
              "width": 420,
              "height": 420
            }
          }
        }
      ]
    },
    {
      "cell_type": "markdown",
      "source": [
        "##ANSWER TO QUESTION 3\n",
        "\n",
        "###PROBLEM\n",
        "\n",
        "The binwidth I chose was 5000. The reason for this is that if you choose binwidth = 1000, the x-axis ticks take on scientific notation, which is much more difficult to read for the average viewer. Further, I felt that the 5000 plot was able to retain the essence of the binwidth = 1000 plot. If I could pick an ideal value, it would be something like binwidth = 3000; the reason for this being that if you look at the median income section of the dataframe, the income range between a given major and the major with the nearest median income is often 1000 or 0. However, as said before these values give us an x-axis with scientific notation. 3000 represents a small value where scientific notation is no longer necessitated. *************"
      ],
      "metadata": {
        "id": "LrbmMoOhapua"
      }
    },
    {
      "cell_type": "code",
      "source": [
        "college_recent_grads %>% \n",
        "  summarize(min = min(median), max = max(median),\n",
        "    mean = mean(median), med = median(median), \n",
        "    sd = sd(median), \n",
        "    q1 = quantile(median, probs = 0.25),\n",
        "    q3 = quantile(median, probs = 0.75))"
      ],
      "metadata": {
        "colab": {
          "base_uri": "https://localhost:8080/",
          "height": 129
        },
        "id": "u494shlVb_zI",
        "outputId": "f1fe0c62-5bc4-4f13-8fb4-205faf6f4b37"
      },
      "execution_count": null,
      "outputs": [
        {
          "output_type": "display_data",
          "data": {
            "text/html": [
              "<table class=\"dataframe\">\n",
              "<caption>A tibble: 1 × 7</caption>\n",
              "<thead>\n",
              "\t<tr><th scope=col>min</th><th scope=col>max</th><th scope=col>mean</th><th scope=col>med</th><th scope=col>sd</th><th scope=col>q1</th><th scope=col>q3</th></tr>\n",
              "\t<tr><th scope=col>&lt;dbl&gt;</th><th scope=col>&lt;dbl&gt;</th><th scope=col>&lt;dbl&gt;</th><th scope=col>&lt;dbl&gt;</th><th scope=col>&lt;dbl&gt;</th><th scope=col>&lt;dbl&gt;</th><th scope=col>&lt;dbl&gt;</th></tr>\n",
              "</thead>\n",
              "<tbody>\n",
              "\t<tr><td>22000</td><td>110000</td><td>40151.45</td><td>36000</td><td>11470.18</td><td>33000</td><td>45000</td></tr>\n",
              "</tbody>\n",
              "</table>\n"
            ],
            "text/markdown": "\nA tibble: 1 × 7\n\n| min &lt;dbl&gt; | max &lt;dbl&gt; | mean &lt;dbl&gt; | med &lt;dbl&gt; | sd &lt;dbl&gt; | q1 &lt;dbl&gt; | q3 &lt;dbl&gt; |\n|---|---|---|---|---|---|---|\n| 22000 | 110000 | 40151.45 | 36000 | 11470.18 | 33000 | 45000 |\n\n",
            "text/latex": "A tibble: 1 × 7\n\\begin{tabular}{lllllll}\n min & max & mean & med & sd & q1 & q3\\\\\n <dbl> & <dbl> & <dbl> & <dbl> & <dbl> & <dbl> & <dbl>\\\\\n\\hline\n\t 22000 & 110000 & 40151.45 & 36000 & 11470.18 & 33000 & 45000\\\\\n\\end{tabular}\n",
            "text/plain": [
              "  min   max    mean     med   sd       q1    q3   \n",
              "1 22000 110000 40151.45 36000 11470.18 33000 45000"
            ]
          },
          "metadata": {}
        }
      ]
    },
    {
      "cell_type": "markdown",
      "source": [
        "##ANSWER TO QUESTION 4  \n",
        "\n",
        "###PROBLEM\n",
        "\n",
        "You will notice in the above graph for question 3 that we have an oulier at 110,000 for median income. Petroleum Engineering majors have a much larger median income than the rest of the majors; this leads to a skew in our mean which is the mean of all values in the median column. Based on the center of the graph, we expect a mean below 40,000 but it is at 40,000. When the mean is skewed, the standard deviation is also skewed, so we can also ignore this statistic. The median is not a very good measure of distribution because it only gives us information about the center of the data set, rather than its spread. The interquartile range values q1 and q3 are calculated using the median value on each half of the distribution, which means they give an accurate central point for the two halves of the data set regardless of outlier presence. Further, these points tell us about where most of the information in the data set falls (between 33000 and 45000), and thus give us the best idea of how the data is distributed. The IQR tells us about the spread of the graph and matches up with the shape we see, which has a rightward skew. \n",
        "\n",
        "Statistic Output:\n",
        "\n",
        "```\n",
        "A tibble: 1 × 7\n",
        "min\tmax\tmean\tmed\tsd\tq1\tq3\n",
        "<dbl>\t<dbl>\t<dbl>\t<dbl>\t<dbl>\t<dbl>\t<dbl>\n",
        "22000\t110000\t40151.45\t36000\t11470.18\t33000\t45000\n",
        "\n",
        "```\n",
        "\n"
      ],
      "metadata": {
        "id": "8jSTNCyUg4L7"
      }
    },
    {
      "cell_type": "code",
      "source": [
        "#Code for Question Five\n",
        "\n",
        "#college_recent_grads%>% \n",
        "  #group_by(major_category)\n",
        "\n",
        "ggplot(college_recent_grads, aes(x = median))+\n",
        "  geom_histogram(binwidth =5000) + \n",
        "  facet_wrap(~major_category)"
      ],
      "metadata": {
        "id": "suTfuxtwil8B",
        "colab": {
          "base_uri": "https://localhost:8080/",
          "height": 437
        },
        "outputId": "4a863ed6-8a81-4a1d-a030-99b51c7f96fe"
      },
      "execution_count": null,
      "outputs": [
        {
          "output_type": "display_data",
          "data": {
            "text/plain": [
              "plot without title"
            ],
            "image/png": "[encoded data removed]"
          },
          "metadata": {
            "image/png": {
              "width": 420,
              "height": 420
            }
          }
        }
      ]
    },
    {
      "cell_type": "markdown",
      "source": [
        "##ANSWER TO QUESTION 5: SEE GRAPH ABOVE: \n",
        "```\n",
        "ggplot(college_recent_grads, aes(x = median))+\n",
        "  geom_histogram(binwidth = 5000) + \n",
        "  facet_wrap(~major_category)\n",
        "```\n",
        "\n"
      ],
      "metadata": {
        "id": "4Ir3CcnPNwFs"
      }
    },
    {
      "cell_type": "code",
      "source": [
        "college_recent_grads %>% \n",
        "  group_by(major_category) %>% \n",
        "  summarise(median = median(median)) %>% \n",
        "  arrange(desc(median))"
      ],
      "metadata": {
        "colab": {
          "base_uri": "https://localhost:8080/",
          "height": 600
        },
        "id": "LqGaMT7yK6fy",
        "outputId": "b5e41425-dde7-426c-e6ef-12b77fd27327"
      },
      "execution_count": null,
      "outputs": [
        {
          "output_type": "display_data",
          "data": {
            "text/html": [
              "<table class=\"dataframe\">\n",
              "<caption>A tibble: 16 × 2</caption>\n",
              "<thead>\n",
              "\t<tr><th scope=col>major_category</th><th scope=col>median</th></tr>\n",
              "\t<tr><th scope=col>&lt;chr&gt;</th><th scope=col>&lt;dbl&gt;</th></tr>\n",
              "</thead>\n",
              "<tbody>\n",
              "\t<tr><td>Engineering                        </td><td>57000</td></tr>\n",
              "\t<tr><td><span style=white-space:pre-wrap>Computers &amp; Mathematics            </span></td><td>45000</td></tr>\n",
              "\t<tr><td>Business                           </td><td>40000</td></tr>\n",
              "\t<tr><td>Physical Sciences                  </td><td>39500</td></tr>\n",
              "\t<tr><td>Social Science                     </td><td>38000</td></tr>\n",
              "\t<tr><td><span style=white-space:pre-wrap>Biology &amp; Life Science             </span></td><td>36300</td></tr>\n",
              "\t<tr><td><span style=white-space:pre-wrap>Law &amp; Public Policy                </span></td><td>36000</td></tr>\n",
              "\t<tr><td><span style=white-space:pre-wrap>Agriculture &amp; Natural Resources    </span></td><td>35000</td></tr>\n",
              "\t<tr><td><span style=white-space:pre-wrap>Communications &amp; Journalism        </span></td><td>35000</td></tr>\n",
              "\t<tr><td>Health                             </td><td>35000</td></tr>\n",
              "\t<tr><td>Industrial Arts &amp; Consumer Services</td><td>35000</td></tr>\n",
              "\t<tr><td>Interdisciplinary                  </td><td>35000</td></tr>\n",
              "\t<tr><td>Education                          </td><td>32750</td></tr>\n",
              "\t<tr><td><span style=white-space:pre-wrap>Humanities &amp; Liberal Arts          </span></td><td>32000</td></tr>\n",
              "\t<tr><td>Arts                               </td><td>30750</td></tr>\n",
              "\t<tr><td><span style=white-space:pre-wrap>Psychology &amp; Social Work           </span></td><td>30000</td></tr>\n",
              "</tbody>\n",
              "</table>\n"
            ],
            "text/markdown": "\nA tibble: 16 × 2\n\n| major_category &lt;chr&gt; | median &lt;dbl&gt; |\n|---|---|\n| Engineering                         | 57000 |\n| Computers &amp; Mathematics             | 45000 |\n| Business                            | 40000 |\n| Physical Sciences                   | 39500 |\n| Social Science                      | 38000 |\n| Biology &amp; Life Science              | 36300 |\n| Law &amp; Public Policy                 | 36000 |\n| Agriculture &amp; Natural Resources     | 35000 |\n| Communications &amp; Journalism         | 35000 |\n| Health                              | 35000 |\n| Industrial Arts &amp; Consumer Services | 35000 |\n| Interdisciplinary                   | 35000 |\n| Education                           | 32750 |\n| Humanities &amp; Liberal Arts           | 32000 |\n| Arts                                | 30750 |\n| Psychology &amp; Social Work            | 30000 |\n\n",
            "text/latex": "A tibble: 16 × 2\n\\begin{tabular}{ll}\n major\\_category & median\\\\\n <chr> & <dbl>\\\\\n\\hline\n\t Engineering                         & 57000\\\\\n\t Computers \\& Mathematics             & 45000\\\\\n\t Business                            & 40000\\\\\n\t Physical Sciences                   & 39500\\\\\n\t Social Science                      & 38000\\\\\n\t Biology \\& Life Science              & 36300\\\\\n\t Law \\& Public Policy                 & 36000\\\\\n\t Agriculture \\& Natural Resources     & 35000\\\\\n\t Communications \\& Journalism         & 35000\\\\\n\t Health                              & 35000\\\\\n\t Industrial Arts \\& Consumer Services & 35000\\\\\n\t Interdisciplinary                   & 35000\\\\\n\t Education                           & 32750\\\\\n\t Humanities \\& Liberal Arts           & 32000\\\\\n\t Arts                                & 30750\\\\\n\t Psychology \\& Social Work            & 30000\\\\\n\\end{tabular}\n",
            "text/plain": [
              "   major_category                      median\n",
              "1  Engineering                         57000 \n",
              "2  Computers & Mathematics             45000 \n",
              "3  Business                            40000 \n",
              "4  Physical Sciences                   39500 \n",
              "5  Social Science                      38000 \n",
              "6  Biology & Life Science              36300 \n",
              "7  Law & Public Policy                 36000 \n",
              "8  Agriculture & Natural Resources     35000 \n",
              "9  Communications & Journalism         35000 \n",
              "10 Health                              35000 \n",
              "11 Industrial Arts & Consumer Services 35000 \n",
              "12 Interdisciplinary                   35000 \n",
              "13 Education                           32750 \n",
              "14 Humanities & Liberal Arts           32000 \n",
              "15 Arts                                30750 \n",
              "16 Psychology & Social Work            30000 "
            ]
          },
          "metadata": {}
        }
      ]
    },
    {
      "cell_type": "markdown",
      "source": [
        "##ANSWER TO QUESTION 6 \n",
        "\n",
        "The major with the highest typical median income is engineering. The choice of typical was the median of the median incomes for all majors in the major category. The reason for this choice is that for many of the major categories, including engineering, one major drags on the mean of the data."
      ],
      "metadata": {
        "id": "UqNKTSnYO3NI"
      }
    },
    {
      "cell_type": "code",
      "source": [
        "##Code for question 7: \n",
        "\n",
        "college_recent_grads %>% \n",
        "  count(major_category) %>% \n",
        "  arrange(n) \n"
      ],
      "metadata": {
        "colab": {
          "base_uri": "https://localhost:8080/",
          "height": 600
        },
        "id": "uodhukKGOraJ",
        "outputId": "74a649a7-f455-446b-f0fb-15ba7286a6df"
      },
      "execution_count": null,
      "outputs": [
        {
          "output_type": "display_data",
          "data": {
            "text/html": [
              "<table class=\"dataframe\">\n",
              "<caption>A tibble: 16 × 2</caption>\n",
              "<thead>\n",
              "\t<tr><th scope=col>major_category</th><th scope=col>n</th></tr>\n",
              "\t<tr><th scope=col>&lt;chr&gt;</th><th scope=col>&lt;int&gt;</th></tr>\n",
              "</thead>\n",
              "<tbody>\n",
              "\t<tr><td>Interdisciplinary                  </td><td> 1</td></tr>\n",
              "\t<tr><td><span style=white-space:pre-wrap>Communications &amp; Journalism        </span></td><td> 4</td></tr>\n",
              "\t<tr><td><span style=white-space:pre-wrap>Law &amp; Public Policy                </span></td><td> 5</td></tr>\n",
              "\t<tr><td>Industrial Arts &amp; Consumer Services</td><td> 7</td></tr>\n",
              "\t<tr><td>Arts                               </td><td> 8</td></tr>\n",
              "\t<tr><td><span style=white-space:pre-wrap>Psychology &amp; Social Work           </span></td><td> 9</td></tr>\n",
              "\t<tr><td>Social Science                     </td><td> 9</td></tr>\n",
              "\t<tr><td><span style=white-space:pre-wrap>Agriculture &amp; Natural Resources    </span></td><td>10</td></tr>\n",
              "\t<tr><td>Physical Sciences                  </td><td>10</td></tr>\n",
              "\t<tr><td><span style=white-space:pre-wrap>Computers &amp; Mathematics            </span></td><td>11</td></tr>\n",
              "\t<tr><td>Health                             </td><td>12</td></tr>\n",
              "\t<tr><td>Business                           </td><td>13</td></tr>\n",
              "\t<tr><td><span style=white-space:pre-wrap>Biology &amp; Life Science             </span></td><td>14</td></tr>\n",
              "\t<tr><td><span style=white-space:pre-wrap>Humanities &amp; Liberal Arts          </span></td><td>15</td></tr>\n",
              "\t<tr><td>Education                          </td><td>16</td></tr>\n",
              "\t<tr><td>Engineering                        </td><td>29</td></tr>\n",
              "</tbody>\n",
              "</table>\n"
            ],
            "text/markdown": "\nA tibble: 16 × 2\n\n| major_category &lt;chr&gt; | n &lt;int&gt; |\n|---|---|\n| Interdisciplinary                   |  1 |\n| Communications &amp; Journalism         |  4 |\n| Law &amp; Public Policy                 |  5 |\n| Industrial Arts &amp; Consumer Services |  7 |\n| Arts                                |  8 |\n| Psychology &amp; Social Work            |  9 |\n| Social Science                      |  9 |\n| Agriculture &amp; Natural Resources     | 10 |\n| Physical Sciences                   | 10 |\n| Computers &amp; Mathematics             | 11 |\n| Health                              | 12 |\n| Business                            | 13 |\n| Biology &amp; Life Science              | 14 |\n| Humanities &amp; Liberal Arts           | 15 |\n| Education                           | 16 |\n| Engineering                         | 29 |\n\n",
            "text/latex": "A tibble: 16 × 2\n\\begin{tabular}{ll}\n major\\_category & n\\\\\n <chr> & <int>\\\\\n\\hline\n\t Interdisciplinary                   &  1\\\\\n\t Communications \\& Journalism         &  4\\\\\n\t Law \\& Public Policy                 &  5\\\\\n\t Industrial Arts \\& Consumer Services &  7\\\\\n\t Arts                                &  8\\\\\n\t Psychology \\& Social Work            &  9\\\\\n\t Social Science                      &  9\\\\\n\t Agriculture \\& Natural Resources     & 10\\\\\n\t Physical Sciences                   & 10\\\\\n\t Computers \\& Mathematics             & 11\\\\\n\t Health                              & 12\\\\\n\t Business                            & 13\\\\\n\t Biology \\& Life Science              & 14\\\\\n\t Humanities \\& Liberal Arts           & 15\\\\\n\t Education                           & 16\\\\\n\t Engineering                         & 29\\\\\n\\end{tabular}\n",
            "text/plain": [
              "   major_category                      n \n",
              "1  Interdisciplinary                    1\n",
              "2  Communications & Journalism          4\n",
              "3  Law & Public Policy                  5\n",
              "4  Industrial Arts & Consumer Services  7\n",
              "5  Arts                                 8\n",
              "6  Psychology & Social Work             9\n",
              "7  Social Science                       9\n",
              "8  Agriculture & Natural Resources     10\n",
              "9  Physical Sciences                   10\n",
              "10 Computers & Mathematics             11\n",
              "11 Health                              12\n",
              "12 Business                            13\n",
              "13 Biology & Life Science              14\n",
              "14 Humanities & Liberal Arts           15\n",
              "15 Education                           16\n",
              "16 Engineering                         29"
            ]
          },
          "metadata": {}
        }
      ]
    },
    {
      "cell_type": "markdown",
      "source": [
        "##ANSWER TO QUESTION 7 \n",
        "\n",
        "The least popular majors fall under the title of Interdisciplinary. This makes sense because many interdisciplinary majors take extra effort to construct and get approved. "
      ],
      "metadata": {
        "id": "D0hr8Yl3SO_h"
      }
    },
    {
      "cell_type": "code",
      "source": [
        "stem_categories <- c(\"Biology & Life Science\", \n",
        "  \"Computers & Mathematics\", \n",
        "  \"Engineering\", \n",
        "  \"Physical Sciences\")"
      ],
      "metadata": {
        "id": "Sv-vpz0yQGtL"
      },
      "execution_count": null,
      "outputs": []
    },
    {
      "cell_type": "code",
      "source": [
        "college_recent_grads <- college_recent_grads %>% \n",
        "  mutate(major_type = ifelse(major_category %in% stem_categories, \"stem\", \"not stem\")) \n",
        "\n",
        "college_recent_grads"
      ],
      "metadata": {
        "colab": {
          "base_uri": "https://localhost:8080/",
          "height": 1000
        },
        "id": "ABLbvlvdy116",
        "outputId": "7f555c3c-aaf1-482c-c133-a98e5678588d"
      },
      "execution_count": null,
      "outputs": [
        {
          "output_type": "display_data",
          "data": {
            "text/html": [
              "<table class=\"dataframe\">\n",
              "<caption>A tibble: 173 × 22</caption>\n",
              "<thead>\n",
              "\t<tr><th scope=col>rank</th><th scope=col>major_code</th><th scope=col>major</th><th scope=col>major_category</th><th scope=col>total</th><th scope=col>sample_size</th><th scope=col>men</th><th scope=col>women</th><th scope=col>sharewomen</th><th scope=col>employed</th><th scope=col>⋯</th><th scope=col>employed_fulltime_yearround</th><th scope=col>unemployed</th><th scope=col>unemployment_rate</th><th scope=col>p25th</th><th scope=col>median</th><th scope=col>p75th</th><th scope=col>college_jobs</th><th scope=col>non_college_jobs</th><th scope=col>low_wage_jobs</th><th scope=col>major_type</th></tr>\n",
              "\t<tr><th scope=col>&lt;int&gt;</th><th scope=col>&lt;int&gt;</th><th scope=col>&lt;chr&gt;</th><th scope=col>&lt;chr&gt;</th><th scope=col>&lt;int&gt;</th><th scope=col>&lt;int&gt;</th><th scope=col>&lt;int&gt;</th><th scope=col>&lt;int&gt;</th><th scope=col>&lt;dbl&gt;</th><th scope=col>&lt;int&gt;</th><th scope=col>⋯</th><th scope=col>&lt;int&gt;</th><th scope=col>&lt;int&gt;</th><th scope=col>&lt;dbl&gt;</th><th scope=col>&lt;dbl&gt;</th><th scope=col>&lt;dbl&gt;</th><th scope=col>&lt;dbl&gt;</th><th scope=col>&lt;int&gt;</th><th scope=col>&lt;int&gt;</th><th scope=col>&lt;int&gt;</th><th scope=col>&lt;chr&gt;</th></tr>\n",
              "</thead>\n",
              "<tbody>\n",
              "\t<tr><td> 1</td><td>2419</td><td>Petroleum Engineering                        </td><td>Engineering                        </td><td>  2339</td><td>  36</td><td> 2057</td><td>  282</td><td>0.12056434</td><td>  1976</td><td>⋯</td><td> 1207</td><td>  37</td><td>0.018380527</td><td>95000</td><td>110000</td><td>125000</td><td> 1534</td><td>  364</td><td> 193</td><td>stem    </td></tr>\n",
              "\t<tr><td> 2</td><td>2416</td><td>Mining And Mineral Engineering               </td><td>Engineering                        </td><td>   756</td><td>   7</td><td>  679</td><td>   77</td><td>0.10185185</td><td>   640</td><td>⋯</td><td>  388</td><td>  85</td><td>0.117241379</td><td>55000</td><td> 75000</td><td> 90000</td><td>  350</td><td>  257</td><td>  50</td><td>stem    </td></tr>\n",
              "\t<tr><td> 3</td><td>2415</td><td>Metallurgical Engineering                    </td><td>Engineering                        </td><td>   856</td><td>   3</td><td>  725</td><td>  131</td><td>0.15303738</td><td>   648</td><td>⋯</td><td>  340</td><td>  16</td><td>0.024096386</td><td>50000</td><td> 73000</td><td>105000</td><td>  456</td><td>  176</td><td>   0</td><td>stem    </td></tr>\n",
              "\t<tr><td> 4</td><td>2417</td><td>Naval Architecture And Marine Engineering    </td><td>Engineering                        </td><td>  1258</td><td>  16</td><td> 1123</td><td>  135</td><td>0.10731320</td><td>   758</td><td>⋯</td><td>  692</td><td>  40</td><td>0.050125313</td><td>43000</td><td> 70000</td><td> 80000</td><td>  529</td><td>  102</td><td>   0</td><td>stem    </td></tr>\n",
              "\t<tr><td> 5</td><td>2405</td><td>Chemical Engineering                         </td><td>Engineering                        </td><td> 32260</td><td> 289</td><td>21239</td><td>11021</td><td>0.34163050</td><td> 25694</td><td>⋯</td><td>16697</td><td>1672</td><td>0.061097712</td><td>50000</td><td> 65000</td><td> 75000</td><td>18314</td><td> 4440</td><td> 972</td><td>stem    </td></tr>\n",
              "\t<tr><td> 6</td><td>2418</td><td>Nuclear Engineering                          </td><td>Engineering                        </td><td>  2573</td><td>  17</td><td> 2200</td><td>  373</td><td>0.14496697</td><td>  1857</td><td>⋯</td><td> 1449</td><td> 400</td><td>0.177226407</td><td>50000</td><td> 65000</td><td>102000</td><td> 1142</td><td>  657</td><td> 244</td><td>stem    </td></tr>\n",
              "\t<tr><td> 7</td><td>6202</td><td>Actuarial Science                            </td><td>Business                           </td><td>  3777</td><td>  51</td><td> 2110</td><td> 1667</td><td>0.44135557</td><td>  2912</td><td>⋯</td><td> 2482</td><td> 308</td><td>0.095652174</td><td>53000</td><td> 62000</td><td> 72000</td><td> 1768</td><td>  314</td><td> 259</td><td>not stem</td></tr>\n",
              "\t<tr><td> 8</td><td>5001</td><td>Astronomy And Astrophysics                   </td><td>Physical Sciences                  </td><td>  1792</td><td>  10</td><td>  832</td><td>  960</td><td>0.53571429</td><td>  1526</td><td>⋯</td><td>  827</td><td>  33</td><td>0.021167415</td><td>31500</td><td> 62000</td><td>109000</td><td>  972</td><td>  500</td><td> 220</td><td>stem    </td></tr>\n",
              "\t<tr><td> 9</td><td>2414</td><td>Mechanical Engineering                       </td><td>Engineering                        </td><td> 91227</td><td>1029</td><td>80320</td><td>10907</td><td>0.11955890</td><td> 76442</td><td>⋯</td><td>54639</td><td>4650</td><td>0.057342278</td><td>48000</td><td> 60000</td><td> 70000</td><td>52844</td><td>16384</td><td>3253</td><td>stem    </td></tr>\n",
              "\t<tr><td>10</td><td>2408</td><td>Electrical Engineering                       </td><td>Engineering                        </td><td> 81527</td><td> 631</td><td>65511</td><td>16016</td><td>0.19645026</td><td> 61928</td><td>⋯</td><td>41413</td><td>3895</td><td>0.059173845</td><td>45000</td><td> 60000</td><td> 72000</td><td>45829</td><td>10874</td><td>3170</td><td>stem    </td></tr>\n",
              "\t<tr><td>11</td><td>2407</td><td>Computer Engineering                         </td><td>Engineering                        </td><td> 41542</td><td> 399</td><td>33258</td><td> 8284</td><td>0.19941264</td><td> 32506</td><td>⋯</td><td>23621</td><td>2275</td><td>0.065409275</td><td>45000</td><td> 60000</td><td> 75000</td><td>23694</td><td> 5721</td><td> 980</td><td>stem    </td></tr>\n",
              "\t<tr><td>12</td><td>2401</td><td>Aerospace Engineering                        </td><td>Engineering                        </td><td> 15058</td><td> 147</td><td>12953</td><td> 2105</td><td>0.13979280</td><td> 11391</td><td>⋯</td><td> 8790</td><td> 794</td><td>0.065162085</td><td>42000</td><td> 60000</td><td> 70000</td><td> 8184</td><td> 2425</td><td> 372</td><td>stem    </td></tr>\n",
              "\t<tr><td>13</td><td>2404</td><td>Biomedical Engineering                       </td><td>Engineering                        </td><td> 14955</td><td>  79</td><td> 8407</td><td> 6548</td><td>0.43784687</td><td> 10047</td><td>⋯</td><td> 5986</td><td>1019</td><td>0.092083860</td><td>36000</td><td> 60000</td><td> 70000</td><td> 6439</td><td> 2471</td><td> 789</td><td>stem    </td></tr>\n",
              "\t<tr><td>14</td><td>5008</td><td>Materials Science                            </td><td>Engineering                        </td><td>  4279</td><td>  22</td><td> 2949</td><td> 1330</td><td>0.31082028</td><td>  3307</td><td>⋯</td><td> 1967</td><td>  78</td><td>0.023042836</td><td>39000</td><td> 60000</td><td> 65000</td><td> 2626</td><td>  391</td><td>  81</td><td>stem    </td></tr>\n",
              "\t<tr><td>15</td><td>2409</td><td>Engineering Mechanics Physics And Science    </td><td>Engineering                        </td><td>  4321</td><td>  30</td><td> 3526</td><td>  795</td><td>0.18398519</td><td>  3608</td><td>⋯</td><td> 2004</td><td>  23</td><td>0.006334343</td><td>25000</td><td> 58000</td><td> 74000</td><td> 2439</td><td>  947</td><td> 263</td><td>stem    </td></tr>\n",
              "\t<tr><td>16</td><td>2402</td><td>Biological Engineering                       </td><td>Engineering                        </td><td>  8925</td><td>  55</td><td> 6062</td><td> 2863</td><td>0.32078431</td><td>  6170</td><td>⋯</td><td> 3413</td><td> 589</td><td>0.087143069</td><td>40000</td><td> 57100</td><td> 76000</td><td> 3603</td><td> 1595</td><td> 524</td><td>stem    </td></tr>\n",
              "\t<tr><td>17</td><td>2412</td><td>Industrial And Manufacturing Engineering     </td><td>Engineering                        </td><td> 18968</td><td> 183</td><td>12453</td><td> 6515</td><td>0.34347322</td><td> 15604</td><td>⋯</td><td>11326</td><td> 699</td><td>0.042875544</td><td>37900</td><td> 57000</td><td> 67000</td><td> 8306</td><td> 3235</td><td> 640</td><td>stem    </td></tr>\n",
              "\t<tr><td>18</td><td>2400</td><td>General Engineering                          </td><td>Engineering                        </td><td> 61152</td><td> 425</td><td>45683</td><td>15469</td><td>0.25295984</td><td> 44931</td><td>⋯</td><td>33540</td><td>2859</td><td>0.059824231</td><td>36000</td><td> 56000</td><td> 69000</td><td>26898</td><td>11734</td><td>3192</td><td>stem    </td></tr>\n",
              "\t<tr><td>19</td><td>2403</td><td>Architectural Engineering                    </td><td>Engineering                        </td><td>  2825</td><td>  26</td><td> 1835</td><td>  990</td><td>0.35044248</td><td>  2575</td><td>⋯</td><td> 1848</td><td> 170</td><td>0.061930783</td><td>38000</td><td> 54000</td><td> 65000</td><td> 1665</td><td>  649</td><td> 137</td><td>stem    </td></tr>\n",
              "\t<tr><td>20</td><td>3201</td><td><span style=white-space:pre-wrap>Court Reporting                              </span></td><td><span style=white-space:pre-wrap>Law &amp; Public Policy                </span></td><td><span style=white-space:pre-wrap>  1148</span></td><td><span style=white-space:pre-wrap>  14</span></td><td><span style=white-space:pre-wrap>  877</span></td><td><span style=white-space:pre-wrap>  271</span></td><td>0.23606272</td><td><span style=white-space:pre-wrap>   930</span></td><td>⋯</td><td><span style=white-space:pre-wrap>  808</span></td><td><span style=white-space:pre-wrap>  11</span></td><td>0.011689692</td><td>50000</td><td> 54000</td><td> 54000</td><td><span style=white-space:pre-wrap>  402</span></td><td><span style=white-space:pre-wrap>  528</span></td><td> 144</td><td>not stem</td></tr>\n",
              "\t<tr><td>21</td><td>2102</td><td><span style=white-space:pre-wrap>Computer Science                             </span></td><td><span style=white-space:pre-wrap>Computers &amp; Mathematics            </span></td><td>128319</td><td>1196</td><td>99743</td><td>28576</td><td>0.22269500</td><td>102087</td><td>⋯</td><td>70932</td><td>6884</td><td>0.063172771</td><td>39000</td><td> 53000</td><td> 70000</td><td>68622</td><td>25667</td><td>5144</td><td><span style=white-space:pre-wrap>stem    </span></td></tr>\n",
              "\t<tr><td>22</td><td>1104</td><td><span style=white-space:pre-wrap>Food Science                                 </span></td><td><span style=white-space:pre-wrap>Agriculture &amp; Natural Resources    </span></td><td><span style=white-space:pre-wrap>    NA</span></td><td><span style=white-space:pre-wrap>  36</span></td><td><span style=white-space:pre-wrap>   NA</span></td><td><span style=white-space:pre-wrap>   NA</span></td><td><span style=white-space:pre-wrap>        NA</span></td><td><span style=white-space:pre-wrap>  3149</span></td><td>⋯</td><td> 1735</td><td> 338</td><td>0.096931460</td><td>32000</td><td> 53000</td><td> 70000</td><td> 1183</td><td> 1274</td><td> 485</td><td>not stem</td></tr>\n",
              "\t<tr><td>23</td><td>2502</td><td>Electrical Engineering Technology            </td><td>Engineering                        </td><td> 11565</td><td>  97</td><td> 8181</td><td> 3384</td><td>0.29260700</td><td>  8587</td><td>⋯</td><td> 5681</td><td> 824</td><td>0.087557114</td><td>35000</td><td> 52000</td><td> 60000</td><td> 5126</td><td> 2686</td><td> 696</td><td>stem    </td></tr>\n",
              "\t<tr><td>24</td><td>2413</td><td>Materials Engineering And Materials Science  </td><td>Engineering                        </td><td>  2993</td><td>  22</td><td> 2020</td><td>  973</td><td>0.32509188</td><td>  2449</td><td>⋯</td><td> 1151</td><td>  70</td><td>0.027788805</td><td>35000</td><td> 52000</td><td> 62000</td><td> 1911</td><td>  305</td><td>  70</td><td>stem    </td></tr>\n",
              "\t<tr><td>25</td><td>6212</td><td>Management Information Systems And Statistics</td><td>Business                           </td><td> 18713</td><td> 278</td><td>13496</td><td> 5217</td><td>0.27879015</td><td> 16413</td><td>⋯</td><td>13017</td><td>1015</td><td>0.058239614</td><td>38000</td><td> 51000</td><td> 60000</td><td> 6342</td><td> 5741</td><td> 708</td><td>not stem</td></tr>\n",
              "\t<tr><td>26</td><td>2406</td><td>Civil Engineering                            </td><td>Engineering                        </td><td> 53153</td><td> 565</td><td>41081</td><td>12072</td><td>0.22711794</td><td> 43041</td><td>⋯</td><td>29196</td><td>3270</td><td>0.070609574</td><td>40000</td><td> 50000</td><td> 60000</td><td>28526</td><td> 9356</td><td>2899</td><td>stem    </td></tr>\n",
              "\t<tr><td>27</td><td>5601</td><td><span style=white-space:pre-wrap>Construction Services                        </span></td><td>Industrial Arts &amp; Consumer Services</td><td> 18498</td><td> 295</td><td>16820</td><td> 1678</td><td>0.09071251</td><td> 16318</td><td>⋯</td><td>12313</td><td>1042</td><td>0.060023041</td><td>36000</td><td> 50000</td><td> 60000</td><td> 3275</td><td> 5351</td><td> 703</td><td>not stem</td></tr>\n",
              "\t<tr><td>28</td><td>6204</td><td>Operations Logistics And E-Commerce          </td><td>Business                           </td><td> 11732</td><td> 156</td><td> 7921</td><td> 3811</td><td>0.32483805</td><td> 10027</td><td>⋯</td><td> 7724</td><td> 504</td><td>0.047858703</td><td>40000</td><td> 50000</td><td> 60000</td><td> 1466</td><td> 3629</td><td> 285</td><td>not stem</td></tr>\n",
              "\t<tr><td>29</td><td>2499</td><td>Miscellaneous Engineering                    </td><td>Engineering                        </td><td>  9133</td><td> 118</td><td> 7398</td><td> 1735</td><td>0.18997044</td><td>  7428</td><td>⋯</td><td> 5476</td><td> 597</td><td>0.074392523</td><td>39000</td><td> 50000</td><td> 65000</td><td> 3445</td><td> 2426</td><td> 365</td><td>stem    </td></tr>\n",
              "\t<tr><td>30</td><td>5402</td><td><span style=white-space:pre-wrap>Public Policy                                </span></td><td><span style=white-space:pre-wrap>Law &amp; Public Policy                </span></td><td><span style=white-space:pre-wrap>  5978</span></td><td><span style=white-space:pre-wrap>  55</span></td><td> 2639</td><td> 3339</td><td>0.55854801</td><td><span style=white-space:pre-wrap>  4547</span></td><td>⋯</td><td> 2776</td><td> 670</td><td>0.128426299</td><td>35000</td><td> 50000</td><td> 70000</td><td> 1550</td><td> 1871</td><td> 340</td><td>not stem</td></tr>\n",
              "\t<tr><td>⋮</td><td>⋮</td><td>⋮</td><td>⋮</td><td>⋮</td><td>⋮</td><td>⋮</td><td>⋮</td><td>⋮</td><td>⋮</td><td>⋱</td><td>⋮</td><td>⋮</td><td>⋮</td><td>⋮</td><td>⋮</td><td>⋮</td><td>⋮</td><td>⋮</td><td>⋮</td><td>⋮</td></tr>\n",
              "\t<tr><td>144</td><td>1105</td><td><span style=white-space:pre-wrap>Plant Science And Agronomy                   </span></td><td><span style=white-space:pre-wrap>Agriculture &amp; Natural Resources    </span></td><td><span style=white-space:pre-wrap>  7416</span></td><td> 110</td><td> 4897</td><td><span style=white-space:pre-wrap>  2519</span></td><td>0.3396710</td><td><span style=white-space:pre-wrap>  6594</span></td><td>⋯</td><td><span style=white-space:pre-wrap>  4522</span></td><td><span style=white-space:pre-wrap>  314</span></td><td>0.04545454</td><td>22900</td><td>32000</td><td>40000</td><td><span style=white-space:pre-wrap>  2089</span></td><td><span style=white-space:pre-wrap>  3545</span></td><td> 1231</td><td>not stem</td></tr>\n",
              "\t<tr><td>145</td><td>2308</td><td>Science And Computer Teacher Education       </td><td>Education                          </td><td>  6483</td><td>  59</td><td> 2049</td><td>  4434</td><td>0.6839426</td><td>  5362</td><td>⋯</td><td>  3247</td><td>  266</td><td>0.04726368</td><td>28000</td><td>32000</td><td>39000</td><td>  4214</td><td>  1106</td><td>  591</td><td>not stem</td></tr>\n",
              "\t<tr><td>146</td><td>5200</td><td><span style=white-space:pre-wrap>Psychology                                   </span></td><td><span style=white-space:pre-wrap>Psychology &amp; Social Work           </span></td><td>393735</td><td>2584</td><td>86648</td><td>307087</td><td>0.7799332</td><td>307933</td><td>⋯</td><td>174438</td><td>28169</td><td>0.08381087</td><td>24000</td><td>31500</td><td>41000</td><td>125148</td><td>141860</td><td>48207</td><td>not stem</td></tr>\n",
              "\t<tr><td>147</td><td>6002</td><td>Music                                        </td><td>Arts                               </td><td> 60633</td><td> 419</td><td>29909</td><td> 30724</td><td>0.5067208</td><td> 47662</td><td>⋯</td><td> 21425</td><td> 3918</td><td>0.07595967</td><td>22300</td><td>31000</td><td>42000</td><td> 13752</td><td> 28786</td><td> 9286</td><td>not stem</td></tr>\n",
              "\t<tr><td>148</td><td>2306</td><td>Physical And Health Education Teaching       </td><td>Education                          </td><td> 28213</td><td> 259</td><td>15670</td><td> 12543</td><td>0.4445823</td><td> 23794</td><td>⋯</td><td> 13651</td><td> 1920</td><td>0.07466750</td><td>24000</td><td>31000</td><td>40000</td><td> 12777</td><td>  9328</td><td> 2042</td><td>not stem</td></tr>\n",
              "\t<tr><td>149</td><td>6006</td><td><span style=white-space:pre-wrap>Art History And Criticism                    </span></td><td><span style=white-space:pre-wrap>Humanities &amp; Liberal Arts          </span></td><td> 21030</td><td> 204</td><td> 3240</td><td> 17790</td><td>0.8459344</td><td> 17579</td><td>⋯</td><td><span style=white-space:pre-wrap>  9965</span></td><td> 1128</td><td>0.06029828</td><td>23000</td><td>31000</td><td>40000</td><td><span style=white-space:pre-wrap>  5139</span></td><td><span style=white-space:pre-wrap>  9738</span></td><td> 3426</td><td>not stem</td></tr>\n",
              "\t<tr><td>150</td><td>6000</td><td>Fine Arts                                    </td><td>Arts                               </td><td> 74440</td><td> 623</td><td>24786</td><td> 49654</td><td>0.6670339</td><td> 59679</td><td>⋯</td><td> 31877</td><td> 5486</td><td>0.08418630</td><td>21000</td><td>30500</td><td>41000</td><td> 20792</td><td> 32725</td><td>11880</td><td>not stem</td></tr>\n",
              "\t<tr><td>151</td><td>2901</td><td><span style=white-space:pre-wrap>Family And Consumer Sciences                 </span></td><td>Industrial Arts &amp; Consumer Services</td><td> 58001</td><td> 518</td><td> 5166</td><td> 52835</td><td>0.9109326</td><td> 46624</td><td>⋯</td><td> 26906</td><td> 3355</td><td>0.06712819</td><td>22900</td><td>30000</td><td>40000</td><td> 20985</td><td> 20133</td><td> 5248</td><td>not stem</td></tr>\n",
              "\t<tr><td>152</td><td>5404</td><td><span style=white-space:pre-wrap>Social Work                                  </span></td><td><span style=white-space:pre-wrap>Psychology &amp; Social Work           </span></td><td> 53552</td><td> 374</td><td> 5137</td><td> 48415</td><td>0.9040745</td><td> 45038</td><td>⋯</td><td> 27588</td><td> 3329</td><td>0.06882792</td><td>25000</td><td>30000</td><td>35000</td><td> 27449</td><td> 14416</td><td> 4344</td><td>not stem</td></tr>\n",
              "\t<tr><td>153</td><td>1103</td><td><span style=white-space:pre-wrap>Animal Sciences                              </span></td><td><span style=white-space:pre-wrap>Agriculture &amp; Natural Resources    </span></td><td> 21573</td><td> 255</td><td> 5347</td><td> 16226</td><td>0.7521439</td><td> 17112</td><td>⋯</td><td> 10824</td><td><span style=white-space:pre-wrap>  917</span></td><td>0.05086250</td><td>22000</td><td>30000</td><td>40000</td><td><span style=white-space:pre-wrap>  5443</span></td><td><span style=white-space:pre-wrap>  9571</span></td><td> 2125</td><td>not stem</td></tr>\n",
              "\t<tr><td>154</td><td>6003</td><td>Visual And Performing Arts                   </td><td>Arts                               </td><td> 16250</td><td> 132</td><td> 4133</td><td> 12117</td><td>0.7456615</td><td> 12870</td><td>⋯</td><td>  6322</td><td> 1465</td><td>0.10219742</td><td>22000</td><td>30000</td><td>40000</td><td>  3849</td><td>  7635</td><td> 2840</td><td>not stem</td></tr>\n",
              "\t<tr><td>155</td><td>2312</td><td>Teacher Education: Multiple Levels           </td><td>Education                          </td><td> 14443</td><td> 142</td><td> 2734</td><td> 11709</td><td>0.8107041</td><td> 13076</td><td>⋯</td><td>  8457</td><td>  496</td><td>0.03654583</td><td>24000</td><td>30000</td><td>37000</td><td> 10766</td><td>  1949</td><td>  722</td><td>not stem</td></tr>\n",
              "\t<tr><td>156</td><td>5299</td><td><span style=white-space:pre-wrap>Miscellaneous Psychology                     </span></td><td><span style=white-space:pre-wrap>Psychology &amp; Social Work           </span></td><td><span style=white-space:pre-wrap>  9628</span></td><td><span style=white-space:pre-wrap>  60</span></td><td> 1936</td><td><span style=white-space:pre-wrap>  7692</span></td><td>0.7989198</td><td><span style=white-space:pre-wrap>  7653</span></td><td>⋯</td><td><span style=white-space:pre-wrap>  3838</span></td><td><span style=white-space:pre-wrap>  419</span></td><td>0.05190783</td><td>20800</td><td>30000</td><td>40000</td><td><span style=white-space:pre-wrap>  2960</span></td><td><span style=white-space:pre-wrap>  3948</span></td><td> 1650</td><td>not stem</td></tr>\n",
              "\t<tr><td>157</td><td>5403</td><td><span style=white-space:pre-wrap>Human Services And Community Organization    </span></td><td><span style=white-space:pre-wrap>Psychology &amp; Social Work           </span></td><td><span style=white-space:pre-wrap>  9374</span></td><td><span style=white-space:pre-wrap>  89</span></td><td><span style=white-space:pre-wrap>  885</span></td><td><span style=white-space:pre-wrap>  8489</span></td><td>0.9055899</td><td><span style=white-space:pre-wrap>  8294</span></td><td>⋯</td><td><span style=white-space:pre-wrap>  5061</span></td><td><span style=white-space:pre-wrap>  326</span></td><td>0.03781903</td><td>24000</td><td>30000</td><td>35000</td><td><span style=white-space:pre-wrap>  2878</span></td><td><span style=white-space:pre-wrap>  4595</span></td><td><span style=white-space:pre-wrap>  724</span></td><td>not stem</td></tr>\n",
              "\t<tr><td>158</td><td>3402</td><td><span style=white-space:pre-wrap>Humanities                                   </span></td><td><span style=white-space:pre-wrap>Humanities &amp; Liberal Arts          </span></td><td><span style=white-space:pre-wrap>  6652</span></td><td><span style=white-space:pre-wrap>  49</span></td><td> 2013</td><td><span style=white-space:pre-wrap>  4639</span></td><td>0.6973842</td><td><span style=white-space:pre-wrap>  5052</span></td><td>⋯</td><td><span style=white-space:pre-wrap>  2661</span></td><td><span style=white-space:pre-wrap>  372</span></td><td>0.06858407</td><td>20000</td><td>30000</td><td>49000</td><td><span style=white-space:pre-wrap>  1168</span></td><td><span style=white-space:pre-wrap>  3354</span></td><td> 1141</td><td>not stem</td></tr>\n",
              "\t<tr><td>159</td><td>4901</td><td><span style=white-space:pre-wrap>Theology And Religious Vocations             </span></td><td><span style=white-space:pre-wrap>Humanities &amp; Liberal Arts          </span></td><td> 30207</td><td> 310</td><td>18616</td><td> 11591</td><td>0.3837190</td><td> 24202</td><td>⋯</td><td> 13944</td><td> 1617</td><td>0.06262830</td><td>22000</td><td>29000</td><td>38000</td><td><span style=white-space:pre-wrap>  9927</span></td><td> 12037</td><td> 3304</td><td>not stem</td></tr>\n",
              "\t<tr><td>160</td><td>6007</td><td>Studio Arts                                  </td><td>Arts                               </td><td> 16977</td><td> 182</td><td> 4754</td><td> 12223</td><td>0.7199741</td><td> 13908</td><td>⋯</td><td>  7413</td><td> 1368</td><td>0.08955224</td><td>19200</td><td>29000</td><td>38300</td><td>  3948</td><td>  8707</td><td> 3586</td><td>not stem</td></tr>\n",
              "\t<tr><td>161</td><td>2201</td><td><span style=white-space:pre-wrap>Cosmetology Services And Culinary Arts       </span></td><td>Industrial Arts &amp; Consumer Services</td><td> 10510</td><td> 117</td><td> 4364</td><td><span style=white-space:pre-wrap>  6146</span></td><td>0.5847764</td><td><span style=white-space:pre-wrap>  8650</span></td><td>⋯</td><td><span style=white-space:pre-wrap>  5949</span></td><td><span style=white-space:pre-wrap>  510</span></td><td>0.05567686</td><td>20000</td><td>29000</td><td>36000</td><td><span style=white-space:pre-wrap>   563</span></td><td><span style=white-space:pre-wrap>  7384</span></td><td> 3163</td><td>not stem</td></tr>\n",
              "\t<tr><td>162</td><td>1199</td><td><span style=white-space:pre-wrap>Miscellaneous Agriculture                    </span></td><td><span style=white-space:pre-wrap>Agriculture &amp; Natural Resources    </span></td><td><span style=white-space:pre-wrap>  1488</span></td><td><span style=white-space:pre-wrap>  24</span></td><td><span style=white-space:pre-wrap>  404</span></td><td><span style=white-space:pre-wrap>  1084</span></td><td>0.7284946</td><td><span style=white-space:pre-wrap>  1290</span></td><td>⋯</td><td><span style=white-space:pre-wrap>   936</span></td><td><span style=white-space:pre-wrap>   82</span></td><td>0.05976676</td><td>23000</td><td>29000</td><td>42100</td><td><span style=white-space:pre-wrap>   483</span></td><td><span style=white-space:pre-wrap>   626</span></td><td><span style=white-space:pre-wrap>   31</span></td><td>not stem</td></tr>\n",
              "\t<tr><td>163</td><td>5502</td><td><span style=white-space:pre-wrap>Anthropology And Archeology                  </span></td><td><span style=white-space:pre-wrap>Humanities &amp; Liberal Arts          </span></td><td> 38844</td><td> 247</td><td>11376</td><td> 27468</td><td>0.7071362</td><td> 29633</td><td>⋯</td><td> 13232</td><td> 3395</td><td>0.10279157</td><td>20000</td><td>28000</td><td>38000</td><td><span style=white-space:pre-wrap>  9805</span></td><td> 16693</td><td> 6866</td><td>not stem</td></tr>\n",
              "\t<tr><td>164</td><td>6102</td><td>Communication Disorders Sciences And Services</td><td>Health                             </td><td> 38279</td><td>  95</td><td> 1225</td><td> 37054</td><td>0.9679981</td><td> 29763</td><td>⋯</td><td> 14460</td><td> 1487</td><td>0.04758400</td><td>20000</td><td>28000</td><td>40000</td><td> 19957</td><td>  9404</td><td> 5125</td><td>not stem</td></tr>\n",
              "\t<tr><td>165</td><td>2307</td><td>Early Childhood Education                    </td><td>Education                          </td><td> 37589</td><td> 342</td><td> 1167</td><td> 36422</td><td>0.9689537</td><td> 32551</td><td>⋯</td><td> 20748</td><td> 1360</td><td>0.04010498</td><td>21000</td><td>28000</td><td>35000</td><td> 23515</td><td>  7705</td><td> 2868</td><td>not stem</td></tr>\n",
              "\t<tr><td>166</td><td>2603</td><td><span style=white-space:pre-wrap>Other Foreign Languages                      </span></td><td><span style=white-space:pre-wrap>Humanities &amp; Liberal Arts          </span></td><td> 11204</td><td><span style=white-space:pre-wrap>  56</span></td><td> 3472</td><td><span style=white-space:pre-wrap>  7732</span></td><td>0.6901107</td><td><span style=white-space:pre-wrap>  7052</span></td><td>⋯</td><td><span style=white-space:pre-wrap>  3214</span></td><td><span style=white-space:pre-wrap>  846</span></td><td>0.10711573</td><td>22900</td><td>27500</td><td>38000</td><td><span style=white-space:pre-wrap>  2326</span></td><td><span style=white-space:pre-wrap>  3703</span></td><td> 1115</td><td>not stem</td></tr>\n",
              "\t<tr><td>167</td><td>6001</td><td>Drama And Theater Arts                       </td><td>Arts                               </td><td> 43249</td><td> 357</td><td>14440</td><td> 28809</td><td>0.6661194</td><td> 36165</td><td>⋯</td><td> 16891</td><td> 3040</td><td>0.07754113</td><td>19200</td><td>27000</td><td>35000</td><td>  6994</td><td> 25313</td><td>11068</td><td>not stem</td></tr>\n",
              "\t<tr><td>168</td><td>3302</td><td><span style=white-space:pre-wrap>Composition And Rhetoric                     </span></td><td><span style=white-space:pre-wrap>Humanities &amp; Liberal Arts          </span></td><td> 18953</td><td> 151</td><td> 7022</td><td> 11931</td><td>0.6295046</td><td> 15053</td><td>⋯</td><td><span style=white-space:pre-wrap>  7832</span></td><td> 1340</td><td>0.08174221</td><td>20000</td><td>27000</td><td>35000</td><td><span style=white-space:pre-wrap>  4855</span></td><td><span style=white-space:pre-wrap>  8100</span></td><td> 3466</td><td>not stem</td></tr>\n",
              "\t<tr><td>169</td><td>3609</td><td><span style=white-space:pre-wrap>Zoology                                      </span></td><td><span style=white-space:pre-wrap>Biology &amp; Life Science             </span></td><td><span style=white-space:pre-wrap>  8409</span></td><td><span style=white-space:pre-wrap>  47</span></td><td> 3050</td><td><span style=white-space:pre-wrap>  5359</span></td><td>0.6372934</td><td><span style=white-space:pre-wrap>  6259</span></td><td>⋯</td><td><span style=white-space:pre-wrap>  3602</span></td><td><span style=white-space:pre-wrap>  304</span></td><td>0.04632028</td><td>20000</td><td>26000</td><td>39000</td><td><span style=white-space:pre-wrap>  2771</span></td><td><span style=white-space:pre-wrap>  2947</span></td><td><span style=white-space:pre-wrap>  743</span></td><td><span style=white-space:pre-wrap>stem    </span></td></tr>\n",
              "\t<tr><td>170</td><td>5201</td><td><span style=white-space:pre-wrap>Educational Psychology                       </span></td><td><span style=white-space:pre-wrap>Psychology &amp; Social Work           </span></td><td><span style=white-space:pre-wrap>  2854</span></td><td><span style=white-space:pre-wrap>   7</span></td><td><span style=white-space:pre-wrap>  522</span></td><td><span style=white-space:pre-wrap>  2332</span></td><td>0.8170988</td><td><span style=white-space:pre-wrap>  2125</span></td><td>⋯</td><td><span style=white-space:pre-wrap>  1211</span></td><td><span style=white-space:pre-wrap>  148</span></td><td>0.06511219</td><td>24000</td><td>25000</td><td>34000</td><td><span style=white-space:pre-wrap>  1488</span></td><td><span style=white-space:pre-wrap>   615</span></td><td><span style=white-space:pre-wrap>   82</span></td><td>not stem</td></tr>\n",
              "\t<tr><td>171</td><td>5202</td><td><span style=white-space:pre-wrap>Clinical Psychology                          </span></td><td><span style=white-space:pre-wrap>Psychology &amp; Social Work           </span></td><td><span style=white-space:pre-wrap>  2838</span></td><td><span style=white-space:pre-wrap>  13</span></td><td><span style=white-space:pre-wrap>  568</span></td><td><span style=white-space:pre-wrap>  2270</span></td><td>0.7998591</td><td><span style=white-space:pre-wrap>  2101</span></td><td>⋯</td><td><span style=white-space:pre-wrap>  1293</span></td><td><span style=white-space:pre-wrap>  368</span></td><td>0.14904820</td><td>25000</td><td>25000</td><td>40000</td><td><span style=white-space:pre-wrap>   986</span></td><td><span style=white-space:pre-wrap>   870</span></td><td><span style=white-space:pre-wrap>  622</span></td><td>not stem</td></tr>\n",
              "\t<tr><td>172</td><td>5203</td><td><span style=white-space:pre-wrap>Counseling Psychology                        </span></td><td><span style=white-space:pre-wrap>Psychology &amp; Social Work           </span></td><td><span style=white-space:pre-wrap>  4626</span></td><td><span style=white-space:pre-wrap>  21</span></td><td><span style=white-space:pre-wrap>  931</span></td><td><span style=white-space:pre-wrap>  3695</span></td><td>0.7987462</td><td><span style=white-space:pre-wrap>  3777</span></td><td>⋯</td><td><span style=white-space:pre-wrap>  2738</span></td><td><span style=white-space:pre-wrap>  214</span></td><td>0.05362065</td><td>19200</td><td>23400</td><td>26000</td><td><span style=white-space:pre-wrap>  2403</span></td><td><span style=white-space:pre-wrap>  1245</span></td><td><span style=white-space:pre-wrap>  308</span></td><td>not stem</td></tr>\n",
              "\t<tr><td>173</td><td>3501</td><td>Library Science                              </td><td>Education                          </td><td>  1098</td><td>   2</td><td>  134</td><td>   964</td><td>0.8779599</td><td>   742</td><td>⋯</td><td>   410</td><td>   87</td><td>0.10494572</td><td>20000</td><td>22000</td><td>22000</td><td>   288</td><td>   338</td><td>  192</td><td>not stem</td></tr>\n",
              "</tbody>\n",
              "</table>\n"
            ],
            "text/markdown": "\nA tibble: 173 × 22\n\n| rank &lt;int&gt; | major_code &lt;int&gt; | major &lt;chr&gt; | major_category &lt;chr&gt; | total &lt;int&gt; | sample_size &lt;int&gt; | men &lt;int&gt; | women &lt;int&gt; | sharewomen &lt;dbl&gt; | employed &lt;int&gt; | ⋯ ⋯ | employed_fulltime_yearround &lt;int&gt; | unemployed &lt;int&gt; | unemployment_rate &lt;dbl&gt; | p25th &lt;dbl&gt; | median &lt;dbl&gt; | p75th &lt;dbl&gt; | college_jobs &lt;int&gt; | non_college_jobs &lt;int&gt; | low_wage_jobs &lt;int&gt; | major_type &lt;chr&gt; |\n|---|---|---|---|---|---|---|---|---|---|---|---|---|---|---|---|---|---|---|---|---|\n|  1 | 2419 | Petroleum Engineering                         | Engineering                         |   2339 |   36 |  2057 |   282 | 0.12056434 |   1976 | ⋯ |  1207 |   37 | 0.018380527 | 95000 | 110000 | 125000 |  1534 |   364 |  193 | stem     |\n|  2 | 2416 | Mining And Mineral Engineering                | Engineering                         |    756 |    7 |   679 |    77 | 0.10185185 |    640 | ⋯ |   388 |   85 | 0.117241379 | 55000 |  75000 |  90000 |   350 |   257 |   50 | stem     |\n|  3 | 2415 | Metallurgical Engineering                     | Engineering                         |    856 |    3 |   725 |   131 | 0.15303738 |    648 | ⋯ |   340 |   16 | 0.024096386 | 50000 |  73000 | 105000 |   456 |   176 |    0 | stem     |\n|  4 | 2417 | Naval Architecture And Marine Engineering     | Engineering                         |   1258 |   16 |  1123 |   135 | 0.10731320 |    758 | ⋯ |   692 |   40 | 0.050125313 | 43000 |  70000 |  80000 |   529 |   102 |    0 | stem     |\n|  5 | 2405 | Chemical Engineering                          | Engineering                         |  32260 |  289 | 21239 | 11021 | 0.34163050 |  25694 | ⋯ | 16697 | 1672 | 0.061097712 | 50000 |  65000 |  75000 | 18314 |  4440 |  972 | stem     |\n|  6 | 2418 | Nuclear Engineering                           | Engineering                         |   2573 |   17 |  2200 |   373 | 0.14496697 |   1857 | ⋯ |  1449 |  400 | 0.177226407 | 50000 |  65000 | 102000 |  1142 |   657 |  244 | stem     |\n|  7 | 6202 | Actuarial Science                             | Business                            |   3777 |   51 |  2110 |  1667 | 0.44135557 |   2912 | ⋯ |  2482 |  308 | 0.095652174 | 53000 |  62000 |  72000 |  1768 |   314 |  259 | not stem |\n|  8 | 5001 | Astronomy And Astrophysics                    | Physical Sciences                   |   1792 |   10 |   832 |   960 | 0.53571429 |   1526 | ⋯ |   827 |   33 | 0.021167415 | 31500 |  62000 | 109000 |   972 |   500 |  220 | stem     |\n|  9 | 2414 | Mechanical Engineering                        | Engineering                         |  91227 | 1029 | 80320 | 10907 | 0.11955890 |  76442 | ⋯ | 54639 | 4650 | 0.057342278 | 48000 |  60000 |  70000 | 52844 | 16384 | 3253 | stem     |\n| 10 | 2408 | Electrical Engineering                        | Engineering                         |  81527 |  631 | 65511 | 16016 | 0.19645026 |  61928 | ⋯ | 41413 | 3895 | 0.059173845 | 45000 |  60000 |  72000 | 45829 | 10874 | 3170 | stem     |\n| 11 | 2407 | Computer Engineering                          | Engineering                         |  41542 |  399 | 33258 |  8284 | 0.19941264 |  32506 | ⋯ | 23621 | 2275 | 0.065409275 | 45000 |  60000 |  75000 | 23694 |  5721 |  980 | stem     |\n| 12 | 2401 | Aerospace Engineering                         | Engineering                         |  15058 |  147 | 12953 |  2105 | 0.13979280 |  11391 | ⋯ |  8790 |  794 | 0.065162085 | 42000 |  60000 |  70000 |  8184 |  2425 |  372 | stem     |\n| 13 | 2404 | Biomedical Engineering                        | Engineering                         |  14955 |   79 |  8407 |  6548 | 0.43784687 |  10047 | ⋯ |  5986 | 1019 | 0.092083860 | 36000 |  60000 |  70000 |  6439 |  2471 |  789 | stem     |\n| 14 | 5008 | Materials Science                             | Engineering                         |   4279 |   22 |  2949 |  1330 | 0.31082028 |   3307 | ⋯ |  1967 |   78 | 0.023042836 | 39000 |  60000 |  65000 |  2626 |   391 |   81 | stem     |\n| 15 | 2409 | Engineering Mechanics Physics And Science     | Engineering                         |   4321 |   30 |  3526 |   795 | 0.18398519 |   3608 | ⋯ |  2004 |   23 | 0.006334343 | 25000 |  58000 |  74000 |  2439 |   947 |  263 | stem     |\n| 16 | 2402 | Biological Engineering                        | Engineering                         |   8925 |   55 |  6062 |  2863 | 0.32078431 |   6170 | ⋯ |  3413 |  589 | 0.087143069 | 40000 |  57100 |  76000 |  3603 |  1595 |  524 | stem     |\n| 17 | 2412 | Industrial And Manufacturing Engineering      | Engineering                         |  18968 |  183 | 12453 |  6515 | 0.34347322 |  15604 | ⋯ | 11326 |  699 | 0.042875544 | 37900 |  57000 |  67000 |  8306 |  3235 |  640 | stem     |\n| 18 | 2400 | General Engineering                           | Engineering                         |  61152 |  425 | 45683 | 15469 | 0.25295984 |  44931 | ⋯ | 33540 | 2859 | 0.059824231 | 36000 |  56000 |  69000 | 26898 | 11734 | 3192 | stem     |\n| 19 | 2403 | Architectural Engineering                     | Engineering                         |   2825 |   26 |  1835 |   990 | 0.35044248 |   2575 | ⋯ |  1848 |  170 | 0.061930783 | 38000 |  54000 |  65000 |  1665 |   649 |  137 | stem     |\n| 20 | 3201 | Court Reporting                               | Law &amp; Public Policy                 |   1148 |   14 |   877 |   271 | 0.23606272 |    930 | ⋯ |   808 |   11 | 0.011689692 | 50000 |  54000 |  54000 |   402 |   528 |  144 | not stem |\n| 21 | 2102 | Computer Science                              | Computers &amp; Mathematics             | 128319 | 1196 | 99743 | 28576 | 0.22269500 | 102087 | ⋯ | 70932 | 6884 | 0.063172771 | 39000 |  53000 |  70000 | 68622 | 25667 | 5144 | stem     |\n| 22 | 1104 | Food Science                                  | Agriculture &amp; Natural Resources     |     NA |   36 |    NA |    NA |         NA |   3149 | ⋯ |  1735 |  338 | 0.096931460 | 32000 |  53000 |  70000 |  1183 |  1274 |  485 | not stem |\n| 23 | 2502 | Electrical Engineering Technology             | Engineering                         |  11565 |   97 |  8181 |  3384 | 0.29260700 |   8587 | ⋯ |  5681 |  824 | 0.087557114 | 35000 |  52000 |  60000 |  5126 |  2686 |  696 | stem     |\n| 24 | 2413 | Materials Engineering And Materials Science   | Engineering                         |   2993 |   22 |  2020 |   973 | 0.32509188 |   2449 | ⋯ |  1151 |   70 | 0.027788805 | 35000 |  52000 |  62000 |  1911 |   305 |   70 | stem     |\n| 25 | 6212 | Management Information Systems And Statistics | Business                            |  18713 |  278 | 13496 |  5217 | 0.27879015 |  16413 | ⋯ | 13017 | 1015 | 0.058239614 | 38000 |  51000 |  60000 |  6342 |  5741 |  708 | not stem |\n| 26 | 2406 | Civil Engineering                             | Engineering                         |  53153 |  565 | 41081 | 12072 | 0.22711794 |  43041 | ⋯ | 29196 | 3270 | 0.070609574 | 40000 |  50000 |  60000 | 28526 |  9356 | 2899 | stem     |\n| 27 | 5601 | Construction Services                         | Industrial Arts &amp; Consumer Services |  18498 |  295 | 16820 |  1678 | 0.09071251 |  16318 | ⋯ | 12313 | 1042 | 0.060023041 | 36000 |  50000 |  60000 |  3275 |  5351 |  703 | not stem |\n| 28 | 6204 | Operations Logistics And E-Commerce           | Business                            |  11732 |  156 |  7921 |  3811 | 0.32483805 |  10027 | ⋯ |  7724 |  504 | 0.047858703 | 40000 |  50000 |  60000 |  1466 |  3629 |  285 | not stem |\n| 29 | 2499 | Miscellaneous Engineering                     | Engineering                         |   9133 |  118 |  7398 |  1735 | 0.18997044 |   7428 | ⋯ |  5476 |  597 | 0.074392523 | 39000 |  50000 |  65000 |  3445 |  2426 |  365 | stem     |\n| 30 | 5402 | Public Policy                                 | Law &amp; Public Policy                 |   5978 |   55 |  2639 |  3339 | 0.55854801 |   4547 | ⋯ |  2776 |  670 | 0.128426299 | 35000 |  50000 |  70000 |  1550 |  1871 |  340 | not stem |\n| ⋮ | ⋮ | ⋮ | ⋮ | ⋮ | ⋮ | ⋮ | ⋮ | ⋮ | ⋮ | ⋱ | ⋮ | ⋮ | ⋮ | ⋮ | ⋮ | ⋮ | ⋮ | ⋮ | ⋮ | ⋮ |\n| 144 | 1105 | Plant Science And Agronomy                    | Agriculture &amp; Natural Resources     |   7416 |  110 |  4897 |   2519 | 0.3396710 |   6594 | ⋯ |   4522 |   314 | 0.04545454 | 22900 | 32000 | 40000 |   2089 |   3545 |  1231 | not stem |\n| 145 | 2308 | Science And Computer Teacher Education        | Education                           |   6483 |   59 |  2049 |   4434 | 0.6839426 |   5362 | ⋯ |   3247 |   266 | 0.04726368 | 28000 | 32000 | 39000 |   4214 |   1106 |   591 | not stem |\n| 146 | 5200 | Psychology                                    | Psychology &amp; Social Work            | 393735 | 2584 | 86648 | 307087 | 0.7799332 | 307933 | ⋯ | 174438 | 28169 | 0.08381087 | 24000 | 31500 | 41000 | 125148 | 141860 | 48207 | not stem |\n| 147 | 6002 | Music                                         | Arts                                |  60633 |  419 | 29909 |  30724 | 0.5067208 |  47662 | ⋯ |  21425 |  3918 | 0.07595967 | 22300 | 31000 | 42000 |  13752 |  28786 |  9286 | not stem |\n| 148 | 2306 | Physical And Health Education Teaching        | Education                           |  28213 |  259 | 15670 |  12543 | 0.4445823 |  23794 | ⋯ |  13651 |  1920 | 0.07466750 | 24000 | 31000 | 40000 |  12777 |   9328 |  2042 | not stem |\n| 149 | 6006 | Art History And Criticism                     | Humanities &amp; Liberal Arts           |  21030 |  204 |  3240 |  17790 | 0.8459344 |  17579 | ⋯ |   9965 |  1128 | 0.06029828 | 23000 | 31000 | 40000 |   5139 |   9738 |  3426 | not stem |\n| 150 | 6000 | Fine Arts                                     | Arts                                |  74440 |  623 | 24786 |  49654 | 0.6670339 |  59679 | ⋯ |  31877 |  5486 | 0.08418630 | 21000 | 30500 | 41000 |  20792 |  32725 | 11880 | not stem |\n| 151 | 2901 | Family And Consumer Sciences                  | Industrial Arts &amp; Consumer Services |  58001 |  518 |  5166 |  52835 | 0.9109326 |  46624 | ⋯ |  26906 |  3355 | 0.06712819 | 22900 | 30000 | 40000 |  20985 |  20133 |  5248 | not stem |\n| 152 | 5404 | Social Work                                   | Psychology &amp; Social Work            |  53552 |  374 |  5137 |  48415 | 0.9040745 |  45038 | ⋯ |  27588 |  3329 | 0.06882792 | 25000 | 30000 | 35000 |  27449 |  14416 |  4344 | not stem |\n| 153 | 1103 | Animal Sciences                               | Agriculture &amp; Natural Resources     |  21573 |  255 |  5347 |  16226 | 0.7521439 |  17112 | ⋯ |  10824 |   917 | 0.05086250 | 22000 | 30000 | 40000 |   5443 |   9571 |  2125 | not stem |\n| 154 | 6003 | Visual And Performing Arts                    | Arts                                |  16250 |  132 |  4133 |  12117 | 0.7456615 |  12870 | ⋯ |   6322 |  1465 | 0.10219742 | 22000 | 30000 | 40000 |   3849 |   7635 |  2840 | not stem |\n| 155 | 2312 | Teacher Education: Multiple Levels            | Education                           |  14443 |  142 |  2734 |  11709 | 0.8107041 |  13076 | ⋯ |   8457 |   496 | 0.03654583 | 24000 | 30000 | 37000 |  10766 |   1949 |   722 | not stem |\n| 156 | 5299 | Miscellaneous Psychology                      | Psychology &amp; Social Work            |   9628 |   60 |  1936 |   7692 | 0.7989198 |   7653 | ⋯ |   3838 |   419 | 0.05190783 | 20800 | 30000 | 40000 |   2960 |   3948 |  1650 | not stem |\n| 157 | 5403 | Human Services And Community Organization     | Psychology &amp; Social Work            |   9374 |   89 |   885 |   8489 | 0.9055899 |   8294 | ⋯ |   5061 |   326 | 0.03781903 | 24000 | 30000 | 35000 |   2878 |   4595 |   724 | not stem |\n| 158 | 3402 | Humanities                                    | Humanities &amp; Liberal Arts           |   6652 |   49 |  2013 |   4639 | 0.6973842 |   5052 | ⋯ |   2661 |   372 | 0.06858407 | 20000 | 30000 | 49000 |   1168 |   3354 |  1141 | not stem |\n| 159 | 4901 | Theology And Religious Vocations              | Humanities &amp; Liberal Arts           |  30207 |  310 | 18616 |  11591 | 0.3837190 |  24202 | ⋯ |  13944 |  1617 | 0.06262830 | 22000 | 29000 | 38000 |   9927 |  12037 |  3304 | not stem |\n| 160 | 6007 | Studio Arts                                   | Arts                                |  16977 |  182 |  4754 |  12223 | 0.7199741 |  13908 | ⋯ |   7413 |  1368 | 0.08955224 | 19200 | 29000 | 38300 |   3948 |   8707 |  3586 | not stem |\n| 161 | 2201 | Cosmetology Services And Culinary Arts        | Industrial Arts &amp; Consumer Services |  10510 |  117 |  4364 |   6146 | 0.5847764 |   8650 | ⋯ |   5949 |   510 | 0.05567686 | 20000 | 29000 | 36000 |    563 |   7384 |  3163 | not stem |\n| 162 | 1199 | Miscellaneous Agriculture                     | Agriculture &amp; Natural Resources     |   1488 |   24 |   404 |   1084 | 0.7284946 |   1290 | ⋯ |    936 |    82 | 0.05976676 | 23000 | 29000 | 42100 |    483 |    626 |    31 | not stem |\n| 163 | 5502 | Anthropology And Archeology                   | Humanities &amp; Liberal Arts           |  38844 |  247 | 11376 |  27468 | 0.7071362 |  29633 | ⋯ |  13232 |  3395 | 0.10279157 | 20000 | 28000 | 38000 |   9805 |  16693 |  6866 | not stem |\n| 164 | 6102 | Communication Disorders Sciences And Services | Health                              |  38279 |   95 |  1225 |  37054 | 0.9679981 |  29763 | ⋯ |  14460 |  1487 | 0.04758400 | 20000 | 28000 | 40000 |  19957 |   9404 |  5125 | not stem |\n| 165 | 2307 | Early Childhood Education                     | Education                           |  37589 |  342 |  1167 |  36422 | 0.9689537 |  32551 | ⋯ |  20748 |  1360 | 0.04010498 | 21000 | 28000 | 35000 |  23515 |   7705 |  2868 | not stem |\n| 166 | 2603 | Other Foreign Languages                       | Humanities &amp; Liberal Arts           |  11204 |   56 |  3472 |   7732 | 0.6901107 |   7052 | ⋯ |   3214 |   846 | 0.10711573 | 22900 | 27500 | 38000 |   2326 |   3703 |  1115 | not stem |\n| 167 | 6001 | Drama And Theater Arts                        | Arts                                |  43249 |  357 | 14440 |  28809 | 0.6661194 |  36165 | ⋯ |  16891 |  3040 | 0.07754113 | 19200 | 27000 | 35000 |   6994 |  25313 | 11068 | not stem |\n| 168 | 3302 | Composition And Rhetoric                      | Humanities &amp; Liberal Arts           |  18953 |  151 |  7022 |  11931 | 0.6295046 |  15053 | ⋯ |   7832 |  1340 | 0.08174221 | 20000 | 27000 | 35000 |   4855 |   8100 |  3466 | not stem |\n| 169 | 3609 | Zoology                                       | Biology &amp; Life Science              |   8409 |   47 |  3050 |   5359 | 0.6372934 |   6259 | ⋯ |   3602 |   304 | 0.04632028 | 20000 | 26000 | 39000 |   2771 |   2947 |   743 | stem     |\n| 170 | 5201 | Educational Psychology                        | Psychology &amp; Social Work            |   2854 |    7 |   522 |   2332 | 0.8170988 |   2125 | ⋯ |   1211 |   148 | 0.06511219 | 24000 | 25000 | 34000 |   1488 |    615 |    82 | not stem |\n| 171 | 5202 | Clinical Psychology                           | Psychology &amp; Social Work            |   2838 |   13 |   568 |   2270 | 0.7998591 |   2101 | ⋯ |   1293 |   368 | 0.14904820 | 25000 | 25000 | 40000 |    986 |    870 |   622 | not stem |\n| 172 | 5203 | Counseling Psychology                         | Psychology &amp; Social Work            |   4626 |   21 |   931 |   3695 | 0.7987462 |   3777 | ⋯ |   2738 |   214 | 0.05362065 | 19200 | 23400 | 26000 |   2403 |   1245 |   308 | not stem |\n| 173 | 3501 | Library Science                               | Education                           |   1098 |    2 |   134 |    964 | 0.8779599 |    742 | ⋯ |    410 |    87 | 0.10494572 | 20000 | 22000 | 22000 |    288 |    338 |   192 | not stem |\n\n",
            "text/latex": "A tibble: 173 × 22\n\\begin{tabular}{lllllllllllllllllllll}\n rank & major\\_code & major & major\\_category & total & sample\\_size & men & women & sharewomen & employed & ⋯ & employed\\_fulltime\\_yearround & unemployed & unemployment\\_rate & p25th & median & p75th & college\\_jobs & non\\_college\\_jobs & low\\_wage\\_jobs & major\\_type\\\\\n <int> & <int> & <chr> & <chr> & <int> & <int> & <int> & <int> & <dbl> & <int> & ⋯ & <int> & <int> & <dbl> & <dbl> & <dbl> & <dbl> & <int> & <int> & <int> & <chr>\\\\\n\\hline\n\t  1 & 2419 & Petroleum Engineering                         & Engineering                         &   2339 &   36 &  2057 &   282 & 0.12056434 &   1976 & ⋯ &  1207 &   37 & 0.018380527 & 95000 & 110000 & 125000 &  1534 &   364 &  193 & stem    \\\\\n\t  2 & 2416 & Mining And Mineral Engineering                & Engineering                         &    756 &    7 &   679 &    77 & 0.10185185 &    640 & ⋯ &   388 &   85 & 0.117241379 & 55000 &  75000 &  90000 &   350 &   257 &   50 & stem    \\\\\n\t  3 & 2415 & Metallurgical Engineering                     & Engineering                         &    856 &    3 &   725 &   131 & 0.15303738 &    648 & ⋯ &   340 &   16 & 0.024096386 & 50000 &  73000 & 105000 &   456 &   176 &    0 & stem    \\\\\n\t  4 & 2417 & Naval Architecture And Marine Engineering     & Engineering                         &   1258 &   16 &  1123 &   135 & 0.10731320 &    758 & ⋯ &   692 &   40 & 0.050125313 & 43000 &  70000 &  80000 &   529 &   102 &    0 & stem    \\\\\n\t  5 & 2405 & Chemical Engineering                          & Engineering                         &  32260 &  289 & 21239 & 11021 & 0.34163050 &  25694 & ⋯ & 16697 & 1672 & 0.061097712 & 50000 &  65000 &  75000 & 18314 &  4440 &  972 & stem    \\\\\n\t  6 & 2418 & Nuclear Engineering                           & Engineering                         &   2573 &   17 &  2200 &   373 & 0.14496697 &   1857 & ⋯ &  1449 &  400 & 0.177226407 & 50000 &  65000 & 102000 &  1142 &   657 &  244 & stem    \\\\\n\t  7 & 6202 & Actuarial Science                             & Business                            &   3777 &   51 &  2110 &  1667 & 0.44135557 &   2912 & ⋯ &  2482 &  308 & 0.095652174 & 53000 &  62000 &  72000 &  1768 &   314 &  259 & not stem\\\\\n\t  8 & 5001 & Astronomy And Astrophysics                    & Physical Sciences                   &   1792 &   10 &   832 &   960 & 0.53571429 &   1526 & ⋯ &   827 &   33 & 0.021167415 & 31500 &  62000 & 109000 &   972 &   500 &  220 & stem    \\\\\n\t  9 & 2414 & Mechanical Engineering                        & Engineering                         &  91227 & 1029 & 80320 & 10907 & 0.11955890 &  76442 & ⋯ & 54639 & 4650 & 0.057342278 & 48000 &  60000 &  70000 & 52844 & 16384 & 3253 & stem    \\\\\n\t 10 & 2408 & Electrical Engineering                        & Engineering                         &  81527 &  631 & 65511 & 16016 & 0.19645026 &  61928 & ⋯ & 41413 & 3895 & 0.059173845 & 45000 &  60000 &  72000 & 45829 & 10874 & 3170 & stem    \\\\\n\t 11 & 2407 & Computer Engineering                          & Engineering                         &  41542 &  399 & 33258 &  8284 & 0.19941264 &  32506 & ⋯ & 23621 & 2275 & 0.065409275 & 45000 &  60000 &  75000 & 23694 &  5721 &  980 & stem    \\\\\n\t 12 & 2401 & Aerospace Engineering                         & Engineering                         &  15058 &  147 & 12953 &  2105 & 0.13979280 &  11391 & ⋯ &  8790 &  794 & 0.065162085 & 42000 &  60000 &  70000 &  8184 &  2425 &  372 & stem    \\\\\n\t 13 & 2404 & Biomedical Engineering                        & Engineering                         &  14955 &   79 &  8407 &  6548 & 0.43784687 &  10047 & ⋯ &  5986 & 1019 & 0.092083860 & 36000 &  60000 &  70000 &  6439 &  2471 &  789 & stem    \\\\\n\t 14 & 5008 & Materials Science                             & Engineering                         &   4279 &   22 &  2949 &  1330 & 0.31082028 &   3307 & ⋯ &  1967 &   78 & 0.023042836 & 39000 &  60000 &  65000 &  2626 &   391 &   81 & stem    \\\\\n\t 15 & 2409 & Engineering Mechanics Physics And Science     & Engineering                         &   4321 &   30 &  3526 &   795 & 0.18398519 &   3608 & ⋯ &  2004 &   23 & 0.006334343 & 25000 &  58000 &  74000 &  2439 &   947 &  263 & stem    \\\\\n\t 16 & 2402 & Biological Engineering                        & Engineering                         &   8925 &   55 &  6062 &  2863 & 0.32078431 &   6170 & ⋯ &  3413 &  589 & 0.087143069 & 40000 &  57100 &  76000 &  3603 &  1595 &  524 & stem    \\\\\n\t 17 & 2412 & Industrial And Manufacturing Engineering      & Engineering                         &  18968 &  183 & 12453 &  6515 & 0.34347322 &  15604 & ⋯ & 11326 &  699 & 0.042875544 & 37900 &  57000 &  67000 &  8306 &  3235 &  640 & stem    \\\\\n\t 18 & 2400 & General Engineering                           & Engineering                         &  61152 &  425 & 45683 & 15469 & 0.25295984 &  44931 & ⋯ & 33540 & 2859 & 0.059824231 & 36000 &  56000 &  69000 & 26898 & 11734 & 3192 & stem    \\\\\n\t 19 & 2403 & Architectural Engineering                     & Engineering                         &   2825 &   26 &  1835 &   990 & 0.35044248 &   2575 & ⋯ &  1848 &  170 & 0.061930783 & 38000 &  54000 &  65000 &  1665 &   649 &  137 & stem    \\\\\n\t 20 & 3201 & Court Reporting                               & Law \\& Public Policy                 &   1148 &   14 &   877 &   271 & 0.23606272 &    930 & ⋯ &   808 &   11 & 0.011689692 & 50000 &  54000 &  54000 &   402 &   528 &  144 & not stem\\\\\n\t 21 & 2102 & Computer Science                              & Computers \\& Mathematics             & 128319 & 1196 & 99743 & 28576 & 0.22269500 & 102087 & ⋯ & 70932 & 6884 & 0.063172771 & 39000 &  53000 &  70000 & 68622 & 25667 & 5144 & stem    \\\\\n\t 22 & 1104 & Food Science                                  & Agriculture \\& Natural Resources     &     NA &   36 &    NA &    NA &         NA &   3149 & ⋯ &  1735 &  338 & 0.096931460 & 32000 &  53000 &  70000 &  1183 &  1274 &  485 & not stem\\\\\n\t 23 & 2502 & Electrical Engineering Technology             & Engineering                         &  11565 &   97 &  8181 &  3384 & 0.29260700 &   8587 & ⋯ &  5681 &  824 & 0.087557114 & 35000 &  52000 &  60000 &  5126 &  2686 &  696 & stem    \\\\\n\t 24 & 2413 & Materials Engineering And Materials Science   & Engineering                         &   2993 &   22 &  2020 &   973 & 0.32509188 &   2449 & ⋯ &  1151 &   70 & 0.027788805 & 35000 &  52000 &  62000 &  1911 &   305 &   70 & stem    \\\\\n\t 25 & 6212 & Management Information Systems And Statistics & Business                            &  18713 &  278 & 13496 &  5217 & 0.27879015 &  16413 & ⋯ & 13017 & 1015 & 0.058239614 & 38000 &  51000 &  60000 &  6342 &  5741 &  708 & not stem\\\\\n\t 26 & 2406 & Civil Engineering                             & Engineering                         &  53153 &  565 & 41081 & 12072 & 0.22711794 &  43041 & ⋯ & 29196 & 3270 & 0.070609574 & 40000 &  50000 &  60000 & 28526 &  9356 & 2899 & stem    \\\\\n\t 27 & 5601 & Construction Services                         & Industrial Arts \\& Consumer Services &  18498 &  295 & 16820 &  1678 & 0.09071251 &  16318 & ⋯ & 12313 & 1042 & 0.060023041 & 36000 &  50000 &  60000 &  3275 &  5351 &  703 & not stem\\\\\n\t 28 & 6204 & Operations Logistics And E-Commerce           & Business                            &  11732 &  156 &  7921 &  3811 & 0.32483805 &  10027 & ⋯ &  7724 &  504 & 0.047858703 & 40000 &  50000 &  60000 &  1466 &  3629 &  285 & not stem\\\\\n\t 29 & 2499 & Miscellaneous Engineering                     & Engineering                         &   9133 &  118 &  7398 &  1735 & 0.18997044 &   7428 & ⋯ &  5476 &  597 & 0.074392523 & 39000 &  50000 &  65000 &  3445 &  2426 &  365 & stem    \\\\\n\t 30 & 5402 & Public Policy                                 & Law \\& Public Policy                 &   5978 &   55 &  2639 &  3339 & 0.55854801 &   4547 & ⋯ &  2776 &  670 & 0.128426299 & 35000 &  50000 &  70000 &  1550 &  1871 &  340 & not stem\\\\\n\t ⋮ & ⋮ & ⋮ & ⋮ & ⋮ & ⋮ & ⋮ & ⋮ & ⋮ & ⋮ & ⋱ & ⋮ & ⋮ & ⋮ & ⋮ & ⋮ & ⋮ & ⋮ & ⋮ & ⋮ & ⋮\\\\\n\t 144 & 1105 & Plant Science And Agronomy                    & Agriculture \\& Natural Resources     &   7416 &  110 &  4897 &   2519 & 0.3396710 &   6594 & ⋯ &   4522 &   314 & 0.04545454 & 22900 & 32000 & 40000 &   2089 &   3545 &  1231 & not stem\\\\\n\t 145 & 2308 & Science And Computer Teacher Education        & Education                           &   6483 &   59 &  2049 &   4434 & 0.6839426 &   5362 & ⋯ &   3247 &   266 & 0.04726368 & 28000 & 32000 & 39000 &   4214 &   1106 &   591 & not stem\\\\\n\t 146 & 5200 & Psychology                                    & Psychology \\& Social Work            & 393735 & 2584 & 86648 & 307087 & 0.7799332 & 307933 & ⋯ & 174438 & 28169 & 0.08381087 & 24000 & 31500 & 41000 & 125148 & 141860 & 48207 & not stem\\\\\n\t 147 & 6002 & Music                                         & Arts                                &  60633 &  419 & 29909 &  30724 & 0.5067208 &  47662 & ⋯ &  21425 &  3918 & 0.07595967 & 22300 & 31000 & 42000 &  13752 &  28786 &  9286 & not stem\\\\\n\t 148 & 2306 & Physical And Health Education Teaching        & Education                           &  28213 &  259 & 15670 &  12543 & 0.4445823 &  23794 & ⋯ &  13651 &  1920 & 0.07466750 & 24000 & 31000 & 40000 &  12777 &   9328 &  2042 & not stem\\\\\n\t 149 & 6006 & Art History And Criticism                     & Humanities \\& Liberal Arts           &  21030 &  204 &  3240 &  17790 & 0.8459344 &  17579 & ⋯ &   9965 &  1128 & 0.06029828 & 23000 & 31000 & 40000 &   5139 &   9738 &  3426 & not stem\\\\\n\t 150 & 6000 & Fine Arts                                     & Arts                                &  74440 &  623 & 24786 &  49654 & 0.6670339 &  59679 & ⋯ &  31877 &  5486 & 0.08418630 & 21000 & 30500 & 41000 &  20792 &  32725 & 11880 & not stem\\\\\n\t 151 & 2901 & Family And Consumer Sciences                  & Industrial Arts \\& Consumer Services &  58001 &  518 &  5166 &  52835 & 0.9109326 &  46624 & ⋯ &  26906 &  3355 & 0.06712819 & 22900 & 30000 & 40000 &  20985 &  20133 &  5248 & not stem\\\\\n\t 152 & 5404 & Social Work                                   & Psychology \\& Social Work            &  53552 &  374 &  5137 &  48415 & 0.9040745 &  45038 & ⋯ &  27588 &  3329 & 0.06882792 & 25000 & 30000 & 35000 &  27449 &  14416 &  4344 & not stem\\\\\n\t 153 & 1103 & Animal Sciences                               & Agriculture \\& Natural Resources     &  21573 &  255 &  5347 &  16226 & 0.7521439 &  17112 & ⋯ &  10824 &   917 & 0.05086250 & 22000 & 30000 & 40000 &   5443 &   9571 &  2125 & not stem\\\\\n\t 154 & 6003 & Visual And Performing Arts                    & Arts                                &  16250 &  132 &  4133 &  12117 & 0.7456615 &  12870 & ⋯ &   6322 &  1465 & 0.10219742 & 22000 & 30000 & 40000 &   3849 &   7635 &  2840 & not stem\\\\\n\t 155 & 2312 & Teacher Education: Multiple Levels            & Education                           &  14443 &  142 &  2734 &  11709 & 0.8107041 &  13076 & ⋯ &   8457 &   496 & 0.03654583 & 24000 & 30000 & 37000 &  10766 &   1949 &   722 & not stem\\\\\n\t 156 & 5299 & Miscellaneous Psychology                      & Psychology \\& Social Work            &   9628 &   60 &  1936 &   7692 & 0.7989198 &   7653 & ⋯ &   3838 &   419 & 0.05190783 & 20800 & 30000 & 40000 &   2960 &   3948 &  1650 & not stem\\\\\n\t 157 & 5403 & Human Services And Community Organization     & Psychology \\& Social Work            &   9374 &   89 &   885 &   8489 & 0.9055899 &   8294 & ⋯ &   5061 &   326 & 0.03781903 & 24000 & 30000 & 35000 &   2878 &   4595 &   724 & not stem\\\\\n\t 158 & 3402 & Humanities                                    & Humanities \\& Liberal Arts           &   6652 &   49 &  2013 &   4639 & 0.6973842 &   5052 & ⋯ &   2661 &   372 & 0.06858407 & 20000 & 30000 & 49000 &   1168 &   3354 &  1141 & not stem\\\\\n\t 159 & 4901 & Theology And Religious Vocations              & Humanities \\& Liberal Arts           &  30207 &  310 & 18616 &  11591 & 0.3837190 &  24202 & ⋯ &  13944 &  1617 & 0.06262830 & 22000 & 29000 & 38000 &   9927 &  12037 &  3304 & not stem\\\\\n\t 160 & 6007 & Studio Arts                                   & Arts                                &  16977 &  182 &  4754 &  12223 & 0.7199741 &  13908 & ⋯ &   7413 &  1368 & 0.08955224 & 19200 & 29000 & 38300 &   3948 &   8707 &  3586 & not stem\\\\\n\t 161 & 2201 & Cosmetology Services And Culinary Arts        & Industrial Arts \\& Consumer Services &  10510 &  117 &  4364 &   6146 & 0.5847764 &   8650 & ⋯ &   5949 &   510 & 0.05567686 & 20000 & 29000 & 36000 &    563 &   7384 &  3163 & not stem\\\\\n\t 162 & 1199 & Miscellaneous Agriculture                     & Agriculture \\& Natural Resources     &   1488 &   24 &   404 &   1084 & 0.7284946 &   1290 & ⋯ &    936 &    82 & 0.05976676 & 23000 & 29000 & 42100 &    483 &    626 &    31 & not stem\\\\\n\t 163 & 5502 & Anthropology And Archeology                   & Humanities \\& Liberal Arts           &  38844 &  247 & 11376 &  27468 & 0.7071362 &  29633 & ⋯ &  13232 &  3395 & 0.10279157 & 20000 & 28000 & 38000 &   9805 &  16693 &  6866 & not stem\\\\\n\t 164 & 6102 & Communication Disorders Sciences And Services & Health                              &  38279 &   95 &  1225 &  37054 & 0.9679981 &  29763 & ⋯ &  14460 &  1487 & 0.04758400 & 20000 & 28000 & 40000 &  19957 &   9404 &  5125 & not stem\\\\\n\t 165 & 2307 & Early Childhood Education                     & Education                           &  37589 &  342 &  1167 &  36422 & 0.9689537 &  32551 & ⋯ &  20748 &  1360 & 0.04010498 & 21000 & 28000 & 35000 &  23515 &   7705 &  2868 & not stem\\\\\n\t 166 & 2603 & Other Foreign Languages                       & Humanities \\& Liberal Arts           &  11204 &   56 &  3472 &   7732 & 0.6901107 &   7052 & ⋯ &   3214 &   846 & 0.10711573 & 22900 & 27500 & 38000 &   2326 &   3703 &  1115 & not stem\\\\\n\t 167 & 6001 & Drama And Theater Arts                        & Arts                                &  43249 &  357 & 14440 &  28809 & 0.6661194 &  36165 & ⋯ &  16891 &  3040 & 0.07754113 & 19200 & 27000 & 35000 &   6994 &  25313 & 11068 & not stem\\\\\n\t 168 & 3302 & Composition And Rhetoric                      & Humanities \\& Liberal Arts           &  18953 &  151 &  7022 &  11931 & 0.6295046 &  15053 & ⋯ &   7832 &  1340 & 0.08174221 & 20000 & 27000 & 35000 &   4855 &   8100 &  3466 & not stem\\\\\n\t 169 & 3609 & Zoology                                       & Biology \\& Life Science              &   8409 &   47 &  3050 &   5359 & 0.6372934 &   6259 & ⋯ &   3602 &   304 & 0.04632028 & 20000 & 26000 & 39000 &   2771 &   2947 &   743 & stem    \\\\\n\t 170 & 5201 & Educational Psychology                        & Psychology \\& Social Work            &   2854 &    7 &   522 &   2332 & 0.8170988 &   2125 & ⋯ &   1211 &   148 & 0.06511219 & 24000 & 25000 & 34000 &   1488 &    615 &    82 & not stem\\\\\n\t 171 & 5202 & Clinical Psychology                           & Psychology \\& Social Work            &   2838 &   13 &   568 &   2270 & 0.7998591 &   2101 & ⋯ &   1293 &   368 & 0.14904820 & 25000 & 25000 & 40000 &    986 &    870 &   622 & not stem\\\\\n\t 172 & 5203 & Counseling Psychology                         & Psychology \\& Social Work            &   4626 &   21 &   931 &   3695 & 0.7987462 &   3777 & ⋯ &   2738 &   214 & 0.05362065 & 19200 & 23400 & 26000 &   2403 &   1245 &   308 & not stem\\\\\n\t 173 & 3501 & Library Science                               & Education                           &   1098 &    2 &   134 &    964 & 0.8779599 &    742 & ⋯ &    410 &    87 & 0.10494572 & 20000 & 22000 & 22000 &    288 &    338 &   192 & not stem\\\\\n\\end{tabular}\n",
            "text/plain": [
              "    rank major_code major                                        \n",
              "1    1   2419       Petroleum Engineering                        \n",
              "2    2   2416       Mining And Mineral Engineering               \n",
              "3    3   2415       Metallurgical Engineering                    \n",
              "4    4   2417       Naval Architecture And Marine Engineering    \n",
              "5    5   2405       Chemical Engineering                         \n",
              "6    6   2418       Nuclear Engineering                          \n",
              "7    7   6202       Actuarial Science                            \n",
              "8    8   5001       Astronomy And Astrophysics                   \n",
              "9    9   2414       Mechanical Engineering                       \n",
              "10  10   2408       Electrical Engineering                       \n",
              "11  11   2407       Computer Engineering                         \n",
              "12  12   2401       Aerospace Engineering                        \n",
              "13  13   2404       Biomedical Engineering                       \n",
              "14  14   5008       Materials Science                            \n",
              "15  15   2409       Engineering Mechanics Physics And Science    \n",
              "16  16   2402       Biological Engineering                       \n",
              "17  17   2412       Industrial And Manufacturing Engineering     \n",
              "18  18   2400       General Engineering                          \n",
              "19  19   2403       Architectural Engineering                    \n",
              "20  20   3201       Court Reporting                              \n",
              "21  21   2102       Computer Science                             \n",
              "22  22   1104       Food Science                                 \n",
              "23  23   2502       Electrical Engineering Technology            \n",
              "24  24   2413       Materials Engineering And Materials Science  \n",
              "25  25   6212       Management Information Systems And Statistics\n",
              "26  26   2406       Civil Engineering                            \n",
              "27  27   5601       Construction Services                        \n",
              "28  28   6204       Operations Logistics And E-Commerce          \n",
              "29  29   2499       Miscellaneous Engineering                    \n",
              "30  30   5402       Public Policy                                \n",
              "⋮   ⋮    ⋮          ⋮                                            \n",
              "144 144  1105       Plant Science And Agronomy                   \n",
              "145 145  2308       Science And Computer Teacher Education       \n",
              "146 146  5200       Psychology                                   \n",
              "147 147  6002       Music                                        \n",
              "148 148  2306       Physical And Health Education Teaching       \n",
              "149 149  6006       Art History And Criticism                    \n",
              "150 150  6000       Fine Arts                                    \n",
              "151 151  2901       Family And Consumer Sciences                 \n",
              "152 152  5404       Social Work                                  \n",
              "153 153  1103       Animal Sciences                              \n",
              "154 154  6003       Visual And Performing Arts                   \n",
              "155 155  2312       Teacher Education: Multiple Levels           \n",
              "156 156  5299       Miscellaneous Psychology                     \n",
              "157 157  5403       Human Services And Community Organization    \n",
              "158 158  3402       Humanities                                   \n",
              "159 159  4901       Theology And Religious Vocations             \n",
              "160 160  6007       Studio Arts                                  \n",
              "161 161  2201       Cosmetology Services And Culinary Arts       \n",
              "162 162  1199       Miscellaneous Agriculture                    \n",
              "163 163  5502       Anthropology And Archeology                  \n",
              "164 164  6102       Communication Disorders Sciences And Services\n",
              "165 165  2307       Early Childhood Education                    \n",
              "166 166  2603       Other Foreign Languages                      \n",
              "167 167  6001       Drama And Theater Arts                       \n",
              "168 168  3302       Composition And Rhetoric                     \n",
              "169 169  3609       Zoology                                      \n",
              "170 170  5201       Educational Psychology                       \n",
              "171 171  5202       Clinical Psychology                          \n",
              "172 172  5203       Counseling Psychology                        \n",
              "173 173  3501       Library Science                              \n",
              "    major_category                      total  sample_size men   women \n",
              "1   Engineering                           2339   36         2057   282 \n",
              "2   Engineering                            756    7          679    77 \n",
              "3   Engineering                            856    3          725   131 \n",
              "4   Engineering                           1258   16         1123   135 \n",
              "5   Engineering                          32260  289        21239 11021 \n",
              "6   Engineering                           2573   17         2200   373 \n",
              "7   Business                              3777   51         2110  1667 \n",
              "8   Physical Sciences                     1792   10          832   960 \n",
              "9   Engineering                          91227 1029        80320 10907 \n",
              "10  Engineering                          81527  631        65511 16016 \n",
              "11  Engineering                          41542  399        33258  8284 \n",
              "12  Engineering                          15058  147        12953  2105 \n",
              "13  Engineering                          14955   79         8407  6548 \n",
              "14  Engineering                           4279   22         2949  1330 \n",
              "15  Engineering                           4321   30         3526   795 \n",
              "16  Engineering                           8925   55         6062  2863 \n",
              "17  Engineering                          18968  183        12453  6515 \n",
              "18  Engineering                          61152  425        45683 15469 \n",
              "19  Engineering                           2825   26         1835   990 \n",
              "20  Law & Public Policy                   1148   14          877   271 \n",
              "21  Computers & Mathematics             128319 1196        99743 28576 \n",
              "22  Agriculture & Natural Resources         NA   36           NA    NA \n",
              "23  Engineering                          11565   97         8181  3384 \n",
              "24  Engineering                           2993   22         2020   973 \n",
              "25  Business                             18713  278        13496  5217 \n",
              "26  Engineering                          53153  565        41081 12072 \n",
              "27  Industrial Arts & Consumer Services  18498  295        16820  1678 \n",
              "28  Business                             11732  156         7921  3811 \n",
              "29  Engineering                           9133  118         7398  1735 \n",
              "30  Law & Public Policy                   5978   55         2639  3339 \n",
              "⋮   ⋮                                   ⋮      ⋮           ⋮     ⋮     \n",
              "144 Agriculture & Natural Resources       7416  110         4897   2519\n",
              "145 Education                             6483   59         2049   4434\n",
              "146 Psychology & Social Work            393735 2584        86648 307087\n",
              "147 Arts                                 60633  419        29909  30724\n",
              "148 Education                            28213  259        15670  12543\n",
              "149 Humanities & Liberal Arts            21030  204         3240  17790\n",
              "150 Arts                                 74440  623        24786  49654\n",
              "151 Industrial Arts & Consumer Services  58001  518         5166  52835\n",
              "152 Psychology & Social Work             53552  374         5137  48415\n",
              "153 Agriculture & Natural Resources      21573  255         5347  16226\n",
              "154 Arts                                 16250  132         4133  12117\n",
              "155 Education                            14443  142         2734  11709\n",
              "156 Psychology & Social Work              9628   60         1936   7692\n",
              "157 Psychology & Social Work              9374   89          885   8489\n",
              "158 Humanities & Liberal Arts             6652   49         2013   4639\n",
              "159 Humanities & Liberal Arts            30207  310        18616  11591\n",
              "160 Arts                                 16977  182         4754  12223\n",
              "161 Industrial Arts & Consumer Services  10510  117         4364   6146\n",
              "162 Agriculture & Natural Resources       1488   24          404   1084\n",
              "163 Humanities & Liberal Arts            38844  247        11376  27468\n",
              "164 Health                               38279   95         1225  37054\n",
              "165 Education                            37589  342         1167  36422\n",
              "166 Humanities & Liberal Arts            11204   56         3472   7732\n",
              "167 Arts                                 43249  357        14440  28809\n",
              "168 Humanities & Liberal Arts            18953  151         7022  11931\n",
              "169 Biology & Life Science                8409   47         3050   5359\n",
              "170 Psychology & Social Work              2854    7          522   2332\n",
              "171 Psychology & Social Work              2838   13          568   2270\n",
              "172 Psychology & Social Work              4626   21          931   3695\n",
              "173 Education                             1098    2          134    964\n",
              "    sharewomen employed ⋯ employed_fulltime_yearround unemployed\n",
              "1   0.12056434   1976   ⋯  1207                         37      \n",
              "2   0.10185185    640   ⋯   388                         85      \n",
              "3   0.15303738    648   ⋯   340                         16      \n",
              "4   0.10731320    758   ⋯   692                         40      \n",
              "5   0.34163050  25694   ⋯ 16697                       1672      \n",
              "6   0.14496697   1857   ⋯  1449                        400      \n",
              "7   0.44135557   2912   ⋯  2482                        308      \n",
              "8   0.53571429   1526   ⋯   827                         33      \n",
              "9   0.11955890  76442   ⋯ 54639                       4650      \n",
              "10  0.19645026  61928   ⋯ 41413                       3895      \n",
              "11  0.19941264  32506   ⋯ 23621                       2275      \n",
              "12  0.13979280  11391   ⋯  8790                        794      \n",
              "13  0.43784687  10047   ⋯  5986                       1019      \n",
              "14  0.31082028   3307   ⋯  1967                         78      \n",
              "15  0.18398519   3608   ⋯  2004                         23      \n",
              "16  0.32078431   6170   ⋯  3413                        589      \n",
              "17  0.34347322  15604   ⋯ 11326                        699      \n",
              "18  0.25295984  44931   ⋯ 33540                       2859      \n",
              "19  0.35044248   2575   ⋯  1848                        170      \n",
              "20  0.23606272    930   ⋯   808                         11      \n",
              "21  0.22269500 102087   ⋯ 70932                       6884      \n",
              "22          NA   3149   ⋯  1735                        338      \n",
              "23  0.29260700   8587   ⋯  5681                        824      \n",
              "24  0.32509188   2449   ⋯  1151                         70      \n",
              "25  0.27879015  16413   ⋯ 13017                       1015      \n",
              "26  0.22711794  43041   ⋯ 29196                       3270      \n",
              "27  0.09071251  16318   ⋯ 12313                       1042      \n",
              "28  0.32483805  10027   ⋯  7724                        504      \n",
              "29  0.18997044   7428   ⋯  5476                        597      \n",
              "30  0.55854801   4547   ⋯  2776                        670      \n",
              "⋮   ⋮          ⋮        ⋱ ⋮                           ⋮         \n",
              "144 0.3396710    6594   ⋯   4522                        314     \n",
              "145 0.6839426    5362   ⋯   3247                        266     \n",
              "146 0.7799332  307933   ⋯ 174438                      28169     \n",
              "147 0.5067208   47662   ⋯  21425                       3918     \n",
              "148 0.4445823   23794   ⋯  13651                       1920     \n",
              "149 0.8459344   17579   ⋯   9965                       1128     \n",
              "150 0.6670339   59679   ⋯  31877                       5486     \n",
              "151 0.9109326   46624   ⋯  26906                       3355     \n",
              "152 0.9040745   45038   ⋯  27588                       3329     \n",
              "153 0.7521439   17112   ⋯  10824                        917     \n",
              "154 0.7456615   12870   ⋯   6322                       1465     \n",
              "155 0.8107041   13076   ⋯   8457                        496     \n",
              "156 0.7989198    7653   ⋯   3838                        419     \n",
              "157 0.9055899    8294   ⋯   5061                        326     \n",
              "158 0.6973842    5052   ⋯   2661                        372     \n",
              "159 0.3837190   24202   ⋯  13944                       1617     \n",
              "160 0.7199741   13908   ⋯   7413                       1368     \n",
              "161 0.5847764    8650   ⋯   5949                        510     \n",
              "162 0.7284946    1290   ⋯    936                         82     \n",
              "163 0.7071362   29633   ⋯  13232                       3395     \n",
              "164 0.9679981   29763   ⋯  14460                       1487     \n",
              "165 0.9689537   32551   ⋯  20748                       1360     \n",
              "166 0.6901107    7052   ⋯   3214                        846     \n",
              "167 0.6661194   36165   ⋯  16891                       3040     \n",
              "168 0.6295046   15053   ⋯   7832                       1340     \n",
              "169 0.6372934    6259   ⋯   3602                        304     \n",
              "170 0.8170988    2125   ⋯   1211                        148     \n",
              "171 0.7998591    2101   ⋯   1293                        368     \n",
              "172 0.7987462    3777   ⋯   2738                        214     \n",
              "173 0.8779599     742   ⋯    410                         87     \n",
              "    unemployment_rate p25th median p75th  college_jobs non_college_jobs\n",
              "1   0.018380527       95000 110000 125000  1534          364           \n",
              "2   0.117241379       55000  75000  90000   350          257           \n",
              "3   0.024096386       50000  73000 105000   456          176           \n",
              "4   0.050125313       43000  70000  80000   529          102           \n",
              "5   0.061097712       50000  65000  75000 18314         4440           \n",
              "6   0.177226407       50000  65000 102000  1142          657           \n",
              "7   0.095652174       53000  62000  72000  1768          314           \n",
              "8   0.021167415       31500  62000 109000   972          500           \n",
              "9   0.057342278       48000  60000  70000 52844        16384           \n",
              "10  0.059173845       45000  60000  72000 45829        10874           \n",
              "11  0.065409275       45000  60000  75000 23694         5721           \n",
              "12  0.065162085       42000  60000  70000  8184         2425           \n",
              "13  0.092083860       36000  60000  70000  6439         2471           \n",
              "14  0.023042836       39000  60000  65000  2626          391           \n",
              "15  0.006334343       25000  58000  74000  2439          947           \n",
              "16  0.087143069       40000  57100  76000  3603         1595           \n",
              "17  0.042875544       37900  57000  67000  8306         3235           \n",
              "18  0.059824231       36000  56000  69000 26898        11734           \n",
              "19  0.061930783       38000  54000  65000  1665          649           \n",
              "20  0.011689692       50000  54000  54000   402          528           \n",
              "21  0.063172771       39000  53000  70000 68622        25667           \n",
              "22  0.096931460       32000  53000  70000  1183         1274           \n",
              "23  0.087557114       35000  52000  60000  5126         2686           \n",
              "24  0.027788805       35000  52000  62000  1911          305           \n",
              "25  0.058239614       38000  51000  60000  6342         5741           \n",
              "26  0.070609574       40000  50000  60000 28526         9356           \n",
              "27  0.060023041       36000  50000  60000  3275         5351           \n",
              "28  0.047858703       40000  50000  60000  1466         3629           \n",
              "29  0.074392523       39000  50000  65000  3445         2426           \n",
              "30  0.128426299       35000  50000  70000  1550         1871           \n",
              "⋮   ⋮                 ⋮     ⋮      ⋮      ⋮            ⋮               \n",
              "144 0.04545454        22900 32000  40000    2089         3545          \n",
              "145 0.04726368        28000 32000  39000    4214         1106          \n",
              "146 0.08381087        24000 31500  41000  125148       141860          \n",
              "147 0.07595967        22300 31000  42000   13752        28786          \n",
              "148 0.07466750        24000 31000  40000   12777         9328          \n",
              "149 0.06029828        23000 31000  40000    5139         9738          \n",
              "150 0.08418630        21000 30500  41000   20792        32725          \n",
              "151 0.06712819        22900 30000  40000   20985        20133          \n",
              "152 0.06882792        25000 30000  35000   27449        14416          \n",
              "153 0.05086250        22000 30000  40000    5443         9571          \n",
              "154 0.10219742        22000 30000  40000    3849         7635          \n",
              "155 0.03654583        24000 30000  37000   10766         1949          \n",
              "156 0.05190783        20800 30000  40000    2960         3948          \n",
              "157 0.03781903        24000 30000  35000    2878         4595          \n",
              "158 0.06858407        20000 30000  49000    1168         3354          \n",
              "159 0.06262830        22000 29000  38000    9927        12037          \n",
              "160 0.08955224        19200 29000  38300    3948         8707          \n",
              "161 0.05567686        20000 29000  36000     563         7384          \n",
              "162 0.05976676        23000 29000  42100     483          626          \n",
              "163 0.10279157        20000 28000  38000    9805        16693          \n",
              "164 0.04758400        20000 28000  40000   19957         9404          \n",
              "165 0.04010498        21000 28000  35000   23515         7705          \n",
              "166 0.10711573        22900 27500  38000    2326         3703          \n",
              "167 0.07754113        19200 27000  35000    6994        25313          \n",
              "168 0.08174221        20000 27000  35000    4855         8100          \n",
              "169 0.04632028        20000 26000  39000    2771         2947          \n",
              "170 0.06511219        24000 25000  34000    1488          615          \n",
              "171 0.14904820        25000 25000  40000     986          870          \n",
              "172 0.05362065        19200 23400  26000    2403         1245          \n",
              "173 0.10494572        20000 22000  22000     288          338          \n",
              "    low_wage_jobs major_type\n",
              "1    193          stem      \n",
              "2     50          stem      \n",
              "3      0          stem      \n",
              "4      0          stem      \n",
              "5    972          stem      \n",
              "6    244          stem      \n",
              "7    259          not stem  \n",
              "8    220          stem      \n",
              "9   3253          stem      \n",
              "10  3170          stem      \n",
              "11   980          stem      \n",
              "12   372          stem      \n",
              "13   789          stem      \n",
              "14    81          stem      \n",
              "15   263          stem      \n",
              "16   524          stem      \n",
              "17   640          stem      \n",
              "18  3192          stem      \n",
              "19   137          stem      \n",
              "20   144          not stem  \n",
              "21  5144          stem      \n",
              "22   485          not stem  \n",
              "23   696          stem      \n",
              "24    70          stem      \n",
              "25   708          not stem  \n",
              "26  2899          stem      \n",
              "27   703          not stem  \n",
              "28   285          not stem  \n",
              "29   365          stem      \n",
              "30   340          not stem  \n",
              "⋮   ⋮             ⋮         \n",
              "144  1231         not stem  \n",
              "145   591         not stem  \n",
              "146 48207         not stem  \n",
              "147  9286         not stem  \n",
              "148  2042         not stem  \n",
              "149  3426         not stem  \n",
              "150 11880         not stem  \n",
              "151  5248         not stem  \n",
              "152  4344         not stem  \n",
              "153  2125         not stem  \n",
              "154  2840         not stem  \n",
              "155   722         not stem  \n",
              "156  1650         not stem  \n",
              "157   724         not stem  \n",
              "158  1141         not stem  \n",
              "159  3304         not stem  \n",
              "160  3586         not stem  \n",
              "161  3163         not stem  \n",
              "162    31         not stem  \n",
              "163  6866         not stem  \n",
              "164  5125         not stem  \n",
              "165  2868         not stem  \n",
              "166  1115         not stem  \n",
              "167 11068         not stem  \n",
              "168  3466         not stem  \n",
              "169   743         stem      \n",
              "170    82         not stem  \n",
              "171   622         not stem  \n",
              "172   308         not stem  \n",
              "173   192         not stem  "
            ]
          },
          "metadata": {}
        }
      ]
    },
    {
      "cell_type": "code",
      "source": [
        "college_recent_grads %>% \n",
        "  filter(\n",
        "    major_type == \"stem\", \n",
        "    median < 36000\n",
        "  ) \n"
      ],
      "metadata": {
        "colab": {
          "base_uri": "https://localhost:8080/",
          "height": 657
        },
        "id": "qqTGiiugz-v6",
        "outputId": "3e555479-fd6d-4c44-fddc-cd0275ba339d"
      },
      "execution_count": null,
      "outputs": [
        {
          "output_type": "display_data",
          "data": {
            "text/html": [
              "<table class=\"dataframe\">\n",
              "<caption>A tibble: 10 × 22</caption>\n",
              "<thead>\n",
              "\t<tr><th scope=col>rank</th><th scope=col>major_code</th><th scope=col>major</th><th scope=col>major_category</th><th scope=col>total</th><th scope=col>sample_size</th><th scope=col>men</th><th scope=col>women</th><th scope=col>sharewomen</th><th scope=col>employed</th><th scope=col>⋯</th><th scope=col>employed_fulltime_yearround</th><th scope=col>unemployed</th><th scope=col>unemployment_rate</th><th scope=col>p25th</th><th scope=col>median</th><th scope=col>p75th</th><th scope=col>college_jobs</th><th scope=col>non_college_jobs</th><th scope=col>low_wage_jobs</th><th scope=col>major_type</th></tr>\n",
              "\t<tr><th scope=col>&lt;int&gt;</th><th scope=col>&lt;int&gt;</th><th scope=col>&lt;chr&gt;</th><th scope=col>&lt;chr&gt;</th><th scope=col>&lt;int&gt;</th><th scope=col>&lt;int&gt;</th><th scope=col>&lt;int&gt;</th><th scope=col>&lt;int&gt;</th><th scope=col>&lt;dbl&gt;</th><th scope=col>&lt;int&gt;</th><th scope=col>⋯</th><th scope=col>&lt;int&gt;</th><th scope=col>&lt;int&gt;</th><th scope=col>&lt;dbl&gt;</th><th scope=col>&lt;dbl&gt;</th><th scope=col>&lt;dbl&gt;</th><th scope=col>&lt;dbl&gt;</th><th scope=col>&lt;int&gt;</th><th scope=col>&lt;int&gt;</th><th scope=col>&lt;int&gt;</th><th scope=col>&lt;chr&gt;</th></tr>\n",
              "</thead>\n",
              "<tbody>\n",
              "\t<tr><td> 93</td><td>1301</td><td><span style=white-space:pre-wrap>Environmental Science                </span></td><td>Biology &amp; Life Science </td><td> 25965</td><td> 225</td><td> 10787</td><td> 15178</td><td>0.5845561</td><td> 20859</td><td>⋯</td><td> 10916</td><td> 1779</td><td>0.07858468</td><td>25000</td><td>35600</td><td>40200</td><td> 8149</td><td>10076</td><td> 3175</td><td>stem</td></tr>\n",
              "\t<tr><td> 98</td><td>5098</td><td>Multi-Disciplinary Or General Science</td><td>Physical Sciences      </td><td> 62052</td><td> 427</td><td> 27015</td><td> 35037</td><td>0.5646393</td><td> 46138</td><td>⋯</td><td> 28966</td><td> 2727</td><td>0.05580682</td><td>24000</td><td>35000</td><td>50000</td><td>17923</td><td>22039</td><td> 5751</td><td>stem</td></tr>\n",
              "\t<tr><td>102</td><td>3608</td><td><span style=white-space:pre-wrap>Physiology                           </span></td><td>Biology &amp; Life Science </td><td> 22060</td><td><span style=white-space:pre-wrap>  99</span></td><td><span style=white-space:pre-wrap>  8422</span></td><td> 13638</td><td>0.6182230</td><td> 14643</td><td>⋯</td><td><span style=white-space:pre-wrap>  7588</span></td><td> 1088</td><td>0.06916280</td><td>20000</td><td>35000</td><td>50000</td><td> 6587</td><td> 6894</td><td> 2237</td><td>stem</td></tr>\n",
              "\t<tr><td>106</td><td>2001</td><td><span style=white-space:pre-wrap>Communication Technologies           </span></td><td>Computers &amp; Mathematics</td><td> 18035</td><td> 208</td><td> 11431</td><td><span style=white-space:pre-wrap>  6604</span></td><td>0.3661769</td><td> 14779</td><td>⋯</td><td><span style=white-space:pre-wrap>  9085</span></td><td> 2006</td><td>0.11951147</td><td>25000</td><td>35000</td><td>45000</td><td> 4545</td><td> 8794</td><td> 2495</td><td>stem</td></tr>\n",
              "\t<tr><td>109</td><td>3611</td><td><span style=white-space:pre-wrap>Neuroscience                         </span></td><td>Biology &amp; Life Science </td><td> 13663</td><td><span style=white-space:pre-wrap>  53</span></td><td><span style=white-space:pre-wrap>  4944</span></td><td><span style=white-space:pre-wrap>  8719</span></td><td>0.6381468</td><td><span style=white-space:pre-wrap>  9087</span></td><td>⋯</td><td><span style=white-space:pre-wrap>  5482</span></td><td><span style=white-space:pre-wrap>  463</span></td><td>0.04848168</td><td>30000</td><td>35000</td><td>44000</td><td> 5605</td><td> 2301</td><td><span style=white-space:pre-wrap>  902</span></td><td>stem</td></tr>\n",
              "\t<tr><td>111</td><td>5002</td><td>Atmospheric Sciences And Meteorology </td><td>Physical Sciences      </td><td>  4043</td><td>  32</td><td>  2744</td><td>  1299</td><td>0.3212961</td><td>  3431</td><td>⋯</td><td>  2161</td><td>   78</td><td>0.02222856</td><td>28000</td><td>35000</td><td>50000</td><td> 1808</td><td> 1317</td><td>  237</td><td>stem</td></tr>\n",
              "\t<tr><td>123</td><td>3699</td><td><span style=white-space:pre-wrap>Miscellaneous Biology                </span></td><td>Biology &amp; Life Science </td><td> 10706</td><td><span style=white-space:pre-wrap>  63</span></td><td><span style=white-space:pre-wrap>  4747</span></td><td><span style=white-space:pre-wrap>  5959</span></td><td>0.5566038</td><td><span style=white-space:pre-wrap>  7767</span></td><td>⋯</td><td><span style=white-space:pre-wrap>  4542</span></td><td><span style=white-space:pre-wrap>  483</span></td><td>0.05854546</td><td>23000</td><td>33500</td><td>48000</td><td> 4253</td><td> 2722</td><td><span style=white-space:pre-wrap>  459</span></td><td>stem</td></tr>\n",
              "\t<tr><td>124</td><td>3600</td><td><span style=white-space:pre-wrap>Biology                              </span></td><td>Biology &amp; Life Science </td><td>280709</td><td>1370</td><td>111762</td><td>168947</td><td>0.6018582</td><td>182295</td><td>⋯</td><td>100336</td><td>13874</td><td>0.07072473</td><td>24000</td><td>33400</td><td>45000</td><td>88232</td><td>81109</td><td>28339</td><td>stem</td></tr>\n",
              "\t<tr><td>133</td><td>3604</td><td><span style=white-space:pre-wrap>Ecology                              </span></td><td>Biology &amp; Life Science </td><td><span style=white-space:pre-wrap>  9154</span></td><td><span style=white-space:pre-wrap>  86</span></td><td><span style=white-space:pre-wrap>  3878</span></td><td><span style=white-space:pre-wrap>  5276</span></td><td>0.5763601</td><td><span style=white-space:pre-wrap>  7585</span></td><td>⋯</td><td><span style=white-space:pre-wrap>  3912</span></td><td><span style=white-space:pre-wrap>  437</span></td><td>0.05447519</td><td>23000</td><td>33000</td><td>42000</td><td> 2856</td><td> 4159</td><td><span style=white-space:pre-wrap>  976</span></td><td>stem</td></tr>\n",
              "\t<tr><td>169</td><td>3609</td><td><span style=white-space:pre-wrap>Zoology                              </span></td><td>Biology &amp; Life Science </td><td><span style=white-space:pre-wrap>  8409</span></td><td><span style=white-space:pre-wrap>  47</span></td><td><span style=white-space:pre-wrap>  3050</span></td><td><span style=white-space:pre-wrap>  5359</span></td><td>0.6372934</td><td><span style=white-space:pre-wrap>  6259</span></td><td>⋯</td><td><span style=white-space:pre-wrap>  3602</span></td><td><span style=white-space:pre-wrap>  304</span></td><td>0.04632028</td><td>20000</td><td>26000</td><td>39000</td><td> 2771</td><td> 2947</td><td><span style=white-space:pre-wrap>  743</span></td><td>stem</td></tr>\n",
              "</tbody>\n",
              "</table>\n"
            ],
            "text/markdown": "\nA tibble: 10 × 22\n\n| rank &lt;int&gt; | major_code &lt;int&gt; | major &lt;chr&gt; | major_category &lt;chr&gt; | total &lt;int&gt; | sample_size &lt;int&gt; | men &lt;int&gt; | women &lt;int&gt; | sharewomen &lt;dbl&gt; | employed &lt;int&gt; | ⋯ ⋯ | employed_fulltime_yearround &lt;int&gt; | unemployed &lt;int&gt; | unemployment_rate &lt;dbl&gt; | p25th &lt;dbl&gt; | median &lt;dbl&gt; | p75th &lt;dbl&gt; | college_jobs &lt;int&gt; | non_college_jobs &lt;int&gt; | low_wage_jobs &lt;int&gt; | major_type &lt;chr&gt; |\n|---|---|---|---|---|---|---|---|---|---|---|---|---|---|---|---|---|---|---|---|---|\n|  93 | 1301 | Environmental Science                 | Biology &amp; Life Science  |  25965 |  225 |  10787 |  15178 | 0.5845561 |  20859 | ⋯ |  10916 |  1779 | 0.07858468 | 25000 | 35600 | 40200 |  8149 | 10076 |  3175 | stem |\n|  98 | 5098 | Multi-Disciplinary Or General Science | Physical Sciences       |  62052 |  427 |  27015 |  35037 | 0.5646393 |  46138 | ⋯ |  28966 |  2727 | 0.05580682 | 24000 | 35000 | 50000 | 17923 | 22039 |  5751 | stem |\n| 102 | 3608 | Physiology                            | Biology &amp; Life Science  |  22060 |   99 |   8422 |  13638 | 0.6182230 |  14643 | ⋯ |   7588 |  1088 | 0.06916280 | 20000 | 35000 | 50000 |  6587 |  6894 |  2237 | stem |\n| 106 | 2001 | Communication Technologies            | Computers &amp; Mathematics |  18035 |  208 |  11431 |   6604 | 0.3661769 |  14779 | ⋯ |   9085 |  2006 | 0.11951147 | 25000 | 35000 | 45000 |  4545 |  8794 |  2495 | stem |\n| 109 | 3611 | Neuroscience                          | Biology &amp; Life Science  |  13663 |   53 |   4944 |   8719 | 0.6381468 |   9087 | ⋯ |   5482 |   463 | 0.04848168 | 30000 | 35000 | 44000 |  5605 |  2301 |   902 | stem |\n| 111 | 5002 | Atmospheric Sciences And Meteorology  | Physical Sciences       |   4043 |   32 |   2744 |   1299 | 0.3212961 |   3431 | ⋯ |   2161 |    78 | 0.02222856 | 28000 | 35000 | 50000 |  1808 |  1317 |   237 | stem |\n| 123 | 3699 | Miscellaneous Biology                 | Biology &amp; Life Science  |  10706 |   63 |   4747 |   5959 | 0.5566038 |   7767 | ⋯ |   4542 |   483 | 0.05854546 | 23000 | 33500 | 48000 |  4253 |  2722 |   459 | stem |\n| 124 | 3600 | Biology                               | Biology &amp; Life Science  | 280709 | 1370 | 111762 | 168947 | 0.6018582 | 182295 | ⋯ | 100336 | 13874 | 0.07072473 | 24000 | 33400 | 45000 | 88232 | 81109 | 28339 | stem |\n| 133 | 3604 | Ecology                               | Biology &amp; Life Science  |   9154 |   86 |   3878 |   5276 | 0.5763601 |   7585 | ⋯ |   3912 |   437 | 0.05447519 | 23000 | 33000 | 42000 |  2856 |  4159 |   976 | stem |\n| 169 | 3609 | Zoology                               | Biology &amp; Life Science  |   8409 |   47 |   3050 |   5359 | 0.6372934 |   6259 | ⋯ |   3602 |   304 | 0.04632028 | 20000 | 26000 | 39000 |  2771 |  2947 |   743 | stem |\n\n",
            "text/latex": "A tibble: 10 × 22\n\\begin{tabular}{lllllllllllllllllllll}\n rank & major\\_code & major & major\\_category & total & sample\\_size & men & women & sharewomen & employed & ⋯ & employed\\_fulltime\\_yearround & unemployed & unemployment\\_rate & p25th & median & p75th & college\\_jobs & non\\_college\\_jobs & low\\_wage\\_jobs & major\\_type\\\\\n <int> & <int> & <chr> & <chr> & <int> & <int> & <int> & <int> & <dbl> & <int> & ⋯ & <int> & <int> & <dbl> & <dbl> & <dbl> & <dbl> & <int> & <int> & <int> & <chr>\\\\\n\\hline\n\t  93 & 1301 & Environmental Science                 & Biology \\& Life Science  &  25965 &  225 &  10787 &  15178 & 0.5845561 &  20859 & ⋯ &  10916 &  1779 & 0.07858468 & 25000 & 35600 & 40200 &  8149 & 10076 &  3175 & stem\\\\\n\t  98 & 5098 & Multi-Disciplinary Or General Science & Physical Sciences       &  62052 &  427 &  27015 &  35037 & 0.5646393 &  46138 & ⋯ &  28966 &  2727 & 0.05580682 & 24000 & 35000 & 50000 & 17923 & 22039 &  5751 & stem\\\\\n\t 102 & 3608 & Physiology                            & Biology \\& Life Science  &  22060 &   99 &   8422 &  13638 & 0.6182230 &  14643 & ⋯ &   7588 &  1088 & 0.06916280 & 20000 & 35000 & 50000 &  6587 &  6894 &  2237 & stem\\\\\n\t 106 & 2001 & Communication Technologies            & Computers \\& Mathematics &  18035 &  208 &  11431 &   6604 & 0.3661769 &  14779 & ⋯ &   9085 &  2006 & 0.11951147 & 25000 & 35000 & 45000 &  4545 &  8794 &  2495 & stem\\\\\n\t 109 & 3611 & Neuroscience                          & Biology \\& Life Science  &  13663 &   53 &   4944 &   8719 & 0.6381468 &   9087 & ⋯ &   5482 &   463 & 0.04848168 & 30000 & 35000 & 44000 &  5605 &  2301 &   902 & stem\\\\\n\t 111 & 5002 & Atmospheric Sciences And Meteorology  & Physical Sciences       &   4043 &   32 &   2744 &   1299 & 0.3212961 &   3431 & ⋯ &   2161 &    78 & 0.02222856 & 28000 & 35000 & 50000 &  1808 &  1317 &   237 & stem\\\\\n\t 123 & 3699 & Miscellaneous Biology                 & Biology \\& Life Science  &  10706 &   63 &   4747 &   5959 & 0.5566038 &   7767 & ⋯ &   4542 &   483 & 0.05854546 & 23000 & 33500 & 48000 &  4253 &  2722 &   459 & stem\\\\\n\t 124 & 3600 & Biology                               & Biology \\& Life Science  & 280709 & 1370 & 111762 & 168947 & 0.6018582 & 182295 & ⋯ & 100336 & 13874 & 0.07072473 & 24000 & 33400 & 45000 & 88232 & 81109 & 28339 & stem\\\\\n\t 133 & 3604 & Ecology                               & Biology \\& Life Science  &   9154 &   86 &   3878 &   5276 & 0.5763601 &   7585 & ⋯ &   3912 &   437 & 0.05447519 & 23000 & 33000 & 42000 &  2856 &  4159 &   976 & stem\\\\\n\t 169 & 3609 & Zoology                               & Biology \\& Life Science  &   8409 &   47 &   3050 &   5359 & 0.6372934 &   6259 & ⋯ &   3602 &   304 & 0.04632028 & 20000 & 26000 & 39000 &  2771 &  2947 &   743 & stem\\\\\n\\end{tabular}\n",
            "text/plain": [
              "   rank major_code major                                \n",
              "1   93  1301       Environmental Science                \n",
              "2   98  5098       Multi-Disciplinary Or General Science\n",
              "3  102  3608       Physiology                           \n",
              "4  106  2001       Communication Technologies           \n",
              "5  109  3611       Neuroscience                         \n",
              "6  111  5002       Atmospheric Sciences And Meteorology \n",
              "7  123  3699       Miscellaneous Biology                \n",
              "8  124  3600       Biology                              \n",
              "9  133  3604       Ecology                              \n",
              "10 169  3609       Zoology                              \n",
              "   major_category          total  sample_size men    women  sharewomen employed\n",
              "1  Biology & Life Science   25965  225         10787  15178 0.5845561   20859  \n",
              "2  Physical Sciences        62052  427         27015  35037 0.5646393   46138  \n",
              "3  Biology & Life Science   22060   99          8422  13638 0.6182230   14643  \n",
              "4  Computers & Mathematics  18035  208         11431   6604 0.3661769   14779  \n",
              "5  Biology & Life Science   13663   53          4944   8719 0.6381468    9087  \n",
              "6  Physical Sciences         4043   32          2744   1299 0.3212961    3431  \n",
              "7  Biology & Life Science   10706   63          4747   5959 0.5566038    7767  \n",
              "8  Biology & Life Science  280709 1370        111762 168947 0.6018582  182295  \n",
              "9  Biology & Life Science    9154   86          3878   5276 0.5763601    7585  \n",
              "10 Biology & Life Science    8409   47          3050   5359 0.6372934    6259  \n",
              "   ⋯ employed_fulltime_yearround unemployed unemployment_rate p25th median\n",
              "1  ⋯  10916                       1779      0.07858468        25000 35600 \n",
              "2  ⋯  28966                       2727      0.05580682        24000 35000 \n",
              "3  ⋯   7588                       1088      0.06916280        20000 35000 \n",
              "4  ⋯   9085                       2006      0.11951147        25000 35000 \n",
              "5  ⋯   5482                        463      0.04848168        30000 35000 \n",
              "6  ⋯   2161                         78      0.02222856        28000 35000 \n",
              "7  ⋯   4542                        483      0.05854546        23000 33500 \n",
              "8  ⋯ 100336                      13874      0.07072473        24000 33400 \n",
              "9  ⋯   3912                        437      0.05447519        23000 33000 \n",
              "10 ⋯   3602                        304      0.04632028        20000 26000 \n",
              "   p75th college_jobs non_college_jobs low_wage_jobs major_type\n",
              "1  40200  8149        10076             3175         stem      \n",
              "2  50000 17923        22039             5751         stem      \n",
              "3  50000  6587         6894             2237         stem      \n",
              "4  45000  4545         8794             2495         stem      \n",
              "5  44000  5605         2301              902         stem      \n",
              "6  50000  1808         1317              237         stem      \n",
              "7  48000  4253         2722              459         stem      \n",
              "8  45000 88232        81109            28339         stem      \n",
              "9  42000  2856         4159              976         stem      \n",
              "10 39000  2771         2947              743         stem      "
            ]
          },
          "metadata": {}
        }
      ]
    },
    {
      "cell_type": "code",
      "source": [
        "med <- college_recent_grads$median\n",
        "med_all <- median(med) \n",
        "\n",
        "\n",
        "college_recent_grads %>%  \n",
        "  filter(major_type == \"stem\" & median <= med_all) %>% \n",
        "  select(major, p25th, median, p75th)\n"
      ],
      "metadata": {
        "colab": {
          "base_uri": "https://localhost:8080/",
          "height": 443
        },
        "id": "N5aNCtbz0rTl",
        "outputId": "b68ccbaa-2ffc-4a9d-8c22-da9a67189f81"
      },
      "execution_count": null,
      "outputs": [
        {
          "output_type": "display_data",
          "data": {
            "text/html": [
              "<table class=\"dataframe\">\n",
              "<caption>A tibble: 11 × 4</caption>\n",
              "<thead>\n",
              "\t<tr><th scope=col>major</th><th scope=col>p25th</th><th scope=col>median</th><th scope=col>p75th</th></tr>\n",
              "\t<tr><th scope=col>&lt;chr&gt;</th><th scope=col>&lt;dbl&gt;</th><th scope=col>&lt;dbl&gt;</th><th scope=col>&lt;dbl&gt;</th></tr>\n",
              "</thead>\n",
              "<tbody>\n",
              "\t<tr><td>Geosciences                          </td><td>21000</td><td>36000</td><td>41000</td></tr>\n",
              "\t<tr><td>Environmental Science                </td><td>25000</td><td>35600</td><td>40200</td></tr>\n",
              "\t<tr><td>Multi-Disciplinary Or General Science</td><td>24000</td><td>35000</td><td>50000</td></tr>\n",
              "\t<tr><td>Physiology                           </td><td>20000</td><td>35000</td><td>50000</td></tr>\n",
              "\t<tr><td>Communication Technologies           </td><td>25000</td><td>35000</td><td>45000</td></tr>\n",
              "\t<tr><td>Neuroscience                         </td><td>30000</td><td>35000</td><td>44000</td></tr>\n",
              "\t<tr><td>Atmospheric Sciences And Meteorology </td><td>28000</td><td>35000</td><td>50000</td></tr>\n",
              "\t<tr><td>Miscellaneous Biology                </td><td>23000</td><td>33500</td><td>48000</td></tr>\n",
              "\t<tr><td>Biology                              </td><td>24000</td><td>33400</td><td>45000</td></tr>\n",
              "\t<tr><td>Ecology                              </td><td>23000</td><td>33000</td><td>42000</td></tr>\n",
              "\t<tr><td>Zoology                              </td><td>20000</td><td>26000</td><td>39000</td></tr>\n",
              "</tbody>\n",
              "</table>\n"
            ],
            "text/markdown": "\nA tibble: 11 × 4\n\n| major &lt;chr&gt; | p25th &lt;dbl&gt; | median &lt;dbl&gt; | p75th &lt;dbl&gt; |\n|---|---|---|---|\n| Geosciences                           | 21000 | 36000 | 41000 |\n| Environmental Science                 | 25000 | 35600 | 40200 |\n| Multi-Disciplinary Or General Science | 24000 | 35000 | 50000 |\n| Physiology                            | 20000 | 35000 | 50000 |\n| Communication Technologies            | 25000 | 35000 | 45000 |\n| Neuroscience                          | 30000 | 35000 | 44000 |\n| Atmospheric Sciences And Meteorology  | 28000 | 35000 | 50000 |\n| Miscellaneous Biology                 | 23000 | 33500 | 48000 |\n| Biology                               | 24000 | 33400 | 45000 |\n| Ecology                               | 23000 | 33000 | 42000 |\n| Zoology                               | 20000 | 26000 | 39000 |\n\n",
            "text/latex": "A tibble: 11 × 4\n\\begin{tabular}{llll}\n major & p25th & median & p75th\\\\\n <chr> & <dbl> & <dbl> & <dbl>\\\\\n\\hline\n\t Geosciences                           & 21000 & 36000 & 41000\\\\\n\t Environmental Science                 & 25000 & 35600 & 40200\\\\\n\t Multi-Disciplinary Or General Science & 24000 & 35000 & 50000\\\\\n\t Physiology                            & 20000 & 35000 & 50000\\\\\n\t Communication Technologies            & 25000 & 35000 & 45000\\\\\n\t Neuroscience                          & 30000 & 35000 & 44000\\\\\n\t Atmospheric Sciences And Meteorology  & 28000 & 35000 & 50000\\\\\n\t Miscellaneous Biology                 & 23000 & 33500 & 48000\\\\\n\t Biology                               & 24000 & 33400 & 45000\\\\\n\t Ecology                               & 23000 & 33000 & 42000\\\\\n\t Zoology                               & 20000 & 26000 & 39000\\\\\n\\end{tabular}\n",
            "text/plain": [
              "   major                                 p25th median p75th\n",
              "1  Geosciences                           21000 36000  41000\n",
              "2  Environmental Science                 25000 35600  40200\n",
              "3  Multi-Disciplinary Or General Science 24000 35000  50000\n",
              "4  Physiology                            20000 35000  50000\n",
              "5  Communication Technologies            25000 35000  45000\n",
              "6  Neuroscience                          30000 35000  44000\n",
              "7  Atmospheric Sciences And Meteorology  28000 35000  50000\n",
              "8  Miscellaneous Biology                 23000 33500  48000\n",
              "9  Biology                               24000 33400  45000\n",
              "10 Ecology                               23000 33000  42000\n",
              "11 Zoology                               20000 26000  39000"
            ]
          },
          "metadata": {}
        }
      ]
    },
    {
      "cell_type": "markdown",
      "source": [
        "##QUESTION 8 ANSWER/CODE: \n",
        "\n",
        "The answer to the question is geosciences, environmental science, mutidisciplinary or general science, physiology, communication technologies, neuroscience, atmospheric sciences and meteorolog, miscellaneous biology, biology, ecology, and zoology. "
      ],
      "metadata": {
        "id": "9E6gkIiCAm4T"
      }
    },
    {
      "cell_type": "code",
      "source": [
        "ggplot(data = college_recent_grads, \n",
        "       mapping = aes(x = median, y = sharewomen,\n",
        "                     colour = major_type)) +\n",
        "  geom_point(size = 1) +\n",
        "  labs(title = \"Proportion of women and median income of college major\",\n",
        "       subtitle = \"Data from the FiveThirtyEight college_recent_grads library\",\n",
        "       x = \"Median Income\", y = \"Proportion of Women in Major\",\n",
        "       colour = \"Major Type\")"
      ],
      "metadata": {
        "colab": {
          "base_uri": "https://localhost:8080/",
          "height": 472
        },
        "id": "en-65c0RzncJ",
        "outputId": "571a8d3d-adb0-4956-f14c-feea9b3c247c"
      },
      "execution_count": null,
      "outputs": [
        {
          "output_type": "stream",
          "name": "stderr",
          "text": [
            "Warning message:\n",
            "“Removed 1 rows containing missing values (geom_point).”\n"
          ]
        },
        {
          "output_type": "display_data",
          "data": {
            "text/plain": [
              "plot without title"
            ],
            "image/png": "[encoded data removed]"
          },
          "metadata": {
            "image/png": {
              "width": 420,
              "height": 420
            }
          }
        }
      ]
    },
    {
      "cell_type": "markdown",
      "source": [
        "##ANSWER TO QUESTION 9\n",
        "\n",
        "There is a slight negative correlation between the proportion of women in a non-stem major and median income. The majors with the highest median income tend to have a lower proportion of women. "
      ],
      "metadata": {
        "id": "P-xdQIRnFrCh"
      }
    },
    {
      "cell_type": "code",
      "source": [
        "##CODE FOR QUESTION 10 \n",
        "\n",
        "##goal: compare unemployment rate for STEM versus non-STEM majors. What is the relationship between completing \n",
        "#a STEM major and one's chances of employment? \n",
        "\n",
        "college_recent_grads %>% \n",
        "  group_by(major_type) %>% \n",
        "  summarize(med_unemployment = median(unemployment_rate)) %>%  \n",
        "  ggplot(aes(x = major_type), fill = med_unemployment) +\n",
        "    geom_bar()\n",
        "\n",
        "\n",
        "\n",
        "  \n",
        "  "
      ],
      "metadata": {
        "id": "amPdDrrzB5vb",
        "colab": {
          "base_uri": "https://localhost:8080/",
          "height": 437
        },
        "outputId": "0879f417-f3d6-446b-a8f6-8895cd11bd1f"
      },
      "execution_count": 55,
      "outputs": [
        {
          "output_type": "display_data",
          "data": {
            "text/plain": [
              "plot without title"
            ],
            "image/png": "[encoded data removed]"
          },
          "metadata": {
            "image/png": {
              "width": 420,
              "height": 420
            }
          }
        }
      ]
    },
    {
      "cell_type": "code",
      "source": [],
      "metadata": {
        "id": "FIqZhlz0HR5B"
      },
      "execution_count": null,
      "outputs": []
    }
  ]
}