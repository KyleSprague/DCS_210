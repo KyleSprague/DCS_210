{
  "nbformat": 4,
  "nbformat_minor": 0,
  "metadata": {
    "colab": {
      "provenance": [],
      "collapsed_sections": [],
      "authorship_tag": "ABX9TyOkynAV4kjkPR23klZ85DUk",
      "include_colab_link": true
    },
    "kernelspec": {
      "name": "ir",
      "display_name": "R"
    },
    "language_info": {
      "name": "R"
    }
  },
  "cells": [
    {
      "cell_type": "markdown",
      "metadata": {
        "id": "view-in-github",
        "colab_type": "text"
      },
      "source": [
        "<a href=\"https://colab.research.google.com/github/KyleSprague/DCS_210/blob/main/Project_3.ipynb\" target=\"_parent\"><img src=\"https://colab.research.google.com/assets/colab-badge.svg\" alt=\"Open In Colab\"/></a>"
      ]
    },
    {
      "cell_type": "code",
      "execution_count": 1,
      "metadata": {
        "id": "xeK1CzKHJMnv",
        "colab": {
          "base_uri": "https://localhost:8080/"
        },
        "outputId": "021e66b6-53c6-46ba-935d-9991541797be"
      },
      "outputs": [
        {
          "output_type": "stream",
          "name": "stderr",
          "text": [
            "Installing package into ‘/usr/local/lib/R/site-library’\n",
            "(as ‘lib’ is unspecified)\n",
            "\n",
            "Installing package into ‘/usr/local/lib/R/site-library’\n",
            "(as ‘lib’ is unspecified)\n",
            "\n",
            "Installing package into ‘/usr/local/lib/R/site-library’\n",
            "(as ‘lib’ is unspecified)\n",
            "\n"
          ]
        }
      ],
      "source": [
        "install.packages(\"tidyverse\") \n",
        "install.packages(\"fivethirtyeight\") \n",
        "install.packages(\"scales\")"
      ]
    },
    {
      "cell_type": "code",
      "source": [
        "library(\"tidyverse\") \n",
        "library(\"fivethirtyeight\") \n",
        "library(\"scales\")"
      ],
      "metadata": {
        "colab": {
          "base_uri": "https://localhost:8080/"
        },
        "id": "wPvuTihXKFiq",
        "outputId": "da787c77-639a-40bb-f644-6d29011b43e4"
      },
      "execution_count": 2,
      "outputs": [
        {
          "output_type": "stream",
          "name": "stderr",
          "text": [
            "Warning message in system(\"timedatectl\", intern = TRUE):\n",
            "“running command 'timedatectl' had status 1”\n",
            "── \u001b[1mAttaching packages\u001b[22m ─────────────────────────────────────── tidyverse 1.3.2 ──\n",
            "\u001b[32m✔\u001b[39m \u001b[34mggplot2\u001b[39m 3.3.6      \u001b[32m✔\u001b[39m \u001b[34mpurrr  \u001b[39m 0.3.4 \n",
            "\u001b[32m✔\u001b[39m \u001b[34mtibble \u001b[39m 3.1.7      \u001b[32m✔\u001b[39m \u001b[34mdplyr  \u001b[39m 1.0.10\n",
            "\u001b[32m✔\u001b[39m \u001b[34mtidyr  \u001b[39m 1.2.1      \u001b[32m✔\u001b[39m \u001b[34mstringr\u001b[39m 1.4.1 \n",
            "\u001b[32m✔\u001b[39m \u001b[34mreadr  \u001b[39m 2.1.2      \u001b[32m✔\u001b[39m \u001b[34mforcats\u001b[39m 0.5.2 \n",
            "── \u001b[1mConflicts\u001b[22m ────────────────────────────────────────── tidyverse_conflicts() ──\n",
            "\u001b[31m✖\u001b[39m \u001b[34mdplyr\u001b[39m::\u001b[32mfilter()\u001b[39m masks \u001b[34mstats\u001b[39m::filter()\n",
            "\u001b[31m✖\u001b[39m \u001b[34mdplyr\u001b[39m::\u001b[32mlag()\u001b[39m    masks \u001b[34mstats\u001b[39m::lag()\n",
            "Some larger datasets need to be installed separately, like senators and\n",
            "house_district_forecast. To install these, we recommend you install the\n",
            "fivethirtyeightdata package by running:\n",
            "install.packages('fivethirtyeightdata', repos =\n",
            "'https://fivethirtyeightdata.github.io/drat/', type = 'source')\n",
            "\n",
            "\n",
            "Attaching package: ‘scales’\n",
            "\n",
            "\n",
            "The following object is masked from ‘package:purrr’:\n",
            "\n",
            "    discard\n",
            "\n",
            "\n",
            "The following object is masked from ‘package:readr’:\n",
            "\n",
            "    col_factor\n",
            "\n",
            "\n"
          ]
        }
      ]
    },
    {
      "cell_type": "code",
      "source": [
        "glimpse(college_recent_grads)"
      ],
      "metadata": {
        "colab": {
          "base_uri": "https://localhost:8080/"
        },
        "id": "k0Z0-rmPKRAj",
        "outputId": "0a3acca7-29d8-4ddc-fee7-29afb6c00c69"
      },
      "execution_count": 3,
      "outputs": [
        {
          "output_type": "stream",
          "name": "stdout",
          "text": [
            "Rows: 173\n",
            "Columns: 21\n",
            "$ rank                        \u001b[3m\u001b[90m<int>\u001b[39m\u001b[23m 1, 2, 3, 4, 5, 6, 7, 8, 9, 10, 11, 12, 13,…\n",
            "$ major_code                  \u001b[3m\u001b[90m<int>\u001b[39m\u001b[23m 2419, 2416, 2415, 2417, 2405, 2418, 6202, …\n",
            "$ major                       \u001b[3m\u001b[90m<chr>\u001b[39m\u001b[23m \"Petroleum Engineering\", \"Mining And Miner…\n",
            "$ major_category              \u001b[3m\u001b[90m<chr>\u001b[39m\u001b[23m \"Engineering\", \"Engineering\", \"Engineering…\n",
            "$ total                       \u001b[3m\u001b[90m<int>\u001b[39m\u001b[23m 2339, 756, 856, 1258, 32260, 2573, 3777, 1…\n",
            "$ sample_size                 \u001b[3m\u001b[90m<int>\u001b[39m\u001b[23m 36, 7, 3, 16, 289, 17, 51, 10, 1029, 631, …\n",
            "$ men                         \u001b[3m\u001b[90m<int>\u001b[39m\u001b[23m 2057, 679, 725, 1123, 21239, 2200, 2110, 8…\n",
            "$ women                       \u001b[3m\u001b[90m<int>\u001b[39m\u001b[23m 282, 77, 131, 135, 11021, 373, 1667, 960, …\n",
            "$ sharewomen                  \u001b[3m\u001b[90m<dbl>\u001b[39m\u001b[23m 0.1205643, 0.1018519, 0.1530374, 0.1073132…\n",
            "$ employed                    \u001b[3m\u001b[90m<int>\u001b[39m\u001b[23m 1976, 640, 648, 758, 25694, 1857, 2912, 15…\n",
            "$ employed_fulltime           \u001b[3m\u001b[90m<int>\u001b[39m\u001b[23m 1849, 556, 558, 1069, 23170, 2038, 2924, 1…\n",
            "$ employed_parttime           \u001b[3m\u001b[90m<int>\u001b[39m\u001b[23m 270, 170, 133, 150, 5180, 264, 296, 553, 1…\n",
            "$ employed_fulltime_yearround \u001b[3m\u001b[90m<int>\u001b[39m\u001b[23m 1207, 388, 340, 692, 16697, 1449, 2482, 82…\n",
            "$ unemployed                  \u001b[3m\u001b[90m<int>\u001b[39m\u001b[23m 37, 85, 16, 40, 1672, 400, 308, 33, 4650, …\n",
            "$ unemployment_rate           \u001b[3m\u001b[90m<dbl>\u001b[39m\u001b[23m 0.018380527, 0.117241379, 0.024096386, 0.0…\n",
            "$ p25th                       \u001b[3m\u001b[90m<dbl>\u001b[39m\u001b[23m 95000, 55000, 50000, 43000, 50000, 50000, …\n",
            "$ median                      \u001b[3m\u001b[90m<dbl>\u001b[39m\u001b[23m 110000, 75000, 73000, 70000, 65000, 65000,…\n",
            "$ p75th                       \u001b[3m\u001b[90m<dbl>\u001b[39m\u001b[23m 125000, 90000, 105000, 80000, 75000, 10200…\n",
            "$ college_jobs                \u001b[3m\u001b[90m<int>\u001b[39m\u001b[23m 1534, 350, 456, 529, 18314, 1142, 1768, 97…\n",
            "$ non_college_jobs            \u001b[3m\u001b[90m<int>\u001b[39m\u001b[23m 364, 257, 176, 102, 4440, 657, 314, 500, 1…\n",
            "$ low_wage_jobs               \u001b[3m\u001b[90m<int>\u001b[39m\u001b[23m 193, 50, 0, 0, 972, 244, 259, 220, 3253, 3…\n"
          ]
        }
      ]
    },
    {
      "cell_type": "code",
      "source": [
        "?college_recent_grads"
      ],
      "metadata": {
        "id": "jPrKm01XXzWa"
      },
      "execution_count": 16,
      "outputs": []
    },
    {
      "cell_type": "markdown",
      "source": [
        "##KEY QUESTIONS TO ANSWER: \n",
        "\n",
        "Which major has the lowest unemployment rate? <br> \n",
        "Which major has the highest percentage of women <br> \n",
        "How do the distributions of median income compare across major categories? <br> \n",
        "Do women tend to choose majors with lower or higher earnings? \n",
        "\n"
      ],
      "metadata": {
        "id": "eRAH2DrMKsjm"
      }
    },
    {
      "cell_type": "code",
      "source": [
        "##CODE FOR QUESTION 1 \n",
        "\n",
        "college_recent_grads %>% \n",
        "  arrange(unemployment_rate) %>% \n",
        "  select(rank, major, unemployment_rate) %>%\n",
        "  mutate(unemployment_rate = percent(unemployment_rate))\n",
        "  "
      ],
      "metadata": {
        "colab": {
          "base_uri": "https://localhost:8080/",
          "height": 1000
        },
        "id": "feEm-LO7LRPi",
        "outputId": "fbd3450a-8ba5-41a2-b730-77eae47836b0"
      },
      "execution_count": 7,
      "outputs": [
        {
          "output_type": "display_data",
          "data": {
            "text/html": [
              "<table class=\"dataframe\">\n",
              "<caption>A tibble: 173 × 3</caption>\n",
              "<thead>\n",
              "\t<tr><th scope=col>rank</th><th scope=col>major</th><th scope=col>unemployment_rate</th></tr>\n",
              "\t<tr><th scope=col>&lt;int&gt;</th><th scope=col>&lt;chr&gt;</th><th scope=col>&lt;chr&gt;</th></tr>\n",
              "</thead>\n",
              "<tbody>\n",
              "\t<tr><td> 53</td><td>Mathematics And Computer Science                                 </td><td>0.00000%</td></tr>\n",
              "\t<tr><td> 74</td><td>Military Technologies                                            </td><td>0.00000%</td></tr>\n",
              "\t<tr><td> 84</td><td>Botany                                                           </td><td>0.00000%</td></tr>\n",
              "\t<tr><td>113</td><td>Soil Science                                                     </td><td>0.00000%</td></tr>\n",
              "\t<tr><td>121</td><td>Educational Administration And Supervision                       </td><td>0.00000%</td></tr>\n",
              "\t<tr><td> 15</td><td>Engineering Mechanics Physics And Science                        </td><td>0.63343%</td></tr>\n",
              "\t<tr><td> 20</td><td>Court Reporting                                                  </td><td>1.16897%</td></tr>\n",
              "\t<tr><td>120</td><td>Mathematics Teacher Education                                    </td><td>1.62028%</td></tr>\n",
              "\t<tr><td>  1</td><td>Petroleum Engineering                                            </td><td>1.83805%</td></tr>\n",
              "\t<tr><td> 65</td><td>General Agriculture                                              </td><td>1.96425%</td></tr>\n",
              "\t<tr><td>  8</td><td>Astronomy And Astrophysics                                       </td><td>2.11674%</td></tr>\n",
              "\t<tr><td>111</td><td>Atmospheric Sciences And Meteorology                             </td><td>2.22286%</td></tr>\n",
              "\t<tr><td> 14</td><td>Materials Science                                                </td><td>2.30428%</td></tr>\n",
              "\t<tr><td>  3</td><td>Metallurgical Engineering                                        </td><td>2.40964%</td></tr>\n",
              "\t<tr><td> 91</td><td>Geosciences                                                      </td><td>2.43737%</td></tr>\n",
              "\t<tr><td> 24</td><td>Materials Engineering And Materials Science                      </td><td>2.77888%</td></tr>\n",
              "\t<tr><td> 39</td><td>Industrial Production Technologies                               </td><td>2.83081%</td></tr>\n",
              "\t<tr><td> 76</td><td>Electrical, Mechanical, And Precision Technologies And Production</td><td>2.94795%</td></tr>\n",
              "\t<tr><td> 92</td><td>Social Psychology                                                </td><td>2.96496%</td></tr>\n",
              "\t<tr><td> 51</td><td>Engineering And Industrial Management                            </td><td>3.36517%</td></tr>\n",
              "\t<tr><td> 68</td><td>Genetics                                                         </td><td>3.41176%</td></tr>\n",
              "\t<tr><td> 73</td><td>Physical Sciences                                                </td><td>3.53535%</td></tr>\n",
              "\t<tr><td>155</td><td>Teacher Education: Multiple Levels                               </td><td>3.65458%</td></tr>\n",
              "\t<tr><td> 45</td><td>Medical Technologies Technicians                                 </td><td>3.69828%</td></tr>\n",
              "\t<tr><td>157</td><td>Human Services And Community Organization                        </td><td>3.78190%</td></tr>\n",
              "\t<tr><td>137</td><td>Art And Music Education                                          </td><td>3.86377%</td></tr>\n",
              "\t<tr><td>165</td><td>Early Childhood Education                                        </td><td>4.01050%</td></tr>\n",
              "\t<tr><td>101</td><td>Special Needs Education                                          </td><td>4.15078%</td></tr>\n",
              "\t<tr><td> 52</td><td>Medical Assisting Services                                       </td><td>4.25065%</td></tr>\n",
              "\t<tr><td> 17</td><td>Industrial And Manufacturing Engineering                         </td><td>4.28755%</td></tr>\n",
              "\t<tr><td>⋮</td><td>⋮</td><td>⋮</td></tr>\n",
              "\t<tr><td> 60</td><td>International Business                             </td><td>9.61751% </td></tr>\n",
              "\t<tr><td> 38</td><td>Business Economics                                 </td><td>9.64484% </td></tr>\n",
              "\t<tr><td>112</td><td>Forestry                                           </td><td>9.67257% </td></tr>\n",
              "\t<tr><td> 96</td><td>Commercial Art And Graphic Design                  </td><td>9.67976% </td></tr>\n",
              "\t<tr><td> 57</td><td>International Relations                            </td><td>9.67989% </td></tr>\n",
              "\t<tr><td> 22</td><td>Food Science                                       </td><td>9.69315% </td></tr>\n",
              "\t<tr><td>103</td><td>Criminology                                        </td><td>9.72439% </td></tr>\n",
              "\t<tr><td> 37</td><td>Economics                                          </td><td>9.90923% </td></tr>\n",
              "\t<tr><td> 82</td><td>Computer Administration Management And Security    </td><td>9.97234% </td></tr>\n",
              "\t<tr><td> 79</td><td>Political Science And Government                   </td><td>10.11746%</td></tr>\n",
              "\t<tr><td>154</td><td>Visual And Performing Arts                         </td><td>10.21974%</td></tr>\n",
              "\t<tr><td>163</td><td>Anthropology And Archeology                        </td><td>10.27916%</td></tr>\n",
              "\t<tr><td>143</td><td>General Social Sciences                            </td><td>10.34547%</td></tr>\n",
              "\t<tr><td>130</td><td>Linguistics And Comparative Language And Literature</td><td>10.44357%</td></tr>\n",
              "\t<tr><td>173</td><td>Library Science                                    </td><td>10.49457%</td></tr>\n",
              "\t<tr><td>142</td><td>Film Video And Photographic Arts                   </td><td>10.57722%</td></tr>\n",
              "\t<tr><td>166</td><td>Other Foreign Languages                            </td><td>10.71157%</td></tr>\n",
              "\t<tr><td> 56</td><td>School Student Counseling                          </td><td>10.75795%</td></tr>\n",
              "\t<tr><td> 71</td><td>Industrial And Organizational Psychology           </td><td>10.87866%</td></tr>\n",
              "\t<tr><td>119</td><td>Community And Public Health                        </td><td>11.21444%</td></tr>\n",
              "\t<tr><td> 59</td><td>Architecture                                       </td><td>11.33319%</td></tr>\n",
              "\t<tr><td> 80</td><td>Geography                                          </td><td>11.34586%</td></tr>\n",
              "\t<tr><td> 54</td><td>Computer Programming And Data Processing           </td><td>11.39826%</td></tr>\n",
              "\t<tr><td>  2</td><td>Mining And Mineral Engineering                     </td><td>11.72414%</td></tr>\n",
              "\t<tr><td>106</td><td>Communication Technologies                         </td><td>11.95115%</td></tr>\n",
              "\t<tr><td> 30</td><td>Public Policy                                      </td><td>12.84263%</td></tr>\n",
              "\t<tr><td>171</td><td>Clinical Psychology                                </td><td>14.90482%</td></tr>\n",
              "\t<tr><td> 85</td><td>Computer Networking And Telecommunications         </td><td>15.18498%</td></tr>\n",
              "\t<tr><td> 90</td><td>Public Administration                              </td><td>15.94906%</td></tr>\n",
              "\t<tr><td>  6</td><td>Nuclear Engineering                                </td><td>17.72264%</td></tr>\n",
              "</tbody>\n",
              "</table>\n"
            ],
            "text/markdown": "\nA tibble: 173 × 3\n\n| rank &lt;int&gt; | major &lt;chr&gt; | unemployment_rate &lt;chr&gt; |\n|---|---|---|\n|  53 | Mathematics And Computer Science                                  | 0.00000% |\n|  74 | Military Technologies                                             | 0.00000% |\n|  84 | Botany                                                            | 0.00000% |\n| 113 | Soil Science                                                      | 0.00000% |\n| 121 | Educational Administration And Supervision                        | 0.00000% |\n|  15 | Engineering Mechanics Physics And Science                         | 0.63343% |\n|  20 | Court Reporting                                                   | 1.16897% |\n| 120 | Mathematics Teacher Education                                     | 1.62028% |\n|   1 | Petroleum Engineering                                             | 1.83805% |\n|  65 | General Agriculture                                               | 1.96425% |\n|   8 | Astronomy And Astrophysics                                        | 2.11674% |\n| 111 | Atmospheric Sciences And Meteorology                              | 2.22286% |\n|  14 | Materials Science                                                 | 2.30428% |\n|   3 | Metallurgical Engineering                                         | 2.40964% |\n|  91 | Geosciences                                                       | 2.43737% |\n|  24 | Materials Engineering And Materials Science                       | 2.77888% |\n|  39 | Industrial Production Technologies                                | 2.83081% |\n|  76 | Electrical, Mechanical, And Precision Technologies And Production | 2.94795% |\n|  92 | Social Psychology                                                 | 2.96496% |\n|  51 | Engineering And Industrial Management                             | 3.36517% |\n|  68 | Genetics                                                          | 3.41176% |\n|  73 | Physical Sciences                                                 | 3.53535% |\n| 155 | Teacher Education: Multiple Levels                                | 3.65458% |\n|  45 | Medical Technologies Technicians                                  | 3.69828% |\n| 157 | Human Services And Community Organization                         | 3.78190% |\n| 137 | Art And Music Education                                           | 3.86377% |\n| 165 | Early Childhood Education                                         | 4.01050% |\n| 101 | Special Needs Education                                           | 4.15078% |\n|  52 | Medical Assisting Services                                        | 4.25065% |\n|  17 | Industrial And Manufacturing Engineering                          | 4.28755% |\n| ⋮ | ⋮ | ⋮ |\n|  60 | International Business                              | 9.61751%  |\n|  38 | Business Economics                                  | 9.64484%  |\n| 112 | Forestry                                            | 9.67257%  |\n|  96 | Commercial Art And Graphic Design                   | 9.67976%  |\n|  57 | International Relations                             | 9.67989%  |\n|  22 | Food Science                                        | 9.69315%  |\n| 103 | Criminology                                         | 9.72439%  |\n|  37 | Economics                                           | 9.90923%  |\n|  82 | Computer Administration Management And Security     | 9.97234%  |\n|  79 | Political Science And Government                    | 10.11746% |\n| 154 | Visual And Performing Arts                          | 10.21974% |\n| 163 | Anthropology And Archeology                         | 10.27916% |\n| 143 | General Social Sciences                             | 10.34547% |\n| 130 | Linguistics And Comparative Language And Literature | 10.44357% |\n| 173 | Library Science                                     | 10.49457% |\n| 142 | Film Video And Photographic Arts                    | 10.57722% |\n| 166 | Other Foreign Languages                             | 10.71157% |\n|  56 | School Student Counseling                           | 10.75795% |\n|  71 | Industrial And Organizational Psychology            | 10.87866% |\n| 119 | Community And Public Health                         | 11.21444% |\n|  59 | Architecture                                        | 11.33319% |\n|  80 | Geography                                           | 11.34586% |\n|  54 | Computer Programming And Data Processing            | 11.39826% |\n|   2 | Mining And Mineral Engineering                      | 11.72414% |\n| 106 | Communication Technologies                          | 11.95115% |\n|  30 | Public Policy                                       | 12.84263% |\n| 171 | Clinical Psychology                                 | 14.90482% |\n|  85 | Computer Networking And Telecommunications          | 15.18498% |\n|  90 | Public Administration                               | 15.94906% |\n|   6 | Nuclear Engineering                                 | 17.72264% |\n\n",
            "text/latex": "A tibble: 173 × 3\n\\begin{tabular}{lll}\n rank & major & unemployment\\_rate\\\\\n <int> & <chr> & <chr>\\\\\n\\hline\n\t  53 & Mathematics And Computer Science                                  & 0.00000\\%\\\\\n\t  74 & Military Technologies                                             & 0.00000\\%\\\\\n\t  84 & Botany                                                            & 0.00000\\%\\\\\n\t 113 & Soil Science                                                      & 0.00000\\%\\\\\n\t 121 & Educational Administration And Supervision                        & 0.00000\\%\\\\\n\t  15 & Engineering Mechanics Physics And Science                         & 0.63343\\%\\\\\n\t  20 & Court Reporting                                                   & 1.16897\\%\\\\\n\t 120 & Mathematics Teacher Education                                     & 1.62028\\%\\\\\n\t   1 & Petroleum Engineering                                             & 1.83805\\%\\\\\n\t  65 & General Agriculture                                               & 1.96425\\%\\\\\n\t   8 & Astronomy And Astrophysics                                        & 2.11674\\%\\\\\n\t 111 & Atmospheric Sciences And Meteorology                              & 2.22286\\%\\\\\n\t  14 & Materials Science                                                 & 2.30428\\%\\\\\n\t   3 & Metallurgical Engineering                                         & 2.40964\\%\\\\\n\t  91 & Geosciences                                                       & 2.43737\\%\\\\\n\t  24 & Materials Engineering And Materials Science                       & 2.77888\\%\\\\\n\t  39 & Industrial Production Technologies                                & 2.83081\\%\\\\\n\t  76 & Electrical, Mechanical, And Precision Technologies And Production & 2.94795\\%\\\\\n\t  92 & Social Psychology                                                 & 2.96496\\%\\\\\n\t  51 & Engineering And Industrial Management                             & 3.36517\\%\\\\\n\t  68 & Genetics                                                          & 3.41176\\%\\\\\n\t  73 & Physical Sciences                                                 & 3.53535\\%\\\\\n\t 155 & Teacher Education: Multiple Levels                                & 3.65458\\%\\\\\n\t  45 & Medical Technologies Technicians                                  & 3.69828\\%\\\\\n\t 157 & Human Services And Community Organization                         & 3.78190\\%\\\\\n\t 137 & Art And Music Education                                           & 3.86377\\%\\\\\n\t 165 & Early Childhood Education                                         & 4.01050\\%\\\\\n\t 101 & Special Needs Education                                           & 4.15078\\%\\\\\n\t  52 & Medical Assisting Services                                        & 4.25065\\%\\\\\n\t  17 & Industrial And Manufacturing Engineering                          & 4.28755\\%\\\\\n\t ⋮ & ⋮ & ⋮\\\\\n\t  60 & International Business                              & 9.61751\\% \\\\\n\t  38 & Business Economics                                  & 9.64484\\% \\\\\n\t 112 & Forestry                                            & 9.67257\\% \\\\\n\t  96 & Commercial Art And Graphic Design                   & 9.67976\\% \\\\\n\t  57 & International Relations                             & 9.67989\\% \\\\\n\t  22 & Food Science                                        & 9.69315\\% \\\\\n\t 103 & Criminology                                         & 9.72439\\% \\\\\n\t  37 & Economics                                           & 9.90923\\% \\\\\n\t  82 & Computer Administration Management And Security     & 9.97234\\% \\\\\n\t  79 & Political Science And Government                    & 10.11746\\%\\\\\n\t 154 & Visual And Performing Arts                          & 10.21974\\%\\\\\n\t 163 & Anthropology And Archeology                         & 10.27916\\%\\\\\n\t 143 & General Social Sciences                             & 10.34547\\%\\\\\n\t 130 & Linguistics And Comparative Language And Literature & 10.44357\\%\\\\\n\t 173 & Library Science                                     & 10.49457\\%\\\\\n\t 142 & Film Video And Photographic Arts                    & 10.57722\\%\\\\\n\t 166 & Other Foreign Languages                             & 10.71157\\%\\\\\n\t  56 & School Student Counseling                           & 10.75795\\%\\\\\n\t  71 & Industrial And Organizational Psychology            & 10.87866\\%\\\\\n\t 119 & Community And Public Health                         & 11.21444\\%\\\\\n\t  59 & Architecture                                        & 11.33319\\%\\\\\n\t  80 & Geography                                           & 11.34586\\%\\\\\n\t  54 & Computer Programming And Data Processing            & 11.39826\\%\\\\\n\t   2 & Mining And Mineral Engineering                      & 11.72414\\%\\\\\n\t 106 & Communication Technologies                          & 11.95115\\%\\\\\n\t  30 & Public Policy                                       & 12.84263\\%\\\\\n\t 171 & Clinical Psychology                                 & 14.90482\\%\\\\\n\t  85 & Computer Networking And Telecommunications          & 15.18498\\%\\\\\n\t  90 & Public Administration                               & 15.94906\\%\\\\\n\t   6 & Nuclear Engineering                                 & 17.72264\\%\\\\\n\\end{tabular}\n",
            "text/plain": [
              "    rank major                                                            \n",
              "1    53  Mathematics And Computer Science                                 \n",
              "2    74  Military Technologies                                            \n",
              "3    84  Botany                                                           \n",
              "4   113  Soil Science                                                     \n",
              "5   121  Educational Administration And Supervision                       \n",
              "6    15  Engineering Mechanics Physics And Science                        \n",
              "7    20  Court Reporting                                                  \n",
              "8   120  Mathematics Teacher Education                                    \n",
              "9     1  Petroleum Engineering                                            \n",
              "10   65  General Agriculture                                              \n",
              "11    8  Astronomy And Astrophysics                                       \n",
              "12  111  Atmospheric Sciences And Meteorology                             \n",
              "13   14  Materials Science                                                \n",
              "14    3  Metallurgical Engineering                                        \n",
              "15   91  Geosciences                                                      \n",
              "16   24  Materials Engineering And Materials Science                      \n",
              "17   39  Industrial Production Technologies                               \n",
              "18   76  Electrical, Mechanical, And Precision Technologies And Production\n",
              "19   92  Social Psychology                                                \n",
              "20   51  Engineering And Industrial Management                            \n",
              "21   68  Genetics                                                         \n",
              "22   73  Physical Sciences                                                \n",
              "23  155  Teacher Education: Multiple Levels                               \n",
              "24   45  Medical Technologies Technicians                                 \n",
              "25  157  Human Services And Community Organization                        \n",
              "26  137  Art And Music Education                                          \n",
              "27  165  Early Childhood Education                                        \n",
              "28  101  Special Needs Education                                          \n",
              "29   52  Medical Assisting Services                                       \n",
              "30   17  Industrial And Manufacturing Engineering                         \n",
              "⋮   ⋮    ⋮                                                                \n",
              "144  60  International Business                                           \n",
              "145  38  Business Economics                                               \n",
              "146 112  Forestry                                                         \n",
              "147  96  Commercial Art And Graphic Design                                \n",
              "148  57  International Relations                                          \n",
              "149  22  Food Science                                                     \n",
              "150 103  Criminology                                                      \n",
              "151  37  Economics                                                        \n",
              "152  82  Computer Administration Management And Security                  \n",
              "153  79  Political Science And Government                                 \n",
              "154 154  Visual And Performing Arts                                       \n",
              "155 163  Anthropology And Archeology                                      \n",
              "156 143  General Social Sciences                                          \n",
              "157 130  Linguistics And Comparative Language And Literature              \n",
              "158 173  Library Science                                                  \n",
              "159 142  Film Video And Photographic Arts                                 \n",
              "160 166  Other Foreign Languages                                          \n",
              "161  56  School Student Counseling                                        \n",
              "162  71  Industrial And Organizational Psychology                         \n",
              "163 119  Community And Public Health                                      \n",
              "164  59  Architecture                                                     \n",
              "165  80  Geography                                                        \n",
              "166  54  Computer Programming And Data Processing                         \n",
              "167   2  Mining And Mineral Engineering                                   \n",
              "168 106  Communication Technologies                                       \n",
              "169  30  Public Policy                                                    \n",
              "170 171  Clinical Psychology                                              \n",
              "171  85  Computer Networking And Telecommunications                       \n",
              "172  90  Public Administration                                            \n",
              "173   6  Nuclear Engineering                                              \n",
              "    unemployment_rate\n",
              "1   0.00000%         \n",
              "2   0.00000%         \n",
              "3   0.00000%         \n",
              "4   0.00000%         \n",
              "5   0.00000%         \n",
              "6   0.63343%         \n",
              "7   1.16897%         \n",
              "8   1.62028%         \n",
              "9   1.83805%         \n",
              "10  1.96425%         \n",
              "11  2.11674%         \n",
              "12  2.22286%         \n",
              "13  2.30428%         \n",
              "14  2.40964%         \n",
              "15  2.43737%         \n",
              "16  2.77888%         \n",
              "17  2.83081%         \n",
              "18  2.94795%         \n",
              "19  2.96496%         \n",
              "20  3.36517%         \n",
              "21  3.41176%         \n",
              "22  3.53535%         \n",
              "23  3.65458%         \n",
              "24  3.69828%         \n",
              "25  3.78190%         \n",
              "26  3.86377%         \n",
              "27  4.01050%         \n",
              "28  4.15078%         \n",
              "29  4.25065%         \n",
              "30  4.28755%         \n",
              "⋮   ⋮                \n",
              "144 9.61751%         \n",
              "145 9.64484%         \n",
              "146 9.67257%         \n",
              "147 9.67976%         \n",
              "148 9.67989%         \n",
              "149 9.69315%         \n",
              "150 9.72439%         \n",
              "151 9.90923%         \n",
              "152 9.97234%         \n",
              "153 10.11746%        \n",
              "154 10.21974%        \n",
              "155 10.27916%        \n",
              "156 10.34547%        \n",
              "157 10.44357%        \n",
              "158 10.49457%        \n",
              "159 10.57722%        \n",
              "160 10.71157%        \n",
              "161 10.75795%        \n",
              "162 10.87866%        \n",
              "163 11.21444%        \n",
              "164 11.33319%        \n",
              "165 11.34586%        \n",
              "166 11.39826%        \n",
              "167 11.72414%        \n",
              "168 11.95115%        \n",
              "169 12.84263%        \n",
              "170 14.90482%        \n",
              "171 15.18498%        \n",
              "172 15.94906%        \n",
              "173 17.72264%        "
            ]
          },
          "metadata": {}
        }
      ]
    },
    {
      "cell_type": "markdown",
      "source": [
        "##ANSWER TO QUESTION 1: \n",
        "The major with the lowest unemployment rate is a tie between Mathematics and Computer Science, Military Technologies, Botany, Soil Science, and Educational Administration and Supervision."
      ],
      "metadata": {
        "id": "0aoYJxy3Nw2o"
      }
    },
    {
      "cell_type": "code",
      "source": [
        "##code for question 2 (labelled as number \"1.\"): \n",
        "\n",
        "college_recent_grads %>% \n",
        "  arrange(desc(sharewomen)) %>% \n",
        "  select(major, total, sharewomen) %>% \n",
        "  top_n(3)"
      ],
      "metadata": {
        "colab": {
          "base_uri": "https://localhost:8080/",
          "height": 210
        },
        "id": "gq24RQWwMV1u",
        "outputId": "0d84642f-6641-49d1-d606-02dfac2e0199"
      },
      "execution_count": 9,
      "outputs": [
        {
          "output_type": "stream",
          "name": "stderr",
          "text": [
            "\u001b[1m\u001b[22mSelecting by sharewomen\n"
          ]
        },
        {
          "output_type": "display_data",
          "data": {
            "text/html": [
              "<table class=\"dataframe\">\n",
              "<caption>A tibble: 3 × 3</caption>\n",
              "<thead>\n",
              "\t<tr><th scope=col>major</th><th scope=col>total</th><th scope=col>sharewomen</th></tr>\n",
              "\t<tr><th scope=col>&lt;chr&gt;</th><th scope=col>&lt;int&gt;</th><th scope=col>&lt;dbl&gt;</th></tr>\n",
              "</thead>\n",
              "<tbody>\n",
              "\t<tr><td>Early Childhood Education                    </td><td>37589</td><td>0.9689537</td></tr>\n",
              "\t<tr><td>Communication Disorders Sciences And Services</td><td>38279</td><td>0.9679981</td></tr>\n",
              "\t<tr><td>Medical Assisting Services                   </td><td>11123</td><td>0.9278072</td></tr>\n",
              "</tbody>\n",
              "</table>\n"
            ],
            "text/markdown": "\nA tibble: 3 × 3\n\n| major &lt;chr&gt; | total &lt;int&gt; | sharewomen &lt;dbl&gt; |\n|---|---|---|\n| Early Childhood Education                     | 37589 | 0.9689537 |\n| Communication Disorders Sciences And Services | 38279 | 0.9679981 |\n| Medical Assisting Services                    | 11123 | 0.9278072 |\n\n",
            "text/latex": "A tibble: 3 × 3\n\\begin{tabular}{lll}\n major & total & sharewomen\\\\\n <chr> & <int> & <dbl>\\\\\n\\hline\n\t Early Childhood Education                     & 37589 & 0.9689537\\\\\n\t Communication Disorders Sciences And Services & 38279 & 0.9679981\\\\\n\t Medical Assisting Services                    & 11123 & 0.9278072\\\\\n\\end{tabular}\n",
            "text/plain": [
              "  major                                         total sharewomen\n",
              "1 Early Childhood Education                     37589 0.9689537 \n",
              "2 Communication Disorders Sciences And Services 38279 0.9679981 \n",
              "3 Medical Assisting Services                    11123 0.9278072 "
            ]
          },
          "metadata": {}
        }
      ]
    },
    {
      "cell_type": "markdown",
      "source": [
        "## \"1.\" Which major has the highest percentage of women?\n",
        "\n",
        "The top majors for women in terms of the percentage of graduates in the major are, as given by\n",
        "\n",
        "```\n",
        "college_recent_grads %>% \n",
        "  arrange(desc(sharewomen)) %>% \n",
        "  select(major, total, sharewomen) %>% \n",
        "  top_n(3)\n",
        "``` \n",
        "\n",
        "Early Childhood Education, Communication Disorders Sciences and Services, and Medical Assisting Services. \n",
        "\n"
      ],
      "metadata": {
        "id": "XjcCR8OIQDdZ"
      }
    },
    {
      "cell_type": "markdown",
      "source": [
        "##ANSWER TO QUESTION 2 \n",
        "\n",
        "The reason people use median income for a group of people instead of the mean is to avoid outliers that skew the data set. For example, you could have a communications major who comes from a very wealthy family and got a job at their family's financial firm as an executive, thereby increasing their income drastically over what it would have been outherwise. This person then represents an outlier that would be accounted for by the mean calculation but unaccounted for when working with them median. The mean would thus not be representative of the effect of the major choice on income, unlike the median."
      ],
      "metadata": {
        "id": "ZLU6hOcmQ2Rd"
      }
    },
    {
      "cell_type": "code",
      "source": [
        "college_recent_grads %>% \n",
        "  count(major) %>%\n",
        "  summarize(major_number = sum(n))  \n",
        "\n",
        "college_recent_grads %>%\n",
        "  select(major, median) %>% \n",
        "  group_by(major)\n",
        "\n",
        "#there are 173 different majors so count below represents the number of majors \n",
        "#or rows at the same median income level\n",
        "\n",
        "\n",
        "ggplot(data = college_recent_grads, mapping = aes(x=median)) + \n",
        "  geom_histogram(binwidth = 5000) \n"
      ],
      "metadata": {
        "colab": {
          "base_uri": "https://localhost:8080/",
          "height": 1000
        },
        "id": "tKrhGzGXRZzo",
        "outputId": "756a66a1-fda2-4467-f979-25d6aabe596e"
      },
      "execution_count": 40,
      "outputs": [
        {
          "output_type": "display_data",
          "data": {
            "text/html": [
              "<table class=\"dataframe\">\n",
              "<caption>A tibble: 1 × 1</caption>\n",
              "<thead>\n",
              "\t<tr><th scope=col>major_number</th></tr>\n",
              "\t<tr><th scope=col>&lt;int&gt;</th></tr>\n",
              "</thead>\n",
              "<tbody>\n",
              "\t<tr><td>173</td></tr>\n",
              "</tbody>\n",
              "</table>\n"
            ],
            "text/markdown": "\nA tibble: 1 × 1\n\n| major_number &lt;int&gt; |\n|---|\n| 173 |\n\n",
            "text/latex": "A tibble: 1 × 1\n\\begin{tabular}{l}\n major\\_number\\\\\n <int>\\\\\n\\hline\n\t 173\\\\\n\\end{tabular}\n",
            "text/plain": [
              "  major_number\n",
              "1 173         "
            ]
          },
          "metadata": {}
        },
        {
          "output_type": "display_data",
          "data": {
            "text/html": [
              "<table class=\"dataframe\">\n",
              "<caption>A grouped_df: 173 × 2</caption>\n",
              "<thead>\n",
              "\t<tr><th scope=col>major</th><th scope=col>median</th></tr>\n",
              "\t<tr><th scope=col>&lt;chr&gt;</th><th scope=col>&lt;dbl&gt;</th></tr>\n",
              "</thead>\n",
              "<tbody>\n",
              "\t<tr><td>Petroleum Engineering                        </td><td>110000</td></tr>\n",
              "\t<tr><td>Mining And Mineral Engineering               </td><td> 75000</td></tr>\n",
              "\t<tr><td>Metallurgical Engineering                    </td><td> 73000</td></tr>\n",
              "\t<tr><td>Naval Architecture And Marine Engineering    </td><td> 70000</td></tr>\n",
              "\t<tr><td>Chemical Engineering                         </td><td> 65000</td></tr>\n",
              "\t<tr><td>Nuclear Engineering                          </td><td> 65000</td></tr>\n",
              "\t<tr><td>Actuarial Science                            </td><td> 62000</td></tr>\n",
              "\t<tr><td>Astronomy And Astrophysics                   </td><td> 62000</td></tr>\n",
              "\t<tr><td>Mechanical Engineering                       </td><td> 60000</td></tr>\n",
              "\t<tr><td>Electrical Engineering                       </td><td> 60000</td></tr>\n",
              "\t<tr><td>Computer Engineering                         </td><td> 60000</td></tr>\n",
              "\t<tr><td>Aerospace Engineering                        </td><td> 60000</td></tr>\n",
              "\t<tr><td>Biomedical Engineering                       </td><td> 60000</td></tr>\n",
              "\t<tr><td>Materials Science                            </td><td> 60000</td></tr>\n",
              "\t<tr><td>Engineering Mechanics Physics And Science    </td><td> 58000</td></tr>\n",
              "\t<tr><td>Biological Engineering                       </td><td> 57100</td></tr>\n",
              "\t<tr><td>Industrial And Manufacturing Engineering     </td><td> 57000</td></tr>\n",
              "\t<tr><td>General Engineering                          </td><td> 56000</td></tr>\n",
              "\t<tr><td>Architectural Engineering                    </td><td> 54000</td></tr>\n",
              "\t<tr><td>Court Reporting                              </td><td> 54000</td></tr>\n",
              "\t<tr><td>Computer Science                             </td><td> 53000</td></tr>\n",
              "\t<tr><td>Food Science                                 </td><td> 53000</td></tr>\n",
              "\t<tr><td>Electrical Engineering Technology            </td><td> 52000</td></tr>\n",
              "\t<tr><td>Materials Engineering And Materials Science  </td><td> 52000</td></tr>\n",
              "\t<tr><td>Management Information Systems And Statistics</td><td> 51000</td></tr>\n",
              "\t<tr><td>Civil Engineering                            </td><td> 50000</td></tr>\n",
              "\t<tr><td>Construction Services                        </td><td> 50000</td></tr>\n",
              "\t<tr><td>Operations Logistics And E-Commerce          </td><td> 50000</td></tr>\n",
              "\t<tr><td>Miscellaneous Engineering                    </td><td> 50000</td></tr>\n",
              "\t<tr><td>Public Policy                                </td><td> 50000</td></tr>\n",
              "\t<tr><td>⋮</td><td>⋮</td></tr>\n",
              "\t<tr><td>Plant Science And Agronomy                   </td><td>32000</td></tr>\n",
              "\t<tr><td>Science And Computer Teacher Education       </td><td>32000</td></tr>\n",
              "\t<tr><td>Psychology                                   </td><td>31500</td></tr>\n",
              "\t<tr><td>Music                                        </td><td>31000</td></tr>\n",
              "\t<tr><td>Physical And Health Education Teaching       </td><td>31000</td></tr>\n",
              "\t<tr><td>Art History And Criticism                    </td><td>31000</td></tr>\n",
              "\t<tr><td>Fine Arts                                    </td><td>30500</td></tr>\n",
              "\t<tr><td>Family And Consumer Sciences                 </td><td>30000</td></tr>\n",
              "\t<tr><td>Social Work                                  </td><td>30000</td></tr>\n",
              "\t<tr><td>Animal Sciences                              </td><td>30000</td></tr>\n",
              "\t<tr><td>Visual And Performing Arts                   </td><td>30000</td></tr>\n",
              "\t<tr><td>Teacher Education: Multiple Levels           </td><td>30000</td></tr>\n",
              "\t<tr><td>Miscellaneous Psychology                     </td><td>30000</td></tr>\n",
              "\t<tr><td>Human Services And Community Organization    </td><td>30000</td></tr>\n",
              "\t<tr><td>Humanities                                   </td><td>30000</td></tr>\n",
              "\t<tr><td>Theology And Religious Vocations             </td><td>29000</td></tr>\n",
              "\t<tr><td>Studio Arts                                  </td><td>29000</td></tr>\n",
              "\t<tr><td>Cosmetology Services And Culinary Arts       </td><td>29000</td></tr>\n",
              "\t<tr><td>Miscellaneous Agriculture                    </td><td>29000</td></tr>\n",
              "\t<tr><td>Anthropology And Archeology                  </td><td>28000</td></tr>\n",
              "\t<tr><td>Communication Disorders Sciences And Services</td><td>28000</td></tr>\n",
              "\t<tr><td>Early Childhood Education                    </td><td>28000</td></tr>\n",
              "\t<tr><td>Other Foreign Languages                      </td><td>27500</td></tr>\n",
              "\t<tr><td>Drama And Theater Arts                       </td><td>27000</td></tr>\n",
              "\t<tr><td>Composition And Rhetoric                     </td><td>27000</td></tr>\n",
              "\t<tr><td>Zoology                                      </td><td>26000</td></tr>\n",
              "\t<tr><td>Educational Psychology                       </td><td>25000</td></tr>\n",
              "\t<tr><td>Clinical Psychology                          </td><td>25000</td></tr>\n",
              "\t<tr><td>Counseling Psychology                        </td><td>23400</td></tr>\n",
              "\t<tr><td>Library Science                              </td><td>22000</td></tr>\n",
              "</tbody>\n",
              "</table>\n"
            ],
            "text/markdown": "\nA grouped_df: 173 × 2\n\n| major &lt;chr&gt; | median &lt;dbl&gt; |\n|---|---|\n| Petroleum Engineering                         | 110000 |\n| Mining And Mineral Engineering                |  75000 |\n| Metallurgical Engineering                     |  73000 |\n| Naval Architecture And Marine Engineering     |  70000 |\n| Chemical Engineering                          |  65000 |\n| Nuclear Engineering                           |  65000 |\n| Actuarial Science                             |  62000 |\n| Astronomy And Astrophysics                    |  62000 |\n| Mechanical Engineering                        |  60000 |\n| Electrical Engineering                        |  60000 |\n| Computer Engineering                          |  60000 |\n| Aerospace Engineering                         |  60000 |\n| Biomedical Engineering                        |  60000 |\n| Materials Science                             |  60000 |\n| Engineering Mechanics Physics And Science     |  58000 |\n| Biological Engineering                        |  57100 |\n| Industrial And Manufacturing Engineering      |  57000 |\n| General Engineering                           |  56000 |\n| Architectural Engineering                     |  54000 |\n| Court Reporting                               |  54000 |\n| Computer Science                              |  53000 |\n| Food Science                                  |  53000 |\n| Electrical Engineering Technology             |  52000 |\n| Materials Engineering And Materials Science   |  52000 |\n| Management Information Systems And Statistics |  51000 |\n| Civil Engineering                             |  50000 |\n| Construction Services                         |  50000 |\n| Operations Logistics And E-Commerce           |  50000 |\n| Miscellaneous Engineering                     |  50000 |\n| Public Policy                                 |  50000 |\n| ⋮ | ⋮ |\n| Plant Science And Agronomy                    | 32000 |\n| Science And Computer Teacher Education        | 32000 |\n| Psychology                                    | 31500 |\n| Music                                         | 31000 |\n| Physical And Health Education Teaching        | 31000 |\n| Art History And Criticism                     | 31000 |\n| Fine Arts                                     | 30500 |\n| Family And Consumer Sciences                  | 30000 |\n| Social Work                                   | 30000 |\n| Animal Sciences                               | 30000 |\n| Visual And Performing Arts                    | 30000 |\n| Teacher Education: Multiple Levels            | 30000 |\n| Miscellaneous Psychology                      | 30000 |\n| Human Services And Community Organization     | 30000 |\n| Humanities                                    | 30000 |\n| Theology And Religious Vocations              | 29000 |\n| Studio Arts                                   | 29000 |\n| Cosmetology Services And Culinary Arts        | 29000 |\n| Miscellaneous Agriculture                     | 29000 |\n| Anthropology And Archeology                   | 28000 |\n| Communication Disorders Sciences And Services | 28000 |\n| Early Childhood Education                     | 28000 |\n| Other Foreign Languages                       | 27500 |\n| Drama And Theater Arts                        | 27000 |\n| Composition And Rhetoric                      | 27000 |\n| Zoology                                       | 26000 |\n| Educational Psychology                        | 25000 |\n| Clinical Psychology                           | 25000 |\n| Counseling Psychology                         | 23400 |\n| Library Science                               | 22000 |\n\n",
            "text/latex": "A grouped\\_df: 173 × 2\n\\begin{tabular}{ll}\n major & median\\\\\n <chr> & <dbl>\\\\\n\\hline\n\t Petroleum Engineering                         & 110000\\\\\n\t Mining And Mineral Engineering                &  75000\\\\\n\t Metallurgical Engineering                     &  73000\\\\\n\t Naval Architecture And Marine Engineering     &  70000\\\\\n\t Chemical Engineering                          &  65000\\\\\n\t Nuclear Engineering                           &  65000\\\\\n\t Actuarial Science                             &  62000\\\\\n\t Astronomy And Astrophysics                    &  62000\\\\\n\t Mechanical Engineering                        &  60000\\\\\n\t Electrical Engineering                        &  60000\\\\\n\t Computer Engineering                          &  60000\\\\\n\t Aerospace Engineering                         &  60000\\\\\n\t Biomedical Engineering                        &  60000\\\\\n\t Materials Science                             &  60000\\\\\n\t Engineering Mechanics Physics And Science     &  58000\\\\\n\t Biological Engineering                        &  57100\\\\\n\t Industrial And Manufacturing Engineering      &  57000\\\\\n\t General Engineering                           &  56000\\\\\n\t Architectural Engineering                     &  54000\\\\\n\t Court Reporting                               &  54000\\\\\n\t Computer Science                              &  53000\\\\\n\t Food Science                                  &  53000\\\\\n\t Electrical Engineering Technology             &  52000\\\\\n\t Materials Engineering And Materials Science   &  52000\\\\\n\t Management Information Systems And Statistics &  51000\\\\\n\t Civil Engineering                             &  50000\\\\\n\t Construction Services                         &  50000\\\\\n\t Operations Logistics And E-Commerce           &  50000\\\\\n\t Miscellaneous Engineering                     &  50000\\\\\n\t Public Policy                                 &  50000\\\\\n\t ⋮ & ⋮\\\\\n\t Plant Science And Agronomy                    & 32000\\\\\n\t Science And Computer Teacher Education        & 32000\\\\\n\t Psychology                                    & 31500\\\\\n\t Music                                         & 31000\\\\\n\t Physical And Health Education Teaching        & 31000\\\\\n\t Art History And Criticism                     & 31000\\\\\n\t Fine Arts                                     & 30500\\\\\n\t Family And Consumer Sciences                  & 30000\\\\\n\t Social Work                                   & 30000\\\\\n\t Animal Sciences                               & 30000\\\\\n\t Visual And Performing Arts                    & 30000\\\\\n\t Teacher Education: Multiple Levels            & 30000\\\\\n\t Miscellaneous Psychology                      & 30000\\\\\n\t Human Services And Community Organization     & 30000\\\\\n\t Humanities                                    & 30000\\\\\n\t Theology And Religious Vocations              & 29000\\\\\n\t Studio Arts                                   & 29000\\\\\n\t Cosmetology Services And Culinary Arts        & 29000\\\\\n\t Miscellaneous Agriculture                     & 29000\\\\\n\t Anthropology And Archeology                   & 28000\\\\\n\t Communication Disorders Sciences And Services & 28000\\\\\n\t Early Childhood Education                     & 28000\\\\\n\t Other Foreign Languages                       & 27500\\\\\n\t Drama And Theater Arts                        & 27000\\\\\n\t Composition And Rhetoric                      & 27000\\\\\n\t Zoology                                       & 26000\\\\\n\t Educational Psychology                        & 25000\\\\\n\t Clinical Psychology                           & 25000\\\\\n\t Counseling Psychology                         & 23400\\\\\n\t Library Science                               & 22000\\\\\n\\end{tabular}\n",
            "text/plain": [
              "    major                                         median\n",
              "1   Petroleum Engineering                         110000\n",
              "2   Mining And Mineral Engineering                 75000\n",
              "3   Metallurgical Engineering                      73000\n",
              "4   Naval Architecture And Marine Engineering      70000\n",
              "5   Chemical Engineering                           65000\n",
              "6   Nuclear Engineering                            65000\n",
              "7   Actuarial Science                              62000\n",
              "8   Astronomy And Astrophysics                     62000\n",
              "9   Mechanical Engineering                         60000\n",
              "10  Electrical Engineering                         60000\n",
              "11  Computer Engineering                           60000\n",
              "12  Aerospace Engineering                          60000\n",
              "13  Biomedical Engineering                         60000\n",
              "14  Materials Science                              60000\n",
              "15  Engineering Mechanics Physics And Science      58000\n",
              "16  Biological Engineering                         57100\n",
              "17  Industrial And Manufacturing Engineering       57000\n",
              "18  General Engineering                            56000\n",
              "19  Architectural Engineering                      54000\n",
              "20  Court Reporting                                54000\n",
              "21  Computer Science                               53000\n",
              "22  Food Science                                   53000\n",
              "23  Electrical Engineering Technology              52000\n",
              "24  Materials Engineering And Materials Science    52000\n",
              "25  Management Information Systems And Statistics  51000\n",
              "26  Civil Engineering                              50000\n",
              "27  Construction Services                          50000\n",
              "28  Operations Logistics And E-Commerce            50000\n",
              "29  Miscellaneous Engineering                      50000\n",
              "30  Public Policy                                  50000\n",
              "⋮   ⋮                                             ⋮     \n",
              "144 Plant Science And Agronomy                    32000 \n",
              "145 Science And Computer Teacher Education        32000 \n",
              "146 Psychology                                    31500 \n",
              "147 Music                                         31000 \n",
              "148 Physical And Health Education Teaching        31000 \n",
              "149 Art History And Criticism                     31000 \n",
              "150 Fine Arts                                     30500 \n",
              "151 Family And Consumer Sciences                  30000 \n",
              "152 Social Work                                   30000 \n",
              "153 Animal Sciences                               30000 \n",
              "154 Visual And Performing Arts                    30000 \n",
              "155 Teacher Education: Multiple Levels            30000 \n",
              "156 Miscellaneous Psychology                      30000 \n",
              "157 Human Services And Community Organization     30000 \n",
              "158 Humanities                                    30000 \n",
              "159 Theology And Religious Vocations              29000 \n",
              "160 Studio Arts                                   29000 \n",
              "161 Cosmetology Services And Culinary Arts        29000 \n",
              "162 Miscellaneous Agriculture                     29000 \n",
              "163 Anthropology And Archeology                   28000 \n",
              "164 Communication Disorders Sciences And Services 28000 \n",
              "165 Early Childhood Education                     28000 \n",
              "166 Other Foreign Languages                       27500 \n",
              "167 Drama And Theater Arts                        27000 \n",
              "168 Composition And Rhetoric                      27000 \n",
              "169 Zoology                                       26000 \n",
              "170 Educational Psychology                        25000 \n",
              "171 Clinical Psychology                           25000 \n",
              "172 Counseling Psychology                         23400 \n",
              "173 Library Science                               22000 "
            ]
          },
          "metadata": {}
        },
        {
          "output_type": "display_data",
          "data": {
            "text/plain": [
              "plot without title"
            ],
            "image/png": "[encoded data removed]"
          },
          "metadata": {
            "image/png": {
              "width": 420,
              "height": 420
            }
          }
        }
      ]
    },
    {
      "cell_type": "markdown",
      "source": [
        "##ANSWER TO QUESTION 3\n",
        "\n",
        "The binwidth I chose was 5000. The reason for this is that if you choose binwidth = 1000, the x-axis ticks take on scientific representations, which is much more difficult to read for the average viewer. Further, I felt that the 5000 plot was able to retain the essence of the binwidth = 1000 plot. If I could pick an ideal value, it would be something like binwidth = 3000; the reason for this being that if you look at the median income section of the dataframe, the income range between a given major and the major with the nearest median income is often 1000 or 0. However, as said before these values give us an x-axis with scientific notation. 3000 represents a small value where scientific notation is no longer necessitated. *************"
      ],
      "metadata": {
        "id": "LrbmMoOhapua"
      }
    },
    {
      "cell_type": "code",
      "source": [
        "college_recent_grads %>% \n",
        "  summarize(min = min(median), max = max(median),\n",
        "    mean = mean(median), med = median(median), \n",
        "    sd = sd(median), \n",
        "    q1 = quantile(median, probs = 0.25),\n",
        "    q3 = quantile(median, probs = 0.75))"
      ],
      "metadata": {
        "colab": {
          "base_uri": "https://localhost:8080/",
          "height": 129
        },
        "id": "u494shlVb_zI",
        "outputId": "ab88b004-8f55-40d3-c438-a34e28885f9e"
      },
      "execution_count": 41,
      "outputs": [
        {
          "output_type": "display_data",
          "data": {
            "text/html": [
              "<table class=\"dataframe\">\n",
              "<caption>A tibble: 1 × 7</caption>\n",
              "<thead>\n",
              "\t<tr><th scope=col>min</th><th scope=col>max</th><th scope=col>mean</th><th scope=col>med</th><th scope=col>sd</th><th scope=col>q1</th><th scope=col>q3</th></tr>\n",
              "\t<tr><th scope=col>&lt;dbl&gt;</th><th scope=col>&lt;dbl&gt;</th><th scope=col>&lt;dbl&gt;</th><th scope=col>&lt;dbl&gt;</th><th scope=col>&lt;dbl&gt;</th><th scope=col>&lt;dbl&gt;</th><th scope=col>&lt;dbl&gt;</th></tr>\n",
              "</thead>\n",
              "<tbody>\n",
              "\t<tr><td>22000</td><td>110000</td><td>40151.45</td><td>36000</td><td>11470.18</td><td>33000</td><td>45000</td></tr>\n",
              "</tbody>\n",
              "</table>\n"
            ],
            "text/markdown": "\nA tibble: 1 × 7\n\n| min &lt;dbl&gt; | max &lt;dbl&gt; | mean &lt;dbl&gt; | med &lt;dbl&gt; | sd &lt;dbl&gt; | q1 &lt;dbl&gt; | q3 &lt;dbl&gt; |\n|---|---|---|---|---|---|---|\n| 22000 | 110000 | 40151.45 | 36000 | 11470.18 | 33000 | 45000 |\n\n",
            "text/latex": "A tibble: 1 × 7\n\\begin{tabular}{lllllll}\n min & max & mean & med & sd & q1 & q3\\\\\n <dbl> & <dbl> & <dbl> & <dbl> & <dbl> & <dbl> & <dbl>\\\\\n\\hline\n\t 22000 & 110000 & 40151.45 & 36000 & 11470.18 & 33000 & 45000\\\\\n\\end{tabular}\n",
            "text/plain": [
              "  min   max    mean     med   sd       q1    q3   \n",
              "1 22000 110000 40151.45 36000 11470.18 33000 45000"
            ]
          },
          "metadata": {}
        }
      ]
    },
    {
      "cell_type": "markdown",
      "source": [
        "##ANSWER TO QUESTION 4 \n",
        "\n",
        "You will notice in the above graph for question 3 that we have an oulier at 125,000 for median income. Petroleum Engineering majors have a much larger median income than the rest of the majors; this leads to a skew in our meanm which is the mean of all values in the median column. When the mean is skewed, the standard deviation is also skewed, so we can also ignore this statistic. The median is not a very good measure of distribution because it only gives us information about the center of the data set. The interquartile range values q1 and q3 are calculated using the median value on each half of the distribution, which means they give an accurate central point for the two halves of the data set regardless of outlier presence. Further, these points tell us about where most of the information in the data set falls (between 33000 and 45000), and thus give us the best idea of how the data is distributed.  \n",
        "\n",
        "Statistic Output:\n",
        "\n",
        "```\n",
        "A tibble: 1 × 7\n",
        "min\tmax\tmean\tmed\tsd\tq1\tq3\n",
        "<dbl>\t<dbl>\t<dbl>\t<dbl>\t<dbl>\t<dbl>\t<dbl>\n",
        "22000\t110000\t40151.45\t36000\t11470.18\t33000\t45000\n",
        "\n",
        "```\n",
        "\n"
      ],
      "metadata": {
        "id": "8jSTNCyUg4L7"
      }
    },
    {
      "cell_type": "code",
      "source": [
        "##Code for question 5"
      ],
      "metadata": {
        "id": "suTfuxtwil8B"
      },
      "execution_count": null,
      "outputs": []
    }
  ]
}